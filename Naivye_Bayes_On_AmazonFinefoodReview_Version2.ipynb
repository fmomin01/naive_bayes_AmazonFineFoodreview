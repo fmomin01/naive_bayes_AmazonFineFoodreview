{
  "nbformat": 4,
  "nbformat_minor": 0,
  "metadata": {
    "colab": {
      "name": "Naivye_Bayes_On_AmazonFinefoodReview.ipynb",
      "provenance": [],
      "collapsed_sections": [],
      "toc_visible": true
    },
    "kernelspec": {
      "name": "python3",
      "display_name": "Python 3"
    },
    "accelerator": "TPU"
  },
  "cells": [
    {
      "cell_type": "markdown",
      "metadata": {
        "id": "Ce7RsEAW-Foq",
        "colab_type": "text"
      },
      "source": [
        "# NAIVE BAYES ALGORITHM on Amazon Fine Food Reviews\n",
        "\n",
        "The Amazon Fine Food Reviews dataset consists of reviews of fine foods from Amazon.<br>\n",
        "\n",
        "Number of reviews: 568,454<br>\n",
        "Number of users: 256,059<br>\n",
        "Number of products: 74,258<br>\n",
        "Timespan: Oct 1999 - Oct 2012<br>\n",
        "Number of Attributes/Columns in data: 10 \n",
        "\n",
        "Attribute Information:\n",
        "\n",
        "1. Id\n",
        "2. ProductId - unique identifier for the product\n",
        "3. UserId - unqiue identifier for the user\n",
        "4. ProfileName\n",
        "5. HelpfulnessNumerator - number of users who found the review helpful\n",
        "6. HelpfulnessDenominator - number of users who indicated whether they found the review helpful or not\n",
        "7. Score - rating between 1 and 5\n",
        "8. Time - timestamp for the review\n",
        "9. Summary - brief summary of the review\n",
        "10. Text - text of the review\n",
        "\n",
        "\n",
        "#### Objective:\n",
        "Given a review, determine whether the review is positive (Rating of 4 or 5) or negative (rating of 1 or 2)."
      ]
    },
    {
      "cell_type": "markdown",
      "metadata": {
        "id": "474r5Y12-lB3",
        "colab_type": "text"
      },
      "source": [
        "## Loading,Cleaning & Preprocessing the data\n",
        "\n",
        "The dataset is available in two forms\n",
        "1. .csv file\n",
        "2. SQLite Database\n",
        "\n",
        "In order to load the data, We have used the SQLITE dataset as it easier to query the data and visualise the data efficiently.\n",
        "<br> \n",
        "\n",
        "Here as we only want to get the global sentiment of the recommendations (positive or negative), we will purposefully ignore all Scores equal to 3. If the score id above 3, then the recommendation wil be set to \"positive\". Otherwise, it will be set to \"negative\".*italicized text*"
      ]
    },
    {
      "cell_type": "code",
      "metadata": {
        "id": "gWQX7GiYnLPU",
        "colab_type": "code",
        "colab": {}
      },
      "source": [
        "%matplotlib inline\n",
        "import warnings\n",
        "\n",
        "warnings.filterwarnings(\"ignore\")"
      ],
      "execution_count": 0,
      "outputs": []
    },
    {
      "cell_type": "markdown",
      "metadata": {
        "id": "O0ifs5rO_gkq",
        "colab_type": "text"
      },
      "source": [
        "####Import all Required Libraries "
      ]
    },
    {
      "cell_type": "code",
      "metadata": {
        "id": "o994sFfNnaux",
        "colab_type": "code",
        "colab": {}
      },
      "source": [
        "import sqlite3\n",
        "import pandas as pd\n",
        "import numpy as np\n",
        "import nltk\n",
        "import string\n",
        "import matplotlib.pyplot as plt\n",
        "import seaborn as sns\n",
        "from sklearn.feature_extraction.text import TfidfTransformer\n",
        "from sklearn.feature_extraction.text import TfidfVectorizer\n",
        "from sklearn.feature_extraction.text import CountVectorizer\n",
        "from sklearn.metrics import confusion_matrix\n",
        "from sklearn import metrics\n",
        "from sklearn.metrics import roc_curve, auc\n",
        "from nltk.stem.porter import PorterStemmer\n",
        "\n",
        "import re\n",
        "import string\n",
        "from nltk.corpus import stopwords\n",
        "from nltk.stem import PorterStemmer\n",
        "from nltk.stem.wordnet import WordNetLemmatizer\n",
        "\n",
        "from gensim.models import Word2Vec\n",
        "from gensim.models import KeyedVectors\n",
        "import pickle\n",
        "\n",
        "from tqdm import tqdm\n",
        "import os"
      ],
      "execution_count": 0,
      "outputs": []
    },
    {
      "cell_type": "markdown",
      "metadata": {
        "id": "lDU59_Z9_nJl",
        "colab_type": "text"
      },
      "source": [
        "#### Pull the dataset from Google Drive & mount"
      ]
    },
    {
      "cell_type": "code",
      "metadata": {
        "id": "QXywlsikngoW",
        "colab_type": "code",
        "outputId": "d82642b4-2328-4bee-dc52-5c4d4dec837e",
        "colab": {
          "base_uri": "https://localhost:8080/",
          "height": 126
        }
      },
      "source": [
        "from google.colab import drive\n",
        "drive.mount('/content/drive')"
      ],
      "execution_count": 3,
      "outputs": [
        {
          "output_type": "stream",
          "text": [
            "Go to this URL in a browser: https://accounts.google.com/o/oauth2/auth?client_id=947318989803-6bn6qk8qdgf4n4g3pfee6491hc0brc4i.apps.googleusercontent.com&redirect_uri=urn%3aietf%3awg%3aoauth%3a2.0%3aoob&response_type=code&scope=email%20https%3a%2f%2fwww.googleapis.com%2fauth%2fdocs.test%20https%3a%2f%2fwww.googleapis.com%2fauth%2fdrive%20https%3a%2f%2fwww.googleapis.com%2fauth%2fdrive.photos.readonly%20https%3a%2f%2fwww.googleapis.com%2fauth%2fpeopleapi.readonly\n",
            "\n",
            "Enter your authorization code:\n",
            "··········\n",
            "Mounted at /content/drive\n"
          ],
          "name": "stdout"
        }
      ]
    },
    {
      "cell_type": "markdown",
      "metadata": {
        "id": "VrsIDR7p_z4_",
        "colab_type": "text"
      },
      "source": [
        "#### Connect to sqlite and fetch the data using SQL Query"
      ]
    },
    {
      "cell_type": "code",
      "metadata": {
        "id": "H51SMs6nnn4A",
        "colab_type": "code",
        "outputId": "4bb20e42-14f0-4f4b-ec1a-93784679c22f",
        "colab": {
          "base_uri": "https://localhost:8080/",
          "height": 186
        }
      },
      "source": [
        "con = sqlite3.connect(\"/content/drive/My Drive/Colab Notebooks/database.sqlite\")\n",
        "\n",
        "filtered_data=pd.read_sql_query(\"\"\"SELECT * FROM Reviews WHERE Score != 3\"\"\",con);\n",
        "filtered_data.head(3)"
      ],
      "execution_count": 4,
      "outputs": [
        {
          "output_type": "execute_result",
          "data": {
            "text/html": [
              "<div>\n",
              "<style scoped>\n",
              "    .dataframe tbody tr th:only-of-type {\n",
              "        vertical-align: middle;\n",
              "    }\n",
              "\n",
              "    .dataframe tbody tr th {\n",
              "        vertical-align: top;\n",
              "    }\n",
              "\n",
              "    .dataframe thead th {\n",
              "        text-align: right;\n",
              "    }\n",
              "</style>\n",
              "<table border=\"1\" class=\"dataframe\">\n",
              "  <thead>\n",
              "    <tr style=\"text-align: right;\">\n",
              "      <th></th>\n",
              "      <th>Id</th>\n",
              "      <th>ProductId</th>\n",
              "      <th>UserId</th>\n",
              "      <th>ProfileName</th>\n",
              "      <th>HelpfulnessNumerator</th>\n",
              "      <th>HelpfulnessDenominator</th>\n",
              "      <th>Score</th>\n",
              "      <th>Time</th>\n",
              "      <th>Summary</th>\n",
              "      <th>Text</th>\n",
              "    </tr>\n",
              "  </thead>\n",
              "  <tbody>\n",
              "    <tr>\n",
              "      <th>0</th>\n",
              "      <td>1</td>\n",
              "      <td>B001E4KFG0</td>\n",
              "      <td>A3SGXH7AUHU8GW</td>\n",
              "      <td>delmartian</td>\n",
              "      <td>1</td>\n",
              "      <td>1</td>\n",
              "      <td>5</td>\n",
              "      <td>1303862400</td>\n",
              "      <td>Good Quality Dog Food</td>\n",
              "      <td>I have bought several of the Vitality canned d...</td>\n",
              "    </tr>\n",
              "    <tr>\n",
              "      <th>1</th>\n",
              "      <td>2</td>\n",
              "      <td>B00813GRG4</td>\n",
              "      <td>A1D87F6ZCVE5NK</td>\n",
              "      <td>dll pa</td>\n",
              "      <td>0</td>\n",
              "      <td>0</td>\n",
              "      <td>1</td>\n",
              "      <td>1346976000</td>\n",
              "      <td>Not as Advertised</td>\n",
              "      <td>Product arrived labeled as Jumbo Salted Peanut...</td>\n",
              "    </tr>\n",
              "    <tr>\n",
              "      <th>2</th>\n",
              "      <td>3</td>\n",
              "      <td>B000LQOCH0</td>\n",
              "      <td>ABXLMWJIXXAIN</td>\n",
              "      <td>Natalia Corres \"Natalia Corres\"</td>\n",
              "      <td>1</td>\n",
              "      <td>1</td>\n",
              "      <td>4</td>\n",
              "      <td>1219017600</td>\n",
              "      <td>\"Delight\" says it all</td>\n",
              "      <td>This is a confection that has been around a fe...</td>\n",
              "    </tr>\n",
              "  </tbody>\n",
              "</table>\n",
              "</div>"
            ],
            "text/plain": [
              "   Id  ...                                               Text\n",
              "0   1  ...  I have bought several of the Vitality canned d...\n",
              "1   2  ...  Product arrived labeled as Jumbo Salted Peanut...\n",
              "2   3  ...  This is a confection that has been around a fe...\n",
              "\n",
              "[3 rows x 10 columns]"
            ]
          },
          "metadata": {
            "tags": []
          },
          "execution_count": 4
        }
      ]
    },
    {
      "cell_type": "code",
      "metadata": {
        "id": "2p4bMgGLnsci",
        "colab_type": "code",
        "outputId": "90968b43-e4b8-44c8-b863-42745472414c",
        "colab": {
          "base_uri": "https://localhost:8080/",
          "height": 35
        }
      },
      "source": [
        "filtered_data.shape"
      ],
      "execution_count": 5,
      "outputs": [
        {
          "output_type": "execute_result",
          "data": {
            "text/plain": [
              "(525814, 10)"
            ]
          },
          "metadata": {
            "tags": []
          },
          "execution_count": 5
        }
      ]
    },
    {
      "cell_type": "code",
      "metadata": {
        "id": "MEtPcBKenugJ",
        "colab_type": "code",
        "outputId": "403ca660-173c-41a0-c3c3-248415c7cf69",
        "colab": {
          "base_uri": "https://localhost:8080/",
          "height": 204
        }
      },
      "source": [
        "def partition(x):\n",
        "  if x < 3 :\n",
        "    return 'negative'\n",
        "  return 'positive'\n",
        "\n",
        "actualScore=filtered_data['Score']\n",
        "positive_negative=actualScore.map(partition)\n",
        "filtered_data['Score']=positive_negative\n",
        "print(\"Number of datapoints\",filtered_data.shape)\n",
        "filtered_data.head(3)"
      ],
      "execution_count": 6,
      "outputs": [
        {
          "output_type": "stream",
          "text": [
            "Number of datapoints (525814, 10)\n"
          ],
          "name": "stdout"
        },
        {
          "output_type": "execute_result",
          "data": {
            "text/html": [
              "<div>\n",
              "<style scoped>\n",
              "    .dataframe tbody tr th:only-of-type {\n",
              "        vertical-align: middle;\n",
              "    }\n",
              "\n",
              "    .dataframe tbody tr th {\n",
              "        vertical-align: top;\n",
              "    }\n",
              "\n",
              "    .dataframe thead th {\n",
              "        text-align: right;\n",
              "    }\n",
              "</style>\n",
              "<table border=\"1\" class=\"dataframe\">\n",
              "  <thead>\n",
              "    <tr style=\"text-align: right;\">\n",
              "      <th></th>\n",
              "      <th>Id</th>\n",
              "      <th>ProductId</th>\n",
              "      <th>UserId</th>\n",
              "      <th>ProfileName</th>\n",
              "      <th>HelpfulnessNumerator</th>\n",
              "      <th>HelpfulnessDenominator</th>\n",
              "      <th>Score</th>\n",
              "      <th>Time</th>\n",
              "      <th>Summary</th>\n",
              "      <th>Text</th>\n",
              "    </tr>\n",
              "  </thead>\n",
              "  <tbody>\n",
              "    <tr>\n",
              "      <th>0</th>\n",
              "      <td>1</td>\n",
              "      <td>B001E4KFG0</td>\n",
              "      <td>A3SGXH7AUHU8GW</td>\n",
              "      <td>delmartian</td>\n",
              "      <td>1</td>\n",
              "      <td>1</td>\n",
              "      <td>positive</td>\n",
              "      <td>1303862400</td>\n",
              "      <td>Good Quality Dog Food</td>\n",
              "      <td>I have bought several of the Vitality canned d...</td>\n",
              "    </tr>\n",
              "    <tr>\n",
              "      <th>1</th>\n",
              "      <td>2</td>\n",
              "      <td>B00813GRG4</td>\n",
              "      <td>A1D87F6ZCVE5NK</td>\n",
              "      <td>dll pa</td>\n",
              "      <td>0</td>\n",
              "      <td>0</td>\n",
              "      <td>negative</td>\n",
              "      <td>1346976000</td>\n",
              "      <td>Not as Advertised</td>\n",
              "      <td>Product arrived labeled as Jumbo Salted Peanut...</td>\n",
              "    </tr>\n",
              "    <tr>\n",
              "      <th>2</th>\n",
              "      <td>3</td>\n",
              "      <td>B000LQOCH0</td>\n",
              "      <td>ABXLMWJIXXAIN</td>\n",
              "      <td>Natalia Corres \"Natalia Corres\"</td>\n",
              "      <td>1</td>\n",
              "      <td>1</td>\n",
              "      <td>positive</td>\n",
              "      <td>1219017600</td>\n",
              "      <td>\"Delight\" says it all</td>\n",
              "      <td>This is a confection that has been around a fe...</td>\n",
              "    </tr>\n",
              "  </tbody>\n",
              "</table>\n",
              "</div>"
            ],
            "text/plain": [
              "   Id  ...                                               Text\n",
              "0   1  ...  I have bought several of the Vitality canned d...\n",
              "1   2  ...  Product arrived labeled as Jumbo Salted Peanut...\n",
              "2   3  ...  This is a confection that has been around a fe...\n",
              "\n",
              "[3 rows x 10 columns]"
            ]
          },
          "metadata": {
            "tags": []
          },
          "execution_count": 6
        }
      ]
    },
    {
      "cell_type": "code",
      "metadata": {
        "id": "SVL7qVj-nxGn",
        "colab_type": "code",
        "colab": {}
      },
      "source": [
        "display = pd.read_sql_query(\"\"\"\n",
        "SELECT UserId, ProductId, ProfileName, Time, Score, Text, COUNT(*)\n",
        "FROM Reviews\n",
        "GROUP BY UserId\n",
        "HAVING COUNT(*)>1\n",
        "\"\"\", con)"
      ],
      "execution_count": 0,
      "outputs": []
    },
    {
      "cell_type": "code",
      "metadata": {
        "id": "ZuFFKoCJn0lq",
        "colab_type": "code",
        "outputId": "14e98f71-8188-49ac-afeb-f3c9267c828c",
        "colab": {
          "base_uri": "https://localhost:8080/",
          "height": 153
        }
      },
      "source": [
        "print(display.shape)\n",
        "display.head(3)"
      ],
      "execution_count": 8,
      "outputs": [
        {
          "output_type": "stream",
          "text": [
            "(80668, 7)\n"
          ],
          "name": "stdout"
        },
        {
          "output_type": "execute_result",
          "data": {
            "text/html": [
              "<div>\n",
              "<style scoped>\n",
              "    .dataframe tbody tr th:only-of-type {\n",
              "        vertical-align: middle;\n",
              "    }\n",
              "\n",
              "    .dataframe tbody tr th {\n",
              "        vertical-align: top;\n",
              "    }\n",
              "\n",
              "    .dataframe thead th {\n",
              "        text-align: right;\n",
              "    }\n",
              "</style>\n",
              "<table border=\"1\" class=\"dataframe\">\n",
              "  <thead>\n",
              "    <tr style=\"text-align: right;\">\n",
              "      <th></th>\n",
              "      <th>UserId</th>\n",
              "      <th>ProductId</th>\n",
              "      <th>ProfileName</th>\n",
              "      <th>Time</th>\n",
              "      <th>Score</th>\n",
              "      <th>Text</th>\n",
              "      <th>COUNT(*)</th>\n",
              "    </tr>\n",
              "  </thead>\n",
              "  <tbody>\n",
              "    <tr>\n",
              "      <th>0</th>\n",
              "      <td>#oc-R115TNMSPFT9I7</td>\n",
              "      <td>B007Y59HVM</td>\n",
              "      <td>Breyton</td>\n",
              "      <td>1331510400</td>\n",
              "      <td>2</td>\n",
              "      <td>Overall its just OK when considering the price...</td>\n",
              "      <td>2</td>\n",
              "    </tr>\n",
              "    <tr>\n",
              "      <th>1</th>\n",
              "      <td>#oc-R11D9D7SHXIJB9</td>\n",
              "      <td>B005HG9ET0</td>\n",
              "      <td>Louis E. Emory \"hoppy\"</td>\n",
              "      <td>1342396800</td>\n",
              "      <td>5</td>\n",
              "      <td>My wife has recurring extreme muscle spasms, u...</td>\n",
              "      <td>3</td>\n",
              "    </tr>\n",
              "    <tr>\n",
              "      <th>2</th>\n",
              "      <td>#oc-R11DNU2NBKQ23Z</td>\n",
              "      <td>B007Y59HVM</td>\n",
              "      <td>Kim Cieszykowski</td>\n",
              "      <td>1348531200</td>\n",
              "      <td>1</td>\n",
              "      <td>This coffee is horrible and unfortunately not ...</td>\n",
              "      <td>2</td>\n",
              "    </tr>\n",
              "  </tbody>\n",
              "</table>\n",
              "</div>"
            ],
            "text/plain": [
              "               UserId  ... COUNT(*)\n",
              "0  #oc-R115TNMSPFT9I7  ...        2\n",
              "1  #oc-R11D9D7SHXIJB9  ...        3\n",
              "2  #oc-R11DNU2NBKQ23Z  ...        2\n",
              "\n",
              "[3 rows x 7 columns]"
            ]
          },
          "metadata": {
            "tags": []
          },
          "execution_count": 8
        }
      ]
    },
    {
      "cell_type": "code",
      "metadata": {
        "id": "i5B4Hf5Vn2zE",
        "colab_type": "code",
        "outputId": "2311dfe4-e83e-488d-aa6b-5dd8e97be628",
        "colab": {
          "base_uri": "https://localhost:8080/",
          "height": 76
        }
      },
      "source": [
        "display[display[\"UserId\"]=='AZY10LLTJ71NX']"
      ],
      "execution_count": 9,
      "outputs": [
        {
          "output_type": "execute_result",
          "data": {
            "text/html": [
              "<div>\n",
              "<style scoped>\n",
              "    .dataframe tbody tr th:only-of-type {\n",
              "        vertical-align: middle;\n",
              "    }\n",
              "\n",
              "    .dataframe tbody tr th {\n",
              "        vertical-align: top;\n",
              "    }\n",
              "\n",
              "    .dataframe thead th {\n",
              "        text-align: right;\n",
              "    }\n",
              "</style>\n",
              "<table border=\"1\" class=\"dataframe\">\n",
              "  <thead>\n",
              "    <tr style=\"text-align: right;\">\n",
              "      <th></th>\n",
              "      <th>UserId</th>\n",
              "      <th>ProductId</th>\n",
              "      <th>ProfileName</th>\n",
              "      <th>Time</th>\n",
              "      <th>Score</th>\n",
              "      <th>Text</th>\n",
              "      <th>COUNT(*)</th>\n",
              "    </tr>\n",
              "  </thead>\n",
              "  <tbody>\n",
              "    <tr>\n",
              "      <th>80638</th>\n",
              "      <td>AZY10LLTJ71NX</td>\n",
              "      <td>B006P7E5ZI</td>\n",
              "      <td>undertheshrine \"undertheshrine\"</td>\n",
              "      <td>1334707200</td>\n",
              "      <td>5</td>\n",
              "      <td>I was recommended to try green tea extract to ...</td>\n",
              "      <td>5</td>\n",
              "    </tr>\n",
              "  </tbody>\n",
              "</table>\n",
              "</div>"
            ],
            "text/plain": [
              "              UserId  ... COUNT(*)\n",
              "80638  AZY10LLTJ71NX  ...        5\n",
              "\n",
              "[1 rows x 7 columns]"
            ]
          },
          "metadata": {
            "tags": []
          },
          "execution_count": 9
        }
      ]
    },
    {
      "cell_type": "code",
      "metadata": {
        "id": "I7SI3Bein450",
        "colab_type": "code",
        "outputId": "30d26800-fd60-4ab2-9181-a52f6567cede",
        "colab": {
          "base_uri": "https://localhost:8080/",
          "height": 35
        }
      },
      "source": [
        "display['COUNT(*)'].sum()"
      ],
      "execution_count": 10,
      "outputs": [
        {
          "output_type": "execute_result",
          "data": {
            "text/plain": [
              "393063"
            ]
          },
          "metadata": {
            "tags": []
          },
          "execution_count": 10
        }
      ]
    },
    {
      "cell_type": "code",
      "metadata": {
        "id": "ZMv9z_Htn8x6",
        "colab_type": "code",
        "outputId": "161ffede-ceae-4727-e9a2-f47010a4e5bd",
        "colab": {
          "base_uri": "https://localhost:8080/",
          "height": 363
        }
      },
      "source": [
        "display= pd.read_sql_query(\"\"\"\n",
        "SELECT *\n",
        "FROM Reviews\n",
        "WHERE Score != 3 AND UserId=\"AR5J8UI46CURR\"\n",
        "ORDER BY ProductID\n",
        "\"\"\", con)\n",
        "display.head()"
      ],
      "execution_count": 11,
      "outputs": [
        {
          "output_type": "execute_result",
          "data": {
            "text/html": [
              "<div>\n",
              "<style scoped>\n",
              "    .dataframe tbody tr th:only-of-type {\n",
              "        vertical-align: middle;\n",
              "    }\n",
              "\n",
              "    .dataframe tbody tr th {\n",
              "        vertical-align: top;\n",
              "    }\n",
              "\n",
              "    .dataframe thead th {\n",
              "        text-align: right;\n",
              "    }\n",
              "</style>\n",
              "<table border=\"1\" class=\"dataframe\">\n",
              "  <thead>\n",
              "    <tr style=\"text-align: right;\">\n",
              "      <th></th>\n",
              "      <th>Id</th>\n",
              "      <th>ProductId</th>\n",
              "      <th>UserId</th>\n",
              "      <th>ProfileName</th>\n",
              "      <th>HelpfulnessNumerator</th>\n",
              "      <th>HelpfulnessDenominator</th>\n",
              "      <th>Score</th>\n",
              "      <th>Time</th>\n",
              "      <th>Summary</th>\n",
              "      <th>Text</th>\n",
              "    </tr>\n",
              "  </thead>\n",
              "  <tbody>\n",
              "    <tr>\n",
              "      <th>0</th>\n",
              "      <td>78445</td>\n",
              "      <td>B000HDL1RQ</td>\n",
              "      <td>AR5J8UI46CURR</td>\n",
              "      <td>Geetha Krishnan</td>\n",
              "      <td>2</td>\n",
              "      <td>2</td>\n",
              "      <td>5</td>\n",
              "      <td>1199577600</td>\n",
              "      <td>LOACKER QUADRATINI VANILLA WAFERS</td>\n",
              "      <td>DELICIOUS WAFERS. I FIND THAT EUROPEAN WAFERS ...</td>\n",
              "    </tr>\n",
              "    <tr>\n",
              "      <th>1</th>\n",
              "      <td>138317</td>\n",
              "      <td>B000HDOPYC</td>\n",
              "      <td>AR5J8UI46CURR</td>\n",
              "      <td>Geetha Krishnan</td>\n",
              "      <td>2</td>\n",
              "      <td>2</td>\n",
              "      <td>5</td>\n",
              "      <td>1199577600</td>\n",
              "      <td>LOACKER QUADRATINI VANILLA WAFERS</td>\n",
              "      <td>DELICIOUS WAFERS. I FIND THAT EUROPEAN WAFERS ...</td>\n",
              "    </tr>\n",
              "    <tr>\n",
              "      <th>2</th>\n",
              "      <td>138277</td>\n",
              "      <td>B000HDOPYM</td>\n",
              "      <td>AR5J8UI46CURR</td>\n",
              "      <td>Geetha Krishnan</td>\n",
              "      <td>2</td>\n",
              "      <td>2</td>\n",
              "      <td>5</td>\n",
              "      <td>1199577600</td>\n",
              "      <td>LOACKER QUADRATINI VANILLA WAFERS</td>\n",
              "      <td>DELICIOUS WAFERS. I FIND THAT EUROPEAN WAFERS ...</td>\n",
              "    </tr>\n",
              "    <tr>\n",
              "      <th>3</th>\n",
              "      <td>73791</td>\n",
              "      <td>B000HDOPZG</td>\n",
              "      <td>AR5J8UI46CURR</td>\n",
              "      <td>Geetha Krishnan</td>\n",
              "      <td>2</td>\n",
              "      <td>2</td>\n",
              "      <td>5</td>\n",
              "      <td>1199577600</td>\n",
              "      <td>LOACKER QUADRATINI VANILLA WAFERS</td>\n",
              "      <td>DELICIOUS WAFERS. I FIND THAT EUROPEAN WAFERS ...</td>\n",
              "    </tr>\n",
              "    <tr>\n",
              "      <th>4</th>\n",
              "      <td>155049</td>\n",
              "      <td>B000PAQ75C</td>\n",
              "      <td>AR5J8UI46CURR</td>\n",
              "      <td>Geetha Krishnan</td>\n",
              "      <td>2</td>\n",
              "      <td>2</td>\n",
              "      <td>5</td>\n",
              "      <td>1199577600</td>\n",
              "      <td>LOACKER QUADRATINI VANILLA WAFERS</td>\n",
              "      <td>DELICIOUS WAFERS. I FIND THAT EUROPEAN WAFERS ...</td>\n",
              "    </tr>\n",
              "  </tbody>\n",
              "</table>\n",
              "</div>"
            ],
            "text/plain": [
              "       Id  ...                                               Text\n",
              "0   78445  ...  DELICIOUS WAFERS. I FIND THAT EUROPEAN WAFERS ...\n",
              "1  138317  ...  DELICIOUS WAFERS. I FIND THAT EUROPEAN WAFERS ...\n",
              "2  138277  ...  DELICIOUS WAFERS. I FIND THAT EUROPEAN WAFERS ...\n",
              "3   73791  ...  DELICIOUS WAFERS. I FIND THAT EUROPEAN WAFERS ...\n",
              "4  155049  ...  DELICIOUS WAFERS. I FIND THAT EUROPEAN WAFERS ...\n",
              "\n",
              "[5 rows x 10 columns]"
            ]
          },
          "metadata": {
            "tags": []
          },
          "execution_count": 11
        }
      ]
    },
    {
      "cell_type": "code",
      "metadata": {
        "id": "v0-WIeXKn-_L",
        "colab_type": "code",
        "outputId": "0da58c62-1a8e-476d-b81e-e54de2103862",
        "colab": {
          "base_uri": "https://localhost:8080/",
          "height": 35
        }
      },
      "source": [
        "sorted_data=filtered_data.sort_values('ProductId',axis=0,ascending=True,inplace=False,kind='quicksort',na_position='last')\n",
        "\n",
        "final_data=sorted_data.drop_duplicates(subset={\"UserId\",\"ProfileName\",\"Time\",\"Text\"},keep='first',inplace=False)\n",
        "final_data.shape"
      ],
      "execution_count": 12,
      "outputs": [
        {
          "output_type": "execute_result",
          "data": {
            "text/plain": [
              "(364173, 10)"
            ]
          },
          "metadata": {
            "tags": []
          },
          "execution_count": 12
        }
      ]
    },
    {
      "cell_type": "code",
      "metadata": {
        "id": "Tn-UmFiPoBJo",
        "colab_type": "code",
        "outputId": "7ad199c8-8d63-4a12-804e-753f7a10cb7f",
        "colab": {
          "base_uri": "https://localhost:8080/",
          "height": 35
        }
      },
      "source": [
        "(final_data['Id'].size*1.0)/(filtered_data['Id'].size*1.0)*100"
      ],
      "execution_count": 13,
      "outputs": [
        {
          "output_type": "execute_result",
          "data": {
            "text/plain": [
              "69.25890143662969"
            ]
          },
          "metadata": {
            "tags": []
          },
          "execution_count": 13
        }
      ]
    },
    {
      "cell_type": "code",
      "metadata": {
        "id": "gk2yELHjoDMK",
        "colab_type": "code",
        "outputId": "7b948ffd-f718-4f2e-b261-499ee40d0268",
        "colab": {
          "base_uri": "https://localhost:8080/",
          "height": 140
        }
      },
      "source": [
        "display= pd.read_sql_query(\"\"\"\n",
        "SELECT *\n",
        "FROM Reviews\n",
        "WHERE Score != 3 AND Id=44737 OR Id=64422\n",
        "ORDER BY ProductID\n",
        "\"\"\", con)\n",
        "\n",
        "display.head()"
      ],
      "execution_count": 14,
      "outputs": [
        {
          "output_type": "execute_result",
          "data": {
            "text/html": [
              "<div>\n",
              "<style scoped>\n",
              "    .dataframe tbody tr th:only-of-type {\n",
              "        vertical-align: middle;\n",
              "    }\n",
              "\n",
              "    .dataframe tbody tr th {\n",
              "        vertical-align: top;\n",
              "    }\n",
              "\n",
              "    .dataframe thead th {\n",
              "        text-align: right;\n",
              "    }\n",
              "</style>\n",
              "<table border=\"1\" class=\"dataframe\">\n",
              "  <thead>\n",
              "    <tr style=\"text-align: right;\">\n",
              "      <th></th>\n",
              "      <th>Id</th>\n",
              "      <th>ProductId</th>\n",
              "      <th>UserId</th>\n",
              "      <th>ProfileName</th>\n",
              "      <th>HelpfulnessNumerator</th>\n",
              "      <th>HelpfulnessDenominator</th>\n",
              "      <th>Score</th>\n",
              "      <th>Time</th>\n",
              "      <th>Summary</th>\n",
              "      <th>Text</th>\n",
              "    </tr>\n",
              "  </thead>\n",
              "  <tbody>\n",
              "    <tr>\n",
              "      <th>0</th>\n",
              "      <td>64422</td>\n",
              "      <td>B000MIDROQ</td>\n",
              "      <td>A161DK06JJMCYF</td>\n",
              "      <td>J. E. Stephens \"Jeanne\"</td>\n",
              "      <td>3</td>\n",
              "      <td>1</td>\n",
              "      <td>5</td>\n",
              "      <td>1224892800</td>\n",
              "      <td>Bought This for My Son at College</td>\n",
              "      <td>My son loves spaghetti so I didn't hesitate or...</td>\n",
              "    </tr>\n",
              "    <tr>\n",
              "      <th>1</th>\n",
              "      <td>44737</td>\n",
              "      <td>B001EQ55RW</td>\n",
              "      <td>A2V0I904FH7ABY</td>\n",
              "      <td>Ram</td>\n",
              "      <td>3</td>\n",
              "      <td>2</td>\n",
              "      <td>4</td>\n",
              "      <td>1212883200</td>\n",
              "      <td>Pure cocoa taste with crunchy almonds inside</td>\n",
              "      <td>It was almost a 'love at first bite' - the per...</td>\n",
              "    </tr>\n",
              "  </tbody>\n",
              "</table>\n",
              "</div>"
            ],
            "text/plain": [
              "      Id  ...                                               Text\n",
              "0  64422  ...  My son loves spaghetti so I didn't hesitate or...\n",
              "1  44737  ...  It was almost a 'love at first bite' - the per...\n",
              "\n",
              "[2 rows x 10 columns]"
            ]
          },
          "metadata": {
            "tags": []
          },
          "execution_count": 14
        }
      ]
    },
    {
      "cell_type": "code",
      "metadata": {
        "id": "WgDkg9xToFaH",
        "colab_type": "code",
        "colab": {}
      },
      "source": [
        "final_data=final_data[final_data.HelpfulnessNumerator<=final_data.HelpfulnessDenominator]"
      ],
      "execution_count": 0,
      "outputs": []
    },
    {
      "cell_type": "markdown",
      "metadata": {
        "id": "yvyf4kVRA5cd",
        "colab_type": "text"
      },
      "source": [
        "#### Count the Positive and Negative Review Counts"
      ]
    },
    {
      "cell_type": "code",
      "metadata": {
        "id": "7I8qhMN2oHar",
        "colab_type": "code",
        "outputId": "b1ba0702-10f7-4bbb-c951-89ce6bd8207a",
        "colab": {
          "base_uri": "https://localhost:8080/",
          "height": 88
        }
      },
      "source": [
        "print(final_data.shape)\n",
        "\n",
        "#How many positive and negative reviews are present in our dataset?\n",
        "final_data['Score'].value_counts()"
      ],
      "execution_count": 16,
      "outputs": [
        {
          "output_type": "stream",
          "text": [
            "(364171, 10)\n"
          ],
          "name": "stdout"
        },
        {
          "output_type": "execute_result",
          "data": {
            "text/plain": [
              "positive    307061\n",
              "negative     57110\n",
              "Name: Score, dtype: int64"
            ]
          },
          "metadata": {
            "tags": []
          },
          "execution_count": 16
        }
      ]
    },
    {
      "cell_type": "markdown",
      "metadata": {
        "id": "DfcMHxBfAVFd",
        "colab_type": "text"
      },
      "source": [
        "#### Import nltk library"
      ]
    },
    {
      "cell_type": "code",
      "metadata": {
        "id": "AXE5YSDUoJrR",
        "colab_type": "code",
        "outputId": "09d20713-9703-4dc7-91dc-9ca344b12bdd",
        "colab": {
          "base_uri": "https://localhost:8080/",
          "height": 52
        }
      },
      "source": [
        "pip install nltk"
      ],
      "execution_count": 0,
      "outputs": [
        {
          "output_type": "stream",
          "text": [
            "Requirement already satisfied: nltk in /usr/local/lib/python3.6/dist-packages (3.2.5)\n",
            "Requirement already satisfied: six in /usr/local/lib/python3.6/dist-packages (from nltk) (1.12.0)\n"
          ],
          "name": "stdout"
        }
      ]
    },
    {
      "cell_type": "code",
      "metadata": {
        "id": "yHOVVsvcoMpH",
        "colab_type": "code",
        "outputId": "67bbc141-6c84-4029-b58a-481377e69ef3",
        "colab": {
          "base_uri": "https://localhost:8080/",
          "height": 70
        }
      },
      "source": [
        "nltk.download('stopwords')"
      ],
      "execution_count": 17,
      "outputs": [
        {
          "output_type": "stream",
          "text": [
            "[nltk_data] Downloading package stopwords to /root/nltk_data...\n",
            "[nltk_data]   Unzipping corpora/stopwords.zip.\n"
          ],
          "name": "stdout"
        },
        {
          "output_type": "execute_result",
          "data": {
            "text/plain": [
              "True"
            ]
          },
          "metadata": {
            "tags": []
          },
          "execution_count": 17
        }
      ]
    },
    {
      "cell_type": "markdown",
      "metadata": {
        "id": "spiIFCKPAyR4",
        "colab_type": "text"
      },
      "source": [
        "#### Find the Stopping Words"
      ]
    },
    {
      "cell_type": "code",
      "metadata": {
        "id": "TRqPJ1pFoQGg",
        "colab_type": "code",
        "outputId": "544a2546-df8e-4390-d276-aed39c4dcda0",
        "colab": {
          "base_uri": "https://localhost:8080/",
          "height": 55
        }
      },
      "source": [
        "stopping_words = set(stopwords.words('english'))\n",
        "print(stopping_words)"
      ],
      "execution_count": 18,
      "outputs": [
        {
          "output_type": "stream",
          "text": [
            "{'by', \"don't\", 'couldn', 'we', 'themselves', 'ourselves', \"wasn't\", \"weren't\", 'for', 'because', 'wouldn', 'can', 'wasn', 'my', 'am', 'both', 'theirs', 'no', 'above', 's', 'but', 'in', 'each', \"won't\", 'out', \"it's\", 'her', 'here', 'any', \"shan't\", 're', 'yourself', 'ours', 'being', 'only', 'did', 'below', 'your', 'there', 'after', 'haven', 'against', \"you've\", 'or', 'about', 'from', 'on', 'been', 'further', 'd', 'were', 'hers', 'yourselves', 'she', 'mightn', \"shouldn't\", \"she's\", 'just', 'o', 'do', 'again', 'hasn', 'nor', \"isn't\", 'weren', 'a', 'itself', 'them', 'these', \"haven't\", \"needn't\", 'before', 'to', 'myself', 'hadn', \"should've\", 'should', 'are', 'their', 'yours', 'not', 'so', \"you'll\", 'where', 'isn', \"you'd\", 'between', 'how', 'i', 'then', 'shan', 'won', 'is', 'was', 'as', 'own', \"you're\", 'its', 'had', 'up', 'such', 'who', 'm', 'will', \"mustn't\", 'over', 'ain', 'at', 'himself', 'once', 'doing', 'the', 'you', 'more', 'down', 'll', 'same', 'most', 'why', 'have', 'of', 'when', 'all', 'ma', \"mightn't\", 't', 'than', \"aren't\", 'doesn', 'whom', 'that', \"hadn't\", 'which', 'some', 'under', 'it', 'off', 'other', 'don', 'aren', \"hasn't\", 'now', \"couldn't\", 'him', 'few', \"wouldn't\", \"that'll\", 'needn', 've', 'his', 'has', 'through', \"didn't\", 'an', 'and', 'didn', 'this', 'herself', 'those', 'into', 'too', 'y', 'me', 'very', 'shouldn', 'until', 'having', 'our', 'if', 'during', 'does', 'he', 'be', 'what', 'they', 'with', \"doesn't\", 'mustn', 'while'}\n"
          ],
          "name": "stdout"
        }
      ]
    },
    {
      "cell_type": "code",
      "metadata": {
        "id": "aRAg63hSoSVD",
        "colab_type": "code",
        "colab": {}
      },
      "source": [
        "def clean_html(text):\n",
        "    clean_r = re.compile('<,*?>')\n",
        "    clean_text = re.sub(clean_r,'',text)\n",
        "    return clean_text\n",
        "\n",
        "def Clean_punc(text):\n",
        "    clean_sentence = re.sub(r'[?|!|\\'|\"|#]',r' ',text)\n",
        "    clean_data = re.sub(r'[.|,|)|(|\\|/)]',r' ',clean_sentence)\n",
        "    return clean_data"
      ],
      "execution_count": 0,
      "outputs": []
    },
    {
      "cell_type": "code",
      "metadata": {
        "id": "FB5qvuV-oVxP",
        "colab_type": "code",
        "outputId": "065af158-e06f-41d4-e5d4-7e8e7a0c7352",
        "colab": {
          "base_uri": "https://localhost:8080/",
          "height": 35
        }
      },
      "source": [
        "from tqdm import tqdm\n",
        "import os\n",
        "import pdb\n",
        "import pickle\n",
        "\n",
        "from tqdm import tqdm\n",
        "import os\n",
        "import pdb\n",
        "import pickle\n",
        "\n",
        "stem_no = nltk.stem.SnowballStemmer('english')\n",
        "\n",
        "if not os.path.isfile('final_data.sqlite'):\n",
        "    final_string=[]\n",
        "    all_positive_words=[]\n",
        "    all_negative_words=[]\n",
        "    for i,sentence in enumerate(tqdm(final_data['Text'].values)):\n",
        "        filtered_sentence=[]\n",
        "        sent_without_html_tags=clean_html(sentence)\n",
        "        #pdb.set_trace()\n",
        "        for w in sent_without_html_tags.split():\n",
        "            for cleaned_words in Clean_punc(w).split():\n",
        "                if ((cleaned_words.isalpha()) & (len(cleaned_words) > 2)):\n",
        "                    if(cleaned_words.lower() not in stopping_words) :\n",
        "                        stemming=(stem_no.stem(cleaned_words.lower())).encode('utf8')\n",
        "                        filtered_sentence.append(stemming)\n",
        "                        if(final_data['Score'].values)[i]=='positive':\n",
        "                            all_positive_words.append(stemming)\n",
        "                        if(final_data['Score'].values)[i]=='negative':\n",
        "                            all_negative_words.append(stemming)\n",
        "        str1 = b\" \".join(filtered_sentence)\n",
        "        final_string.append(str1)\n",
        "        \n",
        "    final_data['Cleaned_text']=final_string\n",
        "    final_data['Cleaned_text']=final_data['Cleaned_text'].str.decode(\"utf-8\")    \n",
        "    \n",
        "    conn = sqlite3.connect('final_data.sqlite')\n",
        "    cursor=conn.cursor\n",
        "    conn.text_factory = str\n",
        "    final_data.to_sql('Reviews',conn,schema=None,if_exists='replace',index=True,index_label=None,chunksize=None,dtype=None)\n",
        "    conn.close()\n",
        "    \n",
        "    \n",
        "    with open('positive_words.pkl','wb') as f :\n",
        "        pickle.dump(all_positive_words,f)\n",
        "    with open('negative_words.pkl','wb') as f :\n",
        "        pickle.dump(all_negative_words,f)"
      ],
      "execution_count": 20,
      "outputs": [
        {
          "output_type": "stream",
          "text": [
            "100%|██████████| 364171/364171 [06:34<00:00, 922.52it/s]\n"
          ],
          "name": "stderr"
        }
      ]
    },
    {
      "cell_type": "markdown",
      "metadata": {
        "id": "ayh5kB72AcLD",
        "colab_type": "text"
      },
      "source": [
        "#### Find the Total Number of Words in the Review Text"
      ]
    },
    {
      "cell_type": "code",
      "metadata": {
        "id": "5RzpoBfCzUIP",
        "colab_type": "code",
        "colab": {}
      },
      "source": [
        "final_data['total_words'] = [len(x.split()) for x in final_data['Cleaned_text'].tolist()] "
      ],
      "execution_count": 0,
      "outputs": []
    },
    {
      "cell_type": "code",
      "metadata": {
        "id": "OH5jqTDtomwD",
        "colab_type": "code",
        "outputId": "74550552-daf8-40ff-8a6e-f801943670c2",
        "colab": {
          "base_uri": "https://localhost:8080/",
          "height": 476
        }
      },
      "source": [
        "final_data.head(3)"
      ],
      "execution_count": 22,
      "outputs": [
        {
          "output_type": "execute_result",
          "data": {
            "text/html": [
              "<div>\n",
              "<style scoped>\n",
              "    .dataframe tbody tr th:only-of-type {\n",
              "        vertical-align: middle;\n",
              "    }\n",
              "\n",
              "    .dataframe tbody tr th {\n",
              "        vertical-align: top;\n",
              "    }\n",
              "\n",
              "    .dataframe thead th {\n",
              "        text-align: right;\n",
              "    }\n",
              "</style>\n",
              "<table border=\"1\" class=\"dataframe\">\n",
              "  <thead>\n",
              "    <tr style=\"text-align: right;\">\n",
              "      <th></th>\n",
              "      <th>Id</th>\n",
              "      <th>ProductId</th>\n",
              "      <th>UserId</th>\n",
              "      <th>ProfileName</th>\n",
              "      <th>HelpfulnessNumerator</th>\n",
              "      <th>HelpfulnessDenominator</th>\n",
              "      <th>Score</th>\n",
              "      <th>Time</th>\n",
              "      <th>Summary</th>\n",
              "      <th>Text</th>\n",
              "      <th>Cleaned_text</th>\n",
              "      <th>total_words</th>\n",
              "    </tr>\n",
              "  </thead>\n",
              "  <tbody>\n",
              "    <tr>\n",
              "      <th>138706</th>\n",
              "      <td>150524</td>\n",
              "      <td>0006641040</td>\n",
              "      <td>ACITT7DI6IDDL</td>\n",
              "      <td>shari zychinski</td>\n",
              "      <td>0</td>\n",
              "      <td>0</td>\n",
              "      <td>positive</td>\n",
              "      <td>939340800</td>\n",
              "      <td>EVERY book is educational</td>\n",
              "      <td>this witty little book makes my son laugh at l...</td>\n",
              "      <td>witti littl book make son laugh loud recit car...</td>\n",
              "      <td>34</td>\n",
              "    </tr>\n",
              "    <tr>\n",
              "      <th>138688</th>\n",
              "      <td>150506</td>\n",
              "      <td>0006641040</td>\n",
              "      <td>A2IW4PEEKO2R0U</td>\n",
              "      <td>Tracy</td>\n",
              "      <td>1</td>\n",
              "      <td>1</td>\n",
              "      <td>positive</td>\n",
              "      <td>1194739200</td>\n",
              "      <td>Love the book, miss the hard cover version</td>\n",
              "      <td>I grew up reading these Sendak books, and watc...</td>\n",
              "      <td>grew read sendak book watch realli rosi movi i...</td>\n",
              "      <td>27</td>\n",
              "    </tr>\n",
              "    <tr>\n",
              "      <th>138689</th>\n",
              "      <td>150507</td>\n",
              "      <td>0006641040</td>\n",
              "      <td>A1S4A3IQ2MU7V4</td>\n",
              "      <td>sally sue \"sally sue\"</td>\n",
              "      <td>1</td>\n",
              "      <td>1</td>\n",
              "      <td>positive</td>\n",
              "      <td>1191456000</td>\n",
              "      <td>chicken soup with rice months</td>\n",
              "      <td>This is a fun way for children to learn their ...</td>\n",
              "      <td>fun way children learn month year learn poem t...</td>\n",
              "      <td>15</td>\n",
              "    </tr>\n",
              "  </tbody>\n",
              "</table>\n",
              "</div>"
            ],
            "text/plain": [
              "            Id  ... total_words\n",
              "138706  150524  ...          34\n",
              "138688  150506  ...          27\n",
              "138689  150507  ...          15\n",
              "\n",
              "[3 rows x 12 columns]"
            ]
          },
          "metadata": {
            "tags": []
          },
          "execution_count": 22
        }
      ]
    },
    {
      "cell_type": "markdown",
      "metadata": {
        "id": "Jzy7yuGgBERu",
        "colab_type": "text"
      },
      "source": [
        "#### Sort the data based on the Time"
      ]
    },
    {
      "cell_type": "code",
      "metadata": {
        "id": "C3pb6TDoqFa-",
        "colab_type": "code",
        "colab": {}
      },
      "source": [
        "final_data.sort_values(by=['Time'], inplace=True, ascending=True)"
      ],
      "execution_count": 0,
      "outputs": []
    },
    {
      "cell_type": "code",
      "metadata": {
        "id": "X3kJxseLqHan",
        "colab_type": "code",
        "outputId": "e00e5fec-5cf8-45c1-c253-c1ae9ea75bb1",
        "colab": {
          "base_uri": "https://localhost:8080/",
          "height": 375
        }
      },
      "source": [
        "final_data.head(3)"
      ],
      "execution_count": 24,
      "outputs": [
        {
          "output_type": "execute_result",
          "data": {
            "text/html": [
              "<div>\n",
              "<style scoped>\n",
              "    .dataframe tbody tr th:only-of-type {\n",
              "        vertical-align: middle;\n",
              "    }\n",
              "\n",
              "    .dataframe tbody tr th {\n",
              "        vertical-align: top;\n",
              "    }\n",
              "\n",
              "    .dataframe thead th {\n",
              "        text-align: right;\n",
              "    }\n",
              "</style>\n",
              "<table border=\"1\" class=\"dataframe\">\n",
              "  <thead>\n",
              "    <tr style=\"text-align: right;\">\n",
              "      <th></th>\n",
              "      <th>Id</th>\n",
              "      <th>ProductId</th>\n",
              "      <th>UserId</th>\n",
              "      <th>ProfileName</th>\n",
              "      <th>HelpfulnessNumerator</th>\n",
              "      <th>HelpfulnessDenominator</th>\n",
              "      <th>Score</th>\n",
              "      <th>Time</th>\n",
              "      <th>Summary</th>\n",
              "      <th>Text</th>\n",
              "      <th>Cleaned_text</th>\n",
              "      <th>total_words</th>\n",
              "    </tr>\n",
              "  </thead>\n",
              "  <tbody>\n",
              "    <tr>\n",
              "      <th>138706</th>\n",
              "      <td>150524</td>\n",
              "      <td>0006641040</td>\n",
              "      <td>ACITT7DI6IDDL</td>\n",
              "      <td>shari zychinski</td>\n",
              "      <td>0</td>\n",
              "      <td>0</td>\n",
              "      <td>positive</td>\n",
              "      <td>939340800</td>\n",
              "      <td>EVERY book is educational</td>\n",
              "      <td>this witty little book makes my son laugh at l...</td>\n",
              "      <td>witti littl book make son laugh loud recit car...</td>\n",
              "      <td>34</td>\n",
              "    </tr>\n",
              "    <tr>\n",
              "      <th>138683</th>\n",
              "      <td>150501</td>\n",
              "      <td>0006641040</td>\n",
              "      <td>AJ46FKXOVC7NR</td>\n",
              "      <td>Nicholas A Mesiano</td>\n",
              "      <td>2</td>\n",
              "      <td>2</td>\n",
              "      <td>positive</td>\n",
              "      <td>940809600</td>\n",
              "      <td>This whole series is great way to spend time w...</td>\n",
              "      <td>I can remember seeing the show when it aired o...</td>\n",
              "      <td>rememb see show air televis year ago child sis...</td>\n",
              "      <td>30</td>\n",
              "    </tr>\n",
              "    <tr>\n",
              "      <th>417839</th>\n",
              "      <td>451856</td>\n",
              "      <td>B00004CXX9</td>\n",
              "      <td>AIUWLEQ1ADEG5</td>\n",
              "      <td>Elizabeth Medina</td>\n",
              "      <td>0</td>\n",
              "      <td>0</td>\n",
              "      <td>positive</td>\n",
              "      <td>944092800</td>\n",
              "      <td>Entertainingl Funny!</td>\n",
              "      <td>Beetlejuice is a well written movie ..... ever...</td>\n",
              "      <td>beetlejuic well written movi everyth excel act...</td>\n",
              "      <td>13</td>\n",
              "    </tr>\n",
              "  </tbody>\n",
              "</table>\n",
              "</div>"
            ],
            "text/plain": [
              "            Id  ... total_words\n",
              "138706  150524  ...          34\n",
              "138683  150501  ...          30\n",
              "417839  451856  ...          13\n",
              "\n",
              "[3 rows x 12 columns]"
            ]
          },
          "metadata": {
            "tags": []
          },
          "execution_count": 24
        }
      ]
    },
    {
      "cell_type": "code",
      "metadata": {
        "id": "Q7NRvCBYqJcj",
        "colab_type": "code",
        "outputId": "f338c8b0-aba8-4d71-e828-e0d5af39d514",
        "colab": {
          "base_uri": "https://localhost:8080/",
          "height": 35
        }
      },
      "source": [
        "final_data.shape"
      ],
      "execution_count": 25,
      "outputs": [
        {
          "output_type": "execute_result",
          "data": {
            "text/plain": [
              "(364171, 12)"
            ]
          },
          "metadata": {
            "tags": []
          },
          "execution_count": 25
        }
      ]
    },
    {
      "cell_type": "code",
      "metadata": {
        "id": "Twcb3CdoqLgj",
        "colab_type": "code",
        "outputId": "f5beb9b9-71a8-4caf-c6df-1a45b4aa402e",
        "colab": {
          "base_uri": "https://localhost:8080/",
          "height": 278
        }
      },
      "source": [
        "final_data_100K=final_data[0:100000]\n",
        "amazon_polarity_labels=final_data_100K['Score'].values\n",
        "final_data_100K.head(2)"
      ],
      "execution_count": 26,
      "outputs": [
        {
          "output_type": "execute_result",
          "data": {
            "text/html": [
              "<div>\n",
              "<style scoped>\n",
              "    .dataframe tbody tr th:only-of-type {\n",
              "        vertical-align: middle;\n",
              "    }\n",
              "\n",
              "    .dataframe tbody tr th {\n",
              "        vertical-align: top;\n",
              "    }\n",
              "\n",
              "    .dataframe thead th {\n",
              "        text-align: right;\n",
              "    }\n",
              "</style>\n",
              "<table border=\"1\" class=\"dataframe\">\n",
              "  <thead>\n",
              "    <tr style=\"text-align: right;\">\n",
              "      <th></th>\n",
              "      <th>Id</th>\n",
              "      <th>ProductId</th>\n",
              "      <th>UserId</th>\n",
              "      <th>ProfileName</th>\n",
              "      <th>HelpfulnessNumerator</th>\n",
              "      <th>HelpfulnessDenominator</th>\n",
              "      <th>Score</th>\n",
              "      <th>Time</th>\n",
              "      <th>Summary</th>\n",
              "      <th>Text</th>\n",
              "      <th>Cleaned_text</th>\n",
              "      <th>total_words</th>\n",
              "    </tr>\n",
              "  </thead>\n",
              "  <tbody>\n",
              "    <tr>\n",
              "      <th>138706</th>\n",
              "      <td>150524</td>\n",
              "      <td>0006641040</td>\n",
              "      <td>ACITT7DI6IDDL</td>\n",
              "      <td>shari zychinski</td>\n",
              "      <td>0</td>\n",
              "      <td>0</td>\n",
              "      <td>positive</td>\n",
              "      <td>939340800</td>\n",
              "      <td>EVERY book is educational</td>\n",
              "      <td>this witty little book makes my son laugh at l...</td>\n",
              "      <td>witti littl book make son laugh loud recit car...</td>\n",
              "      <td>34</td>\n",
              "    </tr>\n",
              "    <tr>\n",
              "      <th>138683</th>\n",
              "      <td>150501</td>\n",
              "      <td>0006641040</td>\n",
              "      <td>AJ46FKXOVC7NR</td>\n",
              "      <td>Nicholas A Mesiano</td>\n",
              "      <td>2</td>\n",
              "      <td>2</td>\n",
              "      <td>positive</td>\n",
              "      <td>940809600</td>\n",
              "      <td>This whole series is great way to spend time w...</td>\n",
              "      <td>I can remember seeing the show when it aired o...</td>\n",
              "      <td>rememb see show air televis year ago child sis...</td>\n",
              "      <td>30</td>\n",
              "    </tr>\n",
              "  </tbody>\n",
              "</table>\n",
              "</div>"
            ],
            "text/plain": [
              "            Id  ... total_words\n",
              "138706  150524  ...          34\n",
              "138683  150501  ...          30\n",
              "\n",
              "[2 rows x 12 columns]"
            ]
          },
          "metadata": {
            "tags": []
          },
          "execution_count": 26
        }
      ]
    },
    {
      "cell_type": "markdown",
      "metadata": {
        "id": "kPAO5t3tB9dv",
        "colab_type": "text"
      },
      "source": [
        "## Split the Dataset into Train , Test & Cross Validation"
      ]
    },
    {
      "cell_type": "code",
      "metadata": {
        "id": "NANFfXWoqR9y",
        "colab_type": "code",
        "colab": {}
      },
      "source": [
        "from sklearn.model_selection import train_test_split\n",
        "from sklearn.neighbors import KNeighborsClassifier\n",
        "from sklearn.metrics import accuracy_score\n",
        "from sklearn.model_selection import cross_val_score\n",
        "from collections import Counter\n",
        "from sklearn.metrics import confusion_matrix\n",
        "from sklearn.metrics import classification_report\n",
        "\n",
        "X_1,X_Test,Y_1,Y_Test = train_test_split(final_data_100K,amazon_polarity_labels,test_size=0.2,random_state=0)\n",
        "X_Train,X_CV,Y_Train,Y_CV = train_test_split(X_1,Y_1,test_size=0.2)"
      ],
      "execution_count": 0,
      "outputs": []
    },
    {
      "cell_type": "code",
      "metadata": {
        "id": "XPUhTqOWqnou",
        "colab_type": "code",
        "colab": {}
      },
      "source": [
        "X_Train.to_csv('amazonfine_food_train_data.csv') "
      ],
      "execution_count": 0,
      "outputs": []
    },
    {
      "cell_type": "code",
      "metadata": {
        "id": "1mokNVmcqqRe",
        "colab_type": "code",
        "outputId": "0ee43bec-8b62-49bc-f213-558368c2ffbc",
        "colab": {
          "base_uri": "https://localhost:8080/",
          "height": 442
        }
      },
      "source": [
        "X_Train.head(3)"
      ],
      "execution_count": 29,
      "outputs": [
        {
          "output_type": "execute_result",
          "data": {
            "text/html": [
              "<div>\n",
              "<style scoped>\n",
              "    .dataframe tbody tr th:only-of-type {\n",
              "        vertical-align: middle;\n",
              "    }\n",
              "\n",
              "    .dataframe tbody tr th {\n",
              "        vertical-align: top;\n",
              "    }\n",
              "\n",
              "    .dataframe thead th {\n",
              "        text-align: right;\n",
              "    }\n",
              "</style>\n",
              "<table border=\"1\" class=\"dataframe\">\n",
              "  <thead>\n",
              "    <tr style=\"text-align: right;\">\n",
              "      <th></th>\n",
              "      <th>Id</th>\n",
              "      <th>ProductId</th>\n",
              "      <th>UserId</th>\n",
              "      <th>ProfileName</th>\n",
              "      <th>HelpfulnessNumerator</th>\n",
              "      <th>HelpfulnessDenominator</th>\n",
              "      <th>Score</th>\n",
              "      <th>Time</th>\n",
              "      <th>Summary</th>\n",
              "      <th>Text</th>\n",
              "      <th>Cleaned_text</th>\n",
              "      <th>total_words</th>\n",
              "    </tr>\n",
              "  </thead>\n",
              "  <tbody>\n",
              "    <tr>\n",
              "      <th>7184</th>\n",
              "      <td>7852</td>\n",
              "      <td>B000ELWDRI</td>\n",
              "      <td>A17LYITJK2TZ6K</td>\n",
              "      <td>D. Day</td>\n",
              "      <td>1</td>\n",
              "      <td>1</td>\n",
              "      <td>negative</td>\n",
              "      <td>1253318400</td>\n",
              "      <td>Product is fine, but the price is more than at...</td>\n",
              "      <td>I can get this at my local grocery store for $...</td>\n",
              "      <td>get local groceri store per</td>\n",
              "      <td>5</td>\n",
              "    </tr>\n",
              "    <tr>\n",
              "      <th>443174</th>\n",
              "      <td>479202</td>\n",
              "      <td>B0007SNZBQ</td>\n",
              "      <td>A1S5Z3IXRBNOLE</td>\n",
              "      <td>Patrick M. Sutton</td>\n",
              "      <td>0</td>\n",
              "      <td>0</td>\n",
              "      <td>positive</td>\n",
              "      <td>1201392000</td>\n",
              "      <td>The best cereal you won't find on your grocer'...</td>\n",
              "      <td>I absolutely love this cereal. It's really for...</td>\n",
              "      <td>absolut love cereal realli adult sweet right b...</td>\n",
              "      <td>21</td>\n",
              "    </tr>\n",
              "    <tr>\n",
              "      <th>305894</th>\n",
              "      <td>331272</td>\n",
              "      <td>B001P74NXM</td>\n",
              "      <td>AFHODA11ACXVX</td>\n",
              "      <td>M. Chrisman \"countrysprout\"</td>\n",
              "      <td>0</td>\n",
              "      <td>0</td>\n",
              "      <td>positive</td>\n",
              "      <td>1243296000</td>\n",
              "      <td>OG Raw Blue Agave ROCKS!</td>\n",
              "      <td>I would not hesitate to recommend this product...</td>\n",
              "      <td>would hesit recommend product particular look ...</td>\n",
              "      <td>115</td>\n",
              "    </tr>\n",
              "  </tbody>\n",
              "</table>\n",
              "</div>"
            ],
            "text/plain": [
              "            Id  ... total_words\n",
              "7184      7852  ...           5\n",
              "443174  479202  ...          21\n",
              "305894  331272  ...         115\n",
              "\n",
              "[3 rows x 12 columns]"
            ]
          },
          "metadata": {
            "tags": []
          },
          "execution_count": 29
        }
      ]
    },
    {
      "cell_type": "markdown",
      "metadata": {
        "id": "BVOw5oblFEUO",
        "colab_type": "text"
      },
      "source": [
        "## Bag Of Words(BoW) Vectorization Technique on Naive Bayes Algorithm"
      ]
    },
    {
      "cell_type": "code",
      "metadata": {
        "id": "qHBB859arbu9",
        "colab_type": "code",
        "outputId": "13401fa8-dde9-47d1-c1e7-4cea758d7aaa",
        "colab": {
          "base_uri": "https://localhost:8080/",
          "height": 177
        }
      },
      "source": [
        "print(X_Train.shape, Y_Train.shape)\n",
        "print(X_CV.shape, Y_CV.shape)\n",
        "print(X_Test.shape, Y_Test.shape)\n",
        "\n",
        "print(\"=\"*100)\n",
        "\n",
        "\n",
        "count_vector=CountVectorizer(min_df=1)\n",
        "X_Train_data_bow=(count_vector.fit_transform(X_Train['Cleaned_text'].values))\n",
        "X_Test_data_bow=(count_vector.transform(X_Test['Cleaned_text'].values))\n",
        "X_CV_data_bow=(count_vector.transform(X_CV['Cleaned_text'].values))\n",
        "\n",
        "print(\"After vectorizations\")\n",
        "print(X_Train_data_bow.shape, Y_Train.shape)\n",
        "print(X_CV_data_bow.shape, Y_CV.shape)\n",
        "print(X_Test_data_bow.shape, Y_Test.shape)\n",
        "print(\"=\"*100)"
      ],
      "execution_count": 30,
      "outputs": [
        {
          "output_type": "stream",
          "text": [
            "(64000, 12) (64000,)\n",
            "(16000, 12) (16000,)\n",
            "(20000, 12) (20000,)\n",
            "====================================================================================================\n",
            "After vectorizations\n",
            "(64000, 29389) (64000,)\n",
            "(16000, 29389) (16000,)\n",
            "(20000, 29389) (20000,)\n",
            "====================================================================================================\n"
          ],
          "name": "stdout"
        }
      ]
    },
    {
      "cell_type": "markdown",
      "metadata": {
        "id": "YKzLGfKcCsLL",
        "colab_type": "text"
      },
      "source": [
        "### Use MultiNomial Naive Bayes and GridSearchCV using 10 Fold Cross Validation to find Best Alpha"
      ]
    },
    {
      "cell_type": "code",
      "metadata": {
        "id": "v4ZZJRmWUBeI",
        "colab_type": "code",
        "colab": {}
      },
      "source": [
        "from sklearn.model_selection import GridSearchCV\n",
        "from scipy.stats import randint as sp_randint\n",
        "from sklearn.model_selection import cross_val_score\n",
        "from sklearn.naive_bayes import MultinomialNB\n",
        "\n",
        "def NaiveBayes_Optimal_Alpha(x_training_data,y_training_data):\n",
        "  grid_params = { 'alpha' : [10**x for x in range(-5,3)]              \n",
        "                 }\n",
        "  naive_bayes = MultinomialNB(class_prior=[0.5,0.5],fit_prior=True)\n",
        "  clf=GridSearchCV(naive_bayes,grid_params,scoring='roc_auc',return_train_score=True,cv=10)\n",
        "  clf.fit(x_training_data,y_training_data)\n",
        "  results = pd.DataFrame.from_dict(clf.cv_results_)\n",
        "  results = results.sort_values(['param_alpha'])\n",
        "  train_auc= results['mean_train_score']\n",
        "  train_auc_std= results['std_train_score']\n",
        "  cv_auc = results['mean_test_score'] \n",
        "  cv_auc_std= results['std_test_score']\n",
        "  alpha =  results['param_alpha']\n",
        "  #print(type(alpha))\n",
        "  #print(alpha)\n",
        "  log_alpha=np.log10(list(results[\"param_alpha\"]))\n",
        "  print(clf.best_score_)\n",
        "  print(clf.best_params_)\n",
        "  plt.plot(log_alpha, train_auc, label='Train AUC')\n",
        "  plt.plot(log_alpha, cv_auc, label='CV AUC')\n",
        "  plt.scatter(log_alpha, train_auc, label='Train AUC points')\n",
        "  plt.scatter(log_alpha, cv_auc, label='CV AUC points')\n",
        "  plt.legend()\n",
        "  plt.xlabel(\"Log of alpha: hyperparameter\")\n",
        "  plt.ylabel(\"AUC\")\n",
        "  plt.title(\"Hyper parameter Vs AUC plot\")\n",
        "  plt.grid()\n",
        "  plt.show()\n",
        "  return results,clf,naive_bayes"
      ],
      "execution_count": 0,
      "outputs": []
    },
    {
      "cell_type": "code",
      "metadata": {
        "id": "pjBeObdFEXi2",
        "colab_type": "code",
        "outputId": "4e967f91-abf2-41f1-8368-77a010e44c42",
        "colab": {
          "base_uri": "https://localhost:8080/",
          "height": 612
        }
      },
      "source": [
        "results,best_Alpha,nb_MultiNomial =NaiveBayes_Optimal_Alpha(X_Train_data_bow,Y_Train)\n",
        "results.head()"
      ],
      "execution_count": 32,
      "outputs": [
        {
          "output_type": "stream",
          "text": [
            "0.8967704367691779\n",
            "{'alpha': 0.1}\n"
          ],
          "name": "stdout"
        },
        {
          "output_type": "display_data",
          "data": {
            "image/png": "[encoded data removed]",
            "text/plain": [
              "<Figure size 432x288 with 1 Axes>"
            ]
          },
          "metadata": {
            "tags": []
          }
        },
        {
          "output_type": "execute_result",
          "data": {
            "text/html": [
              "<div>\n",
              "<style scoped>\n",
              "    .dataframe tbody tr th:only-of-type {\n",
              "        vertical-align: middle;\n",
              "    }\n",
              "\n",
              "    .dataframe tbody tr th {\n",
              "        vertical-align: top;\n",
              "    }\n",
              "\n",
              "    .dataframe thead th {\n",
              "        text-align: right;\n",
              "    }\n",
              "</style>\n",
              "<table border=\"1\" class=\"dataframe\">\n",
              "  <thead>\n",
              "    <tr style=\"text-align: right;\">\n",
              "      <th></th>\n",
              "      <th>mean_fit_time</th>\n",
              "      <th>std_fit_time</th>\n",
              "      <th>mean_score_time</th>\n",
              "      <th>std_score_time</th>\n",
              "      <th>param_alpha</th>\n",
              "      <th>params</th>\n",
              "      <th>split0_test_score</th>\n",
              "      <th>split1_test_score</th>\n",
              "      <th>split2_test_score</th>\n",
              "      <th>split3_test_score</th>\n",
              "      <th>split4_test_score</th>\n",
              "      <th>split5_test_score</th>\n",
              "      <th>split6_test_score</th>\n",
              "      <th>split7_test_score</th>\n",
              "      <th>split8_test_score</th>\n",
              "      <th>split9_test_score</th>\n",
              "      <th>mean_test_score</th>\n",
              "      <th>std_test_score</th>\n",
              "      <th>rank_test_score</th>\n",
              "      <th>split0_train_score</th>\n",
              "      <th>split1_train_score</th>\n",
              "      <th>split2_train_score</th>\n",
              "      <th>split3_train_score</th>\n",
              "      <th>split4_train_score</th>\n",
              "      <th>split5_train_score</th>\n",
              "      <th>split6_train_score</th>\n",
              "      <th>split7_train_score</th>\n",
              "      <th>split8_train_score</th>\n",
              "      <th>split9_train_score</th>\n",
              "      <th>mean_train_score</th>\n",
              "      <th>std_train_score</th>\n",
              "    </tr>\n",
              "  </thead>\n",
              "  <tbody>\n",
              "    <tr>\n",
              "      <th>0</th>\n",
              "      <td>0.194286</td>\n",
              "      <td>0.005829</td>\n",
              "      <td>0.018244</td>\n",
              "      <td>0.000482</td>\n",
              "      <td>1e-05</td>\n",
              "      <td>{'alpha': 1e-05}</td>\n",
              "      <td>0.832927</td>\n",
              "      <td>0.815639</td>\n",
              "      <td>0.815289</td>\n",
              "      <td>0.814726</td>\n",
              "      <td>0.813180</td>\n",
              "      <td>0.810585</td>\n",
              "      <td>0.800167</td>\n",
              "      <td>0.807801</td>\n",
              "      <td>0.822658</td>\n",
              "      <td>0.799283</td>\n",
              "      <td>0.813225</td>\n",
              "      <td>0.009438</td>\n",
              "      <td>6</td>\n",
              "      <td>0.968593</td>\n",
              "      <td>0.968835</td>\n",
              "      <td>0.969060</td>\n",
              "      <td>0.969436</td>\n",
              "      <td>0.968304</td>\n",
              "      <td>0.968817</td>\n",
              "      <td>0.968905</td>\n",
              "      <td>0.969078</td>\n",
              "      <td>0.969140</td>\n",
              "      <td>0.968859</td>\n",
              "      <td>0.968903</td>\n",
              "      <td>0.000294</td>\n",
              "    </tr>\n",
              "    <tr>\n",
              "      <th>1</th>\n",
              "      <td>0.192298</td>\n",
              "      <td>0.001132</td>\n",
              "      <td>0.018999</td>\n",
              "      <td>0.002144</td>\n",
              "      <td>0.0001</td>\n",
              "      <td>{'alpha': 0.0001}</td>\n",
              "      <td>0.849612</td>\n",
              "      <td>0.833737</td>\n",
              "      <td>0.832425</td>\n",
              "      <td>0.831621</td>\n",
              "      <td>0.830459</td>\n",
              "      <td>0.828898</td>\n",
              "      <td>0.818649</td>\n",
              "      <td>0.825476</td>\n",
              "      <td>0.840005</td>\n",
              "      <td>0.822257</td>\n",
              "      <td>0.831314</td>\n",
              "      <td>0.008370</td>\n",
              "      <td>5</td>\n",
              "      <td>0.967876</td>\n",
              "      <td>0.968108</td>\n",
              "      <td>0.968341</td>\n",
              "      <td>0.968731</td>\n",
              "      <td>0.967561</td>\n",
              "      <td>0.968099</td>\n",
              "      <td>0.968198</td>\n",
              "      <td>0.968302</td>\n",
              "      <td>0.968415</td>\n",
              "      <td>0.968107</td>\n",
              "      <td>0.968174</td>\n",
              "      <td>0.000299</td>\n",
              "    </tr>\n",
              "    <tr>\n",
              "      <th>2</th>\n",
              "      <td>0.191991</td>\n",
              "      <td>0.007065</td>\n",
              "      <td>0.017936</td>\n",
              "      <td>0.000361</td>\n",
              "      <td>0.001</td>\n",
              "      <td>{'alpha': 0.001}</td>\n",
              "      <td>0.868611</td>\n",
              "      <td>0.853764</td>\n",
              "      <td>0.852920</td>\n",
              "      <td>0.850806</td>\n",
              "      <td>0.851579</td>\n",
              "      <td>0.850166</td>\n",
              "      <td>0.844108</td>\n",
              "      <td>0.845603</td>\n",
              "      <td>0.862053</td>\n",
              "      <td>0.847447</td>\n",
              "      <td>0.852706</td>\n",
              "      <td>0.007105</td>\n",
              "      <td>4</td>\n",
              "      <td>0.966498</td>\n",
              "      <td>0.966710</td>\n",
              "      <td>0.966939</td>\n",
              "      <td>0.967384</td>\n",
              "      <td>0.966151</td>\n",
              "      <td>0.966712</td>\n",
              "      <td>0.966830</td>\n",
              "      <td>0.966856</td>\n",
              "      <td>0.967034</td>\n",
              "      <td>0.966636</td>\n",
              "      <td>0.966775</td>\n",
              "      <td>0.000311</td>\n",
              "    </tr>\n",
              "    <tr>\n",
              "      <th>3</th>\n",
              "      <td>0.191347</td>\n",
              "      <td>0.001288</td>\n",
              "      <td>0.018263</td>\n",
              "      <td>0.000175</td>\n",
              "      <td>0.01</td>\n",
              "      <td>{'alpha': 0.01}</td>\n",
              "      <td>0.888155</td>\n",
              "      <td>0.876968</td>\n",
              "      <td>0.875863</td>\n",
              "      <td>0.873261</td>\n",
              "      <td>0.874875</td>\n",
              "      <td>0.875264</td>\n",
              "      <td>0.870697</td>\n",
              "      <td>0.867738</td>\n",
              "      <td>0.885280</td>\n",
              "      <td>0.874947</td>\n",
              "      <td>0.876305</td>\n",
              "      <td>0.005837</td>\n",
              "      <td>3</td>\n",
              "      <td>0.963424</td>\n",
              "      <td>0.963637</td>\n",
              "      <td>0.963873</td>\n",
              "      <td>0.964358</td>\n",
              "      <td>0.963015</td>\n",
              "      <td>0.963566</td>\n",
              "      <td>0.963639</td>\n",
              "      <td>0.963691</td>\n",
              "      <td>0.963999</td>\n",
              "      <td>0.963421</td>\n",
              "      <td>0.963662</td>\n",
              "      <td>0.000345</td>\n",
              "    </tr>\n",
              "    <tr>\n",
              "      <th>4</th>\n",
              "      <td>0.191457</td>\n",
              "      <td>0.003335</td>\n",
              "      <td>0.018273</td>\n",
              "      <td>0.000531</td>\n",
              "      <td>0.1</td>\n",
              "      <td>{'alpha': 0.1}</td>\n",
              "      <td>0.907117</td>\n",
              "      <td>0.899100</td>\n",
              "      <td>0.894295</td>\n",
              "      <td>0.891649</td>\n",
              "      <td>0.893452</td>\n",
              "      <td>0.893583</td>\n",
              "      <td>0.896534</td>\n",
              "      <td>0.890760</td>\n",
              "      <td>0.901664</td>\n",
              "      <td>0.899549</td>\n",
              "      <td>0.896770</td>\n",
              "      <td>0.004836</td>\n",
              "      <td>1</td>\n",
              "      <td>0.955864</td>\n",
              "      <td>0.955947</td>\n",
              "      <td>0.956356</td>\n",
              "      <td>0.956936</td>\n",
              "      <td>0.955313</td>\n",
              "      <td>0.955824</td>\n",
              "      <td>0.955925</td>\n",
              "      <td>0.956045</td>\n",
              "      <td>0.956555</td>\n",
              "      <td>0.955782</td>\n",
              "      <td>0.956055</td>\n",
              "      <td>0.000431</td>\n",
              "    </tr>\n",
              "  </tbody>\n",
              "</table>\n",
              "</div>"
            ],
            "text/plain": [
              "   mean_fit_time  std_fit_time  ...  mean_train_score  std_train_score\n",
              "0       0.194286      0.005829  ...          0.968903         0.000294\n",
              "1       0.192298      0.001132  ...          0.968174         0.000299\n",
              "2       0.191991      0.007065  ...          0.966775         0.000311\n",
              "3       0.191347      0.001288  ...          0.963662         0.000345\n",
              "4       0.191457      0.003335  ...          0.956055         0.000431\n",
              "\n",
              "[5 rows x 31 columns]"
            ]
          },
          "metadata": {
            "tags": []
          },
          "execution_count": 32
        }
      ]
    },
    {
      "cell_type": "code",
      "metadata": {
        "id": "Ois7WU7foOBt",
        "colab_type": "code",
        "outputId": "7190c257-5d3b-4d10-93ef-c6f5dc8bf29f",
        "colab": {
          "base_uri": "https://localhost:8080/",
          "height": 70
        }
      },
      "source": [
        "print(best_Alpha.best_score_)\n",
        "print(best_Alpha.best_params_)\n",
        "type(best_Alpha.best_params_)"
      ],
      "execution_count": 33,
      "outputs": [
        {
          "output_type": "stream",
          "text": [
            "0.8967704367691779\n",
            "{'alpha': 0.1}\n"
          ],
          "name": "stdout"
        },
        {
          "output_type": "execute_result",
          "data": {
            "text/plain": [
              "dict"
            ]
          },
          "metadata": {
            "tags": []
          },
          "execution_count": 33
        }
      ]
    },
    {
      "cell_type": "markdown",
      "metadata": {
        "id": "FhNEt86zDFWA",
        "colab_type": "text"
      },
      "source": [
        "### BEST ALPHA = 0.1 For Bag Of Words Featurization technique & BEST Score is 0.89886"
      ]
    },
    {
      "cell_type": "code",
      "metadata": {
        "id": "NgdtCmoHbMpr",
        "colab_type": "code",
        "outputId": "d8e86507-ed8c-42c0-db0c-f39f3a4510eb",
        "colab": {
          "base_uri": "https://localhost:8080/",
          "height": 35
        }
      },
      "source": [
        "best_alpha = best_Alpha.best_params_\n",
        "best_alpha=best_alpha.get(\"alpha\")\n",
        "print(best_alpha)"
      ],
      "execution_count": 34,
      "outputs": [
        {
          "output_type": "stream",
          "text": [
            "0.1\n"
          ],
          "name": "stdout"
        }
      ]
    },
    {
      "cell_type": "markdown",
      "metadata": {
        "id": "Vxc7swRlDTky",
        "colab_type": "text"
      },
      "source": [
        "#### Convert Score to 1 & 0 for Trainig and Test"
      ]
    },
    {
      "cell_type": "code",
      "metadata": {
        "id": "v2qW8BnRyFIg",
        "colab_type": "code",
        "colab": {}
      },
      "source": [
        "Y_Train_Binary = np.where(Y_Train == 'positive',1,0)"
      ],
      "execution_count": 0,
      "outputs": []
    },
    {
      "cell_type": "code",
      "metadata": {
        "id": "iiTK7v6T9-wV",
        "colab_type": "code",
        "colab": {}
      },
      "source": [
        "Y_Test_Binary = np.where(Y_Test == 'positive',1,0)"
      ],
      "execution_count": 0,
      "outputs": []
    },
    {
      "cell_type": "markdown",
      "metadata": {
        "id": "QTFcqTObDkiW",
        "colab_type": "text"
      },
      "source": [
        "#### PLOT THE TRAIN AUC AND TEST AUC FOR BEST ALPHA"
      ]
    },
    {
      "cell_type": "code",
      "metadata": {
        "id": "EkAJyB3rlklq",
        "colab_type": "code",
        "outputId": "8738b0b3-06c3-43fe-ebb9-3bbfea6709fd",
        "colab": {
          "base_uri": "https://localhost:8080/",
          "height": 295
        }
      },
      "source": [
        "from sklearn.metrics import roc_curve, auc\n",
        "naive_bayes = MultinomialNB(alpha=best_alpha,fit_prior=True,class_prior=[0.5,0.5])\n",
        "naive_bayes.fit(X_Train_data_bow,Y_Train)\n",
        "pred_test_data=naive_bayes.predict(X_Test_data_bow)\n",
        "y_train_predicted_prob = naive_bayes.predict_proba(X_Train_data_bow)[:,1]\n",
        "y_test_predicted_prob=naive_bayes.predict_proba(X_Test_data_bow)[:,1]\n",
        "train_fpr, train_tpr, train_thresholds=roc_curve(Y_Train,y_train_predicted_prob,pos_label='positive')\n",
        "test_fpr, test_tpr, test_thresholds = roc_curve(Y_Test, y_test_predicted_prob,pos_label='positive')\n",
        "\n",
        "plt.plot(train_fpr, train_tpr, label=\"train AUC =\"+str(auc(train_fpr, train_tpr)))\n",
        "plt.plot(test_fpr, test_tpr, label=\"test AUC =\"+str(auc(test_fpr, test_tpr)))\n",
        "plt.legend()\n",
        "plt.xlabel(\"Alpha: hyperparameter\")\n",
        "plt.ylabel(\"AUC\")\n",
        "plt.title(\"ERROR PLOTS\")\n",
        "plt.grid()\n",
        "plt.show()"
      ],
      "execution_count": 39,
      "outputs": [
        {
          "output_type": "display_data",
          "data": {
            "image/png": "[encoded data removed]",
            "text/plain": [
              "<Figure size 432x288 with 1 Axes>"
            ]
          },
          "metadata": {
            "tags": []
          }
        }
      ]
    },
    {
      "cell_type": "markdown",
      "metadata": {
        "id": "QVvAIdBVDwYe",
        "colab_type": "text"
      },
      "source": [
        "#### find the Top 20 Positive and Negataive Features for BoW algorithm"
      ]
    },
    {
      "cell_type": "code",
      "metadata": {
        "id": "efnvHss3fO8f",
        "colab_type": "code",
        "colab": {}
      },
      "source": [
        "def findMax_features(naive_bayes):\n",
        "  max_ind_neg=np.argsort((naive_bayes.feature_log_prob_)[0])[::-1][0:10]\n",
        "  max_ind_pos=np.argsort((naive_bayes.feature_log_prob_)[1])[::-1][0:10]\n",
        "  return max_ind_neg,max_ind_pos"
      ],
      "execution_count": 0,
      "outputs": []
    },
    {
      "cell_type": "code",
      "metadata": {
        "id": "ZtVscizIhbfW",
        "colab_type": "code",
        "outputId": "c46b9a99-2fde-4d3c-87fa-2ab3150c93a4",
        "colab": {
          "base_uri": "https://localhost:8080/",
          "height": 88
        }
      },
      "source": [
        "imp_neg_features ,imp_pos_features = findMax_features(naive_bayes)\n",
        "print(\"---------------------------------------------------------\")\n",
        "print(imp_pos_features) \n",
        "print(\"---------------------------------------------------------\")\n",
        "print(imp_neg_features)"
      ],
      "execution_count": 41,
      "outputs": [
        {
          "output_type": "stream",
          "text": [
            "---------------------------------------------------------\n",
            "[14792 25550 10835  9514 11093 25626 15121 27548 20272 18056]\n",
            "---------------------------------------------------------\n",
            "[25550 14792 20272 18056  9514 26581 28923 10835 27548 25626]\n"
          ],
          "name": "stdout"
        }
      ]
    },
    {
      "cell_type": "code",
      "metadata": {
        "id": "9w27KlyDcNik",
        "colab_type": "code",
        "outputId": "081e8b71-2778-4279-8f58-dab289be3d01",
        "colab": {
          "base_uri": "https://localhost:8080/",
          "height": 410
        }
      },
      "source": [
        "feature_names = count_vector.get_feature_names()\n",
        "print(feature_names)\n",
        "coefs_with_fns = sorted(zip(naive_bayes.coef_[0], feature_names))\n",
        "top_features = zip(coefs_with_fns[:20], coefs_with_fns[:-(20 + 1):-1])\n",
        "list(top_features)"
      ],
      "execution_count": 42,
      "outputs": [
        {
          "output_type": "stream",
          "text": [
            "['aaa', 'aaaaaaaaagghh', 'aaaaah', 'aaaaahhhhhhhhhhhhhhhh', 'aaaah', 'aaah', 'aacur', 'aadp', 'aaf', 'aafco', 'aah', 'aahh', 'aalmost', 'aand', 'aardvark', 'ab', 'aback', 'abandon', 'abaolut', 'abattoir', 'abba', 'abbey', 'abbi', 'abbott', 'abbrevi', 'abc', 'abcstor', 'abd', 'abdomen', 'abdomin', 'aber', 'aberdeen', 'abhor', 'abhorr', 'abi', 'abid', 'abigirl', 'abil', 'abit', 'abita', 'abj', 'abl', 'abnorm', 'aboard', 'abomin', 'abondanza', 'aboout', 'aboslut', 'abosolut', 'abot', 'aboth', 'abound', 'abour', 'abouy', 'abouyt', 'abovement', 'aboveour', 'abpv', 'abras', 'abreva', 'abrevi', 'abroad', 'abrupt', 'abruzzo', 'abscess', 'abscond', 'absenc', 'absens', 'absensc', 'absent', 'absolu', 'absolulti', 'absolut', 'absolutali', 'absoluteki', 'absolutelli', 'absolutelti', 'absolutey', 'absolutley', 'absolutuley', 'absolv', 'absorb', 'absorbt', 'absorpt', 'absoult', 'absoulut', 'absout', 'abstain', 'abstin', 'abstract', 'absulut', 'absurd', 'abt', 'abu', 'abud', 'abuela', 'abuelita', 'abum', 'abund', 'abundunc', 'abus', 'abut', 'abysm', 'abyssinian', 'acacia', 'academ', 'academi', 'acai', 'acana', 'acceler', 'accelerad', 'accent', 'accentu', 'accepet', 'accept', 'acces', 'access', 'accessori', 'accid', 'accidc', 'accident', 'acciugh', 'acclaim', 'acclam', 'acclim', 'accolad', 'accomad', 'accommod', 'accomod', 'accomond', 'accompani', 'accomplish', 'accor', 'accord', 'accordng', 'accostum', 'account', 'accourd', 'accoutr', 'accoutra', 'accpet', 'accredit', 'accross', 'accummil', 'accumstom', 'accumul', 'accur', 'accuraci', 'accus', 'accusatori', 'accustom', 'ace', 'aceit', 'acerb', 'acerola', 'acess', 'acesuflamek', 'acesulfam', 'acet', 'acetaia', 'acetaminophen', 'aceto', 'aceton', 'acetylcholin', 'ach', 'achar', 'achey', 'achi', 'achiev', 'achiot', 'achva', 'aci', 'acia', 'acid', 'acidez', 'acidi', 'acidif', 'acidifi', 'acidolphilus', 'acidophil', 'acidophilus', 'acidophuilus', 'acini', 'ackag', 'acke', 'acki', 'acknowled', 'acknowledg', 'ackward', 'acm', 'acn', 'acommod', 'acord', 'acorn', 'acpuncturist', 'acquaint', 'acquiesc', 'acquint', 'acquir', 'acquisit', 'acquista', 'acr', 'acrid', 'acronym', 'across', 'acruakki', 'acryl', 'acspect', 'act', 'actal', 'actii', 'action', 'activ', 'activateand', 'activia', 'activin', 'activist', 'activit', 'actor', 'actress', 'actual', 'actuali', 'actuallli', 'actulli', 'acuiti', 'acumen', 'acupressur', 'acupunctur', 'acur', 'acura', 'acuraci', 'acut', 'acv', 'ad', 'adabi', 'adag', 'adagio', 'adam', 'adamson', 'adapt', 'adapta', 'adaptogen', 'adaptor', 'adav', 'add', 'adda', 'addag', 'addam', 'addat', 'addendum', 'addic', 'addict', 'addin', 'addison', 'addit', 'additiion', 'additioon', 'additon', 'additt', 'address', 'addtion', 'ade', 'adel', 'adelaid', 'adelman', 'adept', 'adequ', 'adequit', 'adhd', 'adher', 'adhes', 'adict', 'adimitid', 'adirondack', 'adit', 'adivc', 'adjac', 'adject', 'adjunct', 'adjust', 'adkin', 'adm', 'administ', 'administr', 'adminst', 'admir', 'admiss', 'admit', 'admitt', 'admoit', 'admonit', 'adn', 'adobo', 'adolesc', 'adolf', 'adolph', 'adolphus', 'adomin', 'adop', 'adopt', 'adopte', 'adoptogen', 'ador', 'adorn', 'adren', 'adrenalin', 'adress', 'adrian', 'adrianna', 'adujst', 'adult', 'adulter', 'adulthood', 'adust', 'advanc', 'advantag', 'advantix', 'advenst', 'advent', 'adventist', 'adventur', 'adver', 'advers', 'advert', 'advertis', 'advic', 'advid', 'advis', 'advisor', 'advisori', 'advoc', 'advocaci', 'adwanc', 'adzuki', 'aebleskiv', 'aegean', 'aer', 'aerat', 'aero', 'aerob', 'aerodynam', 'aerogarden', 'aerogrow', 'aerolatt', 'aeropress', 'aerosol', 'aesthet', 'aestivum', 'afb', 'afer', 'afew', 'affaid', 'affair', 'affect', 'affectianco', 'affection', 'affectionado', 'affi', 'afficiado', 'afficianado', 'afficiando', 'afficionada', 'afficionado', 'afficionda', 'affili', 'affin', 'affinoi', 'affirm', 'affix', 'afflict', 'affluent', 'afford', 'affort', 'affraid', 'afganistan', 'afghan', 'afghanistan', 'aficianado', 'aficienado', 'aficionado', 'afloat', 'aforement', 'afraid', 'africa', 'africaf', 'african', 'africanredteacompani', 'afrikaan', 'afrikan', 'afro', 'aften', 'after', 'afteraffect', 'afteral', 'afterbit', 'afterburn', 'afterdinn', 'aftereffect', 'afterlif', 'aftermath', 'afternoon', 'afternooon', 'afternot', 'afteroon', 'afterschool', 'aftershav', 'aftertas', 'aftertast', 'afterthought', 'afterton', 'aftertrac', 'afterward', 'afterword', 'againgst', 'aganin', 'agar', 'agatha', 'agav', 'agava', 'age', 'agenc', 'agenda', 'agent', 'ager', 'aggrav', 'aggre', 'aggres', 'aggress', 'aggrev', 'aggro', 'aghast', 'agian', 'agil', 'agin', 'agit', 'aglio', 'agni', 'ago', 'agon', 'agoni', 'agood', 'agotamiento', 'agra', 'agre', 'agreeabl', 'agreement', 'agress', 'agribusi', 'agricultur', 'agrumato', 'agrumento', 'agsin', 'agua', 'aguav', 'aguilar', 'ah', 'aha', 'ahd', 'ahe', 'ahead', 'ahem', 'ahh', 'ahhh', 'ahhhh', 'ahhhhh', 'ahhhhhh', 'ahhhhhhhh', 'ahi', 'ahm', 'ahmad', 'ahnd', 'ahold', 'ahoy', 'ahv', 'aicr', 'aid', 'aidel', 'aig', 'ail', 'ailment', 'aim', 'aint', 'aioli', 'air', 'airbag', 'airborn', 'airbrush', 'airedal', 'airey', 'airfar', 'airflight', 'airfreight', 'airhead', 'airi', 'airier', 'airlin', 'airlock', 'airplan', 'airpop', 'airport', 'airspac', 'airtight', 'airtran', 'airwav', 'airway', 'airy', 'aisian', 'aisl', 'ajar', 'aji', 'ajika', 'ajinomoto', 'ajishima', 'ajo', 'ajvar', 'aka', 'akami', 'akbb', 'akc', 'ake', 'akg', 'akin', 'akita', 'akmak', 'akway', 'al', 'ala', 'alabama', 'alabamian', 'alaca', 'alack', 'alaea', 'alameda', 'alamosa', 'alareadi', 'alarm', 'alaska', 'alaskan', 'alawi', 'alba', 'albacor', 'albanees', 'albanes', 'albani', 'albans', 'albeit', 'albert', 'alberta', 'alberton', 'albertson', 'albican', 'albiet', 'albondiga', 'album', 'albumen', 'albuquerq', 'albuquerqu', 'albuqueruq', 'albuterol', 'alcat', 'alchemi', 'alchohol', 'alchol', 'alcohol', 'aldent', 'alder', 'alderwood', 'aldi', 'aldridg', 'ale', 'alec', 'aleergi', 'aleighten', 'aleist', 'alel', 'alen', 'aleppo', 'alerg', 'alergec', 'alergi', 'alert', 'alessi', 'alev', 'alex', 'alexand', 'alexandra', 'alexandria', 'alexi', 'alexia', 'alexian', 'alf', 'alfa', 'alfajor', 'alfalfa', 'alford', 'alfreda', 'alfredo', 'alga', 'algaecid', 'algarv', 'algav', 'algebra', 'algerian', 'algin', 'algorithm', 'ali', 'alia', 'alic', 'alien', 'aliev', 'align', 'aliitl', 'alik', 'alimentari', 'alimentum', 'alio', 'alittl', 'aliv', 'alka', 'alkal', 'alkali', 'alkalin', 'alkaloid', 'alkylamid', 'all', 'alla', 'allay', 'allday', 'alldirect', 'alleg', 'allegen', 'alleger', 'allegi', 'allegro', 'allen', 'allerg', 'allergen', 'allergena', 'allergi', 'allergic', 'allergist', 'alleri', 'allert', 'allessi', 'allevi', 'alley', 'alli', 'allianc', 'allig', 'allimentum', 'allison', 'allium', 'allk', 'alloc', 'allot', 'allow', 'allowng', 'allreadi', 'allrecip', 'allright', 'allsort', 'allspic', 'allstar', 'alltea', 'allthough', 'alltim', 'alltogeth', 'allud', 'alluminum', 'allupset', 'allur', 'allus', 'allway', 'alma', 'almighti', 'almod', 'almond', 'almondi', 'almondina', 'almonduo', 'almost', 'almsot', 'alnatura', 'alo', 'aloha', 'alohaisland', 'alohaislandcoffe', 'aloi', 'alomost', 'alomst', 'alon', 'along', 'alongsid', 'aloo', 'alot', 'alotta', 'aloud', 'alouett', 'alp', 'alpen', 'alpenmilch', 'alpenz', 'alpha', 'alphabet', 'alpin', 'alpo', 'alpsnack', 'alreadi', 'alreday', 'alright', 'also', 'alsosalt', 'alsway', 'alt', 'alta', 'altaj', 'altar', 'alten', 'alter', 'alteran', 'alterant', 'altern', 'alterna', 'alternativw', 'alternatv', 'alternit', 'alternt', 'alterra', 'altheim', 'althet', 'altho', 'althog', 'althogh', 'althou', 'although', 'althouh', 'althugh', 'altinba', 'altiod', 'altitud', 'alto', 'altogeth', 'altoid', 'alton', 'altruist', 'altura', 'alturnit', 'alum', 'alumin', 'aluminum', 'alumnus', 'alun', 'alvita', 'alwadi', 'alwasydirect', 'alway', 'alwaysdirect', 'alweay', 'alwi', 'alwya', 'alzheim', 'ama', 'amadeus', 'amaiz', 'amalfi', 'amalgam', 'amamaz', 'amamz', 'amamzon', 'amanda', 'amanzon', 'amaranth', 'amaranthtast', 'amarena', 'amaretti', 'amaretto', 'amaron', 'amart', 'amason', 'amass', 'amateur', 'amatriciana', 'amatur', 'amaz', 'amaza', 'amazamaz', 'amazaon', 'amazi', 'amazin', 'amazing', 'amazinggg', 'amazom', 'amazon', 'amazonb', 'amazonia', 'amazonian', 'amazononian', 'amazoo', 'ambassador', 'amber', 'ambianc', 'ambien', 'ambienc', 'ambient', 'ambigu', 'ambit', 'ambiti', 'ambival', 'ambootia', 'ambrosi', 'ambrosia', 'ambrosoli', 'ambul', 'amc', 'amd', 'ame', 'ameda', 'amedei', 'ameerican', 'amelior', 'amen', 'amend', 'amenorrhea', 'amer', 'amercian', 'america', 'american', 'americana', 'americano', 'americarx', 'americolor', 'amerika', 'amerimist', 'amesom', 'amethyst', 'amex', 'ami', 'amid', 'amidst', 'amigo', 'amino', 'amish', 'amiss', 'amitriptylin', 'amizon', 'amjad', 'amk', 'amla', 'ammazon', 'ammish', 'ammoni', 'ammonia', 'ammonium', 'ammount', 'amnim', 'amo', 'amoma', 'amond', 'among', 'amongst', 'amonia', 'amont', 'amoount', 'amor', 'amorph', 'amort', 'amoung', 'amoungst', 'amount', 'amour', 'amout', 'amoxicillin', 'amozon', 'amp', 'amphetamin', 'ampl', 'ampli', 'ampliament', 'amplifi', 'ampong', 'amput', 'amri', 'amrican', 'amsterdam', 'amt', 'amuck', 'amus', 'amylas', 'amz', 'amza', 'amzaon', 'amzazon', 'amzn', 'amzon', 'an', 'ana', 'anabol', 'anad', 'anadama', 'anaesthet', 'anaheim', 'anal', 'analog', 'analogu', 'analon', 'analyi', 'analys', 'analysi', 'analyt', 'analyz', 'anand', 'anaphylact', 'anaphylaxi', 'anasazi', 'anathema', 'anatomi', 'anazon', 'ancestor', 'ancestr', 'anchiot', 'ancho', 'anchor', 'anchorag', 'anchovey', 'anchovi', 'anchovit', 'ancient', 'and', 'andaluz', 'andao', 'andd', 'anderson', 'andes', 'andhalf', 'andhra', 'andi', 'andina', 'andit', 'andnew', 'andoill', 'andouill', 'andov', 'andr', 'andrea', 'andrew', 'andronico', 'andship', 'andtoo', 'ane', 'anecdot', 'anecdotelli', 'anem', 'anemia', 'anesthet', 'anf', 'anfair', 'ang', 'angebot', 'angel', 'angelfood', 'angelica', 'angelin', 'angelina', 'angelo', 'anger', 'angiosarcoma', 'angl', 'anglais', 'anglophil', 'angola', 'angolina', 'angora', 'angostura', 'angri', 'angrili', 'angst', 'anguish', 'angustifolia', 'angustura', 'anh', 'ani', 'anic', 'anihli', 'anii', 'anim', 'anion', 'anip', 'anis', 'anise', 'anisum', 'anita', 'ankl', 'anko', 'ann', 'anna', 'annalis', 'annalovesbook', 'annato', 'annatto', 'annd', 'anni', 'annihil', 'anniv', 'anniversari', 'annoit', 'announc', 'annoy', 'annual', 'annum', 'anodyn', 'anolon', 'anomali', 'anon', 'anond', 'anonym', 'anorex', 'anorexia', 'anoth', 'another', 'anough', 'answer', 'ant', 'antacid', 'antagon', 'antagonist', 'anteadot', 'anteriorment', 'anth', 'anther', 'anthesi', 'anthocyanin', 'anthon', 'anthoni', 'anti', 'antibacteri', 'antibiot', 'antibodi', 'antic', 'antica', 'anticanc', 'anticarcinogen', 'antichrist', 'anticip', 'antico', 'anticoagul', 'antidepres', 'antidot', 'antifreez', 'antifung', 'antigua', 'antihistamin', 'antihistim', 'antihypertens', 'antiioxid', 'antimicrobi', 'antioccid', 'antioch', 'antioxid', 'antioxod', 'antipasta', 'antipasti', 'antipasto', 'antipersper', 'antiperspir', 'antiqu', 'antiquarian', 'antirheumat', 'antisept', 'antispasmod', 'antitrust', 'antivir', 'antler', 'anto', 'antonio', 'antsi', 'antyh', 'anus', 'anway', 'anxieti', 'anxious', 'anya', 'anybodi', 'anyday', 'anyhoo', 'anyhow', 'anylong', 'anymon', 'anymor', 'anyon', 'anyoth', 'anyplac', 'anyrhinf', 'anyseti', 'anyth', 'anytim', 'anywar', 'anyway', 'anywer', 'anywh', 'anywher', 'anywho', 'anywhoo', 'anywhwer', 'anyy', 'anzac', 'aol', 'aorund', 'aosta', 'aouselv', 'aouthwest', 'apal', 'apalachicola', 'apar', 'apart', 'apartheid', 'apathi', 'apatit', 'apbt', 'apc', 'ape', 'apeal', 'apeas', 'aper', 'aperatif', 'aperitif', 'apet', 'apetit', 'apetito', 'apettit', 'apex', 'aphid', 'aphrodisiac', 'apiari', 'apiec', 'apigallocatechin', 'aplenti', 'aplic', 'aplli', 'aplomb', 'apnea', 'apo', 'apocalyps', 'apocarotenol', 'apol', 'apollinari', 'apollo', 'apolog', 'apologet', 'app', 'appal', 'appar', 'apparatus', 'apparen', 'appart', 'appassianato', 'appassionato', 'appeal', 'appeali', 'appear', 'appearac', 'appeas', 'appeci', 'appel', 'append', 'apper', 'appet', 'appetis', 'appetit', 'appetiti', 'appetito', 'appian', 'appit', 'appitit', 'appl', 'applaud', 'applaus', 'appleappl', 'applebe', 'applebutt', 'applecak', 'applemon', 'appleonius', 'applesauc', 'applesaus', 'applestrawberri', 'appletis', 'applewood', 'appley', 'appli', 'applianc', 'applic', 'appoint', 'appox', 'apprais', 'apprecait', 'appreci', 'apprehens', 'apprentic', 'apprenticeship', 'apprici', 'appricot', 'approach', 'appropi', 'appropri', 'appropriat', 'approv', 'approx', 'approxim', 'approximat', 'apprx', 'appx', 'apri', 'apricot', 'apricotk', 'apricotti', 'april', 'apron', 'apropo', 'aprovech', 'aprox', 'apsect', 'apso', 'apsoluten', 'apt', 'apulia', 'aqua', 'aquafina', 'aquaint', 'aqualur', 'aquarium', 'aquasana', 'aquat', 'aquir', 'ara', 'arab', 'arabia', 'arabian', 'arabica', 'arabl', 'aram', 'aranciata', 'arar', 'arbequina', 'arbi', 'arbitrari', 'arbonn', 'arbor', 'arborio', 'arbuckl', 'arbukl', 'arc', 'arcachon', 'arcan', 'arch', 'archaic', 'archer', 'archetyp', 'archi', 'archiv', 'archway', 'arctic', 'arde', 'ardent', 'arder', 'ardi', 'ardor', 'arduous', 'are', 'area', 'areagarden', 'areal', 'areat', 'arena', 'areni', 'arenotyet', 'arent', 'areogarden', 'areogrow', 'arepa', 'aresen', 'arf', 'arfitici', 'argan', 'arge', 'argentin', 'argentina', 'argentinian', 'argggggh', 'argh', 'arghh', 'arghhhhhhhhhhhhhhhhhhhhhhhhh', 'argu', 'arguabl', 'argument', 'ariana', 'ariet', 'arigato', 'aril', 'aris', 'aristocat', 'aristocraci', 'aristocrat', 'aristotl', 'arithmet', 'aritifici', 'ariv', 'arizona', 'arkansa', 'arl', 'arlington', 'arm', 'armadillo', 'armado', 'armchair', 'armenia', 'armi', 'armload', 'armoir', 'armoma', 'armour', 'armpit', 'armstrong', 'arn', 'arnold', 'arnott', 'aroma', 'aromas', 'aromat', 'aromatherapi', 'aromma', 'aromont', 'aroound', 'aros', 'arouma', 'around', 'aroundd', 'aroundl', 'arount', 'arous', 'arpound', 'arrabbiata', 'arrabiata', 'arrang', 'array', 'arrest', 'arriba', 'arriv', 'arrivedon', 'arrog', 'arroma', 'arround', 'arrow', 'arrowhead', 'arrowroot', 'arroyo', 'arroz', 'arrriv', 'arrrowhead', 'arrrrroooooooooroooooo', 'arrvi', 'ars', 'arsenal', 'arsenic', 'art', 'artagnon', 'artemi', 'artemiscompani', 'arteri', 'artesian', 'arthrit', 'arthriti', 'arthrti', 'arthur', 'artic', 'artichok', 'artici', 'articifi', 'articifici', 'articl', 'articul', 'artif', 'artifact', 'artifc', 'artifi', 'artifici', 'artisan', 'artisana', 'artisen', 'artisian', 'artisin', 'artist', 'artofappreci', 'artsi', 'artwork', 'aruba', 'arugala', 'arugula', 'arwest', 'arya', 'arzak', 'asad', 'asada', 'asain', 'asap', 'asapartam', 'asbach', 'ascend', 'ascept', 'ascerb', 'ascertain', 'ascorb', 'ascrib', 'asd', 'ase', 'asept', 'ash', 'asha', 'asham', 'ashbi', 'asher', 'ashevill', 'ashi', 'ashland', 'ashley', 'ashoka', 'ashtray', 'asia', 'asiago', 'asian', 'asianfoodgroc', 'asid', 'asin', 'asinin', 'asio', 'ask', 'aska', 'askanc', 'askew', 'aslan', 'asleep', 'aslo', 'aso', 'asoft', 'asp', 'aspagarus', 'aspalathus', 'asparaga', 'asparagus', 'aspargus', 'aspart', 'aspartam', 'aspartan', 'aspartasm', 'asparteem', 'aspartem', 'aspartm', 'aspca', 'aspect', 'aspen', 'asperg', 'aspergillus', 'aspers', 'aspertam', 'aspertan', 'asphalt', 'aspir', 'aspirin', 'aspx', 'ass', 'assam', 'assasin', 'assault', 'asschowd', 'assembl', 'assert', 'assess', 'asset', 'assi', 'assici', 'assign', 'assimil', 'assimul', 'assist', 'assn', 'associ', 'assort', 'asst', 'assuag', 'assum', 'assumpt', 'assur', 'asta', 'astartam', 'astburi', 'aster', 'asteracea', 'asthamt', 'asthma', 'asthmat', 'astonish', 'astor', 'astoria', 'astound', 'astragalus', 'astranaut', 'astray', 'astring', 'astringecni', 'astrolog', 'astromom', 'astronaut', 'astronom', 'astrup', 'astut', 'asum', 'aswel', 'atascadero', 'atca', 'ate', 'ateco', 'atern', 'athen', 'atherogenesi', 'atherosclerosi', 'athlet', 'athletic', 'atho', 'athough', 'athrax', 'ati', 'ativan', 'atk', 'atkin', 'atl', 'atlant', 'atlanta', 'atlas', 'atleast', 'atmospher', 'atom', 'aton', 'atop', 'atot', 'atound', 'atroc', 'atroci', 'atst', 'atta', 'attach', 'attack', 'attain', 'attatch', 'attempt', 'attemt', 'attend', 'attende', 'attent', 'attest', 'attibassi', 'attic', 'attiki', 'attitud', 'attorney', 'attract', 'attractic', 'attractivenesss', 'attractor', 'attrat', 'attribut', 'attun', 'atw', 'atwat', 'aubergin', 'aubrey', 'auburn', 'auction', 'audac', 'audibl', 'audienc', 'audio', 'auditor', 'audrey', 'audubon', 'auf', 'aug', 'augment', 'auguri', 'august', 'aunt', 'aunti', 'aupperl', 'aural', 'auricula', 'auroma', 'auspici', 'aussi', 'austin', 'austrailian', 'australia', 'australian', 'austria', 'austrian', 'autheic', 'authen', 'authenc', 'authent', 'authet', 'author', 'autism', 'autist', 'auto', 'autocrat', 'autodeliv', 'autodeliveri', 'autograph', 'autoimmun', 'autolyz', 'autom', 'automat', 'automatc', 'automobil', 'automot', 'autopilot', 'autopsi', 'autopuchas', 'autoship', 'autostrada', 'autosubscrib', 'autum', 'autumn', 'autunno', 'auvergn', 'aux', 'av', 'ava', 'avabil', 'avacado', 'avaerag', 'avaiabl', 'avaialbl', 'avaibl', 'avail', 'availab', 'availabal', 'availabili', 'availabilti', 'availabiltiy', 'availabl', 'availalb', 'availbl', 'availi', 'aval', 'avali', 'avalon', 'avantgard', 'avatar', 'avayl', 'ave', 'aveng', 'avenu', 'avenunu', 'aver', 'averag', 'averi', 'avers', 'avert', 'avg', 'avian', 'aviat', 'avid', 'avil', 'avila', 'avion', 'avita', 'avma', 'avocado', 'avocaodo', 'avodart', 'avoderm', 'avodern', 'avoid', 'avola', 'avurved', 'aw', 'await', 'awak', 'awaken', 'awapuhi', 'awar', 'award', 'awash', 'away', 'awe', 'aweesom', 'aweful', 'awesom', 'awful', 'awhil', 'awil', 'awkward', 'awlway', 'awn', 'awok', 'awoken', 'awsom', 'awwfuul', 'awwwful', 'awwwww', 'awwwwwwwwwwwwwwwwwesom', 'axe', 'axel', 'axelrod', 'axiom', 'axl', 'aye', 'ayhan', 'ayso', 'ayuda', 'ayurved', 'ayurveda', 'azalea', 'azar', 'azmira', 'aztec', 'azteca', 'azuki', 'azzuri', 'baa', 'baaa', 'baaaaad', 'baarrel', 'bab', 'baba', 'babagan', 'babaganoug', 'babana', 'babe', 'babi', 'babiesrus', 'babovka', 'babycak', 'babycat', 'babycook', 'babyfood', 'babysit', 'babysitt', 'babysrus', 'babystep', 'babytear', 'bac', 'bacan', 'bacardi', 'bacaus', 'bacetti', 'bach', 'bachelor', 'bachelorett', 'baci', 'bacillum', 'bacillus', 'bacio', 'back', 'backach', 'backbon', 'backcountri', 'backdrop', 'backend', 'backfir', 'background', 'backlog', 'backnot', 'backord', 'backpack', 'backroom', 'backround', 'backseat', 'backsid', 'backslid', 'backslop', 'backstag', 'backstrap', 'backup', 'backward', 'backwash', 'backwheat', 'backyard', 'baco', 'bacom', 'bacon', 'baconais', 'baconey', 'baconi', 'baconless', 'baconnais', 'baconni', 'baconsalt', 'bacopa', 'bacteri', 'bacteria', 'bacterium', 'bactin', 'bad', 'badboy', 'baddest', 'badescu', 'badger', 'badoit', 'badoodl', 'badshah', 'baffl', 'bag', 'bagain', 'bagel', 'baggag', 'bagger', 'baggett', 'baggi', 'baghdad', 'bagl', 'bagna', 'bagperson', 'bagsonboard', 'baguett', 'bah', 'bahama', 'bahlsen', 'bahlson', 'bahrain', 'bai', 'baibao', 'bail', 'bailey', 'bailout', 'bait', 'baja', 'bajar', 'bajillion', 'bake', 'bakehous', 'baker', 'bakeri', 'bakewar', 'bakewel', 'baklava', 'baklawa', 'bakoula', 'bakto', 'balanc', 'balboa', 'balck', 'balconi', 'bald', 'balducci', 'baldwin', 'bale', 'bali', 'balk', 'balkan', 'balkin', 'ball', 'baller', 'ballerina', 'ballet', 'ballgam', 'ballist', 'ballon', 'balloon', 'ballotin', 'ballpark', 'balm', 'balmi', 'baloney', 'baloni', 'balsalm', 'balsam', 'balsamica', 'balsamico', 'balsen', 'baltasar', 'balti', 'baltimor', 'bam', 'bama', 'bamba', 'bambi', 'bamboo', 'bamboozl', 'bami', 'bamilton', 'bamm', 'bammer', 'ban', 'banan', 'banana', 'bananamon', 'bananna', 'banannna', 'bancha', 'bancino', 'band', 'bandag', 'bandaid', 'bandera', 'bandini', 'bandit', 'bandwagon', 'bane', 'bang', 'banger', 'bangin', 'bangladesh', 'bangladeshi', 'bangor', 'banh', 'banish', 'banjo', 'bank', 'banker', 'bankrupt', 'bankruptci', 'banna', 'bannana', 'banner', 'bannist', 'banquet', 'banshe', 'banter', 'bar', 'barabl', 'baratza', 'barb', 'barbabdo', 'barbado', 'barbaqu', 'barbara', 'barbarian', 'barbarum', 'barbecu', 'barbequ', 'barbera', 'barberi', 'barberra', 'barbi', 'barbq', 'barbqu', 'barbra', 'barcelona', 'barchetta', 'barcod', 'bard', 'bare', 'barecu', 'barefoot', 'barel', 'barest', 'barf', 'bargain', 'bargin', 'barharbor', 'barhyt', 'bari', 'bariani', 'bariatr', 'baribob', 'barilla', 'barista', 'barium', 'bark', 'barkeep', 'barlean', 'barley', 'barleygrass', 'barlo', 'barn', 'barney', 'barni', 'barnier', 'barnum', 'barnyard', 'baromet', 'baron', 'baronet', 'barq', 'barrag', 'barrel', 'barren', 'barrett', 'barri', 'barrier', 'barrista', 'barritt', 'barrow', 'bart', 'bartel', 'bartend', 'barter', 'barth', 'bartha', 'bartlet', 'bartolini', 'bartram', 'barvarian', 'basalm', 'bascial', 'basciano', 'base', 'basebal', 'baseboard', 'basecamp', 'baseless', 'baselin', 'basement', 'basenji', 'bash', 'basher', 'bashmati', 'basi', 'basic', 'basiclli', 'basil', 'basilico', 'basilio', 'basin', 'bask', 'basket', 'basketbal', 'baskin', 'basmati', 'basqu', 'bass', 'basset', 'bassett', 'bast', 'bastami', 'bastard', 'bastogn', 'bastyr', 'bat', 'batali', 'batavia', 'batch', 'batdorf', 'bate', 'bateria', 'bath', 'bathrob', 'bathroom', 'bathtub', 'batman', 'batmanghelidj', 'baton', 'batra', 'batt', 'battenberg', 'batter', 'batteri', 'battl', 'batya', 'baubl', 'baught', 'bauli', 'bausley', 'bavaria', 'bavarian', 'bawl', 'baxi', 'baxter', 'bay', 'bayer', 'bayless', 'bayou', 'bazar', 'bazonk', 'bazooka', 'bbb', 'bbbt', 'bbk', 'bbox', 'bbq', 'bbqing', 'bbqs', 'bbs', 'bcaus', 'bcome', 'bcs', 'bcuz', 'bday', 'be', 'bea', 'beaba', 'beacaus', 'beach', 'beachsid', 'beacon', 'beacu', 'beacus', 'bead', 'beadi', 'beaf', 'beagl', 'beak', 'beaker', 'beakfast', 'beam', 'bean', 'beana', 'beand', 'beaneri', 'beaney', 'beani', 'beanier', 'beanilla', 'beano', 'beansprout', 'bear', 'bearabl', 'bearcreek', 'beard', 'beardi', 'bearen', 'bearer', 'bearito', 'bearnais', 'bearnak', 'beast', 'beasti', 'beat', 'beaten', 'beater', 'beatha', 'beati', 'beatl', 'beatlejuic', 'beau', 'beaumont', 'beauregard', 'beaus', 'beauti', 'beautician', 'beautifi', 'beautifu', 'beautiful', 'beautifuli', 'beaver', 'beaverton', 'beawar', 'beber', 'bebida', 'bebop', 'bec', 'becam', 'becar', 'becas', 'becasu', 'becau', 'becaus', 'becausew', 'bechtl', 'beckon', 'becom', 'becomenatur', 'becoz', 'becuas', 'becus', 'becuz', 'bed', 'bedbathandbeyond', 'bedlington', 'bedouin', 'bedpost', 'bedrest', 'bedridden', 'bedroom', 'bedsid', 'bedtim', 'bee', 'beeb', 'beech', 'beechnut', 'beedl', 'beeee', 'beeen', 'beef', 'beefaroni', 'beefeat', 'beefeeat', 'beefhid', 'beefi', 'beefsteak', 'beehiv', 'beehous', 'beekeep', 'beelin', 'beem', 'beemster', 'been', 'beep', 'beer', 'beerish', 'beesewax', 'beeswax', 'beet', 'beetejuic', 'beethoven', 'beetl', 'beetlejuic', 'befor', 'beford', 'beforehand', 'befuddl', 'beg', 'begain', 'began', 'beggar', 'begger', 'beggin', 'begin', 'beginn', 'begrudg', 'beguil', 'begun', 'behalf', 'behav', 'behavior', 'behaviour', 'behe', 'beheld', 'behemoth', 'behind', 'behold', 'behr', 'behring', 'bei', 'beig', 'beigel', 'beignet', 'beij', 'beirut', 'beisd', 'bekir', 'bel', 'belafont', 'belamandil', 'belay', 'belch', 'belcolad', 'beleiv', 'belfast', 'belgian', 'belgium', 'beli', 'beliav', 'belief', 'believ', 'beliv', 'beliz', 'bell', 'bella', 'bellacino', 'bellagio', 'bellavista', 'bellevill', 'belli', 'bellini', 'bellino', 'bellisimo', 'bellow', 'bellpepp', 'bellplant', 'bellyach', 'bellyflop', 'bellyrub', 'belmont', 'belong', 'belov', 'belt', 'belveder', 'bemka', 'bemus', 'ben', 'benadryl', 'bench', 'benchmark', 'bend', 'bendabl', 'bender', 'bendi', 'bendick', 'bene', 'beneath', 'benecol', 'benedict', 'benedryl', 'benefactor', 'benefib', 'benefici', 'benefit', 'benefiti', 'benefitsofgreentea', 'benevol', 'benfit', 'bengal', 'bengales', 'beni', 'benicol', 'benifit', 'benifitt', 'benight', 'benign', 'benjamin', 'benji', 'benn', 'bennett', 'benni', 'bensdorp', 'benson', 'bent', 'bentley', 'bento', 'benwick', 'benz', 'benzen', 'benzin', 'benzo', 'benzoat', 'benzodiazepin', 'benzoyl', 'beofr', 'beoynd', 'ber', 'beranbaum', 'berat', 'berber', 'berdi', 'berg', 'bergamia', 'bergamont', 'bergamot', 'bergamoti', 'berger', 'bergin', 'bergomot', 'beri', 'berio', 'berkeley', 'berkshir', 'berlin', 'bermuda', 'bern', 'bernais', 'bernard', 'bernes', 'berni', 'bernic', 'bernick', 'bernieo', 'bernstein', 'berocca', 'berr', 'berri', 'berrier', 'berrri', 'berth', 'berthaut', 'berti', 'bertoli', 'bertolli', 'berzerk', 'beserk', 'besid', 'besot', 'bessi', 'best', 'bestest', 'bestfriend', 'bestow', 'bestsel', 'bestter', 'bet', 'beta', 'betain', 'betcha', 'beteer', 'betelgeus', 'betelgues', 'beter', 'beth', 'bethlehem', 'betray', 'betsi', 'bett', 'betta', 'bettah', 'bettancourt', 'better', 'bettermad', 'bettern', 'betterpod', 'betti', 'bettlejuic', 'bettr', 'bettter', 'beucas', 'beuracrat', 'beurr', 'beuti', 'bev', 'bevarag', 'bever', 'beverag', 'beveragegourmet', 'bevereag', 'bevmo', 'bevnet', 'bew', 'bewar', 'bewley', 'bewteen', 'beyon', 'beyond', 'beyondhealth', 'beyound', 'bezo', 'bfast', 'bff', 'bfs', 'bha', 'bhaat', 'bhaji', 'bhattacharya', 'bhindi', 'bht', 'bhukara', 'bhut', 'bhutan', 'bhutanes', 'biaglut', 'bialetti', 'biali', 'bialletti', 'biallita', 'bianchi', 'biancolilla', 'biannual', 'bias', 'bib', 'bibbi', 'bibimbap', 'bibl', 'biblic', 'bibliog', 'bica', 'bicarb', 'bicarbon', 'bichon', 'bicicleta', 'bick', 'bicotti', 'bicuit', 'bicycl', 'bicyclist', 'bid', 'biegel', 'bieng', 'biermann', 'bifidobacgterium', 'bifidobacterium', 'bifidus', 'big', 'bigalow', 'bigbox', 'bigbuck', 'bigelo', 'bigelow', 'bigger', 'biggest', 'bigggg', 'biggi', 'biggun', 'bight', 'biglot', 'bigmart', 'bigot', 'bigtim', 'bih', 'biiig', 'biiter', 'biitter', 'bija', 'bike', 'bikini', 'bikram', 'bil', 'bilardo', 'bilberri', 'bile', 'bilir', 'bilish', 'biljac', 'bill', 'billabl', 'billi', 'billig', 'billington', 'billion', 'bilmiyorsan', 'biloba', 'biltmor', 'biltong', 'bimbo', 'bimpl', 'bin', 'binaca', 'bind', 'binder', 'bing', 'binghamton', 'bingo', 'bininji', 'bio', 'bioavail', 'biobag', 'biocar', 'biochem', 'biochemist', 'biochemistri', 'biocompat', 'biodegr', 'biodegrad', 'biodiesel', 'biodynam', 'bioflavinoid', 'bioflavonoid', 'biographi', 'biohazard', 'biolog', 'biomed', 'bionatur', 'bionatura', 'bioneem', 'biopack', 'biopsi', 'biota', 'bioten', 'biotin', 'bir', 'birch', 'bircher', 'bird', 'birddouga', 'birdey', 'birdfeed', 'birdi', 'birdse', 'birdsey', 'birdshot', 'birdwatch', 'birhtday', 'biriyani', 'birman', 'birmingham', 'birth', 'birthday', 'birthright', 'biryani', 'bisccotti', 'bischon', 'bisciotti', 'biscoff', 'biscoti', 'biscotti', 'biscottin', 'biscotto', 'biscuit', 'biscuiti', 'biscut', 'bishop', 'bisibelebath', 'bisli', 'bismal', 'bismol', 'bison', 'bisphenol', 'bisqu', 'bisquick', 'bisquik', 'bisquit', 'bissing', 'bisto', 'bistro', 'bisulf', 'bisulfit', 'bit', 'bitayavon', 'bitch', 'bitchi', 'bite', 'biter', 'bites', 'bitey', 'bitsnpiec', 'bitten', 'bitter', 'bitterish', 'bittern', 'bittersweet', 'bitterwseet', 'bitti', 'bittman', 'bivalvia', 'biz', 'bizarr', 'bizzi', 'bjs', 'bkh', 'bla', 'blaaaah', 'blaach', 'blaah', 'black', 'blackberi', 'blackberri', 'blackbird', 'blackcurr', 'blackeberri', 'blacken', 'blackend', 'blacker', 'blackest', 'blackey', 'blackhead', 'blackish', 'blackjack', 'blackout', 'blackstrap', 'blackwel', 'bladder', 'blade', 'blah', 'blair', 'blake', 'blam', 'blame', 'blanc', 'blanch', 'blanco', 'bland', 'blander', 'blandest', 'blandifi', 'blank', 'blanket', 'blanki', 'blare', 'blarney', 'blasphem', 'blasphemi', 'blast', 'blastin', 'blatant', 'blavatski', 'blaze', 'blazek', 'bleach', 'bleagh', 'bleah', 'bleak', 'bleakest', 'bleari', 'blecch', 'blech', 'blechh', 'blechhh', 'blechhhh', 'blechhhhh', 'bleck', 'bled', 'bleed', 'bleeeecchh', 'bleep', 'blegggh', 'blegh', 'bleh', 'blehh', 'blek', 'blemis', 'blemish', 'blend', 'blenda', 'blender', 'blenderbal', 'blenheim', 'bless', 'bleu', 'bleus', 'blew', 'bli', 'blight', 'blimp', 'blind', 'blinder', 'blindfold', 'blindsid', 'blini', 'blink', 'blinker', 'blintz', 'bliss', 'blister', 'blitz', 'blixen', 'blizzard', 'blizzardi', 'bloat', 'bloated', 'blob', 'block', 'blockag', 'blockbust', 'blocker', 'blocki', 'blog', 'blogger', 'blok', 'bloke', 'blond', 'blondi', 'blood', 'bloodhound', 'bloodi', 'bloodlust', 'bloodshot', 'bloodstream', 'bloodsugar', 'bloodtyp', 'bloodwork', 'bloom', 'bloomberg', 'bloomin', 'blooper', 'blop', 'blossom', 'blot', 'blotter', 'blow', 'blower', 'blown', 'blowout', 'blowpop', 'blox', 'blt', 'blts', 'blu', 'blubberi', 'bluberri', 'bludgeon', 'blue', 'bluebarri', 'bluebel', 'blueberri', 'bluebird', 'bluebran', 'bluegrass', 'blueish', 'bluemountain', 'blueprint', 'bluerri', 'bluetooth', 'bluff', 'bluk', 'blum', 'blump', 'blunder', 'blunt', 'blur', 'bluray', 'blurb', 'blurri', 'blush', 'blusteri', 'bluto', 'blvd', 'bma', 'bmi', 'bms', 'boar', 'board', 'boarder', 'boardwalk', 'boast', 'boat', 'boatload', 'bob', 'boba', 'bobbaaayyy', 'bobbett', 'bobbi', 'bobbl', 'bobett', 'boblici', 'bobo', 'boboli', 'bobolici', 'boccaccio', 'boccherini', 'bod', 'bodaci', 'bode', 'bodega', 'boderlin', 'bodhi', 'bodi', 'bodum', 'bodybuild', 'bodyfat', 'boehm', 'boel', 'boerwor', 'bog', 'bogdon', 'boggl', 'boght', 'bogota', 'bogus', 'boi', 'boil', 'boiler', 'boilt', 'bois', 'boister', 'bok', 'bokar', 'boken', 'bolay', 'bold', 'bolder', 'boldest', 'bole', 'boletus', 'bolillo', 'bolivia', 'bolivian', 'boliviano', 'boll', 'bollion', 'bologna', 'bolognes', 'bolognesi', 'bolsita', 'bolster', 'bolt', 'bom', 'bomb', 'bomba', 'bombard', 'bombay', 'bombdigg', 'bomber', 'bombilla', 'bombshel', 'bon', 'bona', 'bonafid', 'bonanza', 'bonbon', 'bond', 'bone', 'bonehead', 'boneless', 'boney', 'bonez', 'boni', 'bonita', 'bonito', 'bonjour', 'bonk', 'bonker', 'bonn', 'bonnat', 'bonner', 'bonnet', 'bonni', 'bonsai', 'bonus', 'bonz', 'bonzai', 'bonzoat', 'boo', 'boob', 'booda', 'booger', 'boogi', 'book', 'bookbag', 'bookbind', 'bookcas', 'booklet', 'bookshelf', 'bookshop', 'bookstor', 'boom', 'boomer', 'boomerang', 'boon', 'boondi', 'boondock', 'booni', 'boooooo', 'boorish', 'boos', 'boost', 'booster', 'boot', 'booth', 'booti', 'boought', 'booyah', 'booz', 'boozi', 'bop', 'boquet', 'borag', 'bord', 'bordeaux', 'borden', 'border', 'borderlin', 'bordom', 'bore', 'boredom', 'borer', 'bori', 'boric', 'borlotti', 'born', 'borracho', 'borrow', 'borsari', 'bosc', 'bosch', 'bosco', 'boscoli', 'boscoworld', 'bosem', 'bosnia', 'boss', 'bossi', 'bosten', 'boston', 'bot', 'botan', 'botch', 'bother', 'bothersom', 'bott', 'bottarga', 'bottl', 'bottler', 'bottlework', 'bottom', 'bottomless', 'bottomlin', 'botton', 'botul', 'boudain', 'bouganvillea', 'bough', 'bought', 'boughten', 'bougth', 'bouillabaiss', 'bouillion', 'bouillon', 'bouilon', 'boulder', 'boulevard', 'boullion', 'bounc', 'bounceback', 'bounci', 'bound', 'boundari', 'bounti', 'bouquet', 'bour', 'bourbena', 'bourbon', 'bourdain', 'bourgeoi', 'bourgeoisi', 'bourgogn', 'bournvita', 'boursin', 'bout', 'boutiqu', 'bouuqet', 'bouvier', 'bovin', 'bow', 'bowel', 'bowi', 'bowl', 'bowser', 'box', 'boxador', 'boxer', 'boxload', 'boxwood', 'boy', 'boyajian', 'boyarde', 'boyardi', 'boycot', 'boycott', 'boyd', 'boyer', 'boyfriend', 'boylan', 'boylanbottl', 'boyland', 'boylen', 'boynton', 'boysenberri', 'boyz', 'bozo', 'bpa', 'bpimp', 'bqq', 'bra', 'brace', 'bracelet', 'brach', 'bracket', 'brackish', 'brad', 'braddock', 'brade', 'bradham', 'bradle', 'brag', 'bragg', 'braggabl', 'braggzym', 'bragu', 'brah', 'braid', 'brain', 'brainer', 'brainiac', 'brainier', 'brainless', 'brainpow', 'braintoniq', 'brais', 'brake', 'brakefast', 'brambl', 'bran', 'branch', 'brand', 'brandi', 'brandnam', 'brando', 'brank', 'branston', 'brasil', 'brasilia', 'brass', 'brat', 'bratwurst', 'bratz', 'braun', 'brautworst', 'brautwurst', 'brava', 'bravado', 'brave', 'braveheart', 'braveri', 'bravissimo', 'bravo', 'brazen', 'brazier', 'brazil', 'brazilian', 'brazillian', 'brc', 'bre', 'brea', 'breach', 'breacker', 'bread', 'breadbak', 'breadboard', 'breadcrumb', 'breader', 'breadi', 'breadmachin', 'breadmak', 'breadman', 'breadmix', 'breadshop', 'breadstick', 'breadth', 'breafast', 'break', 'breakabl', 'breakag', 'breakaway', 'breakdown', 'breaker', 'breakeven', 'breakfa', 'breakfast', 'breakfat', 'breakfeast', 'breakfest', 'breaki', 'breakout', 'breakroom', 'breaksfast', 'breakston', 'breakthrough', 'breast', 'breastf', 'breastfe', 'breastfeed', 'breastmilk', 'breat', 'breatfast', 'breath', 'breathalys', 'breather', 'breathi', 'breathless', 'breathmint', 'breathsav', 'breathtak', 'breaux', 'bred', 'breed', 'breeder', 'breen', 'breez', 'breezi', 'breifcas', 'brekafast', 'brekki', 'bremner', 'bremzen', 'brenda', 'brendan', 'brengelman', 'brer', 'bresaola', 'brethren', 'breton', 'brett', 'bretzel', 'brevell', 'brevil', 'brevill', 'brew', 'brewer', 'breweri', 'brewhous', 'brewpub', 'brewt', 'breyer', 'bri', 'brian', 'brianna', 'bribe', 'briberi', 'brick', 'bricklik', 'bridal', 'bride', 'bridg', 'bridgeford', 'bridget', 'bridgework', 'brie', 'brief', 'briefcas', 'briefest', 'briefli', 'briel', 'brien', 'briesl', 'brigg', 'bright', 'brighten', 'brighter', 'brightest', 'brighton', 'brigittin', 'brigth', 'brika', 'brikka', 'brill', 'brillianc', 'brilliant', 'brillig', 'brim', 'brimley', 'brine', 'briney', 'bring', 'brini', 'brink', 'brio', 'brioch', 'briquett', 'brisk', 'brisker', 'brisket', 'brisl', 'bristl', 'bristol', 'brit', 'brita', 'britain', 'britannia', 'brite', 'british', 'britishchap', 'briton', 'britt', 'brittani', 'brittl', 'britvic', 'brix', 'brm', 'brn', 'bro', 'broad', 'broadacr', 'broadcast', 'broaden', 'broader', 'broadleaf', 'broadway', 'broc', 'broccoli', 'brochur', 'brocolli', 'brodi', 'broil', 'broiler', 'broke', 'broken', 'broker', 'bromelain', 'bromin', 'bromley', 'bronchiti', 'bronchodil', 'bronner', 'bronson', 'bronx', 'bronz', 'bronzi', 'brood', 'brook', 'brooken', 'brookfarm', 'brooklin', 'brooklyn', 'brooklynit', 'brooksid', 'broom', 'broomfield', 'broomrap', 'bros', 'broth', 'brother', 'brothi', 'brough', 'brought', 'brous', 'brow', 'brown', 'browner', 'browni', 'brownier', 'brownish', 'brownsauc', 'brownsvill', 'brows', 'browser', 'brrrrrrrrrrrrrp', 'bru', 'bruce', 'bruder', 'bruinswick', 'bruis', 'brule', 'brum', 'brummel', 'brunch', 'brunello', 'brunswick', 'brunvan', 'brunvand', 'bruscetta', 'bruschett', 'bruschetta', 'brush', 'brusher', 'brushetta', 'brushi', 'brussel', 'brut', 'brutal', 'brute', 'brutish', 'brutus', 'bryanna', 'bryant', 'brylcrem', 'bse', 'bset', 'bsm', 'bsn', 'bst', 'btach', 'btb', 'bthey', 'btm', 'btn', 'btss', 'bttle', 'bttls', 'btu', 'btv', 'btw', 'bu', 'bub', 'bubba', 'bubbi', 'bubbili', 'bubbl', 'bubblegum', 'bubblemint', 'bubl', 'buccan', 'buccatini', 'bucco', 'buch', 'buchanan', 'buck', 'bucket', 'buckey', 'buckl', 'buckmast', 'buckshot', 'buckthorn', 'buckweat', 'buckwheat', 'bucol', 'bud', 'buddah', 'buddha', 'buddi', 'buddist', 'budg', 'budget', 'budgetari', 'budgi', 'budi', 'budweis', 'bue', 'bueberri', 'buecuz', 'bueller', 'buen', 'buena', 'bueno', 'bufalo', 'buff', 'buffalo', 'buffer', 'buffet', 'buffi', 'buford', 'bug', 'bugaboo', 'buger', 'buget', 'bugger', 'buggi', 'bugl', 'bugout', 'bugsi', 'buick', 'build', 'builder', 'buildup', 'buillion', 'built', 'buis', 'buiscuit', 'buiscut', 'bukara', 'bukhail', 'bulb', 'bulbi', 'bulbous', 'bulcki', 'buldg', 'bulg', 'bulgar', 'bulgaria', 'bulgarian', 'bulghar', 'bulghur', 'bulgogi', 'bulgur', 'bulk', 'bulki', 'bulkier', 'bull', 'bulldog', 'bullet', 'bulli', 'bullion', 'bullmastiff', 'bullsburg', 'bullsey', 'bult', 'bum', 'bumbl', 'bumblebar', 'bumblebe', 'bummer', 'bump', 'bumper', 'bumpi', 'bun', 'bunch', 'bunco', 'bundl', 'bundt', 'buni', 'bunk', 'bunn', 'bunni', 'bunt', 'bunus', 'buon', 'buonissimo', 'buono', 'buoy', 'buoyanc', 'buoyant', 'bup', 'bur', 'burb', 'burbank', 'burden', 'burdensom', 'burdock', 'bureau', 'bureaucraci', 'bureaucrat', 'burg', 'burger', 'burggraf', 'burgh', 'burghul', 'burgundi', 'buri', 'burial', 'buritto', 'burlap', 'burlingham', 'burlington', 'burma', 'burmes', 'burmil', 'burn', 'burner', 'burnett', 'burnout', 'burnt', 'burough', 'burp', 'burr', 'burrel', 'burri', 'burrito', 'burrough', 'burrow', 'burst', 'burt', 'burton', 'burtonesqu', 'bus', 'busch', 'buscuit', 'buse', 'bush', 'busha', 'bushel', 'bushi', 'bushier', 'bushmen', 'busi', 'busier', 'busiest', 'businesslik', 'buss', 'bussetto', 'bussi', 'bussian', 'bust', 'bustello', 'bustelo', 'buster', 'busybodi', 'butaman', 'butcher', 'bute', 'buti', 'butif', 'butler', 'butt', 'butta', 'butter', 'buttercream', 'buttercup', 'butterfat', 'butterfield', 'butterfing', 'butterfli', 'butteri', 'butterkas', 'butterkek', 'butterless', 'buttermilk', 'buttermint', 'butternut', 'butterscotch', 'butterscotchey', 'butterscoth', 'butterworth', 'butti', 'buttinski', 'buttload', 'buttock', 'button', 'buttonless', 'buttonwood', 'buttress', 'buttteri', 'butttom', 'butyl', 'buussel', 'buuuut', 'bux', 'buy', 'buyer', 'buyin', 'buyit', 'buyt', 'buyth', 'buywel', 'buzz', 'buzzag', 'buzzer', 'buzzi', 'buzzworthi', 'buzzzz', 'bvi', 'by', 'bye', 'byeby', 'byfiend', 'bygon', 'byob', 'bypass', 'byproduct', 'byrd', 'byron', 'bystand', 'byt', 'byte', 'byu', 'byzantin', 'bzz', 'bzzcampaign', 'caarnauba', 'cab', 'cabag', 'cabal', 'cabalos', 'cabanon', 'cabaret', 'cabbag', 'cabella', 'cabernet', 'cabin', 'cabinet', 'cabl', 'cabnet', 'cabo', 'cacao', 'cacaol', 'cacciator', 'cach', 'cachet', 'cachou', 'cacium', 'cackl', 'cacoa', 'cacol', 'cactus', 'cada', 'cadburi', 'caddi', 'cadet', 'cadi', 'cadillac', 'cadiz', 'cae', 'caesar', 'caeser', 'caf', 'cafe', 'cafechroma', 'cafeein', 'cafein', 'cafejo', 'cafeteria', 'caff', 'caffe', 'caffeen', 'caffeic', 'caffein', 'caffeinn', 'caffeint', 'caffen', 'caffetteria', 'caffettier', 'caffien', 'caffin', 'caffinate', 'caffrey', 'cafix', 'cage', 'cahil', 'cahterin', 'caight', 'caiman', 'cain', 'caipirinha', 'cairn', 'cairo', 'cajeta', 'cajol', 'cajum', 'cajun', 'cake', 'cakehol', 'cakeless', 'cakelik', 'cakest', 'cakey', 'cal', 'calabria', 'calabrian', 'calabro', 'calai', 'calalog', 'calamari', 'calari', 'calbe', 'calcif', 'calcifi', 'calcium', 'calcul', 'calculus', 'calcutta', 'caldwel', 'cale', 'caleb', 'caledonian', 'calendar', 'calendula', 'caleri', 'calf', 'calgon', 'cali', 'calib', 'calibr', 'calicium', 'calico', 'calidad', 'calient', 'calif', 'california', 'californian', 'calimari', 'calimyrna', 'calisparra', 'call', 'calla', 'callard', 'callebaut', 'caller', 'calli', 'callinbg', 'callori', 'calm', 'calmer', 'calnat', 'calor', 'calori', 'caloriecount', 'caloriesand', 'calorif', 'calorit', 'calphalon', 'caltran', 'calumet', 'calypso', 'calzon', 'cam', 'camano', 'camargu', 'cambel', 'cambl', 'cambodia', 'cambodian', 'cambridg', 'camcord', 'came', 'camel', 'camelia', 'camellia', 'camembert', 'cameo', 'camera', 'cameron', 'camill', 'cammomil', 'camoflag', 'camomil', 'camouflag', 'camp', 'campaign', 'campania', 'campari', 'campbel', 'camper', 'campfir', 'campi', 'campofrio', 'campsit', 'campus', 'can', 'canaan', 'canada', 'canadi', 'canadian', 'canal', 'canap', 'canard', 'canarino', 'canario', 'canberri', 'canceal', 'cancel', 'cancer', 'cancun', 'candelabra', 'candi', 'candian', 'candid', 'candida', 'candiew', 'candifi', 'candl', 'candlefish', 'candlelight', 'candybar', 'candycan', 'candycr', 'candyish', 'candymachin', 'cane', 'canecola', 'canellini', 'canfield', 'cani', 'canida', 'canin', 'canina', 'canineurbanprincess', 'canist', 'canker', 'cankl', 'cann', 'cannellini', 'canneloni', 'canner', 'canneri', 'cannibalist', 'canning', 'cannist', 'cannnot', 'cannoli', 'cannon', 'cannot', 'cano', 'canola', 'cansancio', 'cansi', 'cant', 'cantaloup', 'canteen', 'canterburi', 'canton', 'cantones', 'canuba', 'canva', 'canvass', 'canyon', 'canz', 'caoh', 'caolori', 'caori', 'caould', 'cap', 'capabl', 'capac', 'capacchino', 'cape', 'capeech', 'capelin', 'capelini', 'capellini', 'caper', 'caperberri', 'capilari', 'capit', 'capita', 'capitalist', 'capitol', 'capn', 'caponata', 'capot', 'capp', 'cappaccino', 'cappachino', 'cappacino', 'cappucccino', 'cappuccinahol', 'cappuccinno', 'cappuccino', 'cappuccio', 'cappuccion', 'cappuchino', 'cappucinno', 'cappucino', 'cappuuccino', 'capres', 'capresso', 'capri', 'capsaicin', 'capsicum', 'capsul', 'capt', 'captain', 'captiv', 'captur', 'capuccino', 'car', 'caraf', 'caram', 'caramba', 'caramel', 'carameley', 'carameli', 'caramelli', 'caramello', 'caramilk', 'caramoo', 'caranavi', 'carandini', 'caranel', 'carapelli', 'caravan', 'caraway', 'carb', 'carba', 'carbawhey', 'carbbean', 'carber', 'carbi', 'carbin', 'carbnada', 'carbo', 'carboard', 'carbohydr', 'carbolit', 'carbon', 'carbona', 'carbonara', 'carboten', 'carboxymethylcellulos', 'carboy', 'carbquik', 'carbrit', 'carbsmart', 'carcass', 'carcenogen', 'carcinogen', 'card', 'cardammon', 'cardamom', 'cardamon', 'cardboard', 'cardboardi', 'cardena', 'cardiac', 'cardimom', 'cardin', 'cardini', 'cardio', 'cardioelectrophysicist', 'cardiolog', 'cardiologist', 'cardiomyopathi', 'cardiovascular', 'cardo', 'cardona', 'cardwel', 'care', 'career', 'careful', 'caregiv', 'careless', 'caress', 'caretak', 'carezza', 'cargo', 'cari', 'caribbean', 'caribou', 'caricatur', 'carl', 'carlo', 'carlsbad', 'carlson', 'carlton', 'carmel', 'carmelina', 'carmello', 'carn', 'carnag', 'carnaroli', 'carnat', 'carnauba', 'carnegi', 'carnita', 'carnitin', 'carniv', 'carniver', 'carnivor', 'carnosa', 'carnuba', 'caro', 'carob', 'carol', 'carolin', 'carolina', 'carolyn', 'caron', 'caroten', 'carotenoid', 'carousel', 'carpent', 'carpet', 'carpool', 'carr', 'carrabba', 'carracastl', 'carrageenan', 'carri', 'carribbean', 'carribean', 'carribou', 'carrier', 'carrol', 'carrot', 'carroti', 'carrrot', 'carryit', 'carryon', 'carryout', 'carseat', 'carsick', 'cart', 'carter', 'cartilag', 'cartileg', 'carton', 'cartoon', 'cartooni', 'cartoonish', 'cartoonnetwork', 'cartridg', 'carv', 'carver', 'caryy', 'cas', 'casa', 'casarol', 'casbah', 'cascad', 'cascadia', 'cascadian', 'case', 'casei', 'casein', 'casera', 'caserol', 'casework', 'casey', 'cash', 'cashew', 'cashier', 'cashmer', 'casi', 'casien', 'casina', 'casino', 'cask', 'casper', 'casr', 'cassandra', 'cassarol', 'casserol', 'cassett', 'cassi', 'cassia', 'cassiopia', 'cassorol', 'cassoulet', 'cast', 'castagn', 'castanza', 'castellana', 'castelvetro', 'caster', 'castl', 'castor', 'casual', 'casualti', 'casul', 'cat', 'catacholamin', 'catacomb', 'catagori', 'catalina', 'catalog', 'catalogu', 'catalyst', 'catalyz', 'cataract', 'catastophr', 'cataton', 'catbox', 'catch', 'catcher', 'catchi', 'catchphras', 'catechin', 'catechu', 'categor', 'categori', 'cater', 'caterpillar', 'catfish', 'catfood', 'catharin', 'cathart', 'cathechin', 'cathedr', 'cather', 'catherin', 'cathet', 'catimor', 'catit', 'catkin', 'catnap', 'catnip', 'cator', 'catrri', 'catsup', 'catsur', 'catswel', 'catteri', 'cattl', 'cattledog', 'cauda', 'caught', 'cauldron', 'cauliflow', 'caus', 'causion', 'cauter', 'caution', 'cautionari', 'cautious', 'cav', 'cavachon', 'cavali', 'cavan', 'cavand', 'cavapoo', 'cavatappi', 'cavatelli', 'cave', 'caveat', 'caveman', 'cavend', 'cavendar', 'cavendish', 'cavett', 'caviar', 'cavier', 'cavili', 'caviti', 'cawfe', 'cay', 'cayann', 'cayen', 'cayenn', 'caykur', 'cayman', 'caymen', 'cayot', 'cba', 'cbc', 'cbd', 'cbk', 'cbs', 'ccc', 'ccd', 'ccof', 'ccr', 'cdc', 'cds', 'ceafalu', 'ceamer', 'cearal', 'cearel', 'ceas', 'ceasar', 'ceaser', 'cecco', 'cecil', 'cedar', 'cedarberg', 'ceddar', 'cederberg', 'cederburg', 'cedrinca', 'cee', 'ceiac', 'ceil', 'ceili', 'celantro', 'celb', 'celcius', 'celeb', 'celebr', 'celephan', 'celerac', 'celeri', 'celest', 'celesti', 'celiac', 'celibr', 'cell', 'cella', 'cellar', 'celleri', 'cello', 'cellophan', 'cellphon', 'cellular', 'cellulas', 'cellulit', 'cellulos', 'celluls', 'celophan', 'celray', 'celsesti', 'celsius', 'celstial', 'celtic', 'cement', 'cemeteri', 'cemor', 'censorship', 'cent', 'centaurea', 'centenarian', 'centenni', 'center', 'centercut', 'centerpiec', 'centimet', 'centiped', 'cento', 'centr', 'central', 'centrifug', 'centrist', 'centuri', 'ceo', 'cer', 'cerael', 'cerain', 'ceral', 'ceram', 'ceratin', 'cereal', 'cerebr', 'ceredit', 'cerelac', 'ceremoni', 'cerer', 'cerevesia', 'cerevisia', 'cerial', 'cerona', 'cerro', 'cert', 'certain', 'certainlyn', 'certaint', 'certainti', 'certan', 'certfi', 'certif', 'certifi', 'certo', 'cervic', 'cesar', 'ceski', 'cest', 'cet', 'cetain', 'cetera', 'ceylon', 'ceylones', 'cfh', 'cfia', 'cfid', 'cfl', 'cfls', 'cfn', 'cfound', 'cfs', 'cgb', 'cgi', 'cgm', 'cha', 'chabli', 'chacher', 'chachero', 'chaco', 'chacol', 'chado', 'chaf', 'chafe', 'chaff', 'chage', 'chagrin', 'chai', 'chaim', 'chain', 'chainsmok', 'chair', 'chairman', 'chait', 'chajang', 'chakki', 'chakra', 'chaleng', 'chalk', 'chalkboard', 'chalki', 'challah', 'challang', 'challeneg', 'challeng', 'chalupa', 'cham', 'chamaordd', 'chamba', 'chamber', 'chamberlain', 'chambl', 'chambord', 'chammer', 'chammomil', 'chamomeill', 'chamomil', 'chamomill', 'chamomilla', 'chamonix', 'champ', 'champagn', 'champaign', 'champang', 'champangn', 'champayn', 'champignon', 'champion', 'championship', 'chana', 'chanag', 'chanakara', 'chanakra', 'chanc', 'chane', 'chanel', 'chang', 'changemak', 'changeov', 'changhai', 'changin', 'chankara', 'channel', 'chant', 'chantal', 'chantrell', 'chanukah', 'chao', 'chaokoh', 'chaotic', 'chap', 'chapati', 'chapel', 'chaplain', 'chappel', 'chappell', 'chappi', 'chappli', 'chapstick', 'chapter', 'chaptiz', 'char', 'charact', 'character', 'characterist', 'characterless', 'charactertist', 'charactor', 'charaku', 'charater', 'charbuck', 'charcoal', 'chard', 'chardani', 'chardonnay', 'chare', 'charg', 'charger', 'chargril', 'chari', 'charismat', 'charit', 'chariti', 'charl', 'charlatan', 'charle', 'charlemagn', 'charleston', 'charley', 'charli', 'charliebear', 'charlott', 'charlottesvill', 'charlton', 'charm', 'chart', 'charter', 'chartreus', 'chase', 'chasen', 'chaser', 'chashaku', 'chastis', 'chat', 'chatchi', 'chateau', 'chateaus', 'chatfield', 'chatham', 'chatswood', 'chattanooga', 'chatter', 'chatti', 'chaud', 'chauffeur', 'chautauqua', 'chawan', 'chawin', 'chaze', 'chazuk', 'chcken', 'chcolat', 'chcoloc', 'chd', 'che', 'cheap', 'cheapen', 'cheaper', 'cheapest', 'cheapi', 'cheapist', 'cheapli', 'cheapo', 'cheapskat', 'cheat', 'cheater', 'cheatham', 'chebe', 'chech', 'check', 'checken', 'checker', 'checkout', 'checkpoint', 'checkup', 'chedar', 'cheddar', 'cheddari', 'chedder', 'chee', 'cheecha', 'cheedar', 'cheees', 'cheek', 'cheeki', 'cheep', 'cheeper', 'cheepest', 'cheer', 'cheeri', 'cheerio', 'chees', 'cheesebal', 'cheeseburg', 'cheesecak', 'cheesecloth', 'cheesecrisp', 'cheeseless', 'cheeselik', 'cheesestick', 'cheesewhiz', 'cheesey', 'cheesh', 'cheesi', 'cheesier', 'cheesiest', 'cheessi', 'cheetah', 'cheeto', 'cheetoh', 'cheez', 'cheezi', 'cheezit', 'chef', 'chefmast', 'chefsbest', 'chefshop', 'chefstop', 'cheifli', 'chelat', 'chelsea', 'chemcial', 'chemex', 'chemic', 'chemical', 'chemicel', 'chemici', 'chemist', 'chemistri', 'chemo', 'chemotherapi', 'chen', 'cheney', 'cher', 'chereo', 'cheri', 'cherio', 'cherish', 'cherri', 'cherrybrook', 'cherrybrrok', 'cherryish', 'cherrylik', 'cherryz', 'chervil', 'cheryl', 'ches', 'chese', 'cheshir', 'chesnut', 'chess', 'chessi', 'chessmen', 'chest', 'chester', 'chestlin', 'chestnut', 'chet', 'chevi', 'chevr', 'chew', 'chewabl', 'cheweez', 'chewer', 'chewey', 'chewi', 'chewier', 'chewish', 'chewtoy', 'chewy', 'chewz', 'chex', 'cheyenn', 'cheyney', 'chez', 'chf', 'chi', 'chia', 'chiabatta', 'chiang', 'chianti', 'chiap', 'chiara', 'chiavetta', 'chic', 'chicago', 'chicagoland', 'chicaronn', 'chice', 'chicekn', 'chicen', 'chicharron', 'chichen', 'chichihua', 'chick', 'chickem', 'chicken', 'chickeni', 'chicki', 'chicklet', 'chickn', 'chickori', 'chickpea', 'chiclet', 'chico', 'chicori', 'chidlhood', 'chidlren', 'chidren', 'chief', 'chiefli', 'chien', 'chiffon', 'chigger', 'chih', 'chihuahhua', 'chihuahua', 'chik', 'chikcen', 'chiken', 'chilaquil', 'child', 'childcar', 'childen', 'childhood', 'childish', 'children', 'chile', 'chilean', 'chilehead', 'chilhood', 'chili', 'chilichees', 'chilihead', 'chill', 'chilledfor', 'chilli', 'chilpot', 'chimay', 'chimayo', 'chimbot', 'chime', 'chimney', 'chimpanze', 'chin', 'china', 'chinamart', 'chinata', 'chinatown', 'chinchilla', 'chincoteagu', 'chindren', 'chine', 'chineas', 'chines', 'chinnotto', 'chino', 'chinotto', 'chinsei', 'chio', 'chioc', 'chiou', 'chip', 'chipahol', 'chiplet', 'chiplotl', 'chipmunk', 'chipolt', 'chipoltl', 'chipotl', 'chipotley', 'chipper', 'chiriqui', 'chiristma', 'chiropract', 'chiropractor', 'chirstma', 'chis', 'chisel', 'chitarra', 'chitl', 'chitosan', 'chiu', 'chiuaua', 'chive', 'chivi', 'chiweeni', 'chix', 'chloe', 'chlorela', 'chlorella', 'chloresterol', 'chlorhexidin', 'chlorid', 'chlorin', 'chlorophyl', 'chlosterol', 'choatic', 'chobani', 'choc', 'choca', 'chocahol', 'chocal', 'chocalot', 'chocalt', 'chocaluah', 'chocat', 'chochol', 'chocil', 'chock', 'chockablock', 'chocki', 'choclat', 'choclatey', 'choclit', 'chocloat', 'choclolati', 'choco', 'chocoalt', 'chocoat', 'chocobanana', 'chococino', 'chocohal', 'chocohol', 'chocoholic', 'chocol', 'chocola', 'chocolahol', 'chocolat', 'chocolateri', 'chocolatey', 'chocolati', 'chocolatt', 'chocolet', 'chocolhol', 'chocolit', 'chocolo', 'chocolot', 'chocolov', 'choconut', 'chocoperfect', 'choctow', 'chocula', 'choffi', 'choic', 'choicest', 'choir', 'chok', 'choke', 'chokeabl', 'chokecherri', 'choker', 'cholat', 'cholburi', 'cholcat', 'cholcol', 'chole', 'cholera', 'cholersterol', 'cholester', 'cholesterol', 'cholestor', 'cholestorol', 'cholestrol', 'choley', 'cholin', 'choloc', 'cholol', 'cholrid', 'cholula', 'chometz', 'chomp', 'chomper', 'chond', 'chondroitin', 'chondrotin', 'choo', 'chooos', 'choos', 'choosen', 'chooser', 'choosey', 'choosi', 'chop', 'chope', 'chopin', 'choplet', 'chopper', 'chopstick', 'chopstickful', 'chord', 'chore', 'chorizo', 'chortl', 'chorus', 'chose', 'chosen', 'chosey', 'chouquett', 'choux', 'chow', 'choward', 'chowder', 'chowdown', 'chower', 'chowhound', 'chowin', 'choy', 'choyung', 'chozapin', 'chp', 'chrees', 'chreez', 'chris', 'christ', 'christel', 'christen', 'christi', 'christian', 'christin', 'christma', 'christmas', 'christmasi', 'christmastim', 'christstollen', 'chromatographi', 'chromium', 'chron', 'chrondroitin', 'chronic', 'chronicl', 'chruch', 'chrysanthemum', 'chrysina', 'chrysler', 'chrystal', 'chuao', 'chub', 'chubbi', 'chuck', 'chucki', 'chuckl', 'chucnk', 'chug', 'chugg', 'chuildren', 'chukar', 'chum', 'chummi', 'chump', 'chun', 'chunchi', 'chunck', 'chuncki', 'chunk', 'chunkc', 'chunki', 'chunkier', 'chup', 'chupa', 'church', 'churchil', 'churn', 'churro', 'chute', 'chutney', 'chx', 'cia', 'ciabatta', 'ciaccio', 'ciald', 'ciao', 'cib', 'cicada', 'cicero', 'cichor', 'cichorium', 'cidar', 'cider', 'cideri', 'cielo', 'cifa', 'cig', 'cigar', 'cigarett', 'cilantro', 'cilatro', 'ciliac', 'cinamin', 'cinammon', 'cinamom', 'cinamon', 'cinamonni', 'cinanaman', 'cinch', 'cinci', 'cincinnati', 'cinco', 'cindi', 'cinema', 'cinematographi', 'cininnati', 'cinn', 'cinnabon', 'cinnaman', 'cinnamin', 'cinnammon', 'cinnamom', 'cinnamomi', 'cinnamon', 'cinnamoni', 'cinnibon', 'cinnimon', 'cinnnamon', 'cinnomi', 'cioccolattino', 'cip', 'cipriani', 'cipro', 'circl', 'circuit', 'circul', 'circular', 'circulatori', 'circumfer', 'circumfr', 'circumspect', 'circumst', 'circumv', 'circus', 'cirrhosi', 'cirtus', 'cis', 'citadell', 'citarella', 'cite', 'citi', 'citizen', 'citrat', 'citratus', 'citri', 'citric', 'citrisi', 'citron', 'citrus', 'citrusi', 'citrusmint', 'citymad', 'ciudad', 'civet', 'civil', 'civilian', 'ckae', 'ckd', 'cla', 'clad', 'claim', 'claimant', 'claimit', 'clairemont', 'clam', 'clamm', 'clammi', 'clamor', 'clamp', 'clan', 'clandestin', 'clang', 'clank', 'claori', 'clap', 'clapson', 'clapton', 'claremont', 'clarenc', 'clarif', 'clarifi', 'clariti', 'clark', 'clash', 'clasico', 'clasp', 'class', 'classi', 'classic', 'classick', 'classico', 'classier', 'classiest', 'classif', 'classifi', 'classiqu', 'classmat', 'classroom', 'claud', 'claus', 'claussen', 'claw', 'clawdett', 'claxton', 'clay', 'claymat', 'clc', 'cld', 'cleali', 'clean', 'cleaner', 'cleaness', 'cleanest', 'cleanli', 'cleans', 'cleanser', 'cleanup', 'clear', 'clearanc', 'clearbrook', 'clearer', 'clearfield', 'clearisil', 'clearjel', 'clearsil', 'cleaver', 'cleft', 'cleiac', 'clement', 'clementin', 'clemetin', 'clemintin', 'clemmi', 'clemntin', 'clen', 'clench', 'clenni', 'clens', 'cleo', 'clerk', 'cleveland', 'clever', 'cliam', 'clich', 'click', 'clicker', 'clicki', 'clickin', 'client', 'clientel', 'clif', 'cliff', 'cliffbar', 'clifton', 'climat', 'climax', 'climb', 'clin', 'clincher', 'cling', 'clinic', 'clink', 'clint', 'clinton', 'clip', 'clipper', 'cliqu', 'clobber', 'clock', 'clockwork', 'clocol', 'clod', 'clog', 'cloggin', 'clomicalm', 'clomplain', 'clone', 'clor', 'clorestyrol', 'cloret', 'clorox', 'close', 'closeabl', 'closebi', 'closeout', 'closer', 'closest', 'closet', 'closeup', 'closur', 'clot', 'cloth', 'clothespin', 'cloud', 'cloudberri', 'cloudi', 'cloudier', 'cloudstar', 'cloudy', 'clove', 'clover', 'cloverdal', 'clovey', 'clown', 'cloy', 'cloying', 'clsoe', 'clu', 'club', 'clubhous', 'clue', 'clueless', 'cluizel', 'clumb', 'clump', 'clumpi', 'clumsi', 'clung', 'clunker', 'clunki', 'clus', 'cluster', 'clutch', 'clutter', 'clyde', 'cmas', 'cmon', 'cna', 'cni', 'cnn', 'coach', 'coaco', 'coagul', 'coal', 'coalesc', 'coampni', 'coars', 'coarsen', 'coarser', 'coarsest', 'coarsli', 'coast', 'coastal', 'coaster', 'coastlin', 'coat', 'coax', 'cob', 'cobalt', 'cobbl', 'cobbler', 'cobbleston', 'cobolt', 'cobwebbi', 'coca', 'cocain', 'cocamidopropyl', 'cocao', 'cocayerb', 'cocco', 'coccoa', 'cochocha', 'cochon', 'cocido', 'cocina', 'cock', 'cockapoo', 'cockatiel', 'cockel', 'cocker', 'cockerpoo', 'cockerspaniel', 'cocki', 'cockl', 'cockroach', 'cocktail', 'cocnut', 'coco', 'cocoa', 'cocoanut', 'cocoay', 'cococt', 'cococunt', 'cocol', 'cocomot', 'coconat', 'coconu', 'coconut', 'coconutoil', 'coconutti', 'coconutwat', 'cocoon', 'cocount', 'cocunut', 'cod', 'code', 'codepend', 'codeword', 'coerc', 'coexist', 'cof', 'cofdfe', 'cofe', 'coff', 'coffe', 'coffee', 'coffeeahol', 'coffeeam', 'coffeebean', 'coffeecak', 'coffeecow', 'coffeecup', 'coffeegeek', 'coffeegi', 'coffeehol', 'coffeehous', 'coffeem', 'coffeemak', 'coffeepod', 'coffeepot', 'coffeeshop', 'coffeeteam', 'coffein', 'coffemak', 'coffer', 'coffess', 'cofff', 'cofffe', 'coffi', 'coffin', 'cogent', 'cognac', 'cohabit', 'cohen', 'coher', 'cohes', 'coil', 'coin', 'coinag', 'coincid', 'coincident', 'coinsid', 'cointreau', 'coke', 'cokehead', 'coki', 'cokki', 'cola', 'colabor', 'colada', 'coland', 'colaps', 'colata', 'colavita', 'colbert', 'colbi', 'cold', 'colder', 'coldest', 'coldpak', 'coldpress', 'coldston', 'cole', 'coleman', 'colemen', 'coleslaw', 'colester', 'colesterol', 'coleus', 'colgat', 'colgin', 'colic', 'colick', 'colicki', 'colin', 'coliti', 'colivata', 'coll', 'collabor', 'colland', 'collaps', 'collar', 'collard', 'collater', 'colleagu', 'collect', 'collector', 'colleen', 'colleg', 'collegu', 'colli', 'collid', 'colliervill', 'collin', 'colloid', 'colloqui', 'collos', 'collus', 'colman', 'colmbian', 'colo', 'cologn', 'colombia', 'colombian', 'colombo', 'colon', 'colonel', 'coloni', 'colonoscopi', 'colonscopi', 'color', 'colorado', 'colori', 'colorless', 'coloss', 'colour', 'coltran', 'columbia', 'columbian', 'columbus', 'columela', 'columibia', 'column', 'com', 'coma', 'comandd', 'comapani', 'comapar', 'comarison', 'comarisson', 'comatos', 'comb', 'combat', 'combin', 'combo', 'combon', 'combust', 'comcntrat', 'come', 'comeback', 'comed', 'comedi', 'comedian', 'coment', 'comentario', 'comer', 'comerci', 'comest', 'comet', 'cometh', 'comeupp', 'comfi', 'comfort', 'comfus', 'comic', 'comida', 'comimg', 'comin', 'comingl', 'comit', 'comlet', 'comm', 'command', 'commando', 'commannd', 'commemor', 'commenc', 'commend', 'commensor', 'comment', 'commentari', 'commentor', 'commer', 'commerc', 'commerci', 'commet', 'commetn', 'commis', 'commiss', 'commissari', 'commission', 'commit', 'committ', 'committe', 'commmonwealth', 'commod', 'commodit', 'commom', 'common', 'commonwealth', 'communal', 'communic', 'communion', 'communism', 'communiti', 'commut', 'como', 'comp', 'compact', 'compadr', 'compain', 'compair', 'compani', 'companion', 'companionship', 'compar', 'compard', 'compari', 'comparis', 'comparison', 'comparit', 'comparson', 'compart', 'compass', 'compat', 'compel', 'compelet', 'compens', 'compensatori', 'compet', 'competet', 'competit', 'competitor', 'compil', 'complac', 'complain', 'complaint', 'complani', 'complant', 'comple', 'compleat', 'complement', 'complementari', 'complet', 'completey', 'completr', 'complex', 'complexion', 'complexli', 'compli', 'compliant', 'complic', 'complicit', 'compliment', 'complimentari', 'complimentri', 'complt', 'compnay', 'compnent', 'compon', 'compos', 'composit', 'compost', 'compot', 'compound', 'compr', 'comprabl', 'comprar', 'comprehend', 'comprehens', 'compress', 'comprimis', 'compris', 'comprison', 'compromis', 'compuls', 'compulsori', 'comput', 'computor', 'comstock', 'comsum', 'comsumpt', 'comt', 'comtain', 'comtinu', 'comut', 'comvita', 'con', 'conagra', 'conatin', 'concav', 'conceal', 'conced', 'conceiv', 'concenr', 'concensus', 'concent', 'concentr', 'concept', 'conceptu', 'concer', 'conceren', 'concerend', 'concern', 'concert', 'concerto', 'concess', 'concetr', 'conch', 'conchigli', 'conchita', 'concid', 'concider', 'concienc', 'concientr', 'conciliatori', 'concious', 'concis', 'conclud', 'conclus', 'concockt', 'concoct', 'concomit', 'concord', 'concot', 'concret', 'concur', 'concurr', 'condadina', 'condement', 'condemn', 'condens', 'condensor', 'condescend', 'condidion', 'condidt', 'condiiton', 'condiment', 'condimento', 'condit', 'condition', 'conditon', 'condo', 'condor', 'condroitin', 'condtion', 'conduc', 'conduct', 'cone', 'conentr', 'conesiur', 'conesseiur', 'coney', 'confect', 'confection', 'confectionari', 'confectioneri', 'confer', 'confess', 'confetti', 'confid', 'confidenti', 'configur', 'confin', 'confirm', 'confisc', 'confit', 'conflict', 'conform', 'confort', 'confound', 'confront', 'confus', 'confusci', 'conge', 'congeal', 'congenit', 'congest', 'conglomer', 'congo', 'congou', 'congradul', 'congrat', 'congratualt', 'congratul', 'congreg', 'congress', 'conic', 'coniseur', 'conisseur', 'conist', 'conitnu', 'conjou', 'conjunct', 'conjur', 'conlus', 'connaisseur', 'connamon', 'connect', 'connecticut', 'connector', 'connelli', 'conner', 'conneseiur', 'connesieur', 'connesiur', 'connesseur', 'conniseur', 'connoiseur', 'connoisseur', 'connor', 'connoseur', 'connosieur', 'connot', 'conntribut', 'conoisseur', 'cononut', 'conossui', 'conquer', 'conquest', 'conquistador', 'conscienc', 'conscienti', 'conscious', 'consecr', 'consecut', 'consensus', 'consequ', 'consequect', 'conserv', 'conserva', 'conservation', 'consid', 'consider', 'considerationt', 'consious', 'consis', 'consist', 'consistanc', 'consistani', 'consisten', 'consisteni', 'consistennci', 'consistentci', 'consit', 'consitiut', 'consol', 'consolid', 'consomm', 'consortium', 'conspicu', 'conspir', 'conspiraci', 'constanc', 'constant', 'constap', 'constern', 'constip', 'constitu', 'constitut', 'constraint', 'constrict', 'constru', 'construct', 'consult', 'consum', 'consumeraffair', 'consumersearch', 'consumm', 'consumpt', 'cont', 'contact', 'contadina', 'contagi', 'contain', 'containd', 'containt', 'contamin', 'contan', 'contanin', 'contant', 'contast', 'contech', 'contempl', 'contemporari', 'contempt', 'contend', 'content', 'contenti', 'contesa', 'contessa', 'contest', 'context', 'contian', 'contienen', 'contigu', 'contin', 'continent', 'conting', 'contini', 'continu', 'continuesli', 'continuosli', 'continut', 'contiu', 'contort', 'contortionist', 'contra', 'contraband', 'contracept', 'contract', 'contractor', 'contradict', 'contradictori', 'contraind', 'contrapt', 'contrari', 'contrast', 'contreau', 'contribut', 'contributor', 'contrit', 'contriv', 'control', 'controversi', 'convect', 'convein', 'conveinc', 'conveini', 'conven', 'convenc', 'conveni', 'convenientand', 'convent', 'conventi', 'convenyen', 'converg', 'convers', 'convert', 'convey', 'conveyor', 'convict', 'convien', 'convienc', 'convienec', 'convienet', 'convieni', 'convient', 'convin', 'convinc', 'convini', 'convo', 'conway', 'coo', 'coob', 'cooconut', 'cook', 'cookag', 'cookbook', 'cookei', 'cooker', 'cookeri', 'cooki', 'cookiehol', 'cookier', 'cookig', 'cookin', 'cookli', 'cookoff', 'cookout', 'cookpot', 'cookwar', 'cool', 'coolant', 'coolbrew', 'cooler', 'coolest', 'cooli', 'coolwhip', 'coomb', 'coomplex', 'coon', 'coonhound', 'coooki', 'coop', 'cooper', 'coopersmith', 'coor', 'coordin', 'coot', 'cop', 'copani', 'copco', 'cope', 'copenhagen', 'copi', 'copious', 'copntinu', 'copolym', 'copper', 'coppola', 'copycat', 'copyright', 'copywrit', 'coquett', 'cor', 'coral', 'corbin', 'corcord', 'cord', 'cordboard', 'cordial', 'cordless', 'cordon', 'core', 'corect', 'coreleon', 'corer', 'corey', 'corgi', 'coriand', 'corita', 'cork', 'corkey', 'corkscrew', 'corm', 'cormac', 'cormick', 'cormoro', 'corn', 'cornbr', 'cornbread', 'corncak', 'corndog', 'corner', 'cornerston', 'cornfield', 'cornflak', 'cornflour', 'cornflow', 'cornhusk', 'corni', 'corningwar', 'cornish', 'cornmeal', 'cornnut', 'cornpuff', 'cornrow', 'cornsilk', 'cornstarch', 'cornstart', 'cornucopia', 'cornut', 'cornzapoppin', 'corolina', 'coromega', 'corona', 'coronado', 'coronari', 'corp', 'corpor', 'corprat', 'corps', 'corral', 'correct', 'correl', 'correspond', 'corriand', 'corridor', 'corro', 'corrod', 'corrug', 'corrupt', 'corsair', 'cort', 'corta', 'cortes', 'cortison', 'cortizon', 'corton', 'cos', 'cosbi', 'cosco', 'cosequin', 'cosequinn', 'cosi', 'cosist', 'cosmet', 'cosmic', 'cosmo', 'cosmopolitan', 'cosmos', 'cost', 'costa', 'costarican', 'costco', 'costena', 'costlier', 'costliest', 'costo', 'costom', 'costplus', 'costum', 'cot', 'cote', 'cotija', 'coton', 'cotswold', 'cotta', 'cottag', 'cotto', 'cotton', 'cottonse', 'cottontail', 'couch', 'coucous', 'coudl', 'coudn', 'cougar', 'cough', 'coughdrop', 'coujld', 'coul', 'could', 'couldm', 'couldnot', 'couldnt', 'couli', 'couln', 'coulnd', 'coumadin', 'coumarin', 'council', 'counselor', 'count', 'counten', 'counter', 'counteract', 'counterattack', 'counterbal', 'counterbalanc', 'counterfeit', 'counterintuit', 'counterpart', 'counterpoint', 'countertop', 'counti', 'countless', 'countri', 'countrysid', 'countrywild', 'coup', 'coupl', 'coupla', 'coupno', 'coupon', 'couqu', 'cour', 'courag', 'courant', 'courier', 'courios', 'courmet', 'cours', 'courser', 'court', 'courteous', 'courtesi', 'cous', 'couscous', 'cousin', 'cousinpaco', 'cousous', 'cousr', 'cousum', 'couton', 'couvertur', 'couvillion', 'cove', 'coveni', 'cover', 'coverag', 'covert', 'covet', 'covor', 'cow', 'cowabunga', 'coward', 'cowboy', 'cowel', 'cower', 'cowgirl', 'cowork', 'cowpi', 'cowtail', 'cox', 'coyl', 'coyli', 'coyot', 'coz', 'cozi', 'cpap', 'cpr', 'cps', 'crab', 'crabappl', 'crabber', 'crabbi', 'crabcak', 'crabfish', 'crabmeat', 'crabtre', 'crack', 'cracker', 'crackerm', 'crackerthin', 'crackertilla', 'crackhead', 'crackl', 'cracklin', 'crackln', 'cradl', 'craft', 'crafti', 'craftsmanship', 'craggi', 'craig', 'craigslist', 'craisin', 'craisn', 'crake', 'craker', 'craklin', 'cram', 'crami', 'cramp', 'cran', 'cranappl', 'cranberi', 'cranberri', 'crane', 'cranium', 'crank', 'cranki', 'cranraisin', 'crantang', 'crap', 'crapacola', 'crape', 'crapemyrtl', 'crapi', 'crapitalist', 'crapm', 'crappi', 'crappiest', 'crappifi', 'craptacular', 'crash', 'crasin', 'crate', 'crater', 'crave', 'craveabl', 'craven', 'craver', 'cravin', 'crawfish', 'crawford', 'crawl', 'crawler', 'crawli', 'crawlspac', 'crayon', 'craze', 'crazi', 'crdboard', 'creacker', 'creaki', 'creal', 'cream', 'creama', 'creamchees', 'creamer', 'creameri', 'creamett', 'creami', 'creamier', 'creamiest', 'creamora', 'creampuff', 'creamsicl', 'creamy', 'creas', 'creat', 'creatin', 'creatinin', 'creation', 'creativ', 'creator', 'creatur', 'creb', 'cred', 'credenc', 'credenti', 'credenza', 'credibl', 'credit', 'creed', 'creek', 'creep', 'creeper', 'creepi', 'crefu', 'crem', 'crema', 'cremat', 'creme', 'cremier', 'cremoso', 'creol', 'creosot', 'crepe', 'crescent', 'cress', 'crest', 'crete', 'cretin', 'creusut', 'crevic', 'crew', 'crewi', 'crewmen', 'crf', 'cri', 'crib', 'cricket', 'crime', 'crimin', 'crimini', 'crimp', 'crimson', 'crinckl', 'cring', 'crink', 'crinkl', 'criollo', 'crip', 'crippl', 'cripsi', 'cris', 'crisco', 'crisi', 'crisp', 'crispbread', 'crisper', 'crispex', 'crispi', 'crispier', 'crispiest', 'crispix', 'crispli', 'crispy', 'cristma', 'criteria', 'criterion', 'critic', 'criticis', 'critiqu', 'critiz', 'critter', 'crix', 'crnberri', 'croak', 'croatia', 'crochet', 'crock', 'crocker', 'crockeri', 'crocket', 'crockpot', 'crocodil', 'crofter', 'crohn', 'croil', 'croisandwich', 'croisant', 'croissant', 'croix', 'cronat', 'crook', 'crooker', 'crop', 'croquett', 'cross', 'crossfit', 'crossley', 'crosswis', 'crostini', 'crotcheti', 'crountri', 'croustad', 'crouton', 'crow', 'crowd', 'crowley', 'crown', 'crowner', 'croûton', 'crspi', 'cru', 'cruch', 'cruchi', 'crucial', 'crud', 'cruddi', 'crude', 'crudit', 'cruel', 'cruelti', 'cruet', 'cruis', 'cruisin', 'cruller', 'crum', 'crumb', 'crumbi', 'crumbl', 'crumbli', 'crumblier', 'crummi', 'crumpet', 'crumpl', 'crunch', 'crunchabl', 'crunchci', 'cruncher', 'crunchi', 'crunchier', 'crunchiest', 'crunchin', 'crunchmast', 'crunci', 'crunh', 'crunshi', 'crusad', 'crush', 'crust', 'crustacean', 'crusti', 'crutch', 'cruton', 'cruz', 'cruzan', 'crybabi', 'cryin', 'cryopack', 'cryovac', 'crys', 'crystal', 'crystalin', 'crystalis', 'crystallin', 'crystallit', 'csabai', 'csc', 'csi', 'csirk', 'csn', 'csr', 'cstli', 'ctc', 'cuaght', 'cuando', 'cub', 'cuba', 'cuban', 'cubanell', 'cubano', 'cubbard', 'cubbi', 'cube', 'cubic', 'cubicl', 'cubist', 'cubita', 'cucamonga', 'cucazza', 'cucina', 'cuckoo', 'cucumb', 'cud', 'cudd', 'cuddl', 'cudo', 'cue', 'cuervo', 'cugino', 'cuilan', 'cuisan', 'cuisin', 'cuisinart', 'cuke', 'culinari', 'culinarili', 'culinarytea', 'cull', 'cullinari', 'culmin', 'culpabl', 'culprit', 'cult', 'cultiv', 'cultur', 'culturell', 'culutur', 'culver', 'cumbersom', 'cumbreson', 'cumin', 'cumino', 'cumul', 'cuo', 'cup', 'cupboard', 'cupborad', 'cupcak', 'cuppa', 'cupper', 'cur', 'curat', 'curb', 'curbsid', 'curch', 'curd', 'curdl', 'cure', 'curio', 'curios', 'curious', 'curl', 'curler', 'curli', 'curmudgeon', 'curos', 'currant', 'currenc', 'current', 'curri', 'curriculum', 'currii', 'currri', 'curs', 'curser', 'cursor', 'cursori', 'curt', 'curtail', 'curtain', 'curteous', 'curtiss', 'curv', 'curvebal', 'curvi', 'cus', 'cush', 'cushion', 'cusin', 'cusinart', 'cusp', 'cuss', 'custard', 'custodian', 'custom', 'customari', 'customr', 'cut', 'cute', 'cuter', 'cutesi', 'cutest', 'cuticl', 'cutleri', 'cutlet', 'cutom', 'cutout', 'cutter', 'cutthroat', 'cuttlefish', 'cuz', 'cverpow', 'cvs', 'cvtutu', 'cxomment', 'cya', 'cyanid', 'cyanocobalamin', 'cyanus', 'cyar', 'cycl', 'cyclic', 'cyclist', 'cycyl', 'cyle', 'cylind', 'cylindr', 'cylon', 'cylonian', 'cymbopogen', 'cynar', 'cynic', 'cynthia', 'cypress', 'cypriot', 'cyprus', 'cyst', 'cystal', 'cystiti', 'cytomax', 'cytosport', 'cytoxan', 'czar', 'czarina', 'czech', 'daal', 'daave', 'daaz', 'dab', 'dabbl', 'dabl', 'dachshund', 'dachsund', 'dachund', 'dacshaund', 'dad', 'daddi', 'daddio', 'daewoo', 'daffi', 'dafuer', 'dag', 'daggum', 'dagoba', 'dagu', 'dah', 'dahh', 'dahl', 'dai', 'daifuku', 'daikon', 'daili', 'dainti', 'daintili', 'daiquiri', 'dairi', 'dairyfre', 'daisi', 'daisyma', 'dakota', 'dal', 'dale', 'dalfour', 'dali', 'dalic', 'dalla', 'dallianc', 'dallmayr', 'dallop', 'dalmat', 'dalmatian', 'dalpouri', 'dam', 'damag', 'damask', 'damger', 'damiana', 'dammag', 'damn', 'damp', 'dampen', 'damper', 'damrei', 'damsel', 'damson', 'dan', 'dana', 'danact', 'danc', 'dancer', 'dancin', 'dandelion', 'dander', 'dandi', 'dandilion', 'dandruff', 'dandyblend', 'dane', 'daneman', 'danes', 'danesi', 'dang', 'danger', 'dangl', 'daniel', 'daniell', 'danim', 'danish', 'daniti', 'danni', 'dannon', 'dappa', 'dappl', 'darbi', 'dare', 'daresay', 'darifre', 'darje', 'darjeel', 'darjeerl', 'dark', 'darken', 'darker', 'darkest', 'darkish', 'darl', 'darlin', 'darljeel', 'darn', 'darrel', 'dart', 'darwish', 'das', 'dasani', 'daschund', 'dash', 'dashboard', 'dasher', 'dashi', 'dass', 'dassant', 'dat', 'data', 'databas', 'date', 'datsun', 'dauaghter', 'daub', 'daubentonia', 'daugher', 'daughert', 'daught', 'daughter', 'daugter', 'daugther', 'daunt', 'dauschand', 'dauschund', 'dautgher', 'dav', 'dave', 'davenport', 'davi', 'david', 'davidson', 'davinci', 'daviola', 'davisdon', 'davison', 'daviti', 'dawg', 'dawn', 'day', 'daybreak', 'daycar', 'dayglow', 'daylight', 'daylili', 'daytim', 'dayton', 'daytona', 'dayumm', 'daz', 'daze', 'dazzl', 'dbl', 'dbshot', 'dcide', 'dds', 'dduckbokki', 'dea', 'dead', 'deaden', 'deadest', 'deadlin', 'deaf', 'deafen', 'deafi', 'deal', 'dealbreak', 'dealer', 'dealership', 'dealt', 'dean', 'deang', 'dear', 'dearborn', 'dearest', 'death', 'deb', 'debacl', 'debat', 'debbi', 'debi', 'debili', 'debilit', 'debit', 'debitt', 'debol', 'debon', 'deborah', 'debra', 'debri', 'debt', 'debug', 'debunk', 'debussi', 'debut', 'dec', 'deca', 'decad', 'decaf', 'decafein', 'decaff', 'decaffein', 'decaffeinato', 'decaffeint', 'decaffen', 'decaffenait', 'decaffeni', 'decaffenin', 'decaffien', 'decaffin', 'decafin', 'decal', 'decalf', 'decant', 'decapit', 'decat', 'decathalon', 'decatur', 'decay', 'deceas', 'dececco', 'deced', 'deceid', 'deceit', 'deceiv', 'decemb', 'decenc', 'decend', 'decent', 'decept', 'decern', 'deci', 'decid', 'deciev', 'decim', 'deciph', 'decis', 'deck', 'decker', 'declan', 'declar', 'declaw', 'declici', 'declin', 'deco', 'decocain', 'decoct', 'decompos', 'decongest', 'decor', 'decort', 'decreas', 'decrem', 'decrib', 'dedic', 'deduc', 'deduct', 'dee', 'deed', 'deeeeeelici', 'deeeelici', 'deeelish', 'deeevil', 'deelici', 'deelop', 'deem', 'deen', 'deep', 'deepen', 'deeper', 'deepest', 'deepli', 'deer', 'deermeat', 'deet', 'deetz', 'deez', 'def', 'defan', 'defat', 'default', 'defeat', 'defect', 'defenalti', 'defenc', 'defend', 'defenet', 'defenit', 'defens', 'defenseless', 'defer', 'deffent', 'deffin', 'deffinat', 'deffinet', 'deffo', 'defi', 'defiant', 'defibril', 'defici', 'deficit', 'defin', 'definali', 'definat', 'definatl', 'definatley', 'definet', 'defini', 'definiat', 'definiit', 'definint', 'defininti', 'definit', 'definitaley', 'definitali', 'definiteley', 'definitent', 'definitey', 'definitley', 'defint', 'defitnet', 'deflat', 'defnit', 'deforest', 'deform', 'defrag', 'defraudado', 'defray', 'defrost', 'defunct', 'deg', 'degass', 'degen', 'degener', 'degerm', 'degest', 'deglaz', 'degrad', 'degre', 'degreef', 'deh', 'dehidr', 'dehydr', 'dei', 'deic', 'deign', 'deiti', 'deitz', 'deja', 'dek', 'dekuyp', 'del', 'delallo', 'delawar', 'delawarian', 'delay', 'delcious', 'deleat', 'deleci', 'delect', 'delectabal', 'deleiv', 'deleiveri', 'delet', 'deleteri', 'deleveri', 'delfa', 'delhi', 'deli', 'delia', 'deliber', 'delic', 'delicaci', 'delicasi', 'delicat', 'delicatessan', 'delicatessen', 'delici', 'delicia', 'delicii', 'delicio', 'deliciosa', 'delicioso', 'deliciosossssss', 'deliciou', 'delicioua', 'delicious', 'deliciouuuuuuus', 'delicisi', 'deliciuo', 'delicius', 'delico', 'delicoius', 'delicousi', 'delicsi', 'delicu', 'delieious', 'deliev', 'delievi', 'deligh', 'delight', 'delightfuli', 'deligt', 'deliic', 'deliious', 'delious', 'delirium', 'delisci', 'delisciouso', 'delish', 'deliss', 'delist', 'delit', 'deliv', 'deliver', 'deliverd', 'deliveri', 'delivr', 'delivri', 'delizioso', 'dell', 'delmonico', 'delmont', 'deloba', 'delonghi', 'deloui', 'delspensa', 'delta', 'deluca', 'delud', 'delug', 'delus', 'delut', 'delux', 'delv', 'dem', 'dema', 'demand', 'demeain', 'demean', 'demeanor', 'demens', 'dement', 'demerara', 'demerrara', 'demi', 'demiglac', 'deminish', 'demis', 'demo', 'demodex', 'demolish', 'demon', 'demonstr', 'demor', 'demot', 'den', 'denatur', 'deni', 'denial', 'denigr', 'denist', 'denmark', 'denna', 'denneri', 'denni', 'denomin', 'denot', 'denounc', 'dens', 'denser', 'densiti', 'dent', 'denta', 'dentabit', 'dental', 'dentashield', 'dentastix', 'dentin', 'dentist', 'dentistri', 'dentrific', 'dentro', 'dentur', 'dentyn', 'denud', 'denver', 'deodor', 'deordor', 'deosn', 'deover', 'depart', 'departur', 'depech', 'depend', 'depict', 'depleat', 'deplet', 'deploy', 'deposit', 'depot', 'deprav', 'depress', 'depriv', 'dept', 'depth', 'der', 'derail', 'derang', 'derbi', 'deregul', 'deriv', 'dermat', 'dermatologist', 'derog', 'dervish', 'des', 'desagre', 'desalin', 'desappear', 'desast', 'desastr', 'desc', 'descal', 'descend', 'descent', 'descib', 'descov', 'describ', 'descrimin', 'descript', 'descripton', 'descriptor', 'descropt', 'descrption', 'desear', 'deseas', 'desert', 'desertless', 'deserv', 'deshed', 'desi', 'desic', 'desicc', 'desieas', 'design', 'desintegrad', 'desir', 'desist', 'desk', 'desktop', 'desolv', 'despair', 'despar', 'despens', 'desper', 'despic', 'despis', 'despit', 'desprit', 'desrcript', 'dess', 'dessaux', 'dessert', 'desserti', 'dessic', 'destest', 'destin', 'destinc', 'destinct', 'destini', 'destroop', 'destroy', 'destruct', 'detach', 'detail', 'detain', 'detect', 'detector', 'deter', 'deterg', 'deterior', 'determin', 'deterori', 'deterr', 'detest', 'dethaw', 'detour', 'detox', 'detoxif', 'detoxifi', 'detra', 'detract', 'detractor', 'detriment', 'detritus', 'detroit', 'detz', 'deutch', 'deutchland', 'deutschland', 'devast', 'devastast', 'devein', 'develop', 'development', 'devest', 'deviat', 'devic', 'devid', 'devil', 'devilish', 'devin', 'devinci', 'devis', 'devit', 'devita', 'deviti', 'devliv', 'devliveri', 'devnot', 'devoid', 'devolv', 'devon', 'devonsh', 'devoon', 'devor', 'devot', 'devote', 'devour', 'devout', 'dew', 'dewi', 'deworm', 'dexter', 'dextrin', 'dextros', 'dfa', 'dfferent', 'dfw', 'dha', 'dhabi', 'dharana', 'dhave', 'dhl', 'dia', 'diabet', 'diabeti', 'diabeticfriend', 'diabetisweet', 'diablo', 'diabolo', 'diacet', 'diacetyl', 'diagnois', 'diagnos', 'diagnosd', 'diagnosi', 'diagnost', 'diagon', 'diagram', 'diaheria', 'diaherra', 'diahhera', 'diahhrea', 'diahorrea', 'diahrhea', 'dial', 'dialog', 'dialogu', 'dialysi', 'diamet', 'diamon', 'diamond', 'dian', 'diana', 'diann', 'dianos', 'diaper', 'diaphoret', 'diaphragm', 'diaphram', 'diappoint', 'diarhea', 'diarheaa', 'diarhia', 'diarhrea', 'diari', 'diarrea', 'diarreah', 'diarreha', 'diarrhea', 'diarria', 'diastol', 'diatet', 'diatrib', 'dib', 'dibet', 'dibilit', 'dic', 'dicalcium', 'dice', 'dicen', 'dicern', 'dick', 'dickason', 'dicken', 'dickensian', 'dickinson', 'dicontinu', 'dictat', 'dictionari', 'dictu', 'didi', 'didin', 'didnot', 'didnt', 'die', 'dieatari', 'diebet', 'diection', 'diedrich', 'diego', 'diehard', 'dier', 'dieria', 'diesel', 'dieser', 'diet', 'dietari', 'dieter', 'dietet', 'dietician', 'dietit', 'dietitian', 'dietrich', 'difer', 'diff', 'diffeent', 'diffen', 'diffenc', 'diffent', 'differ', 'differec', 'differenti', 'differernc', 'differet', 'differetn', 'differnc', 'differnet', 'differnt', 'differr', 'difffer', 'difficlut', 'difficult', 'difficulti', 'difficut', 'diffid', 'diffinit', 'diffreanc', 'diffrent', 'diffrer', 'diffucult', 'diffuculti', 'diffult', 'diffus', 'dificult', 'difinit', 'difus', 'dig', 'digest', 'digestif', 'digestivo', 'digger', 'diggest', 'diggiti', 'digit', 'diglycerid', 'dignifi', 'digniti', 'digress', 'digust', 'diharrea', 'dihydriodid', 'dijon', 'dil', 'dilamh', 'dilat', 'dilemma', 'dilettant', 'dilig', 'dilight', 'diliv', 'dill', 'dillettant', 'dilllut', 'dillut', 'dilmah', 'dilut', 'dilutant', 'dim', 'dimah', 'dimbula', 'dime', 'dimens', 'dimension', 'dimestor', 'dimethylpyrimidinol', 'dimi', 'diminish', 'dimins', 'diminut', 'dimish', 'dimm', 'dimmer', 'dimmest', 'dimmi', 'din', 'dine', 'diner', 'dinesen', 'ding', 'dingi', 'dingo', 'dink', 'dinki', 'dinner', 'dinnertim', 'dino', 'dinosaur', 'dinti', 'dinubabear', 'dioica', 'diorama', 'dioxan', 'dioxid', 'dip', 'dipe', 'diplom', 'diplomat', 'dipp', 'dipper', 'dippi', 'dippin', 'dippingthem', 'diptheria', 'dirction', 'dire', 'direclti', 'direct', 'directley', 'directlli', 'director', 'dirnk', 'dirt', 'dirti', 'dirty', 'dis', 'disabl', 'disadvantag', 'disagr', 'disagre', 'disapear', 'disapiont', 'disapoint', 'disapp', 'disappear', 'disappera', 'disappint', 'disappoin', 'disappoint', 'disappont', 'disapppoint', 'disapprov', 'disarm', 'disassembl', 'disast', 'disastr', 'disatisfact', 'disatisfi', 'disbelief', 'disbeliev', 'disc', 'discard', 'discern', 'discharg', 'disciplin', 'disclaim', 'disclos', 'disclosur', 'disco', 'discolor', 'discolr', 'discomfort', 'disconcert', 'disconnect', 'discontinu', 'discontinut', 'discontiun', 'discontnu', 'discord', 'discordia', 'discordian', 'discound', 'discount', 'discountinu', 'discourag', 'discov', 'discoverd', 'discoveri', 'discreet', 'discrep', 'discret', 'discrib', 'discrimin', 'discriminatori', 'discript', 'discuss', 'discust', 'disdain', 'diseas', 'disect', 'disembowl', 'disench', 'disengeni', 'disentegr', 'disform', 'disgrac', 'disgruntl', 'disguis', 'disguist', 'disgus', 'disgust', 'dish', 'dishearten', 'disher', 'dishonest', 'dishwar', 'dishwash', 'dishwat', 'disillus', 'disinclin', 'disinegr', 'disinfect', 'disingen', 'disingenu', 'disintegr', 'disinterest', 'disintigr', 'disk', 'dislik', 'disllik', 'disloc', 'dislodg', 'dismal', 'dismay', 'dismemb', 'dismiss', 'disney', 'disneyland', 'disneyworld', 'disodium', 'disolv', 'disontinu', 'disord', 'disorgan', 'dispar', 'dispatch', 'dispel', 'dispens', 'dispensari', 'dispers', 'disphoria', 'dispirito', 'dispit', 'displac', 'display', 'displaysia', 'displeas', 'displeasur', 'displi', 'dispos', 'disposit', 'disppear', 'disppoint', 'disproport', 'disproportion', 'disprov', 'dispurs', 'disput', 'disquis', 'disquish', 'disregard', 'disrespect', 'disrupt', 'disruptor', 'diss', 'dissap', 'dissapear', 'dissapiont', 'dissapoin', 'dissapoint', 'dissappear', 'dissappoint', 'dissatisfact', 'dissatisfi', 'dissect', 'dissembl', 'dissent', 'disservic', 'dissip', 'dissol', 'dissolut', 'dissolv', 'dissov', 'disspoint', 'disstributor', 'dissuad', 'dist', 'distain', 'distanc', 'distancia', 'distant', 'distast', 'distend', 'distibut', 'distict', 'distil', 'distilleri', 'distinct', 'distinguish', 'distinquish', 'distint', 'distinto', 'distort', 'distract', 'distraught', 'distress', 'distribut', 'distributor', 'district', 'distroy', 'distrubtor', 'distruct', 'distrust', 'disturb', 'disulfit', 'ditalia', 'ditalini', 'ditch', 'ditto', 'ditzi', 'diuret', 'diva', 'dive', 'diverg', 'divers', 'diversifi', 'divert', 'diverticul', 'diverticulosi', 'divid', 'dividend', 'divin', 'divina', 'divis', 'divorc', 'divulg', 'divvi', 'dixi', 'diy', 'dizzi', 'djarum', 'dli', 'dlim', 'dls', 'dlution', 'dmdm', 'dna', 'doa', 'doabl', 'dobbi', 'dobe', 'dobergirl', 'doberman', 'dobi', 'doc', 'doce', 'docil', 'dock', 'docksid', 'doctor', 'document', 'documentari', 'dodg', 'dodger', 'dodgi', 'dodo', 'doe', 'doen', 'doent', 'doesent', 'doesnot', 'doesnt', 'doest', 'dof', 'dog', 'doge', 'dogfood', 'dogfoodanalysi', 'dogfoodproject', 'doggi', 'doggon', 'dogi', 'doglov', 'dogma', 'dogsitt', 'dogswel', 'dogswellwould', 'dogu', 'dogwood', 'doh', 'doili', 'doin', 'doinki', 'dolbi', 'dolc', 'dolcetto', 'doldrum', 'dole', 'doll', 'dollar', 'dollat', 'dollop', 'dollor', 'dollup', 'dolma', 'dolmath', 'dolomit', 'dolop', 'dolor', 'dolphin', 'dolt', 'dom', 'domain', 'domata', 'domatcha', 'dome', 'domest', 'domin', 'domingo', 'dominican', 'dominick', 'dominion', 'dominizion', 'domperidon', 'donahu', 'donald', 'donat', 'doncha', 'donckel', 'done', 'doneski', 'dong', 'donkey', 'donna', 'donnelli', 'donner', 'donor', 'donot', 'donr', 'dont', 'donu', 'donut', 'donuti', 'donvier', 'donwright', 'doo', 'doodi', 'doodl', 'doogi', 'doom', 'doomsday', 'doon', 'door', 'doorbel', 'doornail', 'doorstep', 'doorstop', 'doorway', 'dooti', 'doozi', 'dop', 'dopamin', 'dopey', 'dora', 'dorado', 'dori', 'dorita', 'dorito', 'dork', 'dorki', 'dorm', 'dormant', 'dormitori', 'dorota', 'dorothi', 'dorset', 'dorthi', 'dorway', 'dos', 'dosa', 'dosag', 'dosai', 'dose', 'doseag', 'dosen', 'dosent', 'dosh', 'dosn', 'dosom', 'dot', 'dotn', 'doubl', 'doublem', 'doublemint', 'doubleshot', 'doubletre', 'doubli', 'doubt', 'doubtless', 'doug', 'dougal', 'dough', 'doughi', 'doughnut', 'dougla', 'dougnut', 'doula', 'dous', 'douv', 'douw', 'dove', 'dow', 'dowag', 'dowl', 'down', 'downer', 'downfal', 'downgrad', 'downhil', 'download', 'downplay', 'downright', 'downsid', 'downsiz', 'downstair', 'downtim', 'downtown', 'downtrodden', 'downward', 'dowsid', 'doxi', 'doyl', 'doz', 'doze', 'dozen', 'drab', 'draco', 'drag', 'drage', 'draggi', 'dragon', 'dragonfruit', 'dragonwel', 'drain', 'drainag', 'drainer', 'drakar', 'drake', 'dram', 'drama', 'dramat', 'drambui', 'dramimin', 'drank', 'drape', 'drastic', 'draught', 'dravi', 'draw', 'drawback', 'drawer', 'drawn', 'drawstr', 'drbass', 'drbronner', 'dread', 'dream', 'dreambar', 'dreamfield', 'dreami', 'dreamland', 'dreamsicl', 'drean', 'dreari', 'dreck', 'dredg', 'dreena', 'dreg', 'drei', 'drek', 'dremel', 'dremmel', 'drempt', 'drench', 'drese', 'dress', 'dresser', 'dressingnow', 'drew', 'drewfus', 'dri', 'dribbl', 'drier', 'driest', 'drift', 'drike', 'drill', 'drine', 'dring', 'drink', 'drinkabl', 'drinken', 'drinker', 'drinkin', 'drinkn', 'drinknig', 'drinkwel', 'drip', 'dripless', 'dripol', 'dripper', 'drippi', 'drive', 'driven', 'driver', 'driveway', 'drizzl', 'drk', 'drliveri', 'drm', 'drmcdougal', 'droewor', 'drollop', 'drone', 'drool', 'drooler', 'drooli', 'droolin', 'droop', 'droopi', 'drop', 'drope', 'dropkick', 'droplet', 'dropoff', 'dropper', 'drost', 'drought', 'drousi', 'drove', 'drown', 'drowsi', 'drs', 'drug', 'drugstor', 'drum', 'drumstick', 'drunch', 'drunk', 'drunken', 'drunkin', 'druri', 'druther', 'drybyma', 'dryer', 'dryest', 'dryish', 'dryness', 'drys', 'drysdal', 'dsc', 'dsh', 'dsps', 'duaghter', 'dual', 'dualli', 'duan', 'dub', 'dubai', 'dubba', 'dubbel', 'dubbl', 'dubious', 'dublin', 'ducal', 'duck', 'ducki', 'duckl', 'duct', 'dud', 'dude', 'due', 'duet', 'duff', 'dug', 'dugar', 'dughter', 'dugout', 'duh', 'duke', 'duki', 'dulc', 'dulch', 'duli', 'dull', 'duller', 'dullish', 'duls', 'dum', 'duma', 'dumb', 'dumbbel', 'dumbel', 'dummi', 'dumond', 'dump', 'dumpl', 'dumplin', 'dumpling', 'dumpong', 'dumpster', 'dunaliella', 'duncan', 'dunde', 'dune', 'dung', 'dunk', 'dunkabl', 'dunkel', 'dunker', 'dunkin', 'dunno', 'duo', 'duoden', 'duomo', 'dupe', 'duper', 'duplex', 'duplic', 'duplo', 'dupt', 'dur', 'durabl', 'durango', 'durant', 'durat', 'durban', 'duress', 'durham', 'durhum', 'durke', 'durn', 'durum', 'dusk', 'dusl', 'dust', 'dustbin', 'duster', 'dusti', 'dustpan', 'dutch', 'dutchman', 'duti', 'dutour', 'dutto', 'duyvel', 'dvd', 'dvds', 'dvm', 'dvp', 'dwarf', 'dwayn', 'dwell', 'dweller', 'dwindl', 'dwipa', 'dxed', 'dy', 'dye', 'dyglercid', 'dylan', 'dynam', 'dynamit', 'dynamo', 'dynasti', 'dyno', 'dysfunct', 'dyslipidemia', 'dysphasia', 'dysplasia', 'dysplsia', 'ea', 'eachoth', 'eager', 'eageri', 'eagl', 'eah', 'eaili', 'eaiser', 'eals', 'eanjoy', 'ear', 'earbud', 'eari', 'earl', 'earli', 'earlier', 'earliest', 'earliey', 'earlyshield', 'earn', 'earnest', 'earpiec', 'earshot', 'earth', 'earthfar', 'earthi', 'earthier', 'earthmat', 'earthquak', 'earthworm', 'earwig', 'eas', 'easer', 'easey', 'easi', 'easier', 'easiest', 'easili', 'easir', 'easiy', 'easli', 'easliy', 'eason', 'eassi', 'east', 'easter', 'eastern', 'eastwood', 'easyac', 'easygo', 'easymac', 'eat', 'eatabl', 'eatbal', 'eaten', 'eater', 'eateri', 'eath', 'eather', 'eatin', 'eatten', 'eau', 'ebay', 'ebb', 'eben', 'ebenso', 'ebert', 'ebough', 'ec', 'ecc', 'eccentr', 'ecclect', 'ecel', 'ecgc', 'echelon', 'echenacia', 'echinacea', 'echir', 'echo', 'ecit', 'ecj', 'eckart', 'eclair', 'eclect', 'eclips', 'eco', 'ecog', 'ecoli', 'ecolog', 'ecommend', 'econ', 'econimc', 'econom', 'economi', 'economici', 'ecopad', 'ecopod', 'ecosystem', 'ecpeci', 'ecstaci', 'ecstasi', 'ecstat', 'ect', 'ecuador', 'ecxel', 'eczema', 'eda', 'edamam', 'eddi', 'edemeni', 'eden', 'edensoy', 'edg', 'edgi', 'edgier', 'edi', 'edibl', 'ediet', 'edif', 'edinburgh', 'edit', 'editor', 'edmond', 'edmund', 'edo', 'edta', 'edtv', 'educ', 'eduli', 'edward', 'eed', 'eek', 'eel', 'eensi', 'eeri', 'eet', 'eew', 'eewwwww', 'eeyew', 'ef', 'efa', 'efagold', 'efe', 'efect', 'efendi', 'effac', 'effect', 'effectic', 'effectiv', 'effervesc', 'effet', 'effic', 'efficaci', 'effici', 'efficianato', 'effort', 'effortless', 'effus', 'efinit', 'efooddepot', 'eg', 'egad', 'egbert', 'egbertt', 'egcg', 'egg', 'eggcel', 'eggcream', 'eggi', 'eggland', 'egglant', 'eggless', 'eggnog', 'eggnogg', 'eggo', 'eggplant', 'eggrol', 'eggsalad', 'eggwhit', 'ego', 'egonom', 'egotist', 'egplant', 'egregi', 'egypt', 'egyptian', 'ehanc', 'ehem', 'ehhh', 'ehr', 'eiermann', 'eiffel', 'eiffeltow', 'eight', 'eighteen', 'eighth', 'eighti', 'eigth', 'eigthi', 'eileen', 'eilimin', 'einstein', 'einz', 'eith', 'either', 'eitzeh', 'eject', 'ejercicio', 'eke', 'ekt', 'elabor', 'elaichi', 'elain', 'elaina', 'elana', 'elanaspantri', 'elaps', 'elast', 'elastis', 'elat', 'elbow', 'elder', 'elderberri', 'elderflow', 'elderi', 'eldest', 'elecronet', 'elect', 'electr', 'electri', 'electrician', 'electrocut', 'electrolit', 'electroly', 'electrolyt', 'electron', 'electronet', 'electrophoresi', 'electrovoic', 'eleg', 'eleimin', 'element', 'elementari', 'eleph', 'elephan', 'eles', 'eleuthero', 'eleutherococcus', 'elev', 'elevag', 'eleven', 'elf', 'elfman', 'elgibl', 'elicit', 'elig', 'eligbl', 'elimin', 'elit', 'elixir', 'eliya', 'elizabeth', 'elk', 'elkhound', 'ella', 'ellen', 'ellenton', 'elli', 'ellig', 'elliott', 'ellipt', 'ellsworth', 'elm', 'elma', 'elmer', 'elmo', 'elong', 'els', 'elsewher', 'elud', 'elus', 'elv', 'elvi', 'em', 'emaci', 'email', 'eman', 'emb', 'emballe', 'embalm', 'embaras', 'embarass', 'embaress', 'embark', 'embarrass', 'embasa', 'embassi', 'embed', 'embelish', 'embellish', 'embitt', 'emblem', 'emblic', 'embodi', 'embolden', 'emboss', 'embrac', 'embroid', 'embu', 'emdd', 'emelio', 'emelmet', 'emensli', 'emerald', 'emeraldforest', 'emerg', 'emergen', 'emergenc', 'emergeni', 'emeril', 'emiel', 'emigr', 'emil', 'emili', 'emilia', 'emin', 'emiss', 'emit', 'emma', 'emmens', 'emmental', 'emmenthal', 'emmi', 'emmin', 'emmit', 'emori', 'emot', 'emough', 'empacadora', 'empanada', 'empart', 'emperor', 'emphas', 'emphasi', 'emphasis', 'emphat', 'empi', 'empir', 'employ', 'employe', 'employess', 'empor', 'emporium', 'empow', 'empress', 'empti', 'emptor', 'emti', 'emul', 'emuls', 'emulsifi', 'enabl', 'enact', 'enafamil', 'enamel', 'enamor', 'encamp', 'encapsul', 'encas', 'encephalomy', 'enchalada', 'enchanc', 'enchant', 'enchilada', 'enchillada', 'enclos', 'enclosur', 'encompass', 'encontrarla', 'encorag', 'encount', 'encourag', 'encoutn', 'encrust', 'encyclopedia', 'end', 'endang', 'endear', 'endeavor', 'endeavour', 'endem', 'endet', 'endicott', 'endiv', 'endless', 'endocrin', 'endocrinologist', 'endores', 'endorphin', 'endors', 'endos', 'endoscopi', 'endosperm', 'endou', 'endow', 'endulg', 'endulza', 'endur', 'enduroshot', 'endurox', 'enebri', 'eneget', 'enegri', 'enema', 'enemi', 'ener', 'energ', 'energen', 'energet', 'energi', 'energia', 'energyboost', 'energyo', 'energywis', 'eneri', 'enerv', 'enfacar', 'enfamel', 'enfamil', 'enflora', 'enforc', 'enfus', 'eng', 'engag', 'engelesia', 'engend', 'engergi', 'engergis', 'engin', 'engish', 'englan', 'england', 'english', 'englishmen', 'englsih', 'engorg', 'engough', 'engrav', 'engross', 'engulf', 'enhac', 'enhanc', 'enhans', 'enigma', 'enigmat', 'enjoy', 'enjoyabl', 'enjoyingtea', 'enlarg', 'enlighten', 'enlist', 'enliven', 'ennova', 'enopugh', 'enorm', 'enough', 'enought', 'enoy', 'enpti', 'enquir', 'enrag', 'enrich', 'enrichen', 'enrob', 'enrol', 'enrout', 'ensconc', 'ensu', 'ensur', 'entail', 'entangl', 'entenmann', 'enter', 'enterococcus', 'enterpris', 'entertai', 'entertain', 'entertian', 'entertwin', 'enthral', 'enthuis', 'enthus', 'enthusiam', 'enthusiasit', 'enthusiasm', 'enthusiast', 'entic', 'entir', 'entirelypet', 'entireti', 'entiti', 'entitil', 'entitl', 'entomolog', 'entomologist', 'entourag', 'entrail', 'entranc', 'entre', 'entrench', 'entrepreneur', 'entri', 'entrust', 'entryway', 'enuf', 'enumer', 'envelop', 'envi', 'enviabl', 'envigor', 'envio', 'envior', 'enviorn', 'enviornmenatlli', 'enviro', 'envirokid', 'envirokidz', 'environ', 'environment', 'environmentalist', 'environmment', 'envis', 'envoic', 'envor', 'enzad', 'enzym', 'enzymat', 'eoc', 'eoj', 'eon', 'epa', 'epazot', 'epcot', 'epesci', 'ephedra', 'epic', 'epicatechin', 'epiceri', 'epicur', 'epicurean', 'epicuri', 'epidem', 'epidemiolog', 'epidermi', 'epigallocatechin', 'epiglotti', 'epilepsi', 'epilept', 'episod', 'epitom', 'eplorateur', 'epoiss', 'epoxi', 'epoz', 'epresso', 'epseci', 'epsom', 'epstein', 'eqiuival', 'eqival', 'equador', 'equal', 'equat', 'equel', 'equilibrium', 'equiliv', 'equin', 'equip', 'equipt', 'equisit', 'equit', 'equival', 'equivel', 'equivil', 'equt', 'er', 'era', 'erad', 'eras', 'erasmus', 'erdon', 'ere', 'erect', 'erehwon', 'erewhon', 'ergh', 'ergo', 'ergon', 'ergonom', 'erh', 'eri', 'eric', 'erica', 'eridex', 'erin', 'erl', 'erma', 'erni', 'erogonom', 'erot', 'err', 'errand', 'errant', 'errat', 'erron', 'error', 'errowwww', 'errrr', 'errupt', 'ersatz', 'erstwhil', 'erupt', 'erwachsen', 'erythorb', 'erythritol', 'erytritol', 'esay', 'escal', 'escallop', 'escap', 'escargo', 'escargot', 'escarol', 'escarot', 'eschew', 'escondido', 'esdp', 'ese', 'esenc', 'eski', 'eskimo', 'eslewher', 'esmal', 'esophag', 'esophagus', 'esoter', 'esp', 'espcial', 'espeaciali', 'espec', 'especailli', 'especi', 'especial', 'especiali', 'espeici', 'espesci', 'espici', 'espn', 'esposito', 'espous', 'espress', 'espression', 'espressli', 'espresso', 'espressomerch', 'espressso', 'esq', 'esquir', 'essay', 'esselstyn', 'essen', 'essenc', 'essenci', 'essens', 'essenti', 'essentianl', 'essex', 'essiac', 'essn', 'essoil', 'esspreso', 'esspresso', 'est', 'establish', 'estamboli', 'estancia', 'estat', 'esteban', 'estens', 'ester', 'esthet', 'estim', 'esto', 'estomac', 'estomago', 'estor', 'estra', 'estrella', 'estrogen', 'etc', 'etcetc', 'etch', 'etern', 'ethan', 'ethanol', 'ethel', 'ether', 'ethernet', 'ethic', 'ethiopia', 'ethiopian', 'ethnic', 'ethonol', 'ethoxyquin', 'ethylen', 'ethylenediamin', 'etiquett', 'etouffe', 'etruria', 'ettoufe', 'eucalyptus', 'euclypat', 'eucryphia', 'eugen', 'eugenia', 'euk', 'eukanaba', 'eukanuba', 'eulog', 'eunic', 'euopean', 'euphem', 'euphemist', 'euphor', 'eureka', 'euro', 'eurocrem', 'eurogroc', 'europ', 'europa', 'european', 'eustachio', 'euthan', 'eva', 'evad', 'evagold', 'evalu', 'evalut', 'evan', 'evanesc', 'evang', 'evangelin', 'evangelist', 'evanovich', 'evansvill', 'evap', 'evaper', 'evapor', 'evas', 'evauat', 'evco', 'eve', 'evelyn', 'evem', 'even', 'evenflo', 'evenig', 'event', 'eventhough', 'eventu', 'eventulli', 'eveo', 'ever', 'everclear', 'evercompanion', 'evercook', 'everday', 'everest', 'evergreen', 'everhard', 'everi', 'everlast', 'evermor', 'evern', 'everon', 'eversinc', 'everth', 'everwher', 'everybodi', 'everyday', 'everyman', 'everymorn', 'everynight', 'everyoen', 'everyon', 'everyonc', 'everyonyon', 'everyplac', 'everyt', 'everyth', 'everytiim', 'everytim', 'everyway', 'everywher', 'evey', 'eveyon', 'evi', 'evian', 'evid', 'evidenc', 'evil', 'evilspeak', 'evinc', 'eviscer', 'evita', 'evitar', 'evo', 'evoc', 'evok', 'evolut', 'evolv', 'evoo', 'evribodi', 'evvo', 'ewe', 'ewig', 'eww', 'ewww', 'ewwww', 'ewwwww', 'exac', 'exacerb', 'exaclti', 'exact', 'exacti', 'exactley', 'exactlti', 'exager', 'exagerr', 'exagger', 'exam', 'examin', 'exampl', 'exaust', 'excal', 'excat', 'excav', 'exceed', 'excel', 'excell', 'excellect', 'excellet', 'excelletnt', 'excellnt', 'excelsa', 'excema', 'excentr', 'except', 'excercis', 'excerpt', 'excess', 'exchang', 'excit', 'excitotoxin', 'exclaim', 'exclam', 'excllent', 'exclud', 'exclus', 'exclusif', 'excommun', 'excret', 'excruci', 'excurs', 'excus', 'excut', 'execel', 'execept', 'execis', 'execpt', 'execut', 'exel', 'exelent', 'exemplar', 'exemplari', 'exemplifi', 'exempt', 'exepect', 'exept', 'exerc', 'exercis', 'exert', 'exetrem', 'exfoli', 'exhal', 'exhast', 'exhaust', 'exhibit', 'exhilar', 'exhorbit', 'exil', 'exir', 'exist', 'existenti', 'exit', 'exlus', 'exogen', 'exon', 'exorb', 'exorbit', 'exorcist', 'exot', 'exotica', 'exp', 'expand', 'expans', 'expar', 'expat', 'expatri', 'expct', 'expec', 'expeci', 'expect', 'expectaion', 'expectaton', 'expedi', 'expedit', 'expediti', 'expel', 'expend', 'expenditur', 'expenis', 'expenisv', 'expens', 'exper', 'experei', 'expereinc', 'experi', 'experiec', 'experienc', 'experiment', 'experinc', 'expert', 'expertis', 'expesn', 'expext', 'expir', 'expirement', 'expiri', 'expl', 'explain', 'explan', 'explanant', 'explanatori', 'explicit', 'explod', 'exploit', 'explor', 'exploratori', 'explos', 'expo', 'expobar', 'expoit', 'exponenti', 'export', 'expos', 'exposit', 'exposur', 'express', 'expressli', 'expresso', 'expri', 'exprienc', 'expsur', 'expurg', 'exquisit', 'exrem', 'exsist', 'exspens', 'exta', 'extaci', 'extant', 'extar', 'extem', 'extend', 'extendbar', 'extendsnack', 'extens', 'extent', 'exterior', 'extermin', 'extern', 'externel', 'extinct', 'extinguish', 'extol', 'extra', 'extract', 'extradinari', 'extran', 'extranei', 'extrani', 'extraordinari', 'extraordinarili', 'extraordinatri', 'extrat', 'extravag', 'extravaganza', 'extravecchio', 'extravergin', 'extream', 'extreem', 'extrem', 'extremelli', 'extremem', 'extren', 'extric', 'extrins', 'extrud', 'extrus', 'exuber', 'exud', 'eye', 'eyebal', 'eyebrow', 'eyelash', 'eyelid', 'eyesight', 'ezcema', 'ezek', 'ezeki', 'ezekiel', 'ezin', 'fab', 'fabada', 'faboo', 'faboul', 'fabouli', 'fabric', 'fabriqu', 'fabul', 'fabula', 'fabulosa', 'face', 'facebook', 'facer', 'facet', 'facial', 'facil', 'facilit', 'facimili', 'facin', 'facsimil', 'fact', 'factil', 'faction', 'facto', 'factoid', 'factor', 'factori', 'factual', 'facult', 'faculti', 'fad', 'fade', 'faecium', 'faeri', 'faeriesfinest', 'fage', 'fagin', 'fagioli', 'fagor', 'fahrenheidt', 'fahrenheit', 'fail', 'faili', 'faillac', 'failur', 'faint', 'faintest', 'fair', 'fairbank', 'fairest', 'fairfield', 'fairhaven', 'fairi', 'fairmont', 'fairtrad', 'fairview', 'fairway', 'fairyland', 'faith', 'fajita', 'fake', 'fakey', 'faki', 'fakin', 'fakish', 'falaf', 'falafel', 'falcom', 'falcon', 'falernum', 'falfel', 'falili', 'fall', 'fallaci', 'fallback', 'fallen', 'fallon', 'fallot', 'fallow', 'fallsbrand', 'fals', 'falsifi', 'falter', 'falvor', 'falvour', 'fam', 'famd', 'fame', 'fameous', 'famer', 'famiglia', 'famila', 'familair', 'familar', 'familay', 'familglia', 'famili', 'familia', 'familiar', 'familiy', 'familli', 'familyroast', 'famin', 'famiy', 'famous', 'fan', 'fanat', 'fanatic', 'fanatst', 'fanboy', 'fanci', 'fancier', 'fanciest', 'fanconi', 'fanfar', 'fanfreakintast', 'fang', 'fangl', 'fanni', 'fanta', 'fantabul', 'fantas', 'fantasi', 'fantasia', 'fantast', 'fantasti', 'fantastick', 'fantastico', 'fantist', 'fantstic', 'fanucci', 'faorit', 'faq', 'far', 'faraway', 'farazi', 'farberwar', 'farc', 'fare', 'farewel', 'farili', 'farina', 'farley', 'farm', 'farmer', 'farmhous', 'farmingtonhil', 'farmstead', 'farraig', 'farriag', 'farrier', 'farro', 'fart', 'farther', 'farthest', 'fas', 'fascin', 'fashion', 'fashiond', 'fashon', 'fasig', 'fasion', 'fast', 'fasta', 'fastachi', 'fastbreak', 'fasten', 'faster', 'fastest', 'fastfood', 'fat', 'fatal', 'fatass', 'fatast', 'fate', 'fatfre', 'fatful', 'fath', 'father', 'fatherbut', 'fathi', 'fathom', 'fatigu', 'fatman', 'fatoush', 'fatrikcherra', 'fatten', 'fatter', 'fattest', 'fatti', 'fattier', 'fattoria', 'fatwallet', 'faucet', 'faucett', 'fauchon', 'faugier', 'fault', 'faulti', 'faultless', 'faux', 'fav', 'fava', 'fave', 'faver', 'favoirt', 'favoit', 'favor', 'favori', 'favoriot', 'favorit', 'favoritest', 'favorti', 'favortir', 'favotit', 'favour', 'favourit', 'favrit', 'fax', 'fay', 'faygo', 'faze', 'fazer', 'fazermint', 'fbi', 'fbop', 'fbopf', 'fda', 'feal', 'fear', 'fearless', 'fearn', 'feasabl', 'feasibl', 'feast', 'feat', 'feather', 'featherlight', 'featherman', 'featherweight', 'featur', 'featurett', 'feb', 'februari', 'febuari', 'fecal', 'fecatori', 'fece', 'fed', 'feder', 'federico', 'fedex', 'fee', 'feebl', 'feed', 'feedback', 'feeder', 'feek', 'feel', 'feell', 'feet', 'feezer', 'feild', 'fein', 'feingold', 'feisti', 'felafel', 'felaway', 'feldkamp', 'fele', 'feli', 'felicit', 'felid', 'felida', 'felin', 'feliway', 'felix', 'fell', 'fella', 'fellin', 'fellow', 'fellowship', 'feloni', 'felt', 'femal', 'feminin', 'femm', 'fenc', 'fencelin', 'fencer', 'fend', 'feng', 'fenicki', 'fennel', 'fennelli', 'fenster', 'fenton', 'fenugreek', 'feodorovich', 'fequent', 'fer', 'feral', 'ferdi', 'ferment', 'fermint', 'fern', 'feroci', 'ferrara', 'ferrari', 'ferrel', 'ferrero', 'ferrerro', 'ferret', 'ferretti', 'ferri', 'ferrous', 'fertil', 'fervent', 'fervor', 'fesh', 'fest', 'fester', 'festgestellt', 'festiv', 'feta', 'fetal', 'fetch', 'fetish', 'fett', 'fettacin', 'fetticini', 'fettish', 'fettuccin', 'fettuccini', 'fettucin', 'fettucini', 'fetus', 'feuill', 'feul', 'fever', 'few', 'fewer', 'fewest', 'fey', 'fez', 'fgs', 'fianc', 'fiance', 'fiasco', 'fiasconaro', 'fiber', 'fiberfil', 'fiberglass', 'fibergourmet', 'fiberi', 'fiberon', 'fiberplus', 'fibr', 'fibroid', 'fibromyalgia', 'fibrous', 'fickl', 'ficniki', 'fiction', 'fictiti', 'ficus', 'fiddl', 'fiddyment', 'fide', 'fidel', 'fideo', 'fidg', 'fidgeti', 'fido', 'field', 'fiend', 'fierc', 'fieri', 'fiest', 'fiesta', 'fiesti', 'fifa', 'fife', 'fifeteen', 'fifteen', 'fifth', 'fifti', 'fig', 'figaro', 'figgi', 'fight', 'fighter', 'figi', 'figur', 'figurin', 'fiinish', 'fiji', 'fil', 'filbert', 'filch', 'file', 'filet', 'filful', 'filipino', 'filippo', 'fill', 'filler', 'fillet', 'filling', 'fillng', 'fillo', 'film', 'filmak', 'filmi', 'filmmak', 'filter', 'filterbag', 'filthi', 'filthiest', 'filtrat', 'filtro', 'fin', 'finaci', 'final', 'finalist', 'financ', 'financi', 'finch', 'find', 'findabl', 'fine', 'finecki', 'finer', 'finess', 'finest', 'finestkind', 'finetun', 'fing', 'finger', 'fingerfood', 'fingernail', 'fingerprint', 'fingertip', 'fingr', 'fini', 'finial', 'finicki', 'finickiest', 'finis', 'finish', 'finiski', 'finit', 'fink', 'finki', 'finland', 'finn', 'finnal', 'finnao', 'finni', 'finnicki', 'finnish', 'finsh', 'finum', 'finzi', 'fiona', 'fir', 'fire', 'firebal', 'firebird', 'firehos', 'firehous', 'firenz', 'fireplac', 'firepot', 'firepow', 'firesid', 'firework', 'firey', 'firm', 'firmer', 'firmwar', 'firsat', 'firshand', 'first', 'firstborn', 'firsthand', 'firstmat', 'firt', 'fiscal', 'fiscalini', 'fischer', 'fish', 'fishbowl', 'fishcak', 'fisher', 'fisherman', 'fishermen', 'fishi', 'fishier', 'fishkeep', 'fishmarket', 'fishstick', 'fishy', 'fiskar', 'fisrt', 'fist', 'fistful', 'fit', 'fitch', 'fitt', 'fitznut', 'five', 'fiver', 'fix', 'fixat', 'fixin', 'fixtur', 'fiz', 'fizz', 'fizzer', 'fizzi', 'fizzier', 'fla', 'flabbergast', 'flabbi', 'flabergast', 'flacid', 'flag', 'flagil', 'flagship', 'flagstaff', 'flagyl', 'flahavan', 'flail', 'flair', 'flake', 'flakey', 'flaki', 'flaky', 'flambe', 'flame', 'flamefest', 'flamenco', 'flamin', 'flamingo', 'flan', 'flank', 'flannel', 'flantast', 'flaover', 'flaovor', 'flaovr', 'flap', 'flapjack', 'flare', 'flash', 'flashback', 'flashi', 'flashlight', 'flask', 'flat', 'flatbread', 'flater', 'flatmat', 'flatten', 'flatter', 'flattest', 'flatul', 'flatwar', 'flaunt', 'flauta', 'flavacol', 'flavanoid', 'flavanol', 'flavenoid', 'flaver', 'flavia', 'flavigni', 'flavinoid', 'flavius', 'flavo', 'flavon', 'flavonoid', 'flavonol', 'flavor', 'flavorand', 'flavorcol', 'flavorfil', 'flavorfukl', 'flavorful', 'flavorit', 'flavorless', 'flavorsom', 'flavorul', 'flavorwis', 'flavour', 'flavouri', 'flavoursom', 'flaw', 'flawless', 'flax', 'flaxmeal', 'flaxplus', 'flaxse', 'flay', 'flea', 'fleck', 'fledgl', 'flee', 'fleer', 'fleet', 'fleischmann', 'fleishman', 'fleishmann', 'flem', 'fleme', 'flesh', 'fleshi', 'fleshier', 'fletcher', 'fleur', 'flew', 'flex', 'flexatarian', 'flexibl', 'fli', 'flick', 'flight', 'flimsey', 'flimsi', 'flinch', 'fling', 'flint', 'flinti', 'flintston', 'flip', 'flippin', 'flipsid', 'flirt', 'flirtat', 'flirtati', 'flitter', 'fllavor', 'flling', 'float', 'floater', 'floati', 'floavor', 'flock', 'flocken', 'floida', 'flood', 'floodlamp', 'floor', 'floorsweep', 'flop', 'floppi', 'flor', 'flora', 'floral', 'florantin', 'florda', 'florenc', 'florentin', 'floret', 'florida', 'floridian', 'florist', 'floss', 'flossi', 'flounder', 'flour', 'floures', 'flouri', 'flourid', 'flourish', 'flourless', 'flovor', 'flow', 'flower', 'flowerett', 'floweri', 'flown', 'floyd', 'floz', 'flu', 'fluctuat', 'fluditi', 'fluent', 'fluf', 'fluff', 'fluffernutt', 'fluffi', 'fluffier', 'fluffiest', 'fluid', 'fluiditi', 'fluke', 'flummox', 'flummux', 'flung', 'flunk', 'fluoresc', 'fluorid', 'flurish', 'flurri', 'flus', 'flush', 'flushabl', 'flutd', 'flute', 'flutter', 'flutteri', 'flvor', 'flwoer', 'flyer', 'flys', 'fmaili', 'fnd', 'foam', 'foamer', 'foami', 'foamier', 'fob', 'focaccia', 'foccacia', 'foccica', 'focd', 'focus', 'focuss', 'fod', 'fodder', 'foe', 'foeniculum', 'fog', 'fogbust', 'foggi', 'foglift', 'foglio', 'foie', 'foil', 'foilag', 'foili', 'foist', 'folat', 'fold', 'folder', 'folger', 'foliag', 'folic', 'folicin', 'folk', 'folklor', 'follow', 'followup', 'follw', 'folow', 'fom', 'fomula', 'fond', 'fonda', 'fondant', 'fondat', 'fondest', 'fondor', 'fondu', 'fong', 'font', 'fontera', 'fontina', 'foo', 'food', 'fooder', 'foodfightgroceri', 'foodi', 'foodireland', 'foodist', 'foodland', 'foodlock', 'foodmak', 'foodnetwork', 'foodrenegad', 'foodsav', 'foodshouldtastegood', 'foodstor', 'foodstuff', 'foodtek', 'foodwis', 'fooey', 'foojoy', 'fool', 'fooli', 'foolish', 'foolproof', 'foor', 'foosh', 'foot', 'footag', 'footbal', 'foothil', 'footnot', 'footprint', 'fop', 'forag', 'forastero', 'foray', 'forbid', 'forbidden', 'forc', 'forceful', 'forcibl', 'ford', 'fore', 'forearm', 'foreclosur', 'forefath', 'forefing', 'forefront', 'forego', 'forehead', 'foreign', 'foreman', 'foremost', 'foreplay', 'forese', 'foresight', 'forest', 'forestal', 'foreswear', 'foreswor', 'forethought', 'forev', 'forevaaaaaaa', 'forevev', 'foreward', 'forewarn', 'forg', 'forgav', 'forget', 'forgett', 'forgetten', 'forgiv', 'forgiven', 'forgo', 'forgon', 'forgot', 'forgotten', 'foriegn', 'forign', 'fork', 'forkful', 'forklift', 'forlorn', 'form', 'formal', 'formaldehyd', 'format', 'former', 'formica', 'formid', 'formosa', 'formual', 'formuala', 'formul', 'formula', 'formular', 'forrest', 'forsak', 'forsaken', 'forse', 'forseeabl', 'forskohlii', 'forst', 'fort', 'forth', 'forthcom', 'forti', 'fortif', 'fortifi', 'fortiflor', 'fortitud', 'fortnam', 'fortnight', 'fortnum', 'fortress', 'fortuit', 'fortun', 'fortunatley', 'forum', 'forumula', 'forward', 'forwarn', 'forza', 'fossey', 'fossil', 'fost', 'foster', 'fot', 'fought', 'foul', 'fould', 'foulest', 'found', 'foundat', 'founder', 'foundri', 'foundu', 'founnd', 'fountain', 'four', 'foures', 'fourteen', 'fourth', 'foutchi', 'foward', 'fowl', 'fowler', 'fox', 'foxhound', 'foxi', 'foyer', 'fpo', 'fqavor', 'fra', 'frabjous', 'fraction', 'fractur', 'fraenkisch', 'fragant', 'fragil', 'fragment', 'fragranc', 'fragrant', 'fraich', 'frail', 'frais', 'fram', 'frame', 'fran', 'franc', 'francai', 'francais', 'francesco', 'franchis', 'franci', 'franciscan', 'francisco', 'francisfr', 'francsico', 'frandfath', 'frangelico', 'frangranc', 'frank', 'franken', 'frankfurt', 'franki', 'franklin', 'franni', 'fransico', 'fransisco', 'frantic', 'frantoia', 'frantoio', 'frantz', 'frapachino', 'frapp', 'frappachino', 'frappacino', 'frappichino', 'frappuccino', 'frappuchino', 'frappucinno', 'frappucino', 'frapuccino', 'frasbak', 'frascati', 'frash', 'frat', 'fratern', 'fraud', 'fraudul', 'fray', 'frazzl', 'fraîch', 'fre', 'freah', 'freak', 'freaki', 'freakin', 'freakish', 'freash', 'frech', 'fred', 'freda', 'freddi', 'frederick', 'fredericksburg', 'fredricksburg', 'free', 'freebi', 'freed', 'freeda', 'freedent', 'freedom', 'freedon', 'freefromfat', 'freegan', 'freehold', 'freek', 'freelanc', 'freeland', 'freeli', 'freelif', 'freesia', 'freestyl', 'freeway', 'freexer', 'freez', 'freezabl', 'freezer', 'fregula', 'freh', 'freight', 'freind', 'fremont', 'french', 'frenchfri', 'frenchi', 'frenet', 'frensh', 'frenzi', 'freqent', 'frequenc', 'frequent', 'frequenti', 'frequet', 'fresca', 'fresch', 'fresco', 'frescobaldi', 'fresh', 'fresha', 'freshen', 'fresher', 'freshest', 'freshman', 'freshmess', 'freshner', 'freshpak', 'freshtechmaid', 'fresno', 'frest', 'fret', 'freudian', 'freudigman', 'frezzer', 'fri', 'frichick', 'frichik', 'frick', 'fricken', 'frickin', 'friction', 'friday', 'fridg', 'frido', 'friel', 'friend', 'friendi', 'friendli', 'friendliest', 'friendship', 'frig', 'frige', 'friggin', 'fright', 'frighten', 'frigid', 'frikk', 'frill', 'frind', 'fring', 'friojol', 'frisbe', 'frise', 'friski', 'friskier', 'frist', 'fritatta', 'frite', 'frito', 'fritoslay', 'frittata', 'fritter', 'fritz', 'fritzi', 'friuti', 'frivol', 'friz', 'frizzi', 'frm', 'fro', 'frog', 'froggi', 'froh', 'frolick', 'fromag', 'fromm', 'fromscratch', 'fromt', 'fron', 'frond', 'fronst', 'front', 'frontal', 'frontera', 'frontier', 'frontlin', 'froot', 'frost', 'frosten', 'frosti', 'froth', 'frother', 'frothi', 'froward', 'frown', 'froze', 'frozen', 'frozennnnn', 'frozn', 'frrroozen', 'frrrozen', 'frs', 'frsenergi', 'frucos', 'fructo', 'fructooligosaccarid', 'fructos', 'fructuos', 'fructus', 'frugal', 'frugel', 'fruit', 'fruitabl', 'fruitabu', 'fruitarian', 'fruitcak', 'fruitcost', 'fruiti', 'fruitier', 'fruitini', 'fruition', 'fruitless', 'fruitni', 'fruitti', 'frunctos', 'frustat', 'frustos', 'frustrart', 'frustrat', 'frut', 'fruta', 'frute', 'fruti', 'frutini', 'frutos', 'frutti', 'fryer', 'frys', 'fsa', 'fsis', 'fsm', 'fsss', 'ftd', 'ftgfop', 'ftl', 'ftt', 'fuchsia', 'fudd', 'fuddruck', 'fudg', 'fudgcicl', 'fudgesickl', 'fudgesicl', 'fudgey', 'fudgi', 'fudgsicl', 'fue', 'fuego', 'fuel', 'fuer', 'fughedaboudit', 'fuhrman', 'fuit', 'fuiti', 'fuji', 'fujian', 'fukien', 'fukusa', 'ful', 'fulfil', 'fulfillmet', 'fulfuil', 'full', 'fullbodi', 'fuller', 'fullest', 'fullfil', 'fulli', 'fulltim', 'fulsom', 'fumar', 'fumbl', 'fume', 'fumi', 'fun', 'funbit', 'function', 'fund', 'fundament', 'fundi', 'fundrais', 'funer', 'fungal', 'funghi', 'fungi', 'fungicid', 'fungus', 'fungusamongus', 'funiest', 'funk', 'funkey', 'funki', 'funkifi', 'funnel', 'funner', 'funni', 'funnier', 'funniest', 'funyon', 'funyun', 'fur', 'furbabi', 'furbal', 'furi', 'furikak', 'furious', 'furit', 'furitak', 'furkid', 'furmin', 'furnac', 'furnish', 'furnitur', 'furo', 'furpeopl', 'furri', 'further', 'furthermor', 'fus', 'fuse', 'fush', 'fushion', 'fusi', 'fusili', 'fusilli', 'fusion', 'fuss', 'fussbudget', 'fussi', 'fussiest', 'futher', 'futil', 'futur', 'fuzhou', 'fuzz', 'fuzzi', 'fwiw', 'fwoot', 'fyi', 'fyou', 'fzzzzzt', 'gaarlic', 'gab', 'gaba', 'gabila', 'gabriel', 'gac', 'gad', 'gadget', 'gae', 'gaem', 'gag', 'gaga', 'gage', 'gaggabl', 'gaggi', 'gaggia', 'gai', 'gaia', 'gail', 'gain', 'gainer', 'gainesvill', 'gaint', 'gait', 'gal', 'gala', 'galac', 'galacia', 'galactagogu', 'galang', 'galaxi', 'galbi', 'galil', 'galileo', 'gall', 'gallaogatechin', 'gallat', 'gallego', 'galleri', 'gallett', 'galley', 'gallo', 'gallon', 'gallopin', 'galloway', 'galor', 'galt', 'galte', 'galvan', 'galveston', 'gambit', 'gambl', 'gambol', 'game', 'gamer', 'gamergrub', 'gamey', 'gami', 'gamier', 'gamma', 'gamut', 'ganach', 'gandalf', 'gander', 'gang', 'gangbust', 'gano', 'ganocaf', 'ganoderma', 'ganoush', 'gap', 'gape', 'garag', 'garageband', 'garam', 'garante', 'garbag', 'garbanza', 'garbanzo', 'garcia', 'garcinia', 'garden', 'gardenia', 'gardenladi', 'gardenveri', 'gardinnelli', 'gardner', 'garett', 'garfield', 'garganelli', 'gargl', 'gari', 'garin', 'garish', 'garland', 'garlic', 'garlici', 'garlicki', 'garllic', 'garmisch', 'garner', 'garni', 'garnish', 'garrett', 'garten', 'garunte', 'garveri', 'garvey', 'gas', 'gase', 'gaseous', 'gaser', 'gasey', 'gash', 'gasket', 'gasmart', 'gasol', 'gasolin', 'gasp', 'gaspari', 'gass', 'gasser', 'gassi', 'gassless', 'gasssssi', 'gastic', 'gastric', 'gastridi', 'gastriti', 'gastro', 'gastroenter', 'gastroenterologist', 'gastrointenstin', 'gastrointestin', 'gastronom', 'gastronomi', 'gat', 'gate', 'gateway', 'gather', 'gatlinburg', 'gato', 'gator', 'gatorad', 'gaug', 'gaul', 'gaur', 'gaurante', 'gaurente', 'gauz', 'gavalia', 'gave', 'gawd', 'gawdaw', 'gawk', 'gay', 'gayl', 'gaylord', 'gaze', 'gazillion', 'gazpacho', 'gazzetta', 'gbop', 'gbp', 'gear', 'geart', 'geat', 'gebhardt', 'gee', 'geek', 'geeki', 'geena', 'geera', 'geesh', 'geeta', 'geewi', 'geez', 'geezer', 'geisha', 'gekauft', 'gel', 'gelaia', 'gelatin', 'gelatini', 'gelatn', 'gelato', 'gelcap', 'gele', 'geletin', 'geleto', 'gell', 'gellatin', 'gelletin', 'gelli', 'gem', 'gemischt', 'gen', 'gena', 'genardi', 'genco', 'gender', 'gene', 'genera', 'general', 'generali', 'generasl', 'generat', 'generate', 'generic', 'generous', 'genesi', 'genet', 'geneva', 'geni', 'genious', 'genisoy', 'genit', 'genius', 'genmai', 'genmaicha', 'genotyp', 'genova', 'genr', 'genseng', 'gensoy', 'gentil', 'gentl', 'gentleas', 'gentleeas', 'gentleman', 'gentlemen', 'gentler', 'gentlmen', 'genuardi', 'genuin', 'genunin', 'geoff', 'geograph', 'geographi', 'geolog', 'georg', 'georgeous', 'georgetown', 'georgia', 'georgous', 'ger', 'geraldin', 'geranium', 'gerat', 'geratest', 'gerber', 'gerbera', 'gerbil', 'gerd', 'gerholstein', 'geri', 'geriatr', 'germ', 'germack', 'german', 'germani', 'germanium', 'germin', 'gerner', 'gerogia', 'gerolstein', 'gerti', 'gestat', 'gestur', 'get', 'getaway', 'gete', 'getless', 'gett', 'getter', 'gettin', 'gettng', 'geuss', 'gevali', 'gevalia', 'gew', 'gewi', 'geyser', 'gfbop', 'gfcf', 'gfcfef', 'gfcfsf', 'gfcg', 'gfer', 'gfg', 'gfi', 'gfic', 'gfm', 'gfop', 'gft', 'ggb', 'ghana', 'ghani', 'ghanouj', 'ghardelli', 'ghast', 'ghee', 'gherkin', 'ghetti', 'ghetto', 'ghiardelli', 'ghiardhelli', 'ghiradelli', 'ghiradhelli', 'ghirard', 'ghirardelli', 'ghost', 'ghoul', 'ghoulish', 'ghz', 'gia', 'giacomo', 'giada', 'giadia', 'gianduiotti', 'gianduja', 'giannini', 'giant', 'giardelli', 'giardia', 'giardinera', 'giardiniera', 'gib', 'gibberish', 'gibe', 'giberish', 'giblet', 'gibson', 'gibt', 'giddi', 'gidt', 'gift', 'giftabl', 'giftbox', 'giftworthi', 'gig', 'gigant', 'gigg', 'giggl', 'gigi', 'gigngerbread', 'gilbert', 'gild', 'gill', 'gilroy', 'gilt', 'gimbal', 'gimborn', 'gimic', 'gimm', 'gimme', 'gimmi', 'gimmick', 'gimmicki', 'gimong', 'gin', 'gina', 'gind', 'giner', 'ginger', 'gingeral', 'gingerbread', 'gingerbreadman', 'gingeri', 'gingerman', 'gingermint', 'gingerroot', 'gingersnap', 'gingerspic', 'gingev', 'gingham', 'gingiv', 'ginkgo', 'ginko', 'ginorm', 'gins', 'ginseng', 'ginza', 'giong', 'giorgio', 'gioven', 'gir', 'giraff', 'girardelli', 'girl', 'girlfriend', 'girli', 'giro', 'girth', 'gis', 'giseng', 'gist', 'git', 'gitter', 'gitteri', 'giusepp', 'giv', 'give', 'giveaway', 'given', 'giver', 'givin', 'gizmo', 'gizmoandtaz', 'gizzard', 'gjetost', 'gla', 'glace', 'glacier', 'glad', 'glade', 'gladi', 'gladwar', 'glam', 'glamor', 'glamour', 'glanc', 'gland', 'glare', 'glas', 'glase', 'glasgow', 'glass', 'glasswar', 'glaucoma', 'glaze', 'gleam', 'gleamerz', 'glean', 'glee', 'gleeful', 'gleefulli', 'glen', 'glenburn', 'glenda', 'glendal', 'glenn', 'glenni', 'gleten', 'gli', 'glicem', 'glick', 'glide', 'glimmer', 'glimps', 'glinda', 'glint', 'glioblastoma', 'glisten', 'glitch', 'glitter', 'glitteri', 'glitz', 'gloat', 'glob', 'global', 'globbi', 'globe', 'globulus', 'glom', 'gloomi', 'gloopi', 'glop', 'gloppi', 'glori', 'gloria', 'glorifi', 'glorious', 'gloss', 'glossari', 'glossi', 'glossier', 'gloucest', 'gloucster', 'glove', 'glovebox', 'glow', 'glowinig', 'glsd', 'glu', 'gluatmat', 'glucerna', 'glucomannan', 'glucomet', 'glucon', 'glucos', 'glucosamin', 'glucosim', 'glucosomethingoroth', 'glucosomin', 'glucotest', 'glue', 'gluen', 'glueten', 'glueton', 'gluey', 'glug', 'glulten', 'glumat', 'glut', 'glutam', 'glutamat', 'glutamin', 'glutathion', 'gluten', 'glutenag', 'glutenfre', 'glutenfreeda', 'gluteni', 'glutern', 'glutin', 'glutino', 'glution', 'gluton', 'glutten', 'glutton', 'gluttoni', 'glycem', 'glycemix', 'glycerin', 'glycerit', 'glycerol', 'glycin', 'glycocem', 'glycol', 'glycosid', 'glyphos', 'gmc', 'gmill', 'gmo', 'gmos', 'gms', 'gmss', 'gnar', 'gnarl', 'gnash', 'gnat', 'gnaw', 'gnawhid', 'gnc', 'gnocchi', 'gnocci', 'gnochhi', 'gnosh', 'gnosi', 'gnutella', 'go', 'goa', 'goal', 'goan', 'goat', 'goatein', 'goatsbeard', 'gob', 'goback', 'gobbl', 'gobblin', 'gobino', 'goblet', 'goblin', 'gobstopp', 'goceri', 'gochujang', 'god', 'godchildren', 'godd', 'goddess', 'godfath', 'godiva', 'godlik', 'godmoth', 'godsak', 'godsend', 'godson', 'godzilla', 'goe', 'goeth', 'goetz', 'goey', 'gogi', 'gogo', 'gogosqueez', 'goin', 'goiter', 'goji', 'gold', 'goldbaren', 'goldbox', 'golden', 'goldenberri', 'goldendoodl', 'goldenmalt', 'goldenpineappl', 'goldenspurtl', 'goldfish', 'goldi', 'goldilock', 'goldish', 'goldman', 'goldon', 'goldsboro', 'golean', 'golf', 'golfbal', 'golfer', 'golight', 'golli', 'gomm', 'gona', 'gone', 'goner', 'gong', 'gonif', 'gonna', 'gonulsen', 'goo', 'goober', 'good', 'goodand', 'goodbut', 'goodby', 'goodearth', 'gooder', 'goodess', 'goodi', 'goodl', 'goodlif', 'goodman', 'goodn', 'goodne', 'goodnight', 'goodnik', 'goodstart', 'goodyer', 'gooey', 'goof', 'goofbal', 'goofi', 'goog', 'googi', 'googl', 'gooier', 'gook', 'goon', 'goong', 'gooo', 'goood', 'gooood', 'goooood', 'gooooood', 'goooooood', 'goooooooooo', 'goop', 'goopey', 'goopi', 'goos', 'gooseberri', 'goosebrri', 'goot', 'gooy', 'goozl', 'goper', 'gopher', 'gor', 'gorant', 'gorceri', 'gordian', 'gordon', 'gore', 'gorefest', 'gorella', 'goreng', 'gorg', 'gorganzola', 'gorgeous', 'gorgonzola', 'gori', 'gorilla', 'gormet', 'gorp', 'gosh', 'gosl', 'gospel', 'gossip', 'got', 'gotcha', 'goth', 'gothic', 'goto', 'gotta', 'gottcha', 'gotten', 'gotton', 'gottschal', 'gotu', 'gouda', 'goug', 'goulash', 'gould', 'goulet', 'goumet', 'gound', 'gourd', 'gourmand', 'gourment', 'gourmet', 'gourmetflasch', 'gourmetfoodstor', 'gourmt', 'gournay', 'gournd', 'gout', 'gouti', 'gov', 'govern', 'govida', 'gown', 'goya', 'gozaima', 'graaaaaaaandmama', 'grab', 'grababl', 'grabag', 'grabber', 'grabe', 'grace', 'graci', 'gracian', 'gracious', 'grad', 'gradat', 'grade', 'graden', 'grader', 'gradient', 'gradina', 'gradual', 'graduallli', 'graduat', 'graedon', 'graet', 'graffiti', 'grafton', 'graham', 'grahm', 'grail', 'grain', 'grainer', 'graini', 'grainier', 'grainiest', 'grainless', 'gram', 'grama', 'gramcrak', 'gramma', 'grammar', 'grammat', 'grammi', 'gramn', 'gramophon', 'gran', 'grana', 'granach', 'granala', 'granatus', 'granbabi', 'granchildren', 'grand', 'granda', 'grandaught', 'grandbabi', 'grandcat', 'grandchild', 'grandchildren', 'granddad', 'granddaugh', 'granddaught', 'granddog', 'grandfath', 'grandgirl', 'grandi', 'grandkid', 'grandkiddo', 'grandma', 'grandmaluci', 'grandmom', 'grandmoth', 'grandpa', 'grandpar', 'grandson', 'grane', 'granier', 'granita', 'granloa', 'granmder', 'granndson', 'granni', 'granola', 'granoloa', 'grant', 'granual', 'granuat', 'granul', 'granula', 'granular', 'grap', 'grape', 'grapefriut', 'grapefru', 'grapefruit', 'grapefuit', 'grapenut', 'grapese', 'grapest', 'grapevin', 'grapey', 'graph', 'graphic', 'graphit', 'gras', 'grasp', 'graspabl', 'grass', 'grassf', 'grasshopp', 'grassi', 'grassier', 'grassin', 'grassmer', 'grat', 'grate', 'grateful', 'grater', 'gratest', 'gratif', 'gratifi', 'gratin', 'gratitud', 'graubrot', 'graue', 'grav', 'grave', 'gravei', 'gravel', 'gravenstein', 'gravey', 'graveyard', 'gravi', 'gravit', 'gravita', 'graviti', 'gravlax', 'gray', 'grayish', 'graze', 'grazi', 'grazia', 'grceri', 'grd', 'grea', 'gread', 'greaduat', 'greal', 'greami', 'grean', 'greapefruit', 'grear', 'greas', 'greasek', 'greasi', 'greasier', 'greassi', 'greastest', 'greasy', 'great', 'greater', 'greatest', 'greatgrand', 'greatlier', 'greattast', 'greatttttt', 'greayt', 'greceri', 'grechka', 'gree', 'greec', 'greed', 'greedi', 'greedili', 'greeen', 'greek', 'greektown', 'greeli', 'green', 'greenappl', 'greenbean', 'greendog', 'greener', 'greeneri', 'greenest', 'greenfir', 'greenfood', 'greenhous', 'greeni', 'greenish', 'greenlight', 'greenmax', 'greenpowd', 'greensish', 'greent', 'greentea', 'greenwash', 'greenwich', 'greesi', 'greet', 'greg', 'gren', 'grenadin', 'grestid', 'gret', 'greta', 'grew', 'greww', 'grey', 'greyhound', 'greyish', 'grid', 'griddl', 'grieco', 'grief', 'griev', 'grievous', 'griffin', 'griffith', 'griffon', 'grigio', 'grill', 'griller', 'grillin', 'grim', 'grimac', 'grime', 'grimi', 'grimoir', 'grin', 'grind', 'grinder', 'grindmast', 'gring', 'gringo', 'grinst', 'grip', 'gripe', 'grippi', 'gripz', 'gris', 'grisbi', 'grissel', 'grissini', 'grissl', 'grissli', 'grist', 'gristed', 'gristl', 'gristmil', 'grit', 'griti', 'gritti', 'grittier', 'gritty', 'grizzl', 'grizzli', 'grm', 'grmmi', 'grn', 'gro', 'groan', 'groat', 'grocceri', 'grocer', 'groceri', 'groceriey', 'grocier', 'grocweri', 'groeceri', 'grogan', 'grogeri', 'grogg', 'groggi', 'groieri', 'groin', 'grom', 'gronala', 'groom', 'groomer', 'groov', 'groovi', 'gropp', 'gros', 'grose', 'gross', 'grossest', 'grossli', 'grotesqu', 'grouch', 'grouchi', 'groud', 'ground', 'groundbal', 'groundhog', 'groundskeep', 'group', 'grouper', 'groupi', 'grout', 'grove', 'grover', 'groveri', 'grow', 'grower', 'growl', 'growler', 'growlin', 'grown', 'grownup', 'growt', 'growth', 'grreat', 'grrr', 'grrreat', 'grrrr', 'grrrreat', 'grrrreeeaaaattttt', 'grrrrr', 'grrrrreat', 'grub', 'grubb', 'grubbi', 'gruber', 'grubex', 'grudg', 'gruel', 'gruesom', 'gruijter', 'grum', 'grumbl', 'grump', 'grumpi', 'grunt', 'grunter', 'gruyer', 'gsb', 'gsd', 'gsds', 'gte', 'gtf', 'guac', 'guacamol', 'guaifenisen', 'guajillo', 'guam', 'guan', 'guanabana', 'guangdong', 'guangzhou', 'guanin', 'guano', 'guanyl', 'guapo', 'guar', 'guarana', 'guarani', 'guarante', 'guard', 'guarder', 'guardian', 'guarente', 'guat', 'guatemala', 'guatemalan', 'guava', 'guayaki', 'guayucki', 'gubment', 'guerand', 'guerilla', 'guess', 'guesstim', 'guesstimag', 'guesswork', 'guest', 'guestroom', 'guestssssss', 'guffaw', 'guick', 'guid', 'guidanc', 'guidebook', 'guidelin', 'guiden', 'guidlin', 'guido', 'guil', 'guilt', 'guilti', 'guiltless', 'guiltlfre', 'guin', 'guinea', 'guion', 'guis', 'guit', 'guitar', 'guitless', 'guittard', 'gujarati', 'gulasch', 'gulden', 'gulf', 'gullet', 'gullibl', 'gulp', 'gulpabl', 'gulper', 'gulten', 'gum', 'gumb', 'gumbal', 'gumbo', 'gumdrop', 'gummbybear', 'gummi', 'gummibaerchen', 'gummier', 'gump', 'gumpast', 'gun', 'gunfir', 'gung', 'gunk', 'gunki', 'gunna', 'gunni', 'gunpowd', 'gunpwder', 'gunshot', 'gunsling', 'gunter', 'guo', 'gurgl', 'gurlic', 'guru', 'gurus', 'gus', 'gush', 'gusher', 'gushi', 'gussi', 'gust', 'gusta', 'gustaf', 'gustatori', 'gustaux', 'gustav', 'gustiamo', 'gusto', 'gut', 'guten', 'gutsi', 'gutsier', 'gutter', 'gutterbal', 'guud', 'guuuuuud', 'guy', 'guyana', 'guylian', 'guzzl', 'guzzlin', 'gwen', 'gyahhh', 'gycem', 'gylcem', 'gym', 'gymnast', 'gynecolog', 'gyokuro', 'gyoza', 'gyp', 'gypsi', 'gypsytea', 'gyro', 'gyspi', 'haa', 'haagen', 'habanaro', 'habanero', 'habbit', 'habe', 'habenero', 'habernero', 'haberno', 'habia', 'habit', 'habitat', 'habitu', 'hachez', 'hacho', 'haci', 'hack', 'hackjob', 'haddock', 'hade', 'hadipack', 'hadnt', 'hae', 'haelth', 'haemlyn', 'haff', 'hafiz', 'hafter', 'hagen', 'hagerstown', 'haggen', 'haggi', 'hagman', 'hah', 'haha', 'hahah', 'hahaha', 'hahahaha', 'hahahahah', 'haida', 'haiku', 'haikudojo', 'hail', 'hain', 'hair', 'hairbal', 'hairbo', 'haircar', 'haircoat', 'haircut', 'hairdo', 'hairdress', 'hairi', 'hairless', 'hairlin', 'hairloss', 'hairnet', 'hairspray', 'haist', 'haiti', 'halal', 'halavah', 'halbert', 'halcyon', 'haldiram', 'haledon', 'haley', 'half', 'halftim', 'halfway', 'halibut', 'halidram', 'halifax', 'halitosi', 'hall', 'halleluiah', 'hallelujah', 'hallmark', 'halloumi', 'hallow', 'halloween', 'hallucin', 'hallucinogen', 'hallway', 'halo', 'haloween', 'halp', 'halt', 'halter', 'halv', 'halva', 'halvah', 'halwa', 'ham', 'hamberg', 'hambug', 'hamburg', 'hamdan', 'hamelman', 'hamhock', 'hamilton', 'hammer', 'hammi', 'hammock', 'hammond', 'hampshir', 'hampsir', 'hampster', 'hampton', 'hamsteak', 'hamster', 'han', 'hancock', 'hand', 'handbag', 'handblown', 'handbook', 'handcook', 'handcraft', 'handcream', 'handel', 'handend', 'handful', 'handi', 'handicap', 'handier', 'handili', 'handiwork', 'handl', 'handler', 'handmad', 'handout', 'handpick', 'handpresso', 'handsdown', 'handsewn', 'handshak', 'handsom', 'handwash', 'handwritten', 'handym', 'hang', 'hangin', 'hangout', 'hangov', 'hangup', 'hank', 'hanker', 'hankerin', 'hankier', 'hanley', 'hannaford', 'hannah', 'hannib', 'hanniford', 'hannov', 'hanout', 'hanov', 'hansen', 'hanson', 'hanukkah', 'hanuta', 'hao', 'hape', 'haphazard', 'hapi', 'hapier', 'hapless', 'happ', 'happen', 'happi', 'happier', 'happiest', 'happili', 'happnen', 'happpppppi', 'happybabi', 'happybelli', 'happygasm', 'happyhalloween', 'har', 'hara', 'harad', 'harass', 'harbi', 'harbing', 'harbor', 'hard', 'hardboil', 'hardcor', 'harden', 'harder', 'hardest', 'hardi', 'hardier', 'hardin', 'hardish', 'hardl', 'hardship', 'hardtack', 'hardwar', 'hardwood', 'hare', 'harg', 'hari', 'haribo', 'harina', 'harissa', 'harken', 'harlan', 'harldi', 'harlem', 'harley', 'harm', 'harmful', 'harmless', 'harmon', 'harmoni', 'harney', 'harold', 'harp', 'harpoon', 'harrar', 'harrass', 'harri', 'harrier', 'harrissa', 'harrod', 'harrog', 'harrowg', 'harsh', 'harsher', 'harshnest', 'harsz', 'hart', 'hartsel', 'hartshorn', 'hartz', 'hartzcrunchnclean', 'harvard', 'harvest', 'harvey', 'hasaawe', 'hasel', 'hasen', 'hash', 'hashbrown', 'hasher', 'hashimoto', 'hashish', 'hasnt', 'hassel', 'hasselnuss', 'hassl', 'hast', 'hasten', 'hasti', 'hat', 'hatch', 'hate', 'hater', 'haul', 'haun', 'haunt', 'haupia', 'haus', 'haut', 'hav', 'hava', 'havahart', 'havanes', 'havapoo', 'havarti', 'have', 'havenes', 'havent', 'havin', 'havint', 'havn', 'havng', 'havoc', 'havynt', 'haw', 'hawai', 'hawaii', 'hawaiian', 'hawaiin', 'hawaiiroast', 'hawk', 'hawt', 'hawthorn', 'hay', 'hayden', 'haystack', 'hayward', 'haywir', 'hazalnut', 'hazard', 'haze', 'hazel', 'hazelnut', 'hazelnutti', 'hazer', 'hazi', 'hazl', 'hazlehut', 'hazlenut', 'hazmat', 'hazzard', 'hazzl', 'hbo', 'hbp', 'hcg', 'hdden', 'hdl', 'hdpe', 'hdtv', 'hea', 'heactic', 'head', 'headach', 'header', 'headi', 'headlamp', 'headless', 'headlin', 'headmast', 'headphon', 'headquart', 'headroom', 'headset', 'headstrong', 'headway', 'heal', 'healdsburg', 'healer', 'healh', 'healhier', 'healhti', 'health', 'healthbar', 'healthcar', 'healthcheck', 'healtheir', 'healther', 'healthest', 'healthey', 'healthfood', 'healthi', 'healthier', 'healthiest', 'healthili', 'healthlier', 'healthnik', 'healthnut', 'healthti', 'healthwis', 'healti', 'healtlhi', 'healtyhi', 'healyh', 'heap', 'hear', 'hearburn', 'heard', 'hearrtburn', 'hearsay', 'heart', 'heartach', 'heartbeat', 'heartbreak', 'heartbroken', 'heartburn', 'hearten', 'heartfelt', 'hearth', 'hearti', 'heartier', 'heartiest', 'heartili', 'heartland', 'heartrat', 'heartsick', 'heartworm', 'heat', 'heater', 'heath', 'heathen', 'heather', 'heathfood', 'heathi', 'heathier', 'heathrow', 'heathwis', 'heatlh', 'heatlhier', 'heatproof', 'heatseek', 'heatwis', 'heav', 'heavan', 'heaven', 'heavent', 'heavey', 'heavi', 'heavier', 'heaviest', 'heavili', 'heavn', 'heavy', 'heavyweight', 'heb', 'hebrew', 'hebridean', 'hecha', 'hecho', 'hechsher', 'heck', 'hecka', 'heckl', 'heckuva', 'hectar', 'hectic', 'hedg', 'hedgehog', 'hediard', 'hedonist', 'hee', 'heed', 'heehe', 'heel', 'heeler', 'hefner', 'heft', 'hefti', 'heftier', 'heh', 'hehe', 'heheh', 'heheheh', 'heidi', 'height', 'heighten', 'heimlich', 'heinous', 'heinz', 'heir', 'heirloom', 'heist', 'heistat', 'heksher', 'hela', 'held', 'helen', 'helena', 'helf', 'helichysum', 'helicobact', 'helicopt', 'helioti', 'heliotrop', 'helix', 'hell', 'hella', 'hellllooooooooooo', 'hellman', 'hello', 'hellrais', 'helm', 'helmet', 'heloooo', 'help', 'helper', 'helpful', 'helpless', 'helstar', 'helthi', 'helxin', 'hem', 'hemicellulos', 'hemispher', 'hemo', 'hemorrhag', 'hemorrhoid', 'hemp', 'hempmilk', 'hempnutrit', 'hempse', 'hempshak', 'hen', 'henc', 'henceforth', 'hendrick', 'hendrix', 'henna', 'henri', 'hep', 'hepat', 'hepburn', 'hepl', 'hera', 'herald', 'herb', 'herbac', 'herbal', 'herbalif', 'herbalist', 'herban', 'herbanesc', 'herbbal', 'herbi', 'herbicid', 'herbivor', 'herbmeal', 'herbolog', 'herculean', 'herd', 'herder', 'herdez', 'herdl', 'here', 'hereditari', 'herein', 'heresi', 'heretofor', 'heritag', 'herm', 'herman', 'hermet', 'hermion', 'hermit', 'hermosa', 'hernand', 'hernandez', 'hero', 'heroin', 'heron', 'herp', 'herpanacin', 'herr', 'herring', 'hersehey', 'hersey', 'hershey', 'hershi', 'hert', 'hes', 'hese', 'hesist', 'hesit', 'hessian', 'hestit', 'het', 'heut', 'heutt', 'heve', 'hexagon', 'hexametaph', 'hexametaphosph', 'hexan', 'hexra', 'hextra', 'hey', 'heyloki', 'heywood', 'hfc', 'hfcs', 'hgc', 'hgh', 'hghli', 'hhhhhhhotttttttt', 'hiatus', 'hiav', 'hibachi', 'hibern', 'hibiscus', 'hic', 'hiccup', 'hich', 'hickman', 'hickori', 'hid', 'hidden', 'hide', 'hideous', 'hidious', 'hidratant', 'hidvegi', 'hierarchi', 'hig', 'hige', 'higer', 'higgin', 'high', 'highbal', 'higheat', 'higher', 'highest', 'highi', 'highish', 'highland', 'highlight', 'highris', 'highschool', 'hight', 'hightail', 'hightest', 'highway', 'highyl', 'hihg', 'hijack', 'hijik', 'hijiki', 'hike', 'hiker', 'hil', 'hilar', 'hilari', 'hilda', 'hildegard', 'hill', 'hillcrest', 'hilli', 'hillshir', 'hillsid', 'hilltop', 'hilo', 'hilt', 'hilton', 'hilux', 'himala', 'himalania', 'himalaya', 'himalayan', 'himalyan', 'hime', 'himilayan', 'himmi', 'himsself', 'hind', 'hindenberg', 'hindenburg', 'hinder', 'hindsight', 'hine', 'hing', 'hinki', 'hint', 'hinterland', 'hip', 'hipact', 'hipbon', 'hipe', 'hipper', 'hippi', 'hippo', 'hipster', 'hire', 'hirt', 'hirtz', 'hispan', 'hiss', 'hisself', 'hister', 'histon', 'histor', 'histori', 'hit', 'hitch', 'hitchcock', 'hitchhik', 'hitchik', 'hither', 'hitler', 'hitman', 'hitter', 'hiv', 'hive', 'hiz', 'hiziki', 'hjortron', 'hlaf', 'hmm', 'hmmm', 'hmmmm', 'hmmmmm', 'hmmmmmm', 'hmmmmmmmmmmmmmm', 'hmn', 'hmoe', 'hmph', 'hnp', 'hoagi', 'hoana', 'hoard', 'hoax', 'hob', 'hobbi', 'hobbit', 'hobe', 'hobi', 'hobnob', 'hobo', 'hoboken', 'hock', 'hockey', 'hocus', 'hod', 'hodgepodg', 'hodgkin', 'hodgson', 'hodpit', 'hoffman', 'hog', 'hogan', 'hogi', 'hogson', 'hoi', 'hoiliday', 'hoisin', 'hoison', 'hoist', 'hoji', 'hojicha', 'hojuela', 'hokey', 'hold', 'holday', 'holder', 'hole', 'holey', 'holi', 'holic', 'holick', 'holiday', 'holiest', 'holist', 'holl', 'holla', 'holland', 'hollandais', 'holle', 'holler', 'holli', 'holliday', 'hollist', 'hollow', 'holloway', 'hollywood', 'holm', 'holocaust', 'holst', 'holsum', 'homag', 'home', 'homead', 'homebak', 'homebrew', 'homecaf', 'homecook', 'homefri', 'homefront', 'homegrown', 'homeland', 'homeless', 'homemad', 'homemak', 'homemead', 'homeopath', 'homeopathi', 'homeown', 'homepag', 'homeplac', 'homer', 'homerun', 'homeschool', 'homesick', 'homestor', 'homestyl', 'hometown', 'homeward', 'homework', 'homey', 'homgrown', 'homini', 'hommus', 'homocystein', 'homogen', 'hon', 'honda', 'hondura', 'honduran', 'hone', 'honest', 'honesti', 'honevill', 'honey', 'honeybel', 'honeybush', 'honeycomb', 'honeycup', 'honeydew', 'honeylik', 'honeymoon', 'honeysuckl', 'honeytre', 'honeyvill', 'honeyvillegrain', 'honeyvillgrain', 'hong', 'honig', 'honk', 'honolulu', 'honor', 'honore', 'honyock', 'hoo', 'hooch', 'hood', 'hoodia', 'hoof', 'hoofer', 'hoofi', 'hook', 'hooki', 'hoomus', 'hooo', 'hooooo', 'hoop', 'hoopla', 'hooray', 'hoot', 'hooter', 'hoov', 'hoover', 'hop', 'hope', 'hopeful', 'hopeless', 'hopig', 'hopin', 'hopj', 'hopkin', 'hopless', 'hopper', 'hoppi', 'hoppin', 'hor', 'horchata', 'hord', 'horehound', 'horibl', 'horid', 'horizen', 'horizon', 'horizont', 'horlick', 'hormel', 'hormon', 'hormorn', 'horn', 'hornel', 'hornet', 'horray', 'horrend', 'horriabl', 'horribl', 'horrid', 'horrif', 'horrifi', 'horror', 'hors', 'horseradich', 'horseradish', 'horseradishi', 'horsesho', 'horsey', 'horsford', 'horton', 'hos', 'hose', 'hospic', 'hospit', 'host', 'hostag', 'hostess', 'hostest', 'hostil', 'hosu', 'hoswick', 'hot', 'hotair', 'hotcak', 'hotdish', 'hotdog', 'hotel', 'hoter', 'hotest', 'hotic', 'hotlin', 'hotpod', 'hotr', 'hotsauc', 'hotsi', 'hott', 'hotter', 'hottest', 'hotti', 'hottier', 'hotting', 'hottop', 'hotttt', 'hotw', 'houe', 'hound', 'hour', 'hoursflip', 'hous', 'houseboat', 'housebound', 'housebroken', 'housecat', 'houseguest', 'household', 'housekeep', 'housem', 'housepl', 'housesit', 'housewarm', 'housewhol', 'houston', 'houte', 'houtt', 'hover', 'howard', 'howbeit', 'howdi', 'howe', 'howel', 'howev', 'howevw', 'howl', 'howmuch', 'howrd', 'howver', 'hoya', 'hoyo', 'hpe', 'hplc', 'hrh', 'hrs', 'hsh', 'hsn', 'htb', 'hte', 'htey', 'hth', 'hting', 'htis', 'html', 'htought', 'huangjinggui', 'huangshan', 'huangyan', 'hub', 'huband', 'hubba', 'hubbard', 'hubbi', 'hubri', 'huckelberri', 'huckleberri', 'huddl', 'hudson', 'hudsonvill', 'hue', 'huevo', 'huey', 'huf', 'hug', 'huge', 'huger', 'hugest', 'hugg', 'hugger', 'hugh', 'hugrygirl', 'huh', 'hulk', 'hull', 'hullabaloo', 'hulless', 'hulli', 'hullless', 'hum', 'huma', 'humalog', 'human', 'humanitarian', 'humanoid', 'humanologist', 'humbl', 'humboldt', 'humdrum', 'humect', 'humid', 'humidifi', 'humidor', 'humili', 'humm', 'humma', 'hummel', 'hummer', 'hummingbird', 'hummo', 'hummous', 'hummus', 'humong', 'humongo', 'humor', 'hump', 'humpf', 'humus', 'hunan', 'hunch', 'hund', 'hunden', 'hundenflocken', 'hundr', 'hung', 'hungari', 'hungarian', 'hungarianbookstor', 'hunger', 'hungiez', 'hungov', 'hungri', 'hungrier', 'hunk', 'hunker', 'hunt', 'hunter', 'huntley', 'huntress', 'hunza', 'hurley', 'hurrah', 'hurray', 'hurrel', 'hurri', 'hurricain', 'hurrican', 'hurt', 'husbad', 'husband', 'husbandri', 'husbaqnd', 'husbnd', 'husbund', 'hush', 'husk', 'huski', 'husseini', 'hustl', 'hut', 'hutch', 'hutcheson', 'huuuuuuuug', 'huy', 'huyben', 'hwve', 'hyatt', 'hybrid', 'hydantoin', 'hyde', 'hyderabad', 'hyderabadi', 'hydoxicut', 'hydrant', 'hydrat', 'hydraul', 'hydro', 'hydrochlor', 'hydrochlorid', 'hydroclorid', 'hydrodgen', 'hydrog', 'hydrogen', 'hydrogent', 'hydrogin', 'hydrogon', 'hydrol', 'hydrolysi', 'hydrolyz', 'hydromet', 'hydron', 'hydrophob', 'hydropon', 'hydroscop', 'hydrotherapist', 'hydrox', 'hydroxcholorid', 'hydroxi', 'hydroxid', 'hydroxogen', 'hydroxyl', 'hydroxytoluen', 'hydroxytyrosol', 'hygien', 'hygienist', 'hyman', 'hype', 'hyper', 'hyperact', 'hyperbol', 'hyperbolium', 'hyperglycem', 'hyperglycemia', 'hyperinsulinemia', 'hyperlink', 'hypermagnesemia', 'hyperpiesia', 'hypersensit', 'hypersweet', 'hypertens', 'hyperthroid', 'hyperthyrit', 'hyperthyroid', 'hypertriglyceridemia', 'hyploglycem', 'hypnosi', 'hypnot', 'hypoallergen', 'hypocrit', 'hypoderm', 'hypoglocem', 'hypoglycem', 'hypoglycemia', 'hypogycem', 'hypogycemia', 'hypothalamus', 'hypothyroid', 'hyrdogen', 'hyrdrat', 'hyster', 'hyve', 'hznt', 'iaam', 'ialso', 'iam', 'iamb', 'ian', 'iarc', 'ib', 'ibarra', 'ibc', 'ibd', 'iberico', 'ibor', 'ibrik', 'ibuprofen', 'ican', 'iccho', 'ice', 'iceberg', 'icebox', 'icebreak', 'icecream', 'icecub', 'iceland', 'icepack', 'icetea', 'ich', 'ichi', 'ichiban', 'ichthyosi', 'ici', 'icicl', 'icio', 'ick', 'ickey', 'icki', 'icnlud', 'icon', 'icosahedr', 'icu', 'id', 'ida', 'idaeus', 'idaho', 'idea', 'ideal', 'idem', 'ident', 'identif', 'identifi', 'ideolog', 'idestruct', 'idiazab', 'idiot', 'idioz', 'idividu', 'idk', 'idl', 'idol', 'idyl', 'ie', 'ier', 'iew', 'ifeel', 'iffi', 'ifoam', 'iga', 'ige', 'igg', 'ightweight', 'igloo', 'ignomini', 'ignor', 'igot', 'igourmet', 'iguana', 'ihav', 'iherb', 'ihop', 'iiam', 'iican', 'iick', 'iii', 'ijera', 'ijit', 'ijust', 'ike', 'ikea', 'ikeda', 'ikura', 'ileg', 'ileostomi', 'iliada', 'iliv', 'ilk', 'ill', 'illeg', 'illegitim', 'illi', 'illicit', 'illinoi', 'illiteraci', 'illog', 'illumin', 'illus', 'illusori', 'illustr', 'ilo', 'imac', 'imag', 'imagain', 'imageri', 'imagin', 'imaginari', 'imagn', 'imat', 'imbal', 'imbed', 'imbib', 'imbu', 'ime', 'imedi', 'imediatley', 'imers', 'imfami', 'imho', 'imit', 'imiti', 'immacul', 'immateri', 'immatur', 'immead', 'immeadi', 'immeadiat', 'immeasur', 'immedi', 'immedialt', 'immediat', 'immediatley', 'immedieat', 'immens', 'immensli', 'immers', 'immid', 'immidi', 'immigr', 'immin', 'immit', 'immmun', 'immodest', 'immor', 'immort', 'immposs', 'immun', 'imo', 'imodium', 'impact', 'impair', 'impal', 'impart', 'imparti', 'impass', 'impati', 'impec', 'impecc', 'imped', 'impedi', 'impel', 'impenatr', 'imper', 'imperfect', 'imperi', 'imperson', 'impervi', 'impess', 'impetus', 'implement', 'impli', 'implic', 'implor', 'impolit', 'import', 'importan', 'impos', 'imposit', 'imposs', 'impost', 'impostor', 'impot', 'impract', 'imprecis', 'impress', 'impressa', 'impression', 'imprint', 'impromptu', 'improp', 'improv', 'improvememnt', 'improvememt', 'improvis', 'impt', 'impuls', 'impur', 'imtermitt', 'in', 'ina', 'inabl', 'inaccur', 'inact', 'inadequ', 'inadequaci', 'inadequt', 'inadvert', 'inaka', 'inan', 'inappropri', 'inari', 'inasmuch', 'inattent', 'inaud', 'inaugur', 'inbed', 'inbetween', 'inbreed', 'inc', 'inca', 'incan', 'incandes', 'incandesc', 'incanto', 'incapacit', 'incarn', 'incas', 'inccompet', 'incens', 'incent', 'incentivis', 'incept', 'incess', 'inch', 'incid', 'incident', 'incipi', 'incis', 'incl', 'inclan', 'inclin', 'inclinc', 'inclind', 'includ', 'includin', 'inclus', 'incluso', 'incognito', 'incom', 'incompar', 'incompet', 'incompetit', 'incomplet', 'inconceiv', 'incondes', 'inconsequenti', 'inconsist', 'inconsol', 'inconst', 'incontin', 'incontrovert', 'inconvein', 'inconveni', 'inconveniet', 'inconvi', 'inconvien', 'incopor', 'incorper', 'incorpor', 'incorrect', 'increas', 'incred', 'incredi', 'increment', 'incriment', 'incrimin', 'incub', 'incud', 'incumb', 'incur', 'inde', 'indecipher', 'indefin', 'indefinit', 'indegst', 'indel', 'indent', 'independ', 'indepth', 'inderect', 'indescrib', 'indespens', 'indestruct', 'index', 'indgest', 'indgredi', 'indi', 'india', 'indian', 'indiana', 'indianapoli', 'indic', 'indica', 'indicatour', 'indicit', 'indicum', 'indiffer', 'indig', 'indigen', 'indigest', 'indigo', 'indirect', 'indiscern', 'indiscreet', 'indiscress', 'indiscrimin', 'indispens', 'indistiguish', 'indistinct', 'indistinguish', 'indistruct', 'indivdu', 'individ', 'individu', 'individual', 'individuali', 'individualist', 'individud', 'indiviud', 'indivu', 'indivud', 'indoctrin', 'indomi', 'indonesia', 'indonesian', 'indonsia', 'indoor', 'indor', 'indors', 'indredi', 'indregi', 'indsid', 'induc', 'induct', 'indulg', 'indus', 'industr', 'industri', 'industrialist', 'indvidu', 'indybear', 'ine', 'ineat', 'ined', 'ineedcoffe', 'ineeka', 'ineff', 'ineffect', 'ineffici', 'ineleg', 'inelig', 'inept', 'ineptitud', 'inequ', 'inequip', 'inert', 'inevit', 'inexact', 'inexcus', 'inexor', 'inexpedi', 'inexpens', 'inexperi', 'inexperienc', 'inexpert', 'inexpes', 'inexpic', 'inexpier', 'inexplic', 'inez', 'infact', 'infam', 'infamil', 'infant', 'infantil', 'infarct', 'infatu', 'infect', 'infecti', 'infer', 'inferior', 'inferiour', 'infern', 'inferno', 'infertil', 'infest', 'infiltr', 'infin', 'infinit', 'infinitum', 'infirm', 'inflam', 'inflamationari', 'inflamatori', 'inflamm', 'inflammatori', 'inflat', 'inflict', 'infloor', 'influenc', 'influx', 'info', 'infomerc', 'infomerci', 'inform', 'informaton', 'informt', 'informtaion', 'infotan', 'infrar', 'infrequ', 'infuri', 'infus', 'infuserful', 'infuss', 'infuzion', 'ing', 'ingedi', 'ingeni', 'ingenu', 'ingenuitea', 'ingest', 'ingl', 'inglehoff', 'ingr', 'ingread', 'ingreadi', 'ingred', 'ingredi', 'ingredit', 'ingregid', 'ingreid', 'ingrid', 'ingridi', 'ingriedi', 'ingross', 'inhabit', 'inhal', 'inhanc', 'inher', 'inherit', 'inhibit', 'inhibitor', 'inhomogen', 'inhuman', 'inida', 'inidan', 'inimit', 'ininiti', 'init', 'initallli', 'initi', 'initit', 'inject', 'injector', 'injera', 'injest', 'injoy', 'injun', 'injur', 'injuri', 'injustic', 'ink', 'inka', 'inki', 'inkl', 'inko', 'inland', 'inlaw', 'inlieu', 'inlud', 'inn', 'innard', 'innat', 'inner', 'innermost', 'inning', 'innless', 'innoat', 'innoc', 'innocu', 'innov', 'innova', 'innumer', 'inoffens', 'inordin', 'inorgan', 'inosin', 'inositol', 'inova', 'inpli', 'inpress', 'inprov', 'input', 'inquir', 'inquiri', 'inquisit', 'inqusit', 'inredi', 'insan', 'insati', 'insect', 'insecticid', 'insecur', 'insensit', 'insert', 'inset', 'insfus', 'insid', 'insidi', 'insight', 'insignific', 'insinu', 'insipid', 'insist', 'insofar', 'insolubl', 'insomnia', 'insomniac', 'inspect', 'inspector', 'inspir', 'inspit', 'inst', 'instal', 'instanc', 'instand', 'instant', 'instantan', 'instead', 'instens', 'instent', 'instig', 'instil', 'instinct', 'instinctu', 'instist', 'institut', 'institution', 'instock', 'instor', 'instrcut', 'instruct', 'instructor', 'instructuion', 'instrument', 'instuct', 'insubstanti', 'insuffer', 'insuffici', 'insukin', 'insul', 'insulin', 'insult', 'insur', 'insurg', 'int', 'intact', 'intak', 'intead', 'integ', 'integr', 'integreti', 'intellectu', 'intellegentsia', 'intellig', 'intelligentsia', 'intemper', 'intend', 'intens', 'intensif', 'intensifi', 'intent', 'intenti', 'inter', 'interact', 'interceptor', 'interchang', 'interes', 'interest', 'interestng', 'interf', 'interfac', 'interfer', 'interferon', 'intergr', 'interim', 'interior', 'interlock', 'intermedi', 'intermediari', 'intermin', 'intermingl', 'intermitt', 'intermuscular', 'intern', 'internatur', 'internet', 'interper', 'interperson', 'interpret', 'interrest', 'interrupt', 'intersect', 'interspers', 'interst', 'interstiti', 'intertwin', 'interv', 'interven', 'intervent', 'interview', 'interweb', 'interwov', 'intes', 'intesifi', 'intest', 'intestin', 'inth', 'intial', 'intil', 'intim', 'intimad', 'intimd', 'intimid', 'intit', 'intiti', 'intoduct', 'intoler', 'intoller', 'intolor', 'inton', 'intox', 'intranet', 'intrest', 'intric', 'intrigu', 'intrins', 'intriqu', 'intro', 'introduc', 'introduct', 'introductori', 'intrud', 'intrus', 'intsant', 'intuit', 'intybus', 'inu', 'inudstri', 'inulin', 'inund', 'invad', 'invalid', 'invalu', 'invar', 'invari', 'invas', 'invat', 'invent', 'inventor', 'inventori', 'invers', 'invert', 'invest', 'investig', 'inveter', 'invididu', 'invidu', 'invigor', 'invis', 'invit', 'inviti', 'invlov', 'invoic', 'invok', 'involuntari', 'involuntarili', 'involv', 'inward', 'iodat', 'iodid', 'iodin', 'iodiz', 'ion', 'ionian', 'ionic', 'ionize', 'iota', 'iowa', 'ipa', 'iperespresso', 'ipm', 'ipo', 'ipod', 'ipp', 'ipsa', 'ira', 'iranian', 'iraq', 'iraqi', 'ire', 'ireland', 'iri', 'iris', 'irish', 'irk', 'irksom', 'irland', 'irn', 'iron', 'ironb', 'ironi', 'ironman', 'ironwood', 'ironwork', 'irradi', 'irrat', 'irregular', 'irrelev', 'irrepair', 'irreplac', 'irresist', 'irresit', 'irrespect', 'irrespons', 'irrest', 'irrever', 'irrig', 'irrisist', 'irrit', 'irv', 'irvin', 'isador', 'isak', 'isaro', 'isbn', 'iself', 'iseniz', 'ish', 'isin', 'isl', 'islam', 'island', 'islay', 'isnt', 'isoflavon', 'isol', 'isomalt', 'isomaltulos', 'isomil', 'isong', 'isopropanol', 'isopur', 'isoton', 'isra', 'israel', 'issu', 'issus', 'ist', 'ista', 'istanbul', 'istead', 'istimewa', 'ita', 'itaian', 'itali', 'italia', 'italiam', 'italian', 'italiano', 'italien', 'itallian', 'itc', 'itch', 'itcher', 'itchi', 'itchin', 'itchmoforum', 'iteam', 'item', 'iten', 'iter', 'iterest', 'itfot', 'ithaca', 'itialian', 'itm', 'itmi', 'ito', 'itoen', 'itsgreat', 'itslef', 'itsmel', 'itsself', 'itti', 'itup', 'itw', 'itza', 'iv', 'ivan', 'ivd', 'ive', 'ivernia', 'ivi', 'ivori', 'ivorysoul', 'iwa', 'iwil', 'iwish', 'iyidir', 'iykwim', 'izakaya', 'izz', 'izzard', 'izzi', 'için', 'jab', 'jabenero', 'jablum', 'jac', 'jack', 'jacket', 'jackfruit', 'jacki', 'jackpot', 'jackson', 'jacksonhol', 'jacksonvill', 'jacktempchin', 'jacob', 'jacosta', 'jacqu', 'jacquelin', 'jacuzzi', 'jade', 'jadranka', 'jaffa', 'jag', 'jager', 'jaguar', 'jahren', 'jail', 'jake', 'jakeman', 'jakob', 'jal', 'jalapano', 'jalapeno', 'jalepano', 'jalepenjo', 'jalepeno', 'jalepino', 'jalepno', 'jalfrezi', 'jalopeno', 'jam', 'jamacia', 'jamacian', 'jamaica', 'jamaican', 'jamba', 'jambalaya', 'jambo', 'jame', 'jameson', 'jamestown', 'jamesvill', 'jami', 'jamiaca', 'jammi', 'jamocha', 'jamon', 'jan', 'jane', 'janeiro', 'janet', 'jang', 'janitor', 'januari', 'jap', 'japan', 'japanes', 'japaness', 'japans', 'japanses', 'japantown', 'japapeno', 'japenes', 'japonais', 'japonica', 'japonnica', 'jar', 'jarabout', 'jarblum', 'jardin', 'jare', 'jargon', 'jarlsberg', 'jarrito', 'jarrow', 'jasemin', 'jasimin', 'jasmati', 'jasmin', 'jason', 'jaundic', 'java', 'javahol', 'javalim', 'javamonst', 'javan', 'javapod', 'jaw', 'jawbon', 'jawbreak', 'jawbust', 'jawin', 'jax', 'jay', 'jayon', 'jaypaul', 'jaywalk', 'jazz', 'jazzi', 'jazzmeen', 'jbm', 'jcpenney', 'jcs', 'jealous', 'jealousi', 'jean', 'jeani', 'jeann', 'jedi', 'jee', 'jeep', 'jeeper', 'jeez', 'jeff', 'jefferey', 'jefferi', 'jefferson', 'jeffrey', 'jel', 'jelatin', 'jell', 'jelli', 'jello', 'jellow', 'jellybean', 'jellybelli', 'jellyfish', 'jelous', 'jemima', 'jemimah', 'jenkem', 'jenni', 'jennif', 'jensen', 'jeopardi', 'jeremiah', 'jerez', 'jerimiah', 'jerk', 'jerkey', 'jerki', 'jerque', 'jerri', 'jersey', 'jerusalem', 'jessi', 'jestur', 'jesus', 'jet', 'jetboil', 'jetzt', 'jew', 'jewel', 'jewelri', 'jewish', 'jfc', 'jfk', 'jhm', 'jif', 'jiff', 'jiffi', 'jig', 'jigg', 'jigger', 'jiggl', 'jiggler', 'jiic', 'jijona', 'jila', 'jim', 'jimi', 'jimme', 'jimmi', 'jimmine', 'jindo', 'jing', 'jingl', 'jinx', 'jip', 'jipin', 'jit', 'jitter', 'jitterbean', 'jitteri', 'jitteryfeel', 'jiuc', 'jiva', 'jivalim', 'jive', 'jiveal', 'jivealim', 'joann', 'joanna', 'joaquin', 'job', 'jobber', 'jobsit', 'jocalat', 'jockey', 'jodi', 'joe', 'joebonsai', 'joel', 'joesph', 'joey', 'jog', 'john', 'johnni', 'johnson', 'johnsonvill', 'johnston', 'joic', 'join', 'joint', 'jojo', 'jojoba', 'joke', 'joker', 'jolla', 'jolli', 'jolokai', 'jolokia', 'jolt', 'jon', 'jona', 'jone', 'jones', 'jonesin', 'jonni', 'jook', 'joop', 'joray', 'joraycandi', 'jordan', 'jordanian', 'jorg', 'jornada', 'jortikka', 'jose', 'joseph', 'josephin', 'josey', 'josh', 'josi', 'jostl', 'jot', 'jouic', 'joul', 'journal', 'journalist', 'journey', 'jovial', 'jowl', 'joy', 'joyous', 'joyva', 'joyvah', 'joz', 'jpg', 'jrmushroom', 'jrt', 'jsp', 'jsut', 'jtc', 'juan', 'juanita', 'juar', 'jubile', 'jucic', 'jucier', 'juciest', 'juda', 'jude', 'judg', 'judgement', 'judgment', 'judi', 'judici', 'judyk', 'jug', 'jugalbandi', 'juggl', 'juic', 'juicei', 'juicer', 'juicey', 'juici', 'juicier', 'juiciest', 'juicyfruit', 'juicyjuic', 'juiic', 'juju', 'jujub', 'jukebox', 'julann', 'jule', 'julep', 'juli', 'julia', 'julian', 'julien', 'julienn', 'juliet', 'julius', 'jumbl', 'jumbo', 'jumbon', 'jump', 'jumper', 'jumpi', 'jumpstart', 'junctur', 'june', 'juneau', 'jungl', 'junior', 'junip', 'junk', 'junket', 'junkfood', 'junki', 'juno', 'junqu', 'junshan', 'jura', 'juri', 'jurki', 'jus', 'jusi', 'just', 'justi', 'justic', 'justif', 'justifi', 'justin', 'jut', 'jute', 'juuuust', 'juvenil', 'jvc', 'jvs', 'jyoti', 'kabab', 'kabob', 'kaboodl', 'kabul', 'kadhi', 'kadoya', 'kaffeestund', 'kaffir', 'kafka', 'kahlua', 'kahn', 'kahula', 'kahv', 'kahvesi', 'kai', 'kaia', 'kaimal', 'kairo', 'kaiser', 'kaki', 'kal', 'kalahari', 'kalamata', 'kalamazoo', 'kalata', 'kale', 'kalua', 'kaluha', 'kalustyan', 'kalyustan', 'kama', 'kame', 'kameda', 'kampeki', 'kamut', 'kandi', 'kangaroo', 'kaniwa', 'kansa', 'kansai', 'kantrowitz', 'kaoliang', 'kap', 'kapha', 'kara', 'karahi', 'karaj', 'karaok', 'karat', 'kare', 'karen', 'kari', 'karl', 'karma', 'karo', 'kasey', 'kash', 'kasha', 'kashi', 'kashmir', 'kashmiri', 'kashrus', 'kasia', 'kasilof', 'kasseri', 'kasten', 'kasugai', 'kat', 'katamala', 'katchup', 'kate', 'katharena', 'kathi', 'kathryn', 'kati', 'katrina', 'katsudon', 'katsuo', 'katsuobushi', 'katt', 'katzan', 'katzenflocken', 'kaua', 'kauai', 'kaufen', 'kauffman', 'kauflin', 'kava', 'kavalacton', 'kaviar', 'kavier', 'kavla', 'kavli', 'kay', 'kaya', 'kayak', 'kayle', 'kbr', 'kcal', 'kcalori', 'kcc', 'kcl', 'kcup', 'kcupresult', 'kds', 'kea', 'keaton', 'kebab', 'kebap', 'kecap', 'kechup', 'kedem', 'kee', 'keebler', 'keeep', 'keek', 'keel', 'keem', 'keemah', 'keemum', 'keemun', 'keen', 'keenam', 'keenan', 'keenest', 'keenwa', 'keep', 'keeper', 'keepin', 'keepsak', 'keesh', 'keeshon', 'keeshond', 'keeurig', 'keffir', 'kefir', 'keg', 'keifer', 'keiller', 'kein', 'keinz', 'keir', 'keister', 'keith', 'keller', 'kelley', 'kelli', 'kellog', 'kellogg', 'kelp', 'kelpi', 'kelsey', 'kelvin', 'kemper', 'ken', 'kenai', 'kenco', 'kendal', 'kendrel', 'kennedi', 'kennel', 'kenoli', 'kenosha', 'kent', 'kentucki', 'kenya', 'kenyan', 'kenyon', 'kepp', 'kept', 'kerala', 'keratosi', 'kericho', 'kern', 'kernal', 'kernel', 'kernelli', 'kerosin', 'kerri', 'kerrygold', 'kershaw', 'keruig', 'kessler', 'kest', 'kestekidi', 'kestyn', 'keta', 'ketchup', 'ketchupi', 'ketjap', 'ketogen', 'keton', 'ketosi', 'ketsup', 'kettl', 'kettlecorn', 'keur', 'keureg', 'keurig', 'kevin', 'kew', 'kewl', 'kewpi', 'key', 'keyboard', 'keylim', 'keyword', 'kfc', 'kgs', 'kha', 'khalua', 'khan', 'khatta', 'khing', 'khmer', 'khoi', 'kia', 'kibbl', 'kicap', 'kick', 'kickback', 'kickbal', 'kickbox', 'kicker', 'kicki', 'kickin', 'kid', 'kiddi', 'kiddin', 'kiddo', 'kidney', 'kidz', 'kielbasa', 'kiev', 'kihei', 'kiki', 'kikkoman', 'kikland', 'kikoman', 'kikomn', 'kikuna', 'kili', 'kill', 'killer', 'kilo', 'kilogram', 'kilojoul', 'kilomet', 'kilometro', 'kim', 'kimbal', 'kimber', 'kimberl', 'kimbo', 'kimche', 'kimchi', 'kimi', 'kimssa', 'kincaid', 'kind', 'kinda', 'kinder', 'kinderbueno', 'kindergarten', 'kindergartern', 'kindergartn', 'kindest', 'kindey', 'kindl', 'kindli', 'kindof', 'kinduh', 'kinduv', 'kine', 'kinesiolog', 'kinesthesia', 'king', 'kingdom', 'kingston', 'kinickinnick', 'kink', 'kinki', 'kinnick', 'kinnikinnick', 'kinnikinnik', 'kinnitoo', 'kinship', 'kiosk', 'kipl', 'kipper', 'kir', 'kirbi', 'kirchtort', 'kirk', 'kirkcaldi', 'kirkland', 'kirkwal', 'kirono', 'kirsch', 'kirsti', 'kismet', 'kiss', 'kissel', 'kisser', 'kit', 'kitamu', 'kitchen', 'kitchenaid', 'kitchenless', 'kitchenwar', 'kite', 'kithen', 'kitkat', 'kitser', 'kitt', 'kitteh', 'kitten', 'kittenhood', 'kitti', 'kittizen', 'kiwi', 'kiwifruit', 'kix', 'klasiktir', 'klassic', 'klatch', 'klee', 'kleenex', 'kleenx', 'klein', 'klene', 'klik', 'klink', 'klonopin', 'klos', 'kluski', 'klute', 'klutz', 'kmart', 'knack', 'knackabrud', 'knapsack', 'knat', 'knave', 'knaw', 'knead', 'knee', 'kneed', 'kneel', 'knew', 'knick', 'knickknack', 'knife', 'knight', 'knighton', 'knish', 'knit', 'knive', 'kno', 'knob', 'knobbi', 'knobley', 'knock', 'knockin', 'knockoff', 'knockout', 'knor', 'knorr', 'knot', 'knotch', 'knott', 'knous', 'know', 'knowedg', 'knowledg', 'knowleg', 'knowlton', 'known', 'knox', 'knoxvill', 'knoxx', 'knuckl', 'knudsen', 'knwo', 'koala', 'koan', 'kobayashi', 'kobe', 'koda', 'kodiac', 'koenig', 'koez', 'kogelschatz', 'kohana', 'kohinoor', 'kohl', 'koi', 'koit', 'kojack', 'kojak', 'koko', 'kokomotea', 'kokuho', 'kola', 'kolkata', 'kombu', 'kombucha', 'komi', 'komodo', 'kona', 'konbu', 'konedog', 'kong', 'konjac', 'konriko', 'koobaburra', 'kook', 'kookabura', 'kookaburra', 'kookamunga', 'kooki', 'kool', 'koolad', 'koolaid', 'koon', 'kopali', 'kopi', 'kopiko', 'kopili', 'kopper', 'koquina', 'koran', 'korea', 'korean', 'koreatown', 'koriko', 'korintj', 'koriyama', 'korma', 'korn', 'korni', 'koroy', 'korr', 'koru', 'kos', 'kosciusko', 'kosher', 'koshi', 'kosho', 'koska', 'kousmichoff', 'kove', 'koyo', 'kozi', 'kpa', 'krab', 'krack', 'kracker', 'krackl', 'kraft', 'krauter', 'krave', 'krazi', 'kream', 'kreation', 'kreg', 'krema', 'kreme', 'kretschmer', 'krigsman', 'krimpet', 'kringa', 'kringl', 'krinkl', 'krino', 'kripi', 'kris', 'krishna', 'krisp', 'krispe', 'krispi', 'kristensraw', 'kroeger', 'kroenung', 'kroger', 'kronch', 'kronung', 'kropok', 'krueig', 'krumpet', 'kruncheez', 'krup', 'krupp', 'krupuk', 'kruspi', 'krusteaz', 'krusteez', 'krustz', 'ksa', 'ksar', 'ktc', 'ktla', 'kuan', 'kuchela', 'kuchen', 'kuchenmeist', 'kudo', 'kudog', 'kudu', 'kudzu', 'kuerig', 'kufchak', 'kugel', 'kugeln', 'kuhn', 'kuk', 'kukicha', 'kulik', 'kullen', 'kum', 'kun', 'kunati', 'kung', 'kup', 'kureba', 'kuri', 'kurig', 'kurobata', 'kuropok', 'kurt', 'kurukahveci', 'kushka', 'kusimi', 'kusmi', 'kuwait', 'kuwak', 'kwakiutl', 'kwan', 'kwaun', 'kwazulu', 'kwok', 'kwuan', 'kyiv', 'kyle', 'kyocera', 'kyoto', 'laasgna', 'lab', 'label', 'laber', 'labl', 'labor', 'laboratori', 'labori', 'labour', 'labrada', 'labradingo', 'labradoodl', 'labrador', 'labwork', 'labx', 'labyrinth', 'lac', 'lace', 'lacer', 'lacey', 'lack', 'lacklust', 'lacquat', 'lacquer', 'lacta', 'lactaid', 'lactas', 'lactat', 'lactic', 'lactitol', 'lacto', 'lactobacilli', 'lactobacillus', 'lactos', 'lad', 'ladden', 'ladder', 'laddi', 'laden', 'ladi', 'ladl', 'ladro', 'ladybug', 'ladyfing', 'ladyfriend', 'lafayett', 'laffi', 'lag', 'lagass', 'lager', 'lagniapp', 'laguna', 'lah', 'lahvosh', 'laid', 'laidlaw', 'laik', 'lair', 'laissez', 'lait', 'lajauni', 'lakanto', 'lake', 'lakehous', 'lakerol', 'lakesdi', 'lakesid', 'lakewood', 'laks', 'laksa', 'lam', 'lamaderm', 'lamb', 'lame', 'lament', 'lamer', 'lamin', 'lamington', 'lammi', 'lamp', 'lan', 'lana', 'lanc', 'lancashir', 'lancast', 'lancelot', 'land', 'landatori', 'landfil', 'landjag', 'landkaff', 'landlord', 'landmin', 'landranc', 'landscap', 'landslid', 'lane', 'lang', 'langenscheidt', 'langer', 'languag', 'languid', 'languish', 'lanka', 'lankan', 'lanki', 'lansdal', 'lansinoh', 'lantchip', 'lantern', 'lao', 'lap', 'lapband', 'lapdog', 'laphroaig', 'lapiana', 'lapin', 'laps', 'lapsang', 'lapsong', 'laptop', 'laquer', 'lar', 'lara', 'larabar', 'larchmont', 'lard', 'larder', 'lardi', 'larg', 'larga', 'largem', 'larger', 'largest', 'larget', 'largish', 'lark', 'larri', 'larva', 'larval', 'laryng', 'laryngopharyng', 'las', 'lasaffr', 'lasagn', 'lasagna', 'lasanga', 'lasapoo', 'laser', 'lasgna', 'lash', 'lasi', 'laska', 'lassen', 'lassi', 'lasst', 'last', 'lastest', 'lat', 'latch', 'late', 'latejuli', 'latempesta', 'later', 'laterz', 'latest', 'latex', 'latharg', 'lather', 'latin', 'latina', 'latino', 'latt', 'latte', 'latter', 'latti', 'lattic', 'latvia', 'laud', 'laudabl', 'laudemio', 'laugh', 'laughabl', 'laughfest', 'laughter', 'launch', 'launcher', 'laundri', 'laundryroom', 'laura', 'laurel', 'lauren', 'laurentii', 'laureth', 'lauri', 'lauric', 'lava', 'lavand', 'lavassa', 'lavatori', 'lavaza', 'lavazaza', 'lavazza', 'lavazzo', 'lavblu', 'lavend', 'lavendar', 'lavened', 'laver', 'lavis', 'lavish', 'lavl', 'lavor', 'law', 'lawd', 'lawn', 'lawnmow', 'lawrenc', 'lawrey', 'lawri', 'lawyer', 'lax', 'laxat', 'laxaton', 'laxit', 'lay', 'laydown', 'layer', 'layla', 'layman', 'layoff', 'layton', 'lazi', 'lazier', 'laziest', 'laziz', 'lazt', 'lazzaroni', 'lbs', 'lbw', 'lcd', 'ldh', 'ldl', 'lds', 'lea', 'leach', 'lead', 'leaden', 'leader', 'leadership', 'leaf', 'leafelet', 'leafhopp', 'leafi', 'leafless', 'leaflet', 'leagu', 'leah', 'leak', 'leakag', 'leaki', 'lean', 'leandro', 'leaner', 'leanest', 'leantreat', 'leap', 'leapt', 'lear', 'leari', 'learn', 'learner', 'learnt', 'leas', 'leash', 'least', 'leasur', 'leat', 'leather', 'leatheri', 'leatherwood', 'leav', 'leaven', 'lebaen', 'lebanes', 'lebanon', 'lebkuchen', 'leccino', 'lech', 'lechem', 'lechera', 'lecheyim', 'lechithin', 'lechitin', 'lecithin', 'lectin', 'lectur', 'led', 'ledg', 'lee', 'leech', 'leed', 'leef', 'leek', 'leeper', 'leeri', 'leeson', 'leevel', 'leeway', 'left', 'lefti', 'leftov', 'leg', 'legal', 'legalees', 'leganza', 'legend', 'legendari', 'legion', 'legionniar', 'legisl', 'legit', 'legitim', 'lego', 'legum', 'lehman', 'lehua', 'leib', 'leibniz', 'leid', 'leisur', 'leke', 'lekvar', 'lelit', 'lemion', 'lemm', 'lemmon', 'lemon', 'lemonad', 'lemonaid', 'lemonais', 'lemoney', 'lemongrass', 'lemonhead', 'lemoni', 'lend', 'lenexa', 'lenght', 'lenghti', 'length', 'lengthen', 'lengthi', 'lengthier', 'lengthwis', 'lenient', 'lenoir', 'lens', 'lent', 'lental', 'lenteja', 'lentgh', 'lenticular', 'lentil', 'leo', 'leomn', 'leon', 'leonard', 'leonardi', 'leonardo', 'leonberg', 'leonida', 'leopard', 'leprechaun', 'lept', 'leroux', 'les', 'lesaffr', 'lesion', 'lesley', 'less', 'lessd', 'lessen', 'lesser', 'lesserevil', 'lessman', 'lesson', 'lest', 'let', 'letdown', 'lethal', 'letharg', 'lethargi', 'lethecin', 'letherg', 'letherwood', 'letil', 'letm', 'lett', 'lettac', 'letter', 'lettic', 'lettiuc', 'lettuc', 'leukemia', 'leve', 'level', 'leven', 'levenbaum', 'lever', 'leverag', 'levi', 'levillag', 'levit', 'levon', 'levu', 'lewi', 'lewkowitz', 'lexii', 'lexington', 'lexus', 'lezzeti', 'lezzo', 'lga', 'lhasa', 'lhaso', 'liabil', 'liabl', 'liar', 'lib', 'libat', 'libbi', 'liber', 'liberia', 'liberti', 'libido', 'liboria', 'librari', 'lice', 'licenc', 'licens', 'liceri', 'liche', 'lichi', 'lichtenstein', 'lick', 'licken', 'licker', 'lickin', 'lickkitti', 'licorac', 'licorc', 'licorett', 'licoric', 'licorich', 'licoris', 'lid', 'lidia', 'lido', 'lie', 'liek', 'lieter', 'lieu', 'life', 'lifebit', 'lifeboat', 'lifecycl', 'lifeless', 'lifelik', 'lifelin', 'lifelong', 'lifesav', 'lifesourc', 'lifespan', 'lifestag', 'lifestyl', 'lifetim', 'lifewat', 'lift', 'lifter', 'ligament', 'light', 'lightbulb', 'lighten', 'lighter', 'lightest', 'lightheaded', 'lighthous', 'lighti', 'lightish', 'lightless', 'lightn', 'lightpost', 'lightweight', 'lignan', 'lignt', 'liguin', 'liisa', 'liitl', 'lijang', 'lijjat', 'lik', 'likabl', 'like', 'likeabl', 'likelihood', 'liken', 'likewis', 'likk', 'liks', 'likt', 'lil', 'lilac', 'lili', 'lilikoi', 'lilli', 'lillipop', 'lima', 'limb', 'limbaugh', 'lime', 'limead', 'limet', 'limey', 'limit', 'limitless', 'limmit', 'limo', 'limon', 'limonad', 'limonada', 'limonata', 'limoncella', 'limoncello', 'limp', 'limpia', 'limpli', 'lin', 'lincet', 'lincoln', 'linda', 'linden', 'lindo', 'lindor', 'lindt', 'line', 'lineag', 'lineal', 'lineari', 'linen', 'liner', 'lineup', 'linger', 'lingo', 'lingon', 'lingonberri', 'linguin', 'linguini', 'link', 'linkett', 'linki', 'linn', 'linni', 'linol', 'linolen', 'linoleum', 'linse', 'lint', 'lion', 'liopic', 'lip', 'lipas', 'lipbalm', 'lipid', 'lipidologist', 'lipil', 'lipitor', 'lipman', 'lipo', 'lipophil', 'lipoprotein', 'lipsmack', 'lipstick', 'liption', 'lipton', 'liptor', 'liptun', 'liqour', 'liquafe', 'liquamen', 'liquefi', 'liqueor', 'liquer', 'liqueur', 'liqueurlik', 'liqufi', 'liquid', 'liquidi', 'liquifi', 'liquor', 'liquoric', 'liquorish', 'liquot', 'liquour', 'liqur', 'lisa', 'lish', 'lisitng', 'list', 'listen', 'lister', 'listerin', 'listless', 'listmania', 'lit', 'litani', 'litchi', 'lite', 'liter', 'literari', 'literatur', 'litl', 'litll', 'litmus', 'litpon', 'litr', 'litt', 'littel', 'litter', 'litterbox', 'litterm', 'littl', 'littler', 'littlest', 'livabl', 'livanto', 'live', 'liveli', 'liven', 'liver', 'liveri', 'liverpool', 'liverwurst', 'livestock', 'livin', 'livingwithbug', 'liyaqat', 'liz', 'lizano', 'lizard', 'lizzi', 'ljubljana', 'lke', 'lkes', 'llasa', 'llc', 'llike', 'lll', 'llm', 'llu', 'lna', 'loa', 'load', 'loadedwith', 'loaf', 'loal', 'loam', 'loan', 'loanword', 'loath', 'loathsom', 'loav', 'lobbi', 'lobbyist', 'lobe', 'lobo', 'lobster', 'loc', 'loca', 'local', 'locali', 'locat', 'locavor', 'loce', 'lock', 'locker', 'loco', 'locoric', 'loct', 'lodg', 'loeffelbisquit', 'lof', 'loft', 'log', 'logan', 'loganberri', 'logcabinsyrup', 'logic', 'login', 'logist', 'logjam', 'logo', 'loin', 'loiter', 'loiv', 'lok', 'lokum', 'lol', 'lola', 'lolipop', 'lolli', 'lollicup', 'lollipo', 'lollipop', 'lolllipop', 'lollyphil', 'lollypop', 'loma', 'lomein', 'lomo', 'lond', 'london', 'lone', 'loneliest', 'loner', 'lonesom', 'long', 'longbottom', 'longbrachiatum', 'longcoat', 'longenough', 'longer', 'longest', 'longev', 'longggg', 'longhair', 'longhorn', 'longibrachiatum', 'longish', 'longj', 'longlast', 'longmont', 'longshot', 'longstand', 'longterm', 'longtim', 'longum', 'lonnnnng', 'loo', 'loofah', 'look', 'lookin', 'lookout', 'loom', 'looney', 'looni', 'loook', 'looong', 'looonnggg', 'looonnngggg', 'loooog', 'loooong', 'looooong', 'loooooong', 'looooooooooong', 'looooooooooooooooooooooong', 'loooooooooooov', 'loooooooooov', 'looooooooov', 'looooooooovvvvvvv', 'looooooov', 'loooooov', 'looooov', 'looooovessssssss', 'looooovvvveee', 'loooov', 'looop', 'looos', 'looov', 'loop', 'loopi', 'loos', 'looseleaf', 'loosen', 'looser', 'loosey', 'loosley', 'loosli', 'lop', 'lopez', 'lopsid', 'loquitor', 'lorain', 'lorann', 'lord', 'lore', 'loren', 'lorenza', 'lorenzen', 'lorenzo', 'loret', 'lori', 'lorna', 'lorrain', 'los', 'lose', 'loser', 'loss', 'lost', 'lot', 'lotion', 'lotsa', 'lott', 'lotta', 'lotteri', 'lotus', 'lou', 'louck', 'loud', 'louder', 'loui', 'louie', 'louis', 'louisana', 'louisiana', 'louisianna', 'louisvill', 'loung', 'lous', 'lousi', 'lousiest', 'lovabl', 'love', 'loveabl', 'lovecraft', 'loveeee', 'lovein', 'lovejoy', 'lovejoyfit', 'loveli', 'loveliest', 'lover', 'loverss', 'lovey', 'lovin', 'lovvvv', 'low', 'lowcarb', 'lowcarbfriend', 'lower', 'loweri', 'lowest', 'lowestcharg', 'lowfat', 'lowli', 'lowney', 'lowrey', 'lox', 'loxi', 'loyal', 'loyalist', 'loyalti', 'lozeng', 'lpf', 'lpr', 'lqqk', 'lrger', 'lsat', 'lsbel', 'lsd', 'lsitng', 'lst', 'lsu', 'ltd', 'lthat', 'ltr', 'lttle', 'luau', 'lube', 'lubeck', 'luben', 'lubi', 'lubric', 'lucaff', 'lucern', 'luch', 'luci', 'lucia', 'lucian', 'lucianno', 'lucid', 'lucida', 'lucini', 'lucious', 'luck', 'lucki', 'luckier', 'luckiest', 'luckili', 'lucqu', 'lucsious', 'luden', 'ludicr', 'ludlow', 'lug', 'luger', 'luggag', 'lui', 'luican', 'luke', 'luker', 'lukewarm', 'lull', 'lullabi', 'lulu', 'lumber', 'lumen', 'lumin', 'lump', 'lumpfish', 'lumpfre', 'lumpi', 'lumpier', 'lumpless', 'luna', 'lunaci', 'lunardi', 'lunch', 'lunchabl', 'lunchandbeyond', 'lunchbag', 'lunchbox', 'luncheon', 'lunchmeat', 'lunchroom', 'lunchtim', 'lunck', 'lundberg', 'lundgren', 'lundt', 'lunestra', 'lung', 'lungo', 'luo', 'lupi', 'lupini', 'lupus', 'lure', 'lurk', 'lurpak', 'lurri', 'lus', 'luscious', 'lush', 'lust', 'luster', 'lustrous', 'lutefisk', 'luteus', 'lutheran', 'luuuuuv', 'luv', 'luwak', 'lux', 'luxardo', 'luxembourg', 'luxor', 'luxuor', 'luxuri', 'luziann', 'lve', 'lycasin', 'lyceum', 'lyche', 'lycopen', 'lydia', 'lye', 'lyle', 'lyme', 'lymph', 'lymphat', 'lymphocyt', 'lymphoma', 'lyn', 'lynch', 'lynchburg', 'lynda', 'lynn', 'lynnett', 'lyon', 'lyric', 'lysand', 'lysin', 'lysol', 'lysteria', 'maamoul', 'maarten', 'mabel', 'mabo', 'mac', 'maca', 'macabr', 'macadamia', 'macadamian', 'macadamiat', 'macademia', 'macaroini', 'macaron', 'macaroni', 'macaroon', 'macasur', 'macaw', 'maccha', 'macchiato', 'macchiatto', 'macciaroni', 'macdonald', 'macdonnald', 'mace', 'macedonia', 'macer', 'macerada', 'mach', 'macha', 'machen', 'machet', 'machetto', 'machiato', 'machiatto', 'machin', 'machina', 'machinc', 'machineri', 'machinr', 'macho', 'macht', 'maci', 'macinato', 'mack', 'macker', 'mackerel', 'macki', 'mackintosh', 'macmat', 'macro', 'macrobar', 'macrobiologist', 'macrobiot', 'macroni', 'mad', 'mada', 'madagascar', 'madagascariensi', 'madam', 'madarin', 'madd', 'madden', 'maddog', 'made', 'madeenah', 'madeira', 'madela', 'madelain', 'madelein', 'madgav', 'madhava', 'madhavahoney', 'madhous', 'madison', 'madman', 'madoff', 'madra', 'madwoman', 'mae', 'maestro', 'mafalda', 'mag', 'magarin', 'magazin', 'mage', 'magenta', 'maggi', 'maggot', 'maghribi', 'magic', 'magician', 'magma', 'magnanim', 'magnesium', 'magnet', 'magnifi', 'magnific', 'magnifici', 'magnifico', 'magnit', 'magnolia', 'magor', 'magreta', 'magrit', 'mahal', 'mahalo', 'mahatma', 'mahi', 'mahogani', 'mahon', 'mahota', 'mai', 'maid', 'maiden', 'mail', 'mailbox', 'mailer', 'maill', 'mailman', 'maim', 'main', 'mainland', 'mainlin', 'mainstay', 'mainsteam', 'mainstream', 'maintain', 'maintan', 'mainten', 'maisi', 'maitak', 'maitland', 'maiz', 'maiza', 'majest', 'majesti', 'major', 'majorero', 'mak', 'makara', 'make', 'makeout', 'makeov', 'maker', 'makeroullini', 'makes', 'makeshift', 'maket', 'makeup', 'makhani', 'maki', 'makin', 'mako', 'makret', 'malabar', 'malabsorpt', 'maladi', 'malais', 'malamut', 'malaria', 'malawi', 'malaysia', 'malaysian', 'malbec', 'malcolm', 'malden', 'maldon', 'male', 'maletti', 'malfunct', 'mali', 'malic', 'malici', 'malign', 'malinda', 'malita', 'malitol', 'mall', 'mallard', 'malleabl', 'mallet', 'mallo', 'mallomar', 'mallow', 'malmsio', 'malmsteen', 'malnourish', 'malnutrit', 'malomar', 'maloney', 'malt', 'maltatol', 'maltbal', 'malters', 'maltes', 'malti', 'maltipoo', 'maltipooshu', 'maltitol', 'malto', 'maltodestrin', 'maltodextrin', 'maltodextros', 'maltos', 'mam', 'mama', 'mamacita', 'mamad', 'mamaeun', 'mamakitti', 'maman', 'mamba', 'mambo', 'mamma', 'mammal', 'mamushka', 'man', 'mana', 'manaag', 'manadarin', 'manag', 'managebl', 'managemnt', 'manassa', 'manchego', 'manchest', 'manchita', 'manchuwok', 'mandala', 'mandalay', 'mandarin', 'mandat', 'mandatori', 'manderin', 'mandhel', 'mandi', 'mandolin', 'mandrian', 'mandrin', 'maneuv', 'mang', 'mangan', 'manganes', 'manger', 'mangia', 'mangl', 'mangnifiqu', 'mango', 'mangoj', 'mangosteen', 'mangosteenjuic', 'mangosten', 'manhandl', 'manhattan', 'manhattanit', 'manhol', 'manhood', 'mani', 'mania', 'maniac', 'manic', 'manicardi', 'manicotti', 'manicur', 'manifest', 'manifold', 'manipul', 'manischewitz', 'manitoba', 'manjar', 'manju', 'mankind', 'manli', 'manmad', 'manna', 'manner', 'mannerless', 'mannheim', 'mannitol', 'manoa', 'manon', 'manor', 'manserv', 'mansion', 'mantel', 'mantitoba', 'mantl', 'mantova', 'mantra', 'manual', 'manufaacter', 'manufactor', 'manufactori', 'manufactu', 'manufactur', 'manufacturer', 'manufacturor', 'manufanctur', 'manuka', 'manukar', 'manur', 'manx', 'mao', 'maofeng', 'map', 'mapelin', 'mapl', 'maplein', 'mapley', 'mar', 'mara', 'marachino', 'maracuja', 'maragoya', 'marainara', 'maranatha', 'marangu', 'marasca', 'maraschino', 'marathon', 'maraud', 'maravilla', 'maravilloso', 'marbel', 'marbella', 'marbl', 'marc', 'marca', 'marcaroni', 'march', 'marchesi', 'marcia', 'marcipan', 'marco', 'marcona', 'marcus', 'mardi', 'mardol', 'mare', 'margaret', 'margarin', 'margarita', 'margaritavill', 'margerin', 'marget', 'margherita', 'margin', 'margrita', 'mari', 'maria', 'mariag', 'mariani', 'mariann', 'marietta', 'marigold', 'marijuana', 'marilyn', 'marin', 'marinad', 'marinara', 'marinat', 'marindad', 'marinho', 'mario', 'marion', 'marionberri', 'marjarita', 'marjoram', 'mark', 'marker', 'market', 'marketecolog', 'marketplac', 'marketspic', 'markey', 'marki', 'markt', 'markup', 'marla', 'marlborough', 'marlen', 'marley', 'marlon', 'marmalad', 'marmit', 'marmoset', 'marnatha', 'marnier', 'marnoto', 'maroon', 'marrakesh', 'marri', 'marriag', 'marron', 'marrow', 'marsala', 'marscapon', 'marseill', 'marshal', 'marshmallow', 'marshmallowi', 'marshmallowish', 'marshmeelow', 'marshmellow', 'marsipan', 'marsmallow', 'mart', 'marteen', 'martek', 'martelli', 'martha', 'marti', 'martial', 'martin', 'martinelli', 'martinez', 'martini', 'martyr', 'maruchan', 'maruchuan', 'marukan', 'marukawa', 'marutomo', 'marvel', 'marvin', 'maryjan', 'maryland', 'marzano', 'marzipan', 'mas', 'masa', 'masago', 'masala', 'masaman', 'mascara', 'mascarpon', 'mascavo', 'mascot', 'masculin', 'mash', 'masher', 'mashi', 'mashmallow', 'mashuga', 'mask', 'masochist', 'mason', 'masoor', 'masquerad', 'mass', 'massachusett', 'massag', 'massai', 'masseri', 'masseus', 'massey', 'massiv', 'master', 'masterfood', 'masteri', 'masterpack', 'masterpiec', 'mastic', 'mastiff', 'mastiti', 'mastodon', 'mastro', 'mat', 'matar', 'match', 'matcha', 'matchasourc', 'matchbook', 'mate', 'matein', 'mater', 'materi', 'matern', 'math', 'mathemat', 'mathew', 'mati', 'matic', 'matine', 'matiz', 'matouk', 'matricaria', 'matrix', 'matsing', 'matt', 'mattar', 'mattein', 'matter', 'matthew', 'matti', 'matur', 'maturin', 'matusiak', 'matzah', 'matzo', 'matzoah', 'matzot', 'mau', 'maui', 'maul', 'mauna', 'maunfactur', 'mauri', 'mauric', 'mauritius', 'mauro', 'maverick', 'max', 'maxhous', 'maxim', 'maximilian', 'maximum', 'maxin', 'maxtra', 'maxwel', 'maxx', 'may', 'maya', 'mayacama', 'mayan', 'mayb', 'mayer', 'mayhap', 'mayhem', 'maynard', 'mayo', 'mayonais', 'mayonaisey', 'mayonnais', 'maypo', 'maze', 'mazel', 'mazetti', 'mazi', 'mazipan', 'mazzer', 'mazzetti', 'mberri', 'mbt', 'mcbutter', 'mcc', 'mccain', 'mccainn', 'mccall', 'mccallum', 'mccann', 'mccarthi', 'mccormack', 'mccormic', 'mccormick', 'mccoy', 'mccutcheon', 'mcd', 'mcdaniel', 'mcdonald', 'mcdonough', 'mcdougal', 'mcdouggal', 'mcdowel', 'mcenro', 'mcfadden', 'mcfas', 'mcfrugal', 'mcg', 'mcgovern', 'mcguffin', 'mchaiku', 'mcilhenni', 'mcilhenri', 'mckay', 'mckinney', 'mclemor', 'mcmate', 'mcmeal', 'mcneil', 'mcp', 'mcpherson', 'mcqueen', 'mcrowav', 'mcsteven', 'mct', 'mcvay', 'mcviti', 'mcvitti', 'mdh', 'mdr', 'mds', 'mea', 'meaal', 'meaasur', 'mead', 'meadi', 'meadow', 'meager', 'meal', 'meali', 'mealli', 'mealmak', 'mealtim', 'mealworm', 'mealybug', 'mean', 'meanac', 'meaning', 'meaningless', 'meant', 'meantim', 'meantion', 'meanwhil', 'measl', 'measli', 'measur', 'meat', 'meatbal', 'meatfre', 'meati', 'meatier', 'meatless', 'meatloaf', 'meatloav', 'meatti', 'mecca', 'mech', 'mechan', 'med', 'meda', 'medabol', 'medaglia', 'medal', 'medallion', 'medecin', 'medela', 'medelco', 'medford', 'media', 'mediam', 'median', 'mediat', 'medic', 'medicianl', 'medicin', 'mediciney', 'medicini', 'mediev', 'medifast', 'medihoney', 'mediocr', 'medit', 'mediteranean', 'mediterranean', 'mediterranen', 'mediterranian', 'mediuim', 'medium', 'mediunm', 'medjool', 'medley', 'medlin', 'medrich', 'meduim', 'medusa', 'meee', 'meehan', 'meek', 'meet', 'meeta', 'mega', 'megabox', 'megabyt', 'megaglia', 'megamart', 'megamob', 'megmet', 'meh', 'mehmet', 'mehr', 'mei', 'meijer', 'meiji', 'mein', 'meinen', 'meisj', 'meister', 'mejool', 'mejor', 'mekn', 'mekong', 'melamim', 'melamin', 'melang', 'melanin', 'melanoma', 'melanosporum', 'melatonin', 'melba', 'meld', 'melet', 'melina', 'melinda', 'melipon', 'melisa', 'melissa', 'melita', 'melitt', 'melitta', 'melittiack', 'mellan', 'mellin', 'mellita', 'melllooooooow', 'mello', 'mellow', 'melodi', 'melon', 'meloney', 'melt', 'meltabl', 'meltdown', 'melter', 'melti', 'meltingmama', 'member', 'membership', 'membran', 'memeb', 'memento', 'memeri', 'memnto', 'memor', 'memorabilia', 'memori', 'memphi', 'men', 'menac', 'menadion', 'mend', 'mendicino', 'mengo', 'menier', 'meniton', 'menopaus', 'mensa', 'menstrual', 'menstruat', 'ment', 'mental', 'mentali', 'menth', 'mentha', 'menthol', 'mention', 'mento', 'mentor', 'menu', 'menus', 'meow', 'meowmi', 'meowmix', 'meowwww', 'meowwwww', 'mepal', 'merced', 'merch', 'merchadis', 'merchand', 'merchandis', 'merchant', 'merci', 'merciless', 'mercken', 'mercola', 'mercuri', 'mere', 'merengu', 'merest', 'meretrici', 'merg', 'merguez', 'merienda', 'meringu', 'merit', 'merito', 'meritori', 'merlo', 'merlot', 'mermaid', 'merp', 'merri', 'merrick', 'merrili', 'meru', 'merum', 'mesa', 'mesclun', 'mesh', 'mesiah', 'mesmer', 'meso', 'mesquit', 'mess', 'messag', 'messeng', 'messi', 'messiah', 'messier', 'messs', 'messur', 'mestemach', 'mestermach', 'met', 'metab', 'metabisulfit', 'metabisulphit', 'metabol', 'metacam', 'metal', 'metamorphos', 'metamucil', 'metamusel', 'metaphor', 'metaphys', 'metaplus', 'metasibulfit', 'mete', 'meter', 'meth', 'methabol', 'methan', 'methanol', 'methi', 'methink', 'methion', 'methionin', 'methoci', 'method', 'methodolog', 'methow', 'methylcellulos', 'methysticum', 'meticul', 'metro', 'metromint', 'metronidazol', 'metroplex', 'metropoli', 'metropolitan', 'metrosexu', 'metrx', 'meusli', 'mew', 'mex', 'mexclum', 'mexgroc', 'mexicali', 'mexican', 'mexico', 'mexigroc', 'mexin', 'meyenberg', 'meyenburg', 'meyer', 'meyerberg', 'mezzo', 'mezzogiorno', 'mezzomix', 'mfg', 'mfgr', 'mfr', 'mgement', 'mgo', 'mgr', 'mgs', 'mhhhhh', 'mia', 'miami', 'mic', 'mica', 'mice', 'mich', 'michael', 'michaela', 'michaud', 'micheal', 'michel', 'michigan', 'michigand', 'mickey', 'micowav', 'micpreamp', 'micro', 'microb', 'microbead', 'microbi', 'microbiolog', 'microbrew', 'microfiltr', 'microfoam', 'microground', 'micromoistur', 'micron', 'micronutri', 'microorgan', 'microphon', 'microplan', 'microscop', 'microsoft', 'microw', 'microwar', 'microwav', 'microwoven', 'mid', 'midafternoon', 'midday', 'middl', 'middleman', 'mideast', 'midel', 'midge', 'midget', 'midland', 'midmorn', 'midnight', 'midnit', 'midol', 'midori', 'midst', 'midterm', 'midway', 'midwest', 'midwestern', 'midwif', 'midwint', 'midwiv', 'miel', 'mien', 'mientra', 'mif', 'miga', 'might', 'mighti', 'mightili', 'mignon', 'migrain', 'migran', 'migrant', 'migrat', 'miguel', 'mik', 'mike', 'mikel', 'mikethemadbiologist', 'mikey', 'mikhail', 'mil', 'milag', 'milan', 'milano', 'milca', 'milcreek', 'mild', 'milder', 'mildest', 'mildewi', 'mildi', 'mile', 'mileag', 'miley', 'milibar', 'miligram', 'milikthong', 'milinda', 'militari', 'milk', 'milka', 'milkbon', 'milker', 'milkfat', 'milki', 'milkmaid', 'milkman', 'milkshak', 'milkyway', 'mill', 'millan', 'millennia', 'millennium', 'miller', 'millet', 'milligram', 'millilit', 'million', 'milliona', 'milliped', 'millisecond', 'millit', 'millki', 'millston', 'milo', 'milquetoast', 'milt', 'milton', 'milupa', 'milwake', 'milwauke', 'mimi', 'mimic', 'mimick', 'mimim', 'mimolett', 'mimosa', 'min', 'minarl', 'minatonka', 'minatur', 'minc', 'mincemeat', 'mincement', 'minch', 'mind', 'mindel', 'mindesten', 'mindless', 'mindset', 'mine', 'miner', 'minerl', 'minesota', 'minestron', 'minestroni', 'ming', 'mingl', 'mini', 'miniatur', 'minifridg', 'minim', 'minimalist', 'minimum', 'minimus', 'minin', 'minion', 'minipocket', 'miniscul', 'minist', 'ministri', 'minita', 'minitur', 'minivan', 'miniwheat', 'mink', 'minn', 'minneapoli', 'minneola', 'minnesota', 'minni', 'minologu', 'minor', 'minpin', 'mint', 'minti', 'mintier', 'minto', 'minton', 'mintu', 'minturn', 'minumum', 'minus', 'minuscul', 'minut', 'mir', 'mirabl', 'mirac', 'miracid', 'miracl', 'miraclegro', 'miracul', 'miraculin', 'mirch', 'mirchi', 'miri', 'miriani', 'miricl', 'mirin', 'mirki', 'mirror', 'mirth', 'mis', 'misadvertis', 'misbehav', 'misc', 'miscalcul', 'miscarriag', 'miscellan', 'mischief', 'mischkaffe', 'miscommun', 'misconcept', 'miscreant', 'misdiagnos', 'miser', 'miseri', 'misfil', 'misfit', 'misfortun', 'misgiv', 'misguid', 'mish', 'mishandl', 'mishap', 'mishima', 'misinform', 'misinterpret', 'misl', 'mislabel', 'mislabl', 'mislead', 'mismatch', 'misnom', 'miso', 'mispackag', 'mispercept', 'misplac', 'mispres', 'mispress', 'misprint', 'misread', 'misrepres', 'misrepresent', 'miss', 'missc', 'missgiv', 'misshap', 'misshapen', 'missi', 'missil', 'mission', 'missionari', 'mississipi', 'mississippi', 'missouri', 'misspel', 'misspent', 'missus', 'mist', 'mistak', 'mistaken', 'mistat', 'mister', 'misteri', 'misti', 'mistook', 'mistreat', 'misunderstand', 'misunderstood', 'misus', 'mit', 'mitch', 'mitchel', 'mitchum', 'mite', 'miter', 'mitig', 'mitigat', 'mitral', 'mitro', 'mitsuwa', 'mitten', 'mitzi', 'mitzvah', 'miu', 'miwauke', 'mix', 'mixabl', 'mixd', 'mixer', 'mixerm', 'mixibl', 'mixrd', 'mixt', 'mixtur', 'mixur', 'miyagi', 'mizer', 'mizithra', 'mizu', 'mizuki', 'mjg', 'mjk', 'mke', 'mkes', 'mkt', 'mlb', 'mllk', 'mls', 'mma', 'mmhg', 'mmm', 'mmmhhh', 'mmmm', 'mmmmm', 'mmmmmm', 'mmmmmmm', 'mmmmmmmm', 'mmmmmmmmm', 'mmmmmmmmmm', 'mmmmmmmmmmm', 'mmmmmmmmmmmm', 'mmmmmmmmmmmmm', 'mmmmmmmmmmmmmm', 'mmmmmmmmmmmmmmmdelish', 'mmmmmmmmmmmmmmmmmmmm', 'mnc', 'mne', 'mni', 'mnms', 'mnore', 'moan', 'mob', 'mobi', 'mobil', 'mobster', 'moca', 'mocaf', 'mocca', 'moch', 'mocha', 'mochachococrappacino', 'mochajava', 'mochi', 'mochiko', 'mock', 'mockeri', 'mockol', 'mocktail', 'mocrowav', 'mod', 'mode', 'model', 'modem', 'modena', 'modenaceti', 'modeno', 'moder', 'modern', 'modest', 'modesti', 'modesto', 'modicum', 'modif', 'modifi', 'modul', 'moe', 'moen', 'mogul', 'moh', 'moham', 'moi', 'moin', 'moist', 'moisten', 'moister', 'moistest', 'moistuiz', 'moistur', 'mojito', 'mojo', 'moka', 'mol', 'molan', 'molar', 'molas', 'molass', 'molassa', 'molassesi', 'molassess', 'molassi', 'mold', 'moldabl', 'moldavia', 'moldi', 'mole', 'molecubal', 'molecul', 'molecular', 'moleman', 'moli', 'molina', 'molinari', 'molino', 'moll', 'mollas', 'molli', 'mollifi', 'moloney', 'molotov', 'molt', 'molten', 'molto', 'mom', 'moma', 'moment', 'momentarili', 'momento', 'momentum', 'momm', 'momma', 'momment', 'mommi', 'momo', 'mon', 'mona', 'monaco', 'monarch', 'monasteri', 'monavi', 'mond', 'monday', 'mondial', 'mondo', 'monetari', 'monetarili', 'money', 'moneybag', 'monger', 'monggo', 'mongolian', 'mongut', 'monheis', 'monik', 'monin', 'monitor', 'monk', 'monkey', 'monkeychew', 'monki', 'mono', 'monoammonium', 'monocalcium', 'monocultivar', 'monocultur', 'monoflor', 'monogam', 'monoglycerid', 'monolith', 'mononitr', 'monopoli', 'monosat', 'monosatur', 'monosodium', 'monostear', 'monoton', 'monotoni', 'monounsatur', 'monsanto', 'monset', 'monsodium', 'monsoon', 'monster', 'monstros', 'monstrous', 'mont', 'montaign', 'montana', 'montebello', 'montego', 'monterari', 'monterey', 'monterrey', 'monteverdi', 'montevideo', 'montezuma', 'month', 'monthsi', 'montmor', 'montreal', 'montros', 'monument', 'monzarella', 'monzi', 'moo', 'mooch', 'mood', 'moolah', 'moon', 'moonbat', 'moonlight', 'moonpi', 'moonshin', 'moooo', 'moor', 'moos', 'mooshi', 'moot', 'moous', 'mop', 'mope', 'moppin', 'mopr', 'mor', 'morain', 'moraiolo', 'moral', 'morbid', 'more', 'morel', 'moreov', 'moreso', 'morga', 'morgada', 'morgan', 'morgu', 'mori', 'morimoto', 'morinaga', 'morinin', 'morinu', 'morki', 'mormon', 'morn', 'mornin', 'morningstar', 'moroccan', 'morocco', 'moroccon', 'moron', 'morph', 'morri', 'morrocan', 'morrocco', 'morroco', 'morsal', 'morsel', 'mortagag', 'mortal', 'mortar', 'morter', 'mortgag', 'mortif', 'mortifi', 'morton', 'mos', 'mosbi', 'moscow', 'mose', 'moseley', 'moser', 'mosey', 'mosit', 'mositur', 'mosquito', 'moss', 'most', 'moster', 'mostest', 'mosti', 'mostlli', 'mosto', 'mostur', 'mot', 'motabol', 'motel', 'moth', 'mothbal', 'mother', 'motherhood', 'motherland', 'motherlov', 'motif', 'motil', 'motion', 'motionless', 'motiv', 'motivati', 'moto', 'motor', 'motorcoach', 'motorcycl', 'motorhom', 'motrin', 'mott', 'mottl', 'motto', 'mougat', 'mouistur', 'mould', 'mouldi', 'moulin', 'mound', 'mount', 'mountain', 'mountaintop', 'mounth', 'mountian', 'mourish', 'mourn', 'mous', 'mouss', 'moutain', 'moutard', 'mouth', 'mouthfeel', 'mouthful', 'mouthi', 'mouthwash', 'mouthwat', 'move', 'moveabl', 'movement', 'moveov', 'movi', 'moviego', 'mow', 'mower', 'mowg', 'moxi', 'mozambiqu', 'mozarella', 'mozart', 'mozerella', 'mozz', 'mozzarella', 'mozzarello', 'mozzerella', 'mpaa', 'mph', 'mrat', 'mre', 'mres', 'mri', 'mroccan', 'mroe', 'mrs', 'mrsa', 'msb', 'msds', 'msg', 'msgmyth', 'mske', 'msm', 'msnbc', 'msrp', 'mssachusett', 'mst', 'mtbe', 'mth', 'mths', 'mtn', 'mtr', 'mts', 'mtv', 'muahahaha', 'muahh', 'muc', 'much', 'mucha', 'muchi', 'muchless', 'mucho', 'mucinex', 'muck', 'mucous', 'muct', 'mucus', 'mud', 'muddi', 'muddier', 'muddl', 'mudman', 'mudslid', 'mueller', 'muenster', 'muesli', 'mueslix', 'muessen', 'mufa', 'muffaletta', 'muffen', 'mufffin', 'muffi', 'muffin', 'muffl', 'mug', 'muggi', 'mugi', 'mugicha', 'muh', 'muhammrah', 'muhci', 'mui', 'muir', 'mujadara', 'mukashi', 'mukka', 'mukwa', 'mulberri', 'mulch', 'mulchi', 'mulder', 'mule', 'mulholland', 'muligatawni', 'muligrain', 'mulitpl', 'mull', 'mullein', 'mulligan', 'multi', 'multiberri', 'multibl', 'multibran', 'multicarton', 'multicolorf', 'multicultur', 'multifacet', 'multiform', 'multigrain', 'multilay', 'multin', 'multip', 'multipack', 'multipak', 'multipl', 'multiplex', 'multipli', 'multipurpos', 'multitud', 'multivend', 'multivitamin', 'multiyear', 'multrigrain', 'multupl', 'mum', 'mumbai', 'mumber', 'mumbl', 'mumbo', 'mummum', 'mumum', 'muna', 'munch', 'munchabl', 'muncher', 'munchi', 'munchkin', 'muncho', 'mundan', 'mundet', 'mundt', 'mung', 'munich', 'municip', 'munsterland', 'muppet', 'mur', 'murakawa', 'murchi', 'murcia', 'murcian', 'murder', 'muriel', 'murk', 'murki', 'murkier', 'murmur', 'murphi', 'murpi', 'murray', 'mus', 'muscadin', 'muscatel', 'muscavado', 'muscl', 'muscovado', 'muscular', 'musculatur', 'muse', 'muselix', 'museum', 'musffin', 'mush', 'mushi', 'mushier', 'mushlik', 'mushroom', 'mushroonm', 'music', 'musician', 'musk', 'musket', 'muskett', 'muski', 'muskier', 'musli', 'muslim', 'muslin', 'musroom', 'muss', 'mussel', 'musselman', 'mussi', 'mussini', 'must', 'musta', 'mustach', 'mustafa', 'mustand', 'mustapha', 'mustard', 'mustardi', 'mustart', 'muster', 'musti', 'mustv', 'musubi', 'mut', 'mutant', 'mutat', 'mutch', 'mute', 'mutil', 'mutlipl', 'mutt', 'mutter', 'mutti', 'mutton', 'muuuuch', 'muwhaa', 'muy', 'mvp', 'myalgic', 'mycaf', 'mych', 'mycodex', 'myer', 'myeslf', 'mylanta', 'mylar', 'mylicon', 'myocardi', 'myojo', 'myoplex', 'myriad', 'myrtl', 'mysteri', 'mystic', 'mystifi', 'myt', 'myth', 'mythic', 'naa', 'naaa', 'naan', 'nab', 'nabeyakiudon', 'nabisco', 'nabiso', 'nabob', 'nacanoni', 'nach', 'nacho', 'nacl', 'nad', 'nada', 'nadin', 'nag', 'naga', 'nagel', 'nagoya', 'nah', 'nahezu', 'nai', 'nail', 'nainamo', 'nairn', 'nairobi', 'naiv', 'naiviti', 'najjar', 'nake', 'nalgen', 'nalley', 'nam', 'namast', 'nambi', 'name', 'namebrand', 'namesak', 'nami', 'namibia', 'namtok', 'nan', 'nana', 'nanami', 'nanc', 'nanci', 'nandi', 'nando', 'nann', 'nanner', 'nanni', 'nano', 'nantucket', 'nantuket', 'nap', 'napa', 'napel', 'napkin', 'napl', 'napolean', 'napoleon', 'napoletano', 'napoli', 'napolitain', 'napolitano', 'nappa', 'narciss', 'narcot', 'nari', 'narnia', 'narnian', 'narrat', 'narrow', 'narrowli', 'nasa', 'nasal', 'nascar', 'nascent', 'naseat', 'nash', 'nashvill', 'nasi', 'nasonex', 'nassau', 'nasti', 'nastiest', 'nasturtium', 'nat', 'natali', 'natar', 'natasha', 'natch', 'natchez', 'nathan', 'nation', 'nationa', 'nationwid', 'nativ', 'nativa', 'natral', 'natrual', 'natsukashii', 'natsum', 'natual', 'natuar', 'natur', 'natura', 'naturad', 'naturali', 'naturalnew', 'naturalsweet', 'naturapath', 'naturefresh', 'naturel', 'naturespath', 'naturopath', 'naueseous', 'naught', 'naughti', 'nausea', 'nauseam', 'nauseat', 'nauseau', 'nauseous', 'nausia', 'nausiat', 'nausious', 'nautic', 'naval', 'navarino', 'navi', 'navig', 'navita', 'navratan', 'navrattan', 'naw', 'nawracaj', 'nay', 'nayonais', 'naysay', 'nazi', 'nba', 'ndigest', 'nds', 'neah', 'neanderth', 'neapolitan', 'near', 'nearbi', 'nearer', 'nearest', 'neat', 'neater', 'nebari', 'nebraska', 'nebul', 'neccessari', 'necco', 'neces', 'necesari', 'necess', 'necessari', 'necessarili', 'necessit', 'neck', 'necklac', 'necrot', 'necta', 'nectar', 'nectarin', 'nectasweet', 'necter', 'nectr', 'ned', 'nedessarili', 'nee', 'need', 'needen', 'needi', 'needl', 'needless', 'needto', 'neeed', 'neelam', 'neeless', 'neem', 'neg', 'negat', 'negit', 'negitav', 'neglect', 'neglibl', 'neglig', 'negoti', 'negri', 'negril', 'nehi', 'neic', 'neigborhoor', 'neighber', 'neighbor', 'neighborhood', 'neighbour', 'neighbourhood', 'neighor', 'neill', 'neither', 'nejm', 'nekkid', 'nell', 'nelli', 'nelson', 'nemesi', 'neo', 'neocat', 'neoguri', 'neolith', 'neon', 'neophyt', 'neopolitan', 'neopren', 'neosur', 'nepa', 'nepal', 'nepales', 'nephew', 'nephi', 'nepot', 'neptun', 'nequik', 'nerchinsk', 'nerd', 'nerdi', 'nere', 'nero', 'nerv', 'nervana', 'nervous', 'nesbitt', 'nescaf', 'nescf', 'nesco', 'nespresso', 'nesquick', 'nesquik', 'ness', 'nesspresso', 'nest', 'nestea', 'nestl', 'nestlet', 'nestley', 'nestum', 'net', 'netgroc', 'netherland', 'netrit', 'nettl', 'netto', 'nettuno', 'netwon', 'network', 'neubrand', 'neuhaus', 'neuman', 'neuro', 'neuroendocrin', 'neurofuzzi', 'neurolog', 'neurologist', 'neuropatholog', 'neurosci', 'neuroscientist', 'neurosurgeon', 'neurot', 'neurotoxin', 'neurotransmitt', 'neusk', 'neuter', 'neutral', 'neuva', 'nevada', 'neve', 'nevella', 'never', 'neverend', 'nevermind', 'nevertheless', 'nevl', 'new', 'newbi', 'newborn', 'newcastl', 'newcom', 'newer', 'newest', 'newf', 'newfangl', 'newfound', 'newfoundland', 'newli', 'newlyw', 'newman', 'newmann', 'newmansownorgan', 'newmen', 'newphew', 'newport', 'news', 'newslett', 'newspap', 'newspeak', 'newsprint', 'newsstand', 'newsweek', 'newsworthi', 'newt', 'newton', 'nex', 'nexium', 'next', 'nextstep', 'ney', 'nfl', 'ngapi', 'ngong', 'ngredient', 'nguan', 'nguyen', 'ngyuen', 'niacin', 'niacinamid', 'niacinimid', 'niagara', 'niaspan', 'nib', 'nibbl', 'nibbler', 'nibbley', 'nic', 'nicaragua', 'nicaraguan', 'nice', 'niceah', 'nicer', 'nicest', 'nicey', 'nich', 'nichola', 'nicht', 'nick', 'nickel', 'nicki', 'nickl', 'nicknack', 'nicknam', 'nicley', 'nicois', 'nicotin', 'nicu', 'nido', 'nie', 'niec', 'niederegg', 'nieghbor', 'nieghborhood', 'nielsen', 'niether', 'nifti', 'nigari', 'nigel', 'nigella', 'niger', 'nigeria', 'niggl', 'night', 'nightcap', 'nighter', 'nightfal', 'nightim', 'nightmar', 'nightmarish', 'nightshad', 'nightstand', 'nighttim', 'nigiri', 'nigri', 'nigrum', 'nih', 'nihgt', 'nihongoga', 'nikki', 'nikuman', 'nil', 'nile', 'nilgiri', 'nill', 'nilla', 'nimbl', 'nin', 'nina', 'nine', 'nineteen', 'nineteenth', 'nineti', 'ninetieth', 'ninja', 'nintendo', 'ninth', 'nip', 'nipe', 'nipper', 'nippi', 'nippl', 'nirav', 'niro', 'nirvana', 'nishiki', 'nissan', 'nissin', 'nit', 'nitch', 'nite', 'niteclub', 'nitpick', 'nitrat', 'nitrit', 'nitrogen', 'nitrous', 'nitti', 'nivea', 'nix', 'nizzl', 'njoy', 'nline', 'nmr', 'nnd', 'noah', 'nob', 'nobbl', 'nobel', 'nobl', 'nobli', 'nobodi', 'nocarb', 'nocciolata', 'nocella', 'nocellara', 'noci', 'nod', 'noddl', 'nodoz', 'nodul', 'noe', 'noel', 'nog', 'noggin', 'noh', 'noir', 'nois', 'noisett', 'noisey', 'noisi', 'noisili', 'noit', 'noitc', 'nola', 'nolong', 'nom', 'nomad', 'nome', 'nomin', 'nomine', 'nomshim', 'non', 'nonalcohol', 'nonceliac', 'nonchal', 'nonconsci', 'nondairi', 'nondenomin', 'nondescript', 'nondistict', 'none', 'nonetheless', 'nonexist', 'nonfat', 'nonfatten', 'nonfict', 'nong', 'nongf', 'nongshim', 'noni', 'nonna', 'nonni', 'nonorgan', 'nonpereil', 'nonpharmaceut', 'nonpluss', 'nonrefund', 'nonreseal', 'nonreturn', 'nonsens', 'nonstart', 'nonstick', 'nonstop', 'nonsweet', 'nonsyrupi', 'nonterri', 'nonviabl', 'nood', 'noodl', 'nook', 'nookl', 'noon', 'noonday', 'noontim', 'nooodl', 'noooo', 'nooooo', 'nop', 'nope', 'noper', 'nora', 'nordic', 'nordstrom', 'norfolk', 'nori', 'norish', 'norm', 'normal', 'normalci', 'norman', 'normandi', 'norquist', 'nort', 'north', 'northeast', 'northeastern', 'northern', 'northland', 'northwest', 'northwestern', 'northwood', 'norton', 'nortori', 'norway', 'norwegian', 'norweigan', 'norwich', 'nos', 'nose', 'noseble', 'nosey', 'nosh', 'nosher', 'nostaglia', 'nostalg', 'nostalgia', 'nostra', 'nostril', 'notabl', 'notat', 'notch', 'note', 'noteic', 'noteworthi', 'noth', 'nothealthi', 'nother', 'nothin', 'nothng', 'notic', 'noticew', 'notif', 'notifi', 'notifii', 'notion', 'notori', 'notpay', 'nottttttttttttttttt', 'notwithstand', 'nougat', 'nough', 'noughti', 'nourish', 'nourishedkitchen', 'nourritur', 'nov', 'nova', 'novacan', 'novalist', 'novato', 'novel', 'novelti', 'novemb', 'novic', 'novoandina', 'novus', 'now', 'nowaday', 'noway', 'nowday', 'noweher', 'nowher', 'noxious', 'nozzl', 'noël', 'npples', 'npr', 'nrc', 'nrg', 'nrver', 'nsa', 'nthing', 'ntingw', 'nto', 'ntwo', 'nuala', 'nuanc', 'nub', 'nubbi', 'nubbin', 'nuberg', 'nuclear', 'nucleus', 'nudg', 'nuditi', 'nuernberg', 'nuesk', 'nueva', 'nuevo', 'nuf', 'nuff', 'nugent', 'nuget', 'nugget', 'nuggett', 'nugo', 'nui', 'nuisanc', 'nuke', 'nuker', 'null', 'num', 'numb', 'number', 'numer', 'numi', 'nummi', 'nummmmmmi', 'nun', 'nunatur', 'nunez', 'nuoc', 'nupro', 'nur', 'nuremberg', 'nurient', 'nurit', 'nurnberg', 'nurs', 'nurser', 'nurseri', 'nursett', 'nursuri', 'nurtiti', 'nurtri', 'nurtur', 'nusspli', 'nust', 'nustevia', 'nut', 'nutbar', 'nutcrack', 'nutella', 'nutellausa', 'nutic', 'nution', 'nutirci', 'nutirit', 'nutit', 'nutiti', 'nutiv', 'nutiva', 'nutivia', 'nutlett', 'nutlik', 'nutmeat', 'nutmeg', 'nutmilk', 'nutr', 'nutra', 'nutrag', 'nutragrain', 'nutrajoint', 'nutramigen', 'nutrasweet', 'nutri', 'nutric', 'nutrici', 'nutricti', 'nutrid', 'nutrient', 'nutrigrain', 'nutrimil', 'nutrion', 'nutriot', 'nutrious', 'nutrisea', 'nutrisenti', 'nutrish', 'nutrishioust', 'nutrisoda', 'nutrisweet', 'nutrisystem', 'nutrit', 'nutriti', 'nutritin', 'nutritio', 'nutritionalist', 'nutritiondata', 'nutritionist', 'nutriton', 'nutritu', 'nutritus', 'nutrium', 'nutro', 'nutromax', 'nutromigen', 'nutrut', 'nutshel', 'nutsi', 'nutso', 'nutt', 'nutter', 'nutterbutt', 'nutthin', 'nutti', 'nuttier', 'nuvet', 'nuvoloso', 'nuwara', 'nuyorican', 'nver', 'nybon', 'nyc', 'nyla', 'nylabon', 'nylaknot', 'nylar', 'nylon', 'nymph', 'nyon', 'nyquil', 'nys', 'nytim', 'nyu', 'nyugen', 'nyum', 'oahu', 'oak', 'oakbrook', 'oaki', 'oakland', 'oasi', 'oat', 'oatbran', 'oatcak', 'oatey', 'oati', 'oatmeal', 'oatmeali', 'oatmean', 'obama', 'obedi', 'obeis', 'oberbi', 'oberlin', 'oberto', 'obes', 'obey', 'obgyn', 'obi', 'obispo', 'obit', 'object', 'objection', 'oblig', 'oblivi', 'oblivion', 'oblong', 'obnoxi', 'obscen', 'obscr', 'obscur', 'obsequi', 'observ', 'obsess', 'obsidian', 'obsolesc', 'obsolet', 'obstacl', 'obstin', 'obstruct', 'obtain', 'obtrus', 'obtus', 'obvers', 'obviosuli', 'obviouli', 'obvious', 'obviouslli', 'obvisouli', 'ocas', 'ocass', 'ocassion', 'ocassionali', 'occais', 'occas', 'occasin', 'occasion', 'occasionali', 'occasionn', 'occass', 'occassion', 'occassionali', 'occat', 'occate', 'occhi', 'occitan', 'occult', 'occultist', 'occup', 'occupi', 'occuppi', 'occur', 'occurr', 'ocd', 'ocean', 'oceanfish', 'oceania', 'ocffe', 'ocha', 'ochazukemono', 'ocho', 'oclock', 'ocmpani', 'ocone', 'oct', 'octan', 'octapus', 'octav', 'octavia', 'octi', 'octob', 'octoberfest', 'octopi', 'octopus', 'octupus', 'ocumar', 'ocur', 'odd', 'oddbal', 'oddest', 'odditi', 'odea', 'odens', 'oder', 'odey', 'odi', 'odor', 'odorless', 'odour', 'odwalla', 'odyssey', 'oelek', 'oerder', 'oesophagus', 'oestrogen', 'oetkar', 'oetker', 'oeuvr', 'oevr', 'of', 'ofay', 'ofbang', 'ofc', 'ofcours', 'ofer', 'off', 'offal', 'offbeat', 'offen', 'offenc', 'offend', 'offens', 'offer', 'offf', 'offic', 'officem', 'offici', 'officianado', 'officinado', 'officinal', 'officinali', 'officionado', 'offput', 'offset', 'offshoot', 'offshor', 'offspr', 'oficinali', 'ofol', 'ofsever', 'ofsit', 'often', 'oftentim', 'ofter', 'oftern', 'oftot', 'ogan', 'ogden', 'ogeeche', 'ogm', 'ogo', 'ogran', 'ohao', 'oher', 'ohh', 'ohhh', 'ohhhh', 'ohhhhh', 'ohhhhhh', 'ohio', 'ohioan', 'ohsawa', 'ohyeah', 'oif', 'oil', 'oili', 'oilier', 'oilv', 'oily', 'oink', 'ointment', 'oitcher', 'oiv', 'oj', 'ojai', 'okay', 'okc', 'okey', 'okinawa', 'okish', 'oklahoma', 'okonomi', 'okonomiyaki', 'okra', 'oktava', 'oktoberfest', 'olba', 'old', 'older', 'oldest', 'oldfashion', 'oldi', 'oldtim', 'ole', 'oleic', 'olenka', 'oleocanth', 'oleoresin', 'olfactori', 'oligofructos', 'oligosaccharid', 'olio', 'oliotaibi', 'oliv', 'olivella', 'oliven', 'olivey', 'olivi', 'olivia', 'oliviero', 'olivio', 'olld', 'olney', 'olsen', 'olvatin', 'olvi', 'olymp', 'olympia', 'olympus', 'oma', 'omaha', 'omamhasteak', 'omami', 'omanhen', 'omar', 'omega', 'omelet', 'omelett', 'omen', 'omg', 'omgood', 'omiss', 'omit', 'omlet', 'omlett', 'ommit', 'omnipres', 'omnivor', 'omodetto', 'omplet', 'omusubi', 'on', 'onboard', 'onda', 'one', 'onedg', 'onei', 'onem', 'oneon', 'oner', 'onerees', 'oneself', 'onesi', 'onezip', 'ongo', 'oni', 'onigiri', 'oniion', 'onion', 'onioni', 'onlin', 'onlinel', 'onn', 'ono', 'onsal', 'onscreen', 'onset', 'onslaught', 'ont', 'ontario', 'onto', 'ontop', 'onward', 'onyx', 'onz', 'ooba', 'oober', 'oodl', 'ooen', 'ooey', 'oof', 'ooh', 'oohh', 'oold', 'oolong', 'oolor', 'oompf', 'oomph', 'oomplet', 'ooo', 'oooey', 'oooh', 'ooohhh', 'oookbook', 'ooomph', 'ooooh', 'ooooooh', 'oooooppp', 'oooop', 'ooop', 'oop', 'oopen', 'oor', 'oothu', 'ooz', 'op', 'opa', 'opac', 'opal', 'opaqu', 'ope', 'opelika', 'open', 'opend', 'openend', 'oper', 'opera', 'operetta', 'ophelia', 'opi', 'opinin', 'opinion', 'opinon', 'opion', 'opium', 'opjc', 'opn', 'opnion', 'opod', 'oppertun', 'oppinion', 'oppisit', 'oppoertun', 'opportun', 'opportunist', 'oppos', 'opposit', 'oppposit', 'oppress', 'oppressor', 'opra', 'oprah', 'opt', 'optagest', 'optic', 'optim', 'optima', 'optimist', 'optimum', 'option', 'optionfor', 'optomist', 'orac', 'orag', 'oragn', 'oral', 'orang', 'orange', 'orangead', 'orangett', 'orangey', 'orangi', 'orangina', 'orb', 'orbit', 'orca', 'orchard', 'orchestra', 'orchid', 'ord', 'ordeal', 'order', 'orderd', 'orderv', 'ordianari', 'ordinari', 'ordinarili', 'ore', 'orecchiett', 'orecehtt', 'orechett', 'ored', 'oregano', 'oregon', 'oregonian', 'oreo', 'orer', 'orfarm', 'org', 'orgainc', 'organ', 'organc', 'organic', 'organicgroceryd', 'organicsyrup', 'organicvill', 'organik', 'organisc', 'organix', 'organiz', 'organza', 'orgasm', 'orgeat', 'orgin', 'orgini', 'orgnaic', 'orgnic', 'orgran', 'orhan', 'oric', 'orient', 'orig', 'origami', 'origen', 'origian', 'origianl', 'origianlli', 'origin', 'original', 'originali', 'origion', 'orign', 'origni', 'origonali', 'orihibit', 'orijen', 'oringin', 'orinin', 'orkney', 'orlando', 'orlean', 'orm', 'ornament', 'ornat', 'oro', 'orphan', 'orr', 'ortega', 'ortho', 'orthodint', 'orthodox', 'ortiz', 'orvil', 'orvill', 'orvll', 'oryza', 'orzo', 'osaka', 'osama', 'oscar', 'osco', 'ose', 'osem', 'osg', 'osh', 'oskri', 'osland', 'osler', 'oslo', 'osmanthus', 'osmosi', 'ossetra', 'osteoarthr', 'osteoarthri', 'osteoporosi', 'oster', 'ostreatus', 'ostrich', 'osu', 'oswego', 'otc', 'otehr', 'oteoporosi', 'oter', 'oth', 'other', 'otheris', 'otherway', 'otherwis', 'otherworld', 'othewis', 'otho', 'othr', 'oti', 'otoh', 'otra', 'otter', 'otto', 'ottoman', 'ouch', 'oud', 'ouf', 'ought', 'oughtta', 'ouija', 'ouit', 'ounc', 'ouncn', 'ourself', 'oustand', 'oustsid', 'out', 'outa', 'outag', 'outand', 'outback', 'outbreak', 'outbuild', 'outcast', 'outclass', 'outcom', 'outdat', 'outdid', 'outdo', 'outdon', 'outdoor', 'outdoorsi', 'outdoorsman', 'outdrink', 'outer', 'outermost', 'outerwear', 'outfit', 'outfitt', 'outgo', 'outgrew', 'outgrow', 'outgrown', 'outhous', 'outing', 'outlandish', 'outlast', 'outlaw', 'outlet', 'outlier', 'outlin', 'outliv', 'outlook', 'outnumb', 'outpac', 'outperform', 'outpow', 'output', 'outrag', 'outragi', 'outreag', 'outright', 'outset', 'outshin', 'outshon', 'outsid', 'outskirt', 'outsmart', 'outsourc', 'outstand', 'outstandimg', 'outta', 'outtak', 'outter', 'outward', 'outweigh', 'outweight', 'outwiegh', 'outwit', 'ouvr', 'oval', 'ovaltin', 'ovari', 'ovat', 'ove', 'oven', 'over', 'overabund', 'overacid', 'overact', 'overal', 'overback', 'overbak', 'overbalanc', 'overbear', 'overbi', 'overboard', 'overboil', 'overbrew', 'overbrown', 'overburn', 'overcaffien', 'overcarbon', 'overcast', 'overcharg', 'overclock', 'overcom', 'overcompens', 'overconsum', 'overconsumpt', 'overcook', 'overdid', 'overdo', 'overdon', 'overdos', 'overdr', 'overdu', 'overeat', 'overestim', 'overexagger', 'overf', 'overfe', 'overfeed', 'overfiend', 'overfil', 'overflow', 'overful', 'overgroom', 'overgrowth', 'overh', 'overhaul', 'overhead', 'overheard', 'overhwelm', 'overinduc', 'overindulg', 'overjoy', 'overkil', 'overknead', 'overland', 'overlap', 'overlay', 'overload', 'overlook', 'overmed', 'overmix', 'overmuch', 'overnight', 'overnit', 'overpackag', 'overpaid', 'overpay', 'overplay', 'overpour', 'overpow', 'overpr', 'overpric', 'overprocess', 'overproduc', 'overproduct', 'overprun', 'overpul', 'overpump', 'overr', 'overrid', 'overridden', 'overrip', 'overroast', 'overrod', 'overrun', 'overs', 'oversalt', 'oversatur', 'overse', 'oversea', 'overseason', 'oversel', 'oversensit', 'overshadow', 'oversight', 'oversp', 'overspend', 'overst', 'overstat', 'oversteep', 'overstep', 'overstock', 'oversuppli', 'oversweet', 'oversweeten', 'overt', 'overtak', 'overtast', 'overth', 'overther', 'overthink', 'overtim', 'overton', 'overtook', 'overturn', 'overus', 'overview', 'overwat', 'overweight', 'overwelm', 'overwhealm', 'overwhelem', 'overwhelimg', 'overwhelm', 'overwhelmv', 'overwork', 'overzeal', 'ovesea', 'ovo', 'ovomaltin', 'ovul', 'owe', 'owen', 'owi', 'owl', 'own', 'owner', 'ownership', 'oxal', 'oxbo', 'oxford', 'oxid', 'oxidaz', 'oxo', 'oxyclean', 'oxygen', 'oxymoron', 'oyster', 'oyu', 'oz', 'ozark', 'ozarka', 'ozbo', 'pablo', 'pablum', 'pac', 'pacakag', 'pacakg', 'pace', 'pacif', 'pacifi', 'pacifica', 'pack', 'packabl', 'packag', 'packaga', 'packagin', 'packahg', 'packeag', 'packeg', 'packer', 'packet', 'packett', 'packg', 'packo', 'packqag', 'pact', 'pad', 'padano', 'paddi', 'paddl', 'padfilt', 'padlock', 'padr', 'paella', 'paes', 'paesano', 'page', 'pagliacci', 'pagoo', 'pai', 'paia', 'paid', 'paig', 'pail', 'paill', 'pain', 'painkil', 'painless', 'painstak', 'paint', 'paintbrush', 'painter', 'pair', 'paisleymonsoon', 'pajama', 'pak', 'pakag', 'pake', 'pakistan', 'pakistani', 'pakora', 'pal', 'palabok', 'palac', 'palacio', 'paladar', 'palak', 'palat', 'palav', 'pale', 'paleo', 'paler', 'palestin', 'palestinian', 'palet', 'palett', 'paleybar', 'palit', 'palitana', 'pallat', 'pallet', 'pallett', 'pallid', 'pallida', 'palm', 'palma', 'palmer', 'palmeri', 'palmetto', 'palnter', 'palo', 'paloma', 'palpabl', 'palpit', 'palsi', 'paltinum', 'paltri', 'pam', 'pamala', 'pambi', 'pamel', 'pamela', 'pamelasproduct', 'pamesan', 'pamper', 'pamphlet', 'pamula', 'pan', 'panacea', 'panama', 'panamanian', 'panang', 'panason', 'panax', 'pancack', 'pancak', 'pancetta', 'pancit', 'pancrea', 'pancreat', 'panda', 'pandit', 'pandoro', 'pane', 'paneer', 'panel', 'panela', 'panera', 'panetton', 'panfort', 'panfri', 'pang', 'panhandl', 'panic', 'panick', 'panicki', 'panini', 'paniss', 'pankcak', 'panko', 'panna', 'pannetonn', 'panni', 'pannini', 'panola', 'panopli', 'panorama', 'panrti', 'pant', 'pantainorasingh', 'pantheon', 'panther', 'panthothen', 'panti', 'pantothen', 'pantri', 'panwich', 'pao', 'paola', 'papa', 'papad', 'papadam', 'papadum', 'papaer', 'paparika', 'papaul', 'papaya', 'paper', 'paperbag', 'paperboard', 'paperi', 'paperish', 'paperwork', 'papillion', 'papillon', 'pappadam', 'pappap', 'pappermint', 'pappi', 'paprik', 'paprika', 'paprikash', 'papua', 'par', 'para', 'paraben', 'parad', 'paradis', 'paradiso', 'paraffin', 'paragon', 'paragraph', 'paraguay', 'parallel', 'paralyz', 'paramet', 'paramount', 'parampara', 'paranoia', 'paranoid', 'paraphernalia', 'paraphras', 'parasit', 'parasitolog', 'paratha', 'paratroop', 'parboil', 'parbroil', 'parcel', 'parch', 'parchment', 'pardon', 'pare', 'pareil', 'parent', 'parenthes', 'paresan', 'parev', 'parfait', 'parfum', 'pari', 'paricular', 'parish', 'parisian', 'parisien', 'park', 'parka', 'parker', 'parkway', 'parlor', 'parm', 'parma', 'parmagiana', 'parmagianno', 'parmasaen', 'parmasan', 'parmasean', 'parmesan', 'parmesano', 'parmesean', 'parmesian', 'parmeson', 'parmigiana', 'parmigianno', 'parmigiano', 'parmisan', 'parmsan', 'parodi', 'parrano', 'parrot', 'pars', 'parsec', 'parsley', 'parsnip', 'parson', 'part', 'partak', 'partaken', 'partcular', 'parthenon', 'parti', 'partial', 'partic', 'particip', 'particl', 'particluar', 'particuar', 'particul', 'particulalr', 'particular', 'particulari', 'particularili', 'particullari', 'partifcular', 'partit', 'partner', 'partnership', 'partook', 'partum', 'parv', 'pas', 'pashofa', 'paskag', 'paskesz', 'paso', 'pasqual', 'pass', 'passabl', 'passag', 'passalacqua', 'passata', 'passeng', 'passion', 'passionfruit', 'passiontini', 'passiv', 'passov', 'past', 'pasta', 'pastachees', 'pastachio', 'pastamia', 'pastariso', 'pastel', 'pasteri', 'pasteur', 'pastey', 'pasti', 'pasticierra', 'pastier', 'pastill', 'pastina', 'pastir', 'pastiso', 'pastor', 'pastrami', 'pastri', 'pastuer', 'pastur', 'pat', 'patak', 'patch', 'patchi', 'patchwork', 'pate', 'patek', 'patella', 'patent', 'patern', 'pateur', 'path', 'pathet', 'pathogen', 'pathologist', 'pati', 'paticular', 'patienc', 'patient', 'patina', 'patinkin', 'patio', 'patisseri', 'pato', 'patooi', 'patri', 'patricia', 'patrick', 'patriot', 'patrol', 'patron', 'patroness', 'patsi', 'patt', 'patten', 'pattern', 'patti', 'patton', 'pau', 'paul', 'paula', 'paulin', 'paus', 'pav', 'pavarotti', 'pave', 'pavement', 'pavesini', 'pavilion', 'pavley', 'pavlov', 'pavlovian', 'pavoni', 'paw', 'pawn', 'pawsit', 'pax', 'pay', 'paycheck', 'payday', 'paydirt', 'paymast', 'payment', 'payn', 'payoff', 'paypal', 'pba', 'pbj', 'pbs', 'pcb', 'pcc', 'pcoketbook', 'pcos', 'pcp', 'pcs', 'pct', 'pdf', 'pdq', 'pds', 'pdv', 'pea', 'peaberri', 'peac', 'peacework', 'peach', 'peachi', 'peak', 'peal', 'peanit', 'peantur', 'peantus', 'peanunt', 'peanut', 'peanutbutt', 'peanuti', 'peanutti', 'peapl', 'peapod', 'pear', 'peari', 'pearl', 'pearland', 'pearlesc', 'peasant', 'peasi', 'peat', 'peati', 'peatnut', 'peaunt', 'pebbl', 'pecan', 'pecanish', 'peck', 'peckish', 'pecorino', 'pectin', 'pecul', 'pecular', 'peculiar', 'peda', 'pedal', 'pedant', 'peddl', 'pedest', 'pedestrian', 'pedialit', 'pedialyt', 'pediasur', 'pediatr', 'pediatrician', 'pediatrit', 'pedigre', 'peditirician', 'pedro', 'pee', 'peed', 'peek', 'peekapoo', 'peel', 'peelu', 'peep', 'peepad', 'peer', 'peerless', 'peet', 'peev', 'peewe', 'pefect', 'pefer', 'peg', 'pegboard', 'peggi', 'pei', 'peic', 'peiod', 'peke', 'pekinges', 'peko', 'pelham', 'peligrino', 'pellegrino', 'pellet', 'pellicl', 'pelligrino', 'pelmehni', 'peloponnes', 'pelt', 'pemberton', 'pembrok', 'pemican', 'pemmican', 'pen', 'penal', 'penalti', 'penaut', 'penchant', 'pencil', 'pend', 'pendant', 'pendleton', 'penetr', 'penfriend', 'penguin', 'peni', 'penicillin', 'peninsula', 'penman', 'penn', 'penna', 'pennant', 'penney', 'penni', 'pennsylvania', 'penol', 'penros', 'pensacola', 'penta', 'pentagram', 'penylalanin', 'penzey', 'penzi', 'peoni', 'peopl', 'pep', 'pepar', 'pepcid', 'pepe', 'peper', 'pepermint', 'pepin', 'pepita', 'pepomint', 'peppadew', 'pepper', 'peppercini', 'peppercorn', 'peppergrind', 'pepperi', 'pepperidg', 'peppermil', 'peppermint', 'pepperminti', 'pepperoncini', 'pepperoni', 'pepperwork', 'peppod', 'peppomint', 'pepporoni', 'peppper', 'pepsi', 'pepsico', 'pepsin', 'pepto', 'pepton', 'per', 'pera', 'perahp', 'perc', 'perceiv', 'percent', 'percentag', 'percentil', 'percept', 'perch', 'perchanc', 'perciatelli', 'perciev', 'percnt', 'percocet', 'percol', 'percolat', 'percul', 'perdon', 'perdu', 'perefect', 'peregrin', 'pereira', 'perenni', 'perf', 'perfct', 'perfect', 'perfecti', 'perfectionist', 'perfecto', 'perfer', 'perferct', 'perfor', 'perform', 'perfum', 'perfumey', 'perfumi', 'perfunctori', 'perhap', 'peri', 'pericon', 'pericycl', 'perier', 'perigord', 'peril', 'perimenopaus', 'perimet', 'peringotti', 'period', 'periperi', 'peripher', 'peripheri', 'perish', 'peristalsi', 'peritoneum', 'perk', 'perki', 'perkin', 'perl', 'perlato', 'perleman', 'perm', 'perman', 'permeat', 'permesan', 'permethrin', 'permiss', 'permit', 'permuat', 'permut', 'pernambuco', 'pernici', 'pernigotti', 'pero', 'perogi', 'peron', 'peroxid', 'perpar', 'perpendicular', 'perpetu', 'perplex', 'perplexion', 'perricon', 'perrier', 'perrin', 'perruch', 'pers', 'perscript', 'persepct', 'perser', 'perserfit', 'perserv', 'persev', 'persever', 'persian', 'persimmon', 'persist', 'perski', 'persnicketi', 'persoan', 'person', 'persona', 'personal', 'personalbrand', 'personalment', 'personel', 'personn', 'perspect', 'perspir', 'persu', 'persuad', 'persuas', 'pertain', 'perth', 'perticular', 'perturb', 'peru', 'perugina', 'perus', 'peruvian', 'pervad', 'pervas', 'pervers', 'pervert', 'pesach', 'pescado', 'pescatarian', 'peski', 'peso', 'pessim', 'pessimist', 'pest', 'pestal', 'pestel', 'pester', 'pesticid', 'pestil', 'pestisid', 'pestl', 'pesto', 'pet', 'peta', 'petag', 'petal', 'petco', 'pete', 'peter', 'petersburg', 'peterson', 'petfood', 'petfooddirect', 'petfooddiscount', 'petguard', 'petguy', 'petit', 'petitecuisin', 'petm', 'petmart', 'petmat', 'petown', 'petperk', 'petplay', 'petramalt', 'petrefi', 'petrifi', 'petrochem', 'petrodex', 'petrolatum', 'petroleum', 'petshop', 'petsitt', 'petsmart', 'petssupermaket', 'petstor', 'petti', 'petunia', 'petzlif', 'pew', 'peychaud', 'pez', 'pfchang', 'pfizer', 'pfoa', 'pfrespak', 'pgg', 'pgh', 'phad', 'phak', 'phantasm', 'phantom', 'pharamaci', 'pharm', 'pharma', 'pharmaceut', 'pharmaci', 'pharmacist', 'pharmacolog', 'pharmeceut', 'phase', 'phat', 'phd', 'pheasant', 'phenobarbit', 'phenol', 'phenom', 'phenomen', 'phenomena', 'phenomenon', 'phenomin', 'phenyl', 'phenylalanin', 'phenylalin', 'pheramon', 'pheromon', 'phew', 'phi', 'philadelphia', 'philadephia', 'philip', 'philipin', 'philippin', 'philistin', 'philli', 'phillip', 'phillipino', 'phillippin', 'phillo', 'philmont', 'philosapi', 'philosophi', 'philosphi', 'phka', 'phl', 'phlem', 'pho', 'phoeb', 'phoenix', 'pholk', 'phone', 'phonet', 'phoney', 'phoni', 'phonic', 'phooey', 'phosphat', 'phosphid', 'phosphor', 'phosphorus', 'phospor', 'photo', 'photograph', 'photographi', 'phototroph', 'php', 'phrase', 'phsyical', 'phthalat', 'phx', 'phylli', 'phyllo', 'physic', 'physician', 'physiolog', 'physiqu', 'phytat', 'phytochem', 'phytoestrogen', 'phytonutri', 'phytoplankton', 'phytosterol', 'phê', 'piana', 'piano', 'piastra', 'pic', 'pica', 'picadillo', 'picant', 'picard', 'picata', 'piccadilli', 'piccalilli', 'piccata', 'piccatina', 'pice', 'pick', 'pickalilli', 'pickapeppa', 'pickappa', 'picker', 'pickest', 'pickey', 'picki', 'pickier', 'pickiest', 'pickl', 'pickmeup', 'pickup', 'pickwick', 'picnic', 'picnick', 'pico', 'picth', 'pictu', 'pictur', 'picturesqu', 'piddl', 'pie', 'piec', 'piecem', 'piecrust', 'pienaroma', 'pier', 'pierc', 'piermal', 'pierna', 'pierogi', 'pierr', 'pietro', 'pig', 'pigeon', 'piggi', 'pigment', 'pignoli', 'pignolia', 'pigon', 'pigout', 'pik', 'pike', 'piknik', 'pilaf', 'pilari', 'pilat', 'pilau', 'pilchard', 'pile', 'pilfer', 'pill', 'pillgun', 'pilliow', 'pillow', 'pillowcas', 'pillowi', 'pillpocket', 'pillsburi', 'pilon', 'pilot', 'pilsburi', 'pilsner', 'pim', 'pimento', 'pimenton', 'pimiento', 'pimp', 'pimpinella', 'pimpl', 'pin', 'pina', 'pinach', 'pinacolda', 'pinappl', 'pinata', 'pinch', 'pincher', 'pinchin', 'pinciotti', 'pindi', 'pine', 'pineapl', 'pineappl', 'pineapplish', 'pinenut', 'pineppl', 'pinewood', 'piney', 'pingo', 'pingshui', 'pinhead', 'pinhol', 'pinicki', 'pink', 'pinker', 'pinki', 'pinkish', 'pinnacl', 'pinneappl', 'pinnoli', 'pinochl', 'pinol', 'pinot', 'pinpoint', 'pinscher', 'pinstrip', 'pint', 'pinto', 'pinwheel', 'pioki', 'pioneer', 'pipa', 'pipe', 'pipelin', 'piper', 'pipper', 'piqu', 'piquanc', 'piquant', 'piquillo', 'piramid', 'pirat', 'piripiri', 'piroulin', 'pirtl', 'pis', 'pisa', 'pisco', 'pismo', 'piss', 'pistachio', 'pistchio', 'pistol', 'pistou', 'pit', 'pita', 'pitachio', 'pitbul', 'pitcairn', 'pitch', 'pitcher', 'pite', 'pitfal', 'pith', 'pithi', 'piti', 'pitiabl', 'pitr', 'pitt', 'pitta', 'pitter', 'pitti', 'pittsburgh', 'pituitari', 'pivot', 'pix', 'pixi', 'pizaaz', 'pizazz', 'pizell', 'pizza', 'pizzaz', 'pizzazz', 'pizzell', 'pizzeria', 'pizzl', 'pjs', 'pkg', 'pkgd', 'pkgs', 'pks', 'pkt', 'pkts', 'pla', 'placat', 'place', 'placebo', 'placement', 'placer', 'plack', 'placqu', 'plactic', 'plaesant', 'plagu', 'plain', 'plainer', 'plan', 'plancha', 'planck', 'plane', 'planet', 'planetari', 'planett', 'plank', 'planner', 'plant', 'plantain', 'plantat', 'planter', 'plantin', 'plaqu', 'plasic', 'plasitc', 'plasma', 'plasmon', 'plaster', 'plastic', 'plasticbollt', 'plastici', 'plasticin', 'plasticki', 'platain', 'plate', 'plateau', 'platelet', 'platform', 'platic', 'platinum', 'plato', 'platoon', 'platter', 'plaug', 'plausibl', 'play', 'playa', 'playabl', 'playdat', 'playdoh', 'playdough', 'player', 'playground', 'playmat', 'playtex', 'playtim', 'plaza', 'pleaas', 'plead', 'pleas', 'pleasant', 'pleasantri', 'pleasent', 'pleaser', 'pleasin', 'pleasur', 'plebeian', 'plebian', 'pledg', 'pleeeeas', 'pleeeeezzzzzz', 'plen', 'pleni', 'plenitud', 'plenti', 'plentli', 'plentyful', 'plesant', 'plese', 'plesent', 'plethora', 'pleurisi', 'pleurotus', 'plexus', 'pliabl', 'pliant', 'plier', 'plight', 'plochman', 'plocki', 'plop', 'plot', 'plott', 'ploughman', 'plow', 'ploy', 'pls', 'pluck', 'plucker', 'plug', 'plugra', 'plum', 'plumb', 'plumber', 'plummer', 'plummet', 'plummi', 'plump', 'plumper', 'plumros', 'plung', 'plunger', 'plunk', 'plural', 'pluribus', 'plus', 'pluse', 'plush', 'pluss', 'pluto', 'plyabl', 'pmid', 'pms', 'pmsing', 'pnb', 'pneumonia', 'png', 'pnut', 'poa', 'poach', 'poack', 'pobabl', 'poblana', 'poblano', 'pocatello', 'poch', 'pocket', 'pocketbook', 'pocki', 'pocorn', 'poctur', 'pod', 'podfilt', 'podhead', 'podmerch', 'poduct', 'podz', 'poe', 'poem', 'poemegrant', 'poepl', 'poetic', 'poetri', 'poignant', 'point', 'pointer', 'pointi', 'pointless', 'pois', 'poisen', 'poison', 'poisoni', 'poivr', 'poke', 'poker', 'pokey', 'pokish', 'pokorski', 'polan', 'poland', 'polar', 'pole', 'polent', 'polenta', 'poli', 'polic', 'polici', 'polin', 'polinari', 'polio', 'polish', 'polit', 'politic', 'politician', 'polk', 'polka', 'poll', 'pollack', 'pollard', 'pollen', 'polli', 'pollin', 'pollo', 'pollut', 'pollux', 'polluxultramix', 'polo', 'poltergiest', 'polut', 'polvo', 'polycarbon', 'polycyst', 'polydextros', 'polyest', 'polyethylen', 'polyfilt', 'polyflor', 'polym', 'polyphenol', 'polypropylen', 'polysaccharid', 'polysomethingoroth', 'polysorb', 'polystyren', 'polythen', 'polyunsat', 'polyunsatur', 'pom', 'pomac', 'pomad', 'pomagranet', 'pomapoo', 'pomberri', 'pomegran', 'pomegranit', 'pomegrant', 'pomemgran', 'pomeranean', 'pomeranian', 'pomi', 'pommeri', 'pomodoro', 'pomona', 'pompous', 'pomrerain', 'pomum', 'poncho', 'pond', 'ponder', 'ponderosa', 'pone', 'pongal', 'poni', 'pont', 'ponytail', 'ponzu', 'poo', 'pooch', 'poochi', 'poochin', 'poodl', 'poof', 'poofi', 'pooh', 'pooki', 'pool', 'poop', 'pooper', 'poopi', 'poor', 'poorer', 'poorest', 'pop', 'popchip', 'popcorn', 'popcornpopp', 'pope', 'popey', 'poplit', 'popocorn', 'popov', 'popoyan', 'popp', 'poppabl', 'popper', 'poppi', 'popppi', 'poppycock', 'poppyse', 'popsalot', 'popsecret', 'popsicl', 'poptao', 'poptart', 'popualr', 'popul', 'popular', 'populara', 'popup', 'por', 'porcelain', 'porcelana', 'porch', 'porchini', 'porcini', 'porcupin', 'porduct', 'pore', 'pork', 'porkchop', 'porker', 'porkless', 'porno', 'porous', 'porport', 'porqu', 'porquereia', 'porridg', 'porrig', 'port', 'portabl', 'portafilt', 'portal', 'porter', 'porterhous', 'portfolio', 'portho', 'porti', 'portillo', 'portion', 'portland', 'porto', 'portobello', 'portrait', 'portray', 'portrud', 'portug', 'portugues', 'pos', 'posada', 'pose', 'poser', 'posess', 'poseur', 'posh', 'poshi', 'posionus', 'posit', 'positivili', 'positon', 'positv', 'possabl', 'possess', 'possibl', 'possiblitii', 'possilb', 'possum', 'post', 'postag', 'postal', 'postassium', 'postcard', 'postdoc', 'poster', 'posthast', 'postman', 'postmark', 'postpartum', 'postpon', 'postprandi', 'postscript', 'postul', 'postum', 'postur', 'pot', 'potag', 'potao', 'potasium', 'potassium', 'potat', 'potatato', 'potato', 'potatoey', 'potenc', 'potencia', 'potent', 'potenti', 'pothold', 'potic', 'potion', 'potluck', 'potota', 'pototo', 'potpi', 'potpourri', 'potstick', 'potteri', 'potti', 'pouch', 'pouchkin', 'pouchong', 'pouder', 'pouf', 'poulard', 'poulet', 'poulouri', 'poulti', 'poultic', 'poultri', 'pounc', 'pounch', 'pounci', 'pound', 'poundag', 'poundcak', 'pounder', 'poupon', 'pour', 'pourabl', 'pourgouri', 'pourin', 'pout', 'poverti', 'pow', 'powder', 'powderi', 'powed', 'powel', 'power', 'powerad', 'powerbar', 'powerbomb', 'powercola', 'powercrunch', 'powerful', 'powergel', 'powerhous', 'powerpop', 'powerscoop', 'powfer', 'pox', 'poxi', 'pozol', 'ppis', 'ppl', 'ppm', 'pppm', 'ppppuuuuurrrrrrrrrrr', 'pproduct', 'practacl', 'practic', 'practict', 'practition', 'pradesh', 'prado', 'pragma', 'prairi', 'prais', 'praiseworthi', 'pralin', 'pralus', 'pramesan', 'pranc', 'prangel', 'prank', 'prari', 'pratic', 'prawn', 'pray', 'prayer', 'prc', 'prduct', 'pre', 'preach', 'preacher', 'preambl', 'preamp', 'prearl', 'preasant', 'preasur', 'prebak', 'prebiot', 'precaut', 'preced', 'prechew', 'precious', 'precipit', 'precis', 'preclud', 'preconceiv', 'preconcept', 'precondit', 'precook', 'precript', 'prectic', 'precursor', 'precut', 'predat', 'predawn', 'predecessor', 'predetermin', 'predica', 'predict', 'predictor', 'predilect', 'predillict', 'predison', 'predispos', 'predisposit', 'prednison', 'prednizon', 'predomin', 'preemi', 'preemin', 'preemtiv', 'preexist', 'pref', 'prefab', 'prefac', 'prefect', 'prefer', 'prefera', 'preferabley', 'preferenti', 'preferida', 'preferr', 'preffer', 'prefil', 'prefix', 'preganc', 'pregnanc', 'pregnant', 'pregnat', 'prego', 'preground', 'preheat', 'prehistor', 'prehypertens', 'prei', 'preimer', 'prejud', 'prejudic', 'prelud', 'prem', 'premad', 'premark', 'prematur', 'premeasur', 'premi', 'premier', 'premis', 'premium', 'premiun', 'premix', 'preoccup', 'preorder', 'prep', 'prepack', 'prepackag', 'prepaid', 'prepar', 'prepara', 'preparatori', 'prepared', 'preparened', 'preper', 'preperaton', 'preplan', 'preport', 'preppi', 'prerequisit', 'prerins', 'pres', 'presa', 'presant', 'preschool', 'prescott', 'prescrib', 'prescript', 'presenc', 'present', 'presenttto', 'preser', 'preserv', 'preservati', 'preservit', 'preset', 'presev', 'presid', 'president', 'preslic', 'preso', 'presoak', 'press', 'pressur', 'prestig', 'prestigi', 'presto', 'presum', 'presumpt', 'presuppos', 'presur', 'presweeten', 'pretast', 'preteen', 'pretel', 'pretend', 'pretens', 'pretenti', 'pretien', 'pretti', 'prettier', 'prettiest', 'pretz', 'pretzel', 'pretzelli', 'pretzl', 'prevacid', 'prevail', 'preval', 'prevar', 'prevel', 'prevent', 'preventit', 'previd', 'preview', 'previous', 'prewarm', 'prewash', 'prework', 'preworkout', 'prey', 'prezel', 'preztel', 'prfere', 'pri', 'pria', 'price', 'priceless', 'pricetag', 'priceto', 'pricewis', 'pricey', 'priceym', 'prici', 'pricier', 'prick', 'pride', 'priest', 'priester', 'priestley', 'prik', 'prilosec', 'primal', 'primanti', 'primari', 'primarili', 'primavera', 'prime', 'primer', 'primo', 'primolio', 'primordi', 'primula', 'primulo', 'princ', 'princess', 'princip', 'principia', 'principl', 'pringl', 'print', 'printer', 'prior', 'prioriti', 'prison', 'prissi', 'pristin', 'pritchett', 'privaci', 'privat', 'priviledg', 'privileg', 'priya', 'prize', 'pro', 'proabli', 'proactiv', 'prob', 'probabi', 'probabl', 'probar', 'probbali', 'probe', 'probelem', 'probelm', 'probem', 'probiot', 'problem', 'problemat', 'problemo', 'probli', 'probosci', 'probuct', 'procces', 'proccess', 'proce', 'proced', 'procedur', 'proceed', 'proceess', 'proces', 'process', 'processor', 'processs', 'proclaim', 'procrastin', 'procter', 'proctor', 'procuct', 'procur', 'procusitto', 'prod', 'prodauct', 'prodcut', 'prodect', 'prodhomm', 'prodouct', 'produc', 'producct', 'produci', 'product', 'producto', 'produst', 'produt', 'proetin', 'prof', 'profesion', 'profess', 'profession', 'professionali', 'professor', 'proffer', 'proffession', 'profici', 'profil', 'profit', 'profiterol', 'proflow', 'profound', 'profus', 'progam', 'progein', 'progess', 'program', 'programm', 'progress', 'progresso', 'progressor', 'prohibit', 'proir', 'project', 'projectil', 'prolaps', 'prolbem', 'proletarian', 'proletariat', 'prolif', 'prolifer', 'prolli', 'prolong', 'prom', 'promax', 'promin', 'promis', 'promlem', 'promo', 'promot', 'prompli', 'prompt', 'promptedin', 'proms', 'promt', 'prone', 'prong', 'pronouc', 'pronounc', 'pronounci', 'pronouonc', 'pront', 'pronto', 'proof', 'proov', 'prop', 'propag', 'propaganda', 'propan', 'propel', 'propens', 'proper', 'properit', 'properlli', 'properti', 'propheci', 'prophet', 'propion', 'proplan', 'propoli', 'propon', 'proport', 'proportion', 'propos', 'proposit', 'propranolol', 'proprietari', 'proprietor', 'propylen', 'pros', 'prosag', 'prosciutto', 'proscratin', 'prosecco', 'prospect', 'prosper', 'prostat', 'prosthet', 'prostitut', 'prostrat', 'protabl', 'protain', 'protean', 'proteas', 'protect', 'protector', 'protein', 'proteini', 'proteinplus', 'protest', 'protetiva', 'protien', 'protim', 'protion', 'protocol', 'protoplast', 'protrud', 'prouct', 'proud', 'proudct', 'prouduct', 'prounc', 'proust', 'proustian', 'prouti', 'provanc', 'prove', 'provecho', 'proved', 'provel', 'proven', 'provenc', 'provenç', 'proverb', 'proverbi', 'provess', 'provid', 'provinc', 'provis', 'provision', 'provoc', 'provok', 'provolon', 'prowl', 'prowler', 'proxi', 'proxim', 'prozym', 'prserv', 'prservat', 'prtezel', 'pruchas', 'prudhomm', 'prudish', 'pruduc', 'prueb', 'prune', 'pruner', 'pruney', 'prunus', 'prushas', 'pryidoxin', 'pseudo', 'pseudonoodl', 'psl', 'psls', 'psoriasi', 'psst', 'pst', 'psych', 'psychedel', 'psychiatr', 'psychic', 'psycho', 'psychoact', 'psycholog', 'psychosomat', 'psychot', 'psychotrop', 'psyllium', 'pta', 'pther', 'ptoduct', 'ptooey', 'pts', 'ptsd', 'ptting', 'pub', 'puberti', 'public', 'publicist', 'publish', 'publix', 'pubm', 'pucca', 'puch', 'puchas', 'pucini', 'puck', 'pucker', 'pud', 'puddin', 'puddingscotch', 'puddl', 'pudg', 'pudgi', 'pudgier', 'pueblo', 'pued', 'puerh', 'puerto', 'puf', 'puff', 'puffet', 'puffi', 'puffier', 'puffin', 'pug', 'puget', 'puggi', 'puggl', 'puglia', 'puglies', 'puke', 'puksi', 'pulao', 'pule', 'puleeez', 'puliogar', 'pull', 'pullback', 'pullux', 'pulmonari', 'pulp', 'pulpi', 'pulpo', 'puls', 'pulsat', 'pulver', 'puma', 'pumic', 'pumkin', 'pump', 'pumper', 'pumpernickel', 'pumpin', 'pumpk', 'pumpkin', 'pumpless', 'pun', 'punch', 'punchbowl', 'puncher', 'punchi', 'punchier', 'punctual', 'punctuat', 'punctur', 'pund', 'pune', 'pungeant', 'pungenc', 'pungent', 'puni', 'punish', 'punjab', 'punjabi', 'punkin', 'punxsutawney', 'pup', 'pupcak', 'puperoni', 'pupil', 'pupos', 'puppadum', 'pupperoni', 'puppet', 'puppetmast', 'puppi', 'puppodum', 'puppychow', 'puppyhood', 'puppymil', 'pupster', 'pur', 'pura', 'purcahs', 'purcas', 'purcel', 'purcgas', 'purch', 'purcha', 'purchac', 'purchas', 'purchash', 'purchcas', 'purches', 'purchis', 'purchs', 'purchsa', 'purchus', 'purdu', 'pure', 'purea', 'purebar', 'purebit', 'purebr', 'purebre', 'pureh', 'purelo', 'purer', 'purest', 'purevia', 'purew', 'purfect', 'purg', 'purgat', 'purhcas', 'purifi', 'purin', 'purina', 'purinaon', 'purist', 'puriti', 'purley', 'purn', 'purpl', 'purplish', 'purport', 'purpos', 'purprea', 'purpurea', 'purr', 'purre', 'purrev', 'purrfect', 'purs', 'purshas', 'pursu', 'pursuit', 'purti', 'puruvian', 'purvey', 'purveyor', 'pus', 'push', 'pusher', 'pushi', 'pushpi', 'puss', 'pussycat', 'put', 'putana', 'putat', 'pute', 'putney', 'putrefi', 'putrid', 'puttanesca', 'putthem', 'putti', 'puupi', 'puurrrrfect', 'puzzl', 'pvc', 'pyekki', 'pylori', 'pyr', 'pyramid', 'pyrane', 'pyrene', 'pyrenn', 'pyrex', 'pyridoxin', 'pyro', 'pyrophosph', 'pyrotechn', 'pyscholog', 'pysic', 'python', 'qai', 'qatar', 'qatmeal', 'qauliti', 'qauntiti', 'qfc', 'qick', 'qout', 'qpr', 'qti', 'qts', 'qtys', 'qu', 'quacamol', 'quacker', 'quackwatch', 'quacomol', 'quado', 'quadrant', 'quadratinni', 'quadrelli', 'quadroopl', 'quadrupl', 'quadruplet', 'quaf', 'quaffer', 'quai', 'quail', 'quailiti', 'quailti', 'quaint', 'quaiti', 'quaker', 'qualif', 'qualifi', 'qualit', 'qualita', 'qualiti', 'qualitycontrol', 'qualiy', 'qualm', 'qualti', 'quanit', 'quaniti', 'quanti', 'quantifi', 'quantit', 'quantiti', 'quarantin', 'quarrel', 'quart', 'quarter', 'quarterback', 'quartermast', 'quartz', 'quash', 'quatiti', 'quazi', 'qudoba', 'que', 'queasi', 'queazi', 'quebec', 'queeen', 'queen', 'queijo', 'queliti', 'quell', 'quench', 'quencher', 'quenci', 'queri', 'quesadilla', 'queso', 'quesodilla', 'quess', 'quest', 'question', 'questionair', 'quezi', 'qui', 'quibbl', 'quic', 'quich', 'quichua', 'quick', 'quicka', 'quickbread', 'quicken', 'quicker', 'quickest', 'quicki', 'quickley', 'quiclli', 'quiet', 'quieter', 'quik', 'quiker', 'quilt', 'quilti', 'quinc', 'quinci', 'quinn', 'quinoa', 'quinona', 'quinquefolium', 'quintessenti', 'quiona', 'quirk', 'quirki', 'quisp', 'quit', 'quita', 'quiz', 'quliti', 'quo', 'quoi', 'quonset', 'quot', 'quota', 'quotat', 'quotient', 'quoto', 'quumquat', 'qwick', 'rabat', 'rabbi', 'rabbin', 'rabbit', 'rabe', 'rabid', 'rabinowitz', 'raccomand', 'racconto', 'raccoon', 'race', 'rach', 'rachael', 'racheal', 'rachel', 'racin', 'racism', 'racist', 'rack', 'racket', 'raclett', 'racoon', 'racquetbal', 'rad', 'radar', 'raddichio', 'raddish', 'radial', 'radianc', 'radiant', 'radiat', 'radiator', 'radic', 'radici', 'radio', 'radioact', 'radish', 'radius', 'raeli', 'rafael', 'raffaello', 'rafsanjan', 'raft', 'rag', 'ragdol', 'rage', 'rageous', 'raggedi', 'ragold', 'ragout', 'ragu', 'raid', 'raider', 'rail', 'railroad', 'rain', 'rainbo', 'rainbow', 'raincoast', 'raincoasttrad', 'raindeer', 'rainfal', 'rainforest', 'raini', 'rainier', 'rais', 'raisan', 'raisen', 'raiser', 'raisin', 'raisinet', 'raisinett', 'raiskin', 'raisn', 'raison', 'rait', 'raita', 'raj', 'rajah', 'rajma', 'rake', 'rakin', 'raleigh', 'raley', 'ralf', 'raliegh', 'ralli', 'ralph', 'ram', 'raman', 'rambl', 'rambo', 'rambuncti', 'ramekin', 'ramen', 'ramiel', 'ramif', 'ramm', 'ramon', 'ramotsw', 'ramp', 'rampag', 'rampant', 'rampolla', 'ramsay', 'ramstein', 'ramun', 'ramyun', 'ran', 'ranch', 'rancha', 'rancher', 'ranchera', 'ranchero', 'rancid', 'rancilio', 'rancillio', 'rancillo', 'randal', 'randi', 'random', 'rang', 'ranger', 'rangetop', 'rangpur', 'ranida', 'rank', 'rano', 'ransom', 'rant', 'rao', 'raost', 'rap', 'rapadura', 'rapese', 'rapid', 'rapido', 'rapini', 'rapport', 'rapt', 'raptur', 'rapunzel', 'rare', 'rarebit', 'rarer', 'rarifi', 'rarin', 'rariti', 'ras', 'rasam', 'rasberi', 'rasberri', 'rascal', 'rase', 'rash', 'rasher', 'rasin', 'rasmussen', 'rasp', 'raspberi', 'raspberri', 'rasperri', 'raspi', 'rassberri', 'rast', 'rasta', 'rat', 'rata', 'ratatouill', 'ratatuill', 'rate', 'rater', 'rather', 'ratic', 'ratio', 'ration', 'rational', 'rattatoui', 'rattl', 'rattler', 'rattlesnak', 'rava', 'ravag', 'rave', 'raven', 'ravenova', 'ravenshot', 'ravi', 'ravida', 'ravioletti', 'ravioli', 'ravish', 'raw', 'rawf', 'rawhid', 'ray', 'raya', 'raymond', 'raynaud', 'razberri', 'razor', 'razzl', 'razzmatazz', 'razzpotl', 'rca', 'rcd', 'rcvd', 'rda', 'rdi', 'rdv', 'rea', 'reaali', 'reabsorb', 'reacat', 'reaccess', 'reach', 'react', 'reaction', 'reactiv', 'reactor', 'read', 'readabl', 'reader', 'readi', 'readili', 'readilli', 'readin', 'readind', 'readliy', 'readout', 'readymad', 'reaffirm', 'reagan', 'real', 'realat', 'realcoconut', 'realer', 'reales', 'reali', 'realim', 'realis', 'realism', 'realist', 'realiti', 'realiz', 'realize', 'realli', 'reallli', 'reallllli', 'realllllyyi', 'realllyyyy', 'reallt', 'realm', 'realsalt', 'realtiv', 'realtor', 'realx', 'ream', 'reama', 'reaosn', 'reap', 'reappear', 'reappli', 'reaquir', 'rear', 'reasearch', 'reasent', 'reaseon', 'reason', 'reasonalbi', 'reasonalbl', 'reasonali', 'reasonbl', 'reasont', 'reassess', 'reassur', 'reast', 'reastaur', 'reastur', 'reat', 'reath', 'reattach', 'reawaken', 'reb', 'rebag', 'rebar', 'rebat', 'rebaudiosid', 'rebecca', 'rebel', 'rebelli', 'rebellion', 'rebiana', 'reblend', 'reboot', 'rebought', 'rebound', 'rebuild', 'rebuilt', 'rebuy', 'rec', 'recaito', 'recal', 'recald', 'recap', 'recaptur', 'recategoris', 'recca', 'reccemmend', 'reccogmend', 'reccom', 'reccomen', 'reccomend', 'reccommend', 'reccorro', 'recd', 'receciv', 'reced', 'receiev', 'receievd', 'receip', 'receipi', 'receipt', 'receiv', 'receivd', 'recemmend', 'recenlti', 'recent', 'recentley', 'receommend', 'recepi', 'recept', 'receptacl', 'receptionist', 'receptor', 'recess', 'recet', 'recev', 'recevi', 'recharg', 'recheck', 'recient', 'reciep', 'reciept', 'reciev', 'recip', 'recipe', 'recipezaar', 'recipi', 'recipl', 'recit', 'reciv', 'reckless', 'reckon', 'reclaim', 'reclin', 'reclos', 'reclus', 'recmon', 'recocommend', 'recogn', 'recognis', 'recognit', 'recogniz', 'recoil', 'recollect', 'recolmmend', 'recom', 'recombin', 'recomen', 'recomend', 'recoment', 'recomiendo', 'recommand', 'recommed', 'recommedn', 'recommemd', 'recommen', 'recommenc', 'recommend', 'recommendig', 'recommened', 'recommkend', 'recommmend', 'recommn', 'recommned', 'recommnend', 'recompend', 'reconcil', 'reconfigur', 'recongniz', 'reconnaiss', 'reconnect', 'reconsid', 'reconsider', 'reconstitu', 'reconstitut', 'reconstruct', 'recook', 'recoomend', 'recoommend', 'record', 'recoup', 'recours', 'recov', 'recoveri', 'recpi', 'recreat', 'recruit', 'rectal', 'rectangl', 'rectangular', 'rectifi', 'rectum', 'recuper', 'recupera', 'recur', 'recurr', 'recutita', 'recv', 'recyc', 'recycl', 'recycyl', 'recyl', 'red', 'redbarn', 'redbul', 'redbush', 'redcloud', 'redd', 'reddenbach', 'reddenbock', 'redder', 'reddish', 'redeam', 'redecor', 'redeem', 'redefin', 'redeliveri', 'redenbach', 'redenback', 'redendbach', 'redesign', 'redespresso', 'redfish', 'redhand', 'redhead', 'redhot', 'redi', 'rediburg', 'redicul', 'redid', 'redintegr', 'redirect', 'rediscov', 'redish', 'rediwhip', 'redlin', 'redmond', 'redo', 'redol', 'redpack', 'redros', 'redskin', 'redu', 'reduc', 'reduct', 'reducu', 'redund', 'redvin', 'redwood', 'reeaalllli', 'reealli', 'reed', 'reeder', 'reeeaalli', 'reeeealli', 'reeeeeeealli', 'reef', 'reeiv', 'reek', 'reeki', 'reel', 'reemplazar', 'reenforc', 'reentli', 'rees', 'reesestick', 'reestablish', 'ref', 'refer', 'refere', 'referenc', 'referesh', 'referig', 'referr', 'refidg', 'refieger', 'refiger', 'refil', 'refin', 'refind', 'refineri', 'refir', 'reflect', 'reflector', 'reflex', 'refluff', 'reflux', 'reforest', 'reform', 'reformul', 'refrain', 'refreas', 'refreez', 'refregir', 'refres', 'refresh', 'refreshen', 'refressh', 'refri', 'refrider', 'refridger', 'refrig', 'refrigar', 'refriger', 'refrigerst', 'refrito', 'refuel', 'refug', 'refulx', 'refund', 'refus', 'refut', 'reg', 'regain', 'regal', 'regalo', 'regan', 'regard', 'regardless', 'regatta', 'regener', 'reget', 'reggi', 'reggiano', 'reggio', 'regi', 'regim', 'regimem', 'regimen', 'regiment', 'reginald', 'region', 'regist', 'registri', 'reglar', 'reglu', 'regluar', 'regrat', 'regress', 'regret', 'regrett', 'regriger', 'reground', 'regualar', 'regualr', 'regualri', 'reguar', 'regul', 'regular', 'regulari', 'regulatori', 'regur', 'regurgit', 'rehab', 'rehears', 'reheat', 'rehfeld', 'rehydr', 'rehyr', 'rei', 'reich', 'reidel', 'reiew', 'reign', 'reignit', 'reiki', 'reimburs', 'reinact', 'reinburs', 'reincarn', 'reindeer', 'reinforc', 'reinhart', 'reinstat', 'reintroduc', 'reintroduct', 'reinvent', 'reinvigor', 'reishi', 'reissu', 'reiter', 'reivew', 'reiview', 'reject', 'rejoic', 'rejuven', 'rejuvin', 'rekindl', 'reknown', 'relabel', 'relac', 'relaps', 'relat', 'relationship', 'relativli', 'relaunch', 'relax', 'relaxman', 'relay', 'relearn', 'releas', 'releav', 'releg', 'releif', 'releiv', 'relent', 'relentless', 'relev', 'relflex', 'reli', 'reliabl', 'relianc', 'relick', 'relief', 'reliev', 'relig', 'religi', 'religion', 'relinquish', 'reliquifi', 'relish', 'relist', 'reliv', 'relleno', 'relli', 'reload', 'reloc', 'reluct', 'remain', 'remaind', 'remainng', 'remak', 'remanc', 'remanic', 'remanufactur', 'remark', 'remast', 'remeb', 'remedi', 'rememb', 'rememberd', 'remembr', 'rememebr', 'remememb', 'remenb', 'remenisc', 'remind', 'reminer', 'reminesc', 'reminic', 'reminis', 'reminisc', 'remisc', 'remiss', 'remix', 'remmind', 'remnant', 'remnent', 'remo', 'remodel', 'remomened', 'remors', 'remot', 'remoulad', 'remov', 'remsain', 'ren', 'renaiss', 'renal', 'renam', 'render', 'rendezv', 'rendezvouz', 'rendit', 'rene', 'renegad', 'reneofc', 'renew', 'renfair', 'renfro', 'reni', 'rennet', 'renounc', 'renov', 'renown', 'rent', 'rental', 'renuk', 'reoccur', 'reoccurr', 'reoliz', 'reommend', 'reopen', 'reord', 'reorder', 'reorderd', 'rep', 'repac', 'repack', 'repackag', 'repair', 'repairman', 'repalc', 'repast', 'repay', 'repeat', 'repel', 'repent', 'repertoir', 'repetit', 'repetiti', 'repetoir', 'rephras', 'replac', 'replacemen', 'replacementwhen', 'replant', 'replay', 'replenish', 'replet', 'repli', 'replic', 'replica', 'replug', 'replus', 'repond', 'repons', 'report', 'repost', 'repot', 'reprehens', 'repres', 'represent', 'representg', 'repriev', 'reprim', 'reprint', 'reproach', 'reproduc', 'reproduct', 'repsond', 'repsons', 'reptil', 'reptilian', 'repuat', 'republ', 'repugn', 'repuls', 'repump', 'repurchas', 'repurpos', 'repusl', 'reput', 'reqir', 'reqiur', 'request', 'requir', 'requisit', 'reqular', 'reresh', 'rerun', 'res', 'resal', 'reschedul', 'rescu', 'reseal', 'resealablebag', 'resear', 'research', 'resect', 'resel', 'resembl', 'resend', 'resent', 'reseptacl', 'reserch', 'reserv', 'reserva', 'reservoir', 'reset', 'resevoir', 'reshap', 'reship', 'reshteh', 'resid', 'residu', 'resign', 'resil', 'resili', 'resin', 'resirva', 'resist', 'resiz', 'resolut', 'resolv', 'reson', 'resort', 'resound', 'resourc', 'resours', 'respect', 'respiratori', 'respit', 'resplend', 'responc', 'respond', 'respons', 'responsibil', 'respos', 'respray', 'ress', 'rest', 'restar', 'restaraunt', 'restart', 'restaur', 'rester', 'resteraunt', 'restful', 'restict', 'restir', 'restitut', 'restless', 'restock', 'restor', 'restrain', 'restraint', 'restraunt', 'restrict', 'restroom', 'restructur', 'restuar', 'restur', 'resturaunt', 'resuabl', 'result', 'resultthat', 'resum', 'resuppli', 'resurfac', 'resurg', 'resurrect', 'resveratrol', 'ret', 'retail', 'retain', 'retali', 'retangular', 'retap', 'retard', 'retaur', 'retch', 'retent', 'retest', 'rethink', 'retic', 'retiev', 'retin', 'retir', 'retitl', 'retort', 'retouch', 'retract', 'retrain', 'retreat', 'retreiv', 'retri', 'retriev', 'retrim', 'retro', 'retrospect', 'retur', 'return', 'reuben', 'reunif', 'reunion', 'reunit', 'reus', 'reusabl', 'rev', 'revamp', 'reveal', 'reveiv', 'reveiw', 'revel', 'reveng', 'rever', 'reverend', 'reveri', 'revers', 'revert', 'review', 'reviewd', 'revieww', 'revis', 'revisit', 'revit', 'reviv', 'reviw', 'revolt', 'revolut', 'revolution', 'revolutionari', 'revolutionis', 'revolv', 'revuls', 'revv', 'rewar', 'reward', 'rewarm', 'rewash', 'rewatch', 'rework', 'rewrap', 'rex', 'rey', 'reynold', 'rgdc', 'rhaj', 'rhapsod', 'rhapsodi', 'rhe', 'rheeboot', 'rhetor', 'rheumat', 'rhind', 'rhino', 'rhizom', 'rhode', 'rhodesian', 'rhodiola', 'rhubarb', 'rhyme', 'rhythm', 'rhythmic', 'rib', 'ribald', 'ribbon', 'ribena', 'ribey', 'riboflav', 'riboflavin', 'ribus', 'rica', 'rican', 'rice', 'ricecak', 'riceland', 'ricemellow', 'riceselect', 'riceselet', 'ricethin', 'ricework', 'ricey', 'rich', 'richard', 'richardson', 'richen', 'richer', 'richess', 'richest', 'richmond', 'richo', 'richter', 'ricicl', 'ricj', 'rick', 'rickett', 'ricki', 'rico', 'ricochet', 'ricola', 'ricotta', 'rid', 'ridden', 'ridder', 'riddl', 'ride', 'rider', 'ridg', 'ridgeback', 'ridgeway', 'ridici', 'ridicul', 'ridiculi', 'riducul', 'riedel', 'riem', 'riesl', 'rife', 'riff', 'rift', 'rig', 'rigamarol', 'rigat', 'rigati', 'rigatoni', 'rigeur', 'righ', 'right', 'righton', 'rigid', 'rigor', 'rigth', 'rigueur', 'rijkstaffel', 'rile', 'riley', 'rim', 'rimadyl', 'rimmer', 'rinaldi', 'rinaldo', 'rind', 'rinehart', 'ring', 'ringer', 'rinki', 'rins', 'rio', 'rioja', 'riot', 'rip', 'ripe', 'ripen', 'ripest', 'ripley', 'ripoff', 'rippl', 'risc', 'rise', 'risen', 'riser', 'rishi', 'risk', 'riski', 'risotto', 'rissoto', 'ristra', 'ristretto', 'rit', 'rita', 'rite', 'riteaid', 'ritter', 'ritthausen', 'ritual', 'ritualis', 'ritualist', 'ritz', 'riught', 'rival', 'river', 'rivera', 'riversid', 'rivington', 'riyadh', 'rize', 'rizopia', 'rizzo', 'rjs', 'rls', 'rma', 'rmaho', 'rmcs', 'rngeri', 'rni', 'roa', 'roach', 'road', 'roadappl', 'roadhous', 'roadi', 'roadrunn', 'roadsid', 'roadtrip', 'roam', 'roanok', 'roar', 'roast', 'roastaroma', 'roasted', 'roaster', 'roasti', 'rob', 'robber', 'robberi', 'robbi', 'robbin', 'robbio', 'robert', 'roberto', 'robertson', 'robin', 'robinson', 'robitussin', 'robot', 'roboust', 'robust', 'robusta', 'robusto', 'robyn', 'roc', 'roca', 'rocamojo', 'rocco', 'rocher', 'rochest', 'rock', 'rocker', 'rocket', 'rocki', 'rockin', 'rocklin', 'rockstar', 'rod', 'rode', 'rodent', 'rodeo', 'roe', 'rof', 'rogan', 'roger', 'rogu', 'roiboo', 'roid', 'roil', 'roizen', 'roja', 'rojo', 'roland', 'role', 'roll', 'rollback', 'roller', 'rolli', 'rollsi', 'rollup', 'rolo', 'roma', 'romain', 'roman', 'romana', 'romanc', 'romania', 'romanian', 'romano', 'romanoff', 'romanov', 'romant', 'rome', 'romeal', 'romeo', 'romp', 'romper', 'romulan', 'ron', 'rona', 'ronald', 'roncal', 'ronco', 'rondel', 'roni', 'ronzoni', 'roo', 'roobi', 'roobio', 'rooboi', 'roof', 'rooftop', 'rooibo', 'rooiboi', 'rooibus', 'rooiobo', 'rook', 'rooki', 'rool', 'room', 'roomat', 'roomi', 'roommat', 'rooney', 'roosevelt', 'rooster', 'root', 'rootbeer', 'rooter', 'rop', 'rope', 'roquefort', 'rosa', 'rosacea', 'rosal', 'rosamont', 'rosari', 'rosario', 'rosarita', 'rosco', 'rose', 'rosea', 'rosebud', 'rosedal', 'rosehip', 'rosell', 'rosemari', 'rosenfeld', 'rosett', 'rosewat', 'rosey', 'roshk', 'rosi', 'rosin', 'rosmarini', 'ross', 'rossa', 'rossi', 'rosso', 'rost', 'roster', 'roswel', 'rot', 'rotat', 'rote', 'rotel', 'rotelli', 'rotessir', 'roth', 'rothwel', 'roti', 'rotini', 'rotisseri', 'rotor', 'rott', 'rotten', 'rottewil', 'rotti', 'rottweil', 'rotweil', 'roug', 'rough', 'roughag', 'rougher', 'roughi', 'rought', 'roule', 'rouler', 'roulett', 'round', 'rounder', 'roundish', 'roundup', 'rous', 'rout', 'routin', 'roux', 'rove', 'row', 'rowel', 'rowntre', 'rox', 'roxi', 'roy', 'royal', 'royalti', 'royc', 'roylt', 'rpbc', 'rrc', 'rrh', 'rstd', 'rtd', 'rte', 'rtf', 'rthis', 'rub', 'rubbag', 'rubber', 'rubbereri', 'rubberi', 'rubbermaid', 'rubbish', 'rubi', 'rubiana', 'rubus', 'rude', 'rudest', 'rudi', 'rudimentari', 'rue', 'rueben', 'ruffag', 'ruffl', 'ruffus', 'rufina', 'rug', 'rugbi', 'ruin', 'ruiter', 'rule', 'ruler', 'rum', 'rumbl', 'rumcak', 'rumford', 'rummag', 'rummi', 'rummier', 'rumor', 'rump', 'rumsfeld', 'run', 'runaway', 'runch', 'rundown', 'rune', 'runner', 'runni', 'runnier', 'runnin', 'runningrabbit', 'runnith', 'runout', 'runt', 'runway', 'runzo', 'ruptur', 'rural', 'ruse', 'rush', 'rushmor', 'rusk', 'rusnak', 'russa', 'russel', 'russert', 'russet', 'russia', 'russian', 'rust', 'rusti', 'rustic', 'rustica', 'rustichella', 'rustl', 'rut', 'ruta', 'ruth', 'rwanda', 'rwandan', 'ryan', 'ryder', 'rye', 'ryevita', 'rykrisp', 'rymyun', 'ryvita', 'rêveri', 'saad', 'saag', 'saay', 'saba', 'sabatog', 'sabbat', 'sabbath', 'sabdariffa', 'sabe', 'sabl', 'sabor', 'sabotag', 'sabra', 'sabroso', 'sac', 'saccaran', 'saccarhin', 'saccarin', 'saccharin', 'saccharinfor', 'saccharomy', 'saccharomyc', 'sacchrin', 'sach', 'sacharin', 'sacher', 'sachet', 'sack', 'saco', 'sacr', 'sacraf', 'sacral', 'sacramento', 'sacrif', 'sacrifc', 'sacrific', 'sacrifici', 'sacrileg', 'sacrilegi', 'sacrin', 'sacu', 'sad', 'sadaf', 'sadd', 'sadden', 'saddend', 'sadder', 'saddl', 'saddlebag', 'saden', 'sadest', 'sadi', 'sadler', 'saeco', 'saefiid', 'saf', 'safari', 'safe', 'safeguard', 'safer', 'safest', 'safeti', 'safeway', 'safflow', 'saffola', 'saffron', 'safina', 'safra', 'safron', 'saftbaren', 'saftey', 'sag', 'sage', 'saget', 'sago', 'sahal', 'sahara', 'sai', 'said', 'saigon', 'sail', 'sailboat', 'sailor', 'saint', 'saisfi', 'sake', 'saki', 'sakura', 'sal', 'salaci', 'salacus', 'salad', 'salada', 'salam', 'salamand', 'salami', 'salamida', 'salan', 'salari', 'salat', 'salba', 'sald', 'sale', 'salem', 'saleri', 'salesman', 'salesmen', 'salespeopl', 'salf', 'sali', 'salin', 'salina', 'salisburi', 'salish', 'salit', 'saliv', 'saliva', 'salivari', 'sall', 'salli', 'salmiak', 'salmon', 'salmonella', 'salon', 'saloon', 'salsa', 'salsifi', 'salsita', 'salt', 'saltfish', 'salti', 'saltier', 'saltiest', 'saltin', 'saltless', 'saltohol', 'salton', 'saltshak', 'saltwat', 'salud', 'saludablement', 'salut', 'salutes', 'salvag', 'salvat', 'salycil', 'salza', 'salzburg', 'sam', 'samantha', 'sambal', 'sambar', 'sambazon', 'sambirano', 'sambuca', 'same', 'sami', 'samll', 'sammi', 'sammich', 'samosa', 'samovar', 'sampel', 'sampl', 'sampler', 'samson', 'samsung', 'samuel', 'samuelsson', 'san', 'sanak', 'sanalac', 'sanbitt', 'sanchez', 'sanck', 'sanctimoni', 'sanctuari', 'sand', 'sandal', 'sandalwood', 'sandi', 'sandlewood', 'sandra', 'sandston', 'sandwhich', 'sandwich', 'sandwitch', 'sandwith', 'sandworm', 'sane', 'sanford', 'sang', 'sangioves', 'sangria', 'sanibel', 'sanit', 'sanitari', 'saniti', 'sank', 'sanka', 'sanora', 'sanskrit', 'sant', 'santa', 'santand', 'santini', 'santita', 'santo', 'santoor', 'sanwich', 'sanyo', 'sao', 'saon', 'sap', 'sapid', 'sapl', 'saponifi', 'saponin', 'sapor', 'sapori', 'sapphir', 'sappl', 'sapporo', 'sarah', 'saran', 'sarangi', 'saratoga', 'sarcasm', 'sarcast', 'sarch', 'sardenia', 'sardin', 'sardinia', 'sardinilla', 'sarg', 'sarrano', 'sarsaparilla', 'sart', 'sartori', 'sasag', 'sash', 'sasha', 'sashimi', 'saskatoon', 'saskatooni', 'sass', 'sassafra', 'sassi', 'sat', 'satan', 'satanist', 'satasfi', 'satay', 'satchel', 'sate', 'satellit', 'sathwic', 'satian', 'satiat', 'satif', 'satifi', 'satifiy', 'satin', 'satini', 'satisf', 'satisfact', 'satisfactori', 'satisfactorili', 'satisfi', 'satisfid', 'satisfyin', 'satisi', 'satisif', 'satisifi', 'satistfi', 'satisti', 'sativum', 'satsifi', 'satsuki', 'satuar', 'satur', 'saturday', 'sauc', 'saucepan', 'saucepot', 'saucer', 'saucett', 'sauci', 'sauciss', 'saucisson', 'saudi', 'saudia', 'sauerbraten', 'sauerkraut', 'saugag', 'saunier', 'saunter', 'saurpris', 'saus', 'sausag', 'sauseg', 'saut', 'saute', 'sautern', 'sauv', 'sauvi', 'sauvignon', 'sav', 'savag', 'savannah', 'save', 'savemart', 'saver', 'savignon', 'savina', 'savini', 'savior', 'savoiardi', 'savon', 'savor', 'savori', 'savour', 'savouri', 'savoy', 'savvi', 'saw', 'sawdust', 'sawdusti', 'say', 'saya', 'sayin', 'sazerac', 'sazon', 'sbc', 'sbcs', 'sbd', 'sbetter', 'sbr', 'sbuck', 'sbux', 'sca', 'scab', 'scabi', 'scad', 'scaf', 'scahet', 'scald', 'scale', 'scali', 'scalli', 'scallion', 'scallop', 'scalop', 'scalp', 'scam', 'scamazon', 'scambl', 'scammer', 'scamper', 'scampi', 'scan', 'scancal', 'scandal', 'scandinavian', 'scanner', 'scant', 'scape', 'scapegoat', 'scaptic', 'scar', 'scarc', 'scarciti', 'scare', 'scarec', 'scaredi', 'scarf', 'scari', 'scarier', 'scarlet', 'scarlt', 'scarpetta', 'scarpetto', 'scarrpetta', 'scarv', 'scath', 'scatter', 'scauc', 'scavang', 'scaveng', 'scawnier', 'sccop', 'scd', 'scean', 'scedul', 'scenario', 'scene', 'sceneri', 'scens', 'scent', 'sceptic', 'scepticl', 'schar', 'scharfenberg', 'scharffen', 'schedul', 'scheme', 'schenck', 'schepp', 'scheubl', 'schewpp', 'schezuan', 'schidigera', 'schill', 'schiller', 'schipperk', 'schitzu', 'schizandra', 'schlep', 'schloch', 'schlocki', 'schluss', 'schmanci', 'schmear', 'schmegecki', 'schmick', 'schmidt', 'schmo', 'schmooz', 'schmuck', 'schnapp', 'schnauzer', 'schnecken', 'schnellimbiss', 'schnere', 'schnick', 'schnoodl', 'schnouzer', 'schnuck', 'schoeberl', 'schokinag', 'schokolad', 'school', 'schoolbook', 'schoolboy', 'schoolday', 'schooler', 'schoolsaf', 'schoolwork', 'schramsburg', 'schtick', 'schultz', 'schwan', 'schwartz', 'schwartzwald', 'schwarzenegg', 'schwep', 'schwepp', 'scian', 'sciatica', 'scienc', 'scienceblog', 'sciencediet', 'scienfic', 'scientif', 'scientist', 'scinc', 'scissor', 'scissorhand', 'scleroderma', 'sclerosi', 'scnoodl', 'scof', 'scoff', 'scold', 'scolvill', 'scone', 'scoobi', 'scoop', 'scoopabl', 'scooper', 'scoopfre', 'scoot', 'scooter', 'scope', 'scorch', 'scord', 'score', 'scorn', 'scorpion', 'scosh', 'scot', 'scotch', 'scotia', 'scotland', 'scotsman', 'scotsmen', 'scott', 'scotti', 'scottish', 'scottsdal', 'scoup', 'scour', 'scourc', 'scous', 'scout', 'scovi', 'scovill', 'scrach', 'scracth', 'scrambl', 'scrambler', 'scrammbl', 'scrap', 'scrape', 'scrappi', 'scrappl', 'scratch', 'scratcher', 'scratchi', 'scrath', 'scrawl', 'scrawni', 'scream', 'scree', 'screech', 'screen', 'screw', 'screwdriv', 'screwi', 'screwtop', 'scrimp', 'script', 'scriptur', 'scriven', 'scrod', 'scroll', 'scroung', 'scrub', 'scrubber', 'scrubbi', 'scruffi', 'scrum', 'scrumdiddleyumpti', 'scrumdittleyumpti', 'scrummi', 'scrumpdiddlyumsci', 'scrumptious', 'scrumptous', 'scrumptuuti', 'scrumtious', 'scrumtuuti', 'scrunch', 'scrunchd', 'scrupul', 'scrutin', 'scrutini', 'scs', 'scsourc', 'scsss', 'scudder', 'scuf', 'sculpt', 'scum', 'scumbag', 'scummi', 'scumptious', 'scurri', 'scuse', 'scutellarian', 'sczhuan', 'sda', 'sea', 'seaalo', 'seabear', 'seaborn', 'seach', 'seacrest', 'sead', 'seafoam', 'seafood', 'seahawk', 'seal', 'sealabl', 'sealant', 'sealer', 'sealham', 'seam', 'seamless', 'seanson', 'seapoint', 'seaport', 'sear', 'searc', 'search', 'searl', 'seasalt', 'seasam', 'seascap', 'seasem', 'seashel', 'seasid', 'seasilv', 'seasnon', 'season', 'seasongin', 'seasonin', 'seasonl', 'seasrch', 'seat', 'seatbelt', 'seatl', 'seattl', 'seattleteacup', 'seaven', 'seawe', 'seaweat', 'seaweedi', 'sebastopol', 'sec', 'secco', 'seclud', 'seclus', 'secon', 'second', 'secondari', 'secondarili', 'secound', 'secret', 'secretari', 'section', 'sector', 'secur', 'sedari', 'sedat', 'sedentari', 'sediment', 'sedki', 'sedona', 'seduc', 'seduct', 'see', 'seed', 'seedi', 'seedin', 'seedl', 'seedland', 'seedless', 'seeet', 'seek', 'seeker', 'seelect', 'seelig', 'seem', 'seemd', 'seen', 'seenthi', 'seep', 'seer', 'seet', 'segment', 'segouna', 'segreg', 'seil', 'seinfeld', 'seit', 'seitan', 'seitenbach', 'seiyo', 'seiz', 'seizor', 'seizur', 'sel', 'selan', 'seldom', 'select', 'selenit', 'selenium', 'selentro', 'self', 'selfish', 'selfmad', 'sell', 'sellabl', 'sellbi', 'selld', 'seller', 'sellin', 'sello', 'sellong', 'seltzer', 'selv', 'semana', 'semant', 'semblanc', 'semblenc', 'semest', 'semi', 'semiautomat', 'semimoist', 'semin', 'seminar', 'seminari', 'semisolid', 'semisweet', 'semolina', 'semper', 'sen', 'senat', 'senc', 'sencha', 'send', 'sendak', 'sender', 'sendt', 'seneco', 'senegales', 'seneo', 'seneseo', 'senil', 'senior', 'senna', 'senora', 'sens', 'sensat', 'senseabl', 'senseitv', 'senseless', 'sensen', 'senseo', 'senseohol', 'senset', 'sensibl', 'sensicar', 'sensit', 'sensitivi', 'sensitivit', 'sensitv', 'senso', 'sensor', 'sensori', 'senstiv', 'sensual', 'sensuous', 'sent', 'sentenc', 'senticosus', 'sentient', 'sentiment', 'sentiv', 'seoul', 'sep', 'separ', 'separat', 'seper', 'seperatley', 'sephra', 'sepia', 'sept', 'septemb', 'septic', 'seqest', 'sequel', 'sequenc', 'sequest', 'sequim', 'serbia', 'serch', 'seren', 'serendip', 'serendipi', 'serendipitea', 'serengheti', 'serfac', 'sergeant', 'sergio', 'seri', 'serial', 'seric', 'serious', 'seriouschai', 'serivc', 'serj', 'serloin', 'seroius', 'serpent', 'serpentini', 'serrano', 'serrat', 'serum', 'serup', 'serv', 'servant', 'servent', 'server', 'serverd', 'servi', 'servic', 'servitud', 'servsaf', 'sesaam', 'sesam', 'sesasm', 'seseam', 'sesem', 'sesmark', 'session', 'set', 'setback', 'setiment', 'setiva', 'seto', 'setter', 'settl', 'settler', 'settlt', 'setup', 'sev', 'seven', 'sevencup', 'seventeen', 'seventh', 'seventi', 'sever', 'sevic', 'seviervill', 'sevill', 'sevr', 'sew', 'sewag', 'sewer', 'sewn', 'sex', 'sexi', 'sexifi', 'sexist', 'sexless', 'sexual', 'sez', 'sezchaun', 'sfbc', 'sft', 'sftgfop', 'sghetti', 'shabbi', 'shabbot', 'shack', 'shaddix', 'shade', 'shadi', 'shadier', 'shadix', 'shadow', 'shaft', 'shahda', 'shahi', 'shai', 'shaikh', 'shair', 'shakakai', 'shake', 'shaken', 'shaker', 'shakespear', 'shakey', 'shaki', 'shakili', 'shale', 'shalimar', 'shall', 'shallot', 'shallow', 'sham', 'shaman', 'shame', 'shameless', 'shampain', 'shampoo', 'shamura', 'shanghai', 'shank', 'shanshad', 'shap', 'shape', 'shapeli', 'shapnress', 'shar', 'shard', 'share', 'sharehold', 'sharffenberg', 'shark', 'sharki', 'sharon', 'sharp', 'sharpen', 'sharper', 'sharpi', 'sharpish', 'sharpli', 'sharpton', 'shart', 'sharwood', 'shasta', 'shatila', 'shatter', 'shave', 'shaven', 'shaver', 'shaw', 'shawn', 'shazam', 'shcool', 'shd', 'shea', 'shear', 'sheba', 'shebang', 'shed', 'sheeeez', 'sheen', 'sheep', 'sheepdog', 'sheepish', 'sheer', 'sheerio', 'sheesh', 'sheet', 'shelbi', 'shelf', 'shelfstabl', 'shell', 'shellfish', 'shelli', 'shelter', 'shelti', 'shelton', 'shelv', 'shenanigan', 'shennanigan', 'shep', 'shepard', 'sheperd', 'sheph', 'shephard', 'shepherd', 'sheppard', 'shepperd', 'sheraton', 'sherbet', 'sherif', 'sheriff', 'sherlock', 'sherri', 'sheryl', 'shes', 'shetland', 'shg', 'shhh', 'shhhh', 'shhhhh', 'shhhhhhhhhhh', 'shi', 'shiba', 'shichimi', 'shicken', 'shield', 'shift', 'shih', 'shihkanes', 'shihp', 'shiitak', 'shill', 'shim', 'shimmer', 'shimmeri', 'shin', 'shine', 'shiner', 'shiney', 'shingl', 'shini', 'shinier', 'shiniest', 'ship', 'shipboard', 'shipe', 'shipham', 'shipment', 'shipo', 'shipp', 'shippent', 'shipper', 'shippiong', 'shippment', 'shirakiku', 'shirataki', 'shiraz', 'shiritaki', 'shirk', 'shirley', 'shiro', 'shirt', 'shishkebob', 'shiso', 'shitak', 'shiva', 'shiver', 'shiz', 'shizuo', 'shke', 'shmanci', 'shmear', 'shmutz', 'shnauzberri', 'sho', 'shock', 'shocker', 'shockey', 'shoddi', 'shoe', 'shoelac', 'shoepeg', 'shoestr', 'shoevel', 'shold', 'sholder', 'shone', 'shoo', 'shook', 'shoosh', 'shoot', 'shooter', 'shop', 'shope', 'shopkeep', 'shoplift', 'shopp', 'shopper', 'shoprit', 'shopworn', 'shorag', 'shore', 'shork', 'shorki', 'short', 'shortag', 'shortbread', 'shortbreadi', 'shortcak', 'shortchang', 'shortcom', 'shortcut', 'shorten', 'shorter', 'shortest', 'shorthair', 'shorti', 'shortlist', 'shortsight', 'shortsuppli', 'shot', 'shotgun', 'shou', 'shoud', 'shoudl', 'shouid', 'shoulda', 'shoulder', 'shouldnt', 'shouldv', 'shoulkd', 'shoumei', 'shouold', 'shout', 'shove', 'shovel', 'show', 'showcas', 'shower', 'showgirl', 'shown', 'showroom', 'showstopp', 'showtim', 'shoyu', 'shrank', 'shrapnel', 'shread', 'shred', 'shredder', 'shrede', 'shreveport', 'shrewd', 'shriek', 'shrimp', 'shrine', 'shrink', 'shrinkag', 'shrinkwrap', 'shrivel', 'shrivl', 'shroom', 'shroomlici', 'shroomz', 'shrub', 'shrubberi', 'shrug', 'shrunk', 'shu', 'shuck', 'shuckin', 'shudder', 'shuffl', 'shui', 'shultz', 'shun', 'shup', 'shure', 'shurfin', 'shurocka', 'shut', 'shutter', 'siam', 'siames', 'siber', 'siberia', 'siberian', 'sibl', 'sic', 'sich', 'sichuan', 'sicili', 'sicilia', 'sicilian', 'siciliani', 'sick', 'sickbay', 'sicken', 'sicker', 'sickest', 'sicki', 'sid', 'sidamo', 'side', 'sidebar', 'sidedish', 'sidekick', 'sidelin', 'sidenot', 'sidetrack', 'sidewalk', 'sideway', 'sidney', 'sido', 'sidral', 'siegal', 'siena', 'sierra', 'siev', 'siez', 'sift', 'sifter', 'sigg', 'sigh', 'sighhh', 'sight', 'sightse', 'sigl', 'sign', 'signal', 'signatur', 'signfic', 'signifi', 'signific', 'significa', 'significan', 'signifig', 'signifigant', 'sil', 'sile', 'silenc', 'silent', 'silf', 'silhouett', 'silica', 'silicoallumin', 'silicoalumin', 'silicon', 'sililac', 'siljan', 'silk', 'silken', 'silki', 'silkier', 'silkiest', 'silksoy', 'sill', 'silli', 'sillicon', 'silliest', 'silt', 'silv', 'silva', 'silver', 'silverfish', 'silveri', 'silvia', 'silymarin', 'sim', 'simalac', 'simao', 'simba', 'simeon', 'simial', 'simiar', 'similac', 'similar', 'similarto', 'similiac', 'similiar', 'simillar', 'simlac', 'simliar', 'simlpi', 'simmer', 'simmil', 'simmmer', 'simon', 'simpi', 'simpl', 'simplebit', 'simplepac', 'simpler', 'simplest', 'simpli', 'simplic', 'simpliest', 'simplifi', 'simplist', 'simplybeauti', 'simplysmooth', 'simpson', 'simsim', 'simul', 'simulacrum', 'simular', 'simultan', 'sin', 'sinc', 'sincei', 'sincer', 'sinder', 'sine', 'sinensi', 'sinew', 'sinewi', 'sing', 'singapor', 'singer', 'singha', 'singl', 'singleton', 'singular', 'sinist', 'sink', 'sins', 'sinus', 'sioux', 'sip', 'sipper', 'sippi', 'sir', 'siracha', 'sire', 'siren', 'sirena', 'sirius', 'sirloin', 'sirracha', 'sirup', 'sis', 'sisal', 'sishi', 'siskel', 'sissi', 'sissorhand', 'sister', 'sit', 'sitcom', 'site', 'sitter', 'situat', 'situp', 'six', 'sixer', 'sixlet', 'sixteen', 'sixth', 'sixti', 'sizabl', 'size', 'sizeabl', 'sizzl', 'sizzlin', 'sizzor', 'sjf', 'skaaren', 'skallop', 'skate', 'skelet', 'skeleton', 'skeptcial', 'skeptic', 'skeptism', 'sketch', 'sketchi', 'sketti', 'skew', 'skewer', 'ski', 'skill', 'skillet', 'skim', 'skimmpi', 'skimp', 'skimpi', 'skin', 'skincar', 'skinless', 'skinner', 'skinni', 'skinnier', 'skip', 'skipanon', 'skipjack', 'skippi', 'skirmish', 'skirt', 'skittish', 'skittl', 'skizip', 'skoller', 'skone', 'skull', 'skullcap', 'skunk', 'skunki', 'sky', 'skybar', 'skylin', 'skype', 'skyrocket', 'skyway', 'slab', 'slack', 'slacker', 'slackmast', 'slag', 'slam', 'slammin', 'slang', 'slant', 'slap', 'slapstick', 'slash', 'slate', 'slather', 'slaughter', 'slaughterhous', 'slave', 'slaveri', 'slavic', 'slaw', 'slayton', 'slc', 'sleazi', 'slect', 'sled', 'sledg', 'sledgehamm', 'sleek', 'sleeker', 'sleep', 'sleepaway', 'sleeper', 'sleepi', 'sleepless', 'sleepov', 'sleepy', 'sleepyland', 'sleepytim', 'sleev', 'sleeveless', 'slender', 'slenium', 'slept', 'sleuth', 'slew', 'slghtli', 'sli', 'slice', 'slicer', 'slick', 'slicketi', 'slid', 'slide', 'slider', 'slideshow', 'sligh', 'slight', 'slightbritl', 'slightest', 'slighti', 'slim', 'slime', 'slimey', 'slimfast', 'slimi', 'slimmer', 'slimmest', 'sling', 'slink', 'slip', 'slipcov', 'slipper', 'slipperi', 'slit', 'slite', 'sliver', 'sliveri', 'sll', 'slo', 'slobber', 'slobberi', 'slog', 'slogan', 'sloght', 'sloooowwwli', 'sloopi', 'slop', 'slope', 'sloppi', 'slosh', 'sloshi', 'slot', 'sloth', 'slouch', 'slough', 'slovak', 'slovakia', 'slovenia', 'slovoc', 'slow', 'slower', 'slowli', 'sls', 'sltiss', 'sluder', 'sludg', 'sludgi', 'slug', 'slugger', 'sluggish', 'sluic', 'slum', 'slumber', 'slump', 'slunk', 'slurp', 'slurpe', 'slurpi', 'slurri', 'slush', 'slushi', 'smacck', 'smack', 'smackin', 'smackt', 'smaeth', 'smal', 'smaler', 'small', 'smaller', 'smallest', 'smallhold', 'smallish', 'smapler', 'smart', 'smartbal', 'smartblend', 'smarter', 'smartest', 'smartfood', 'smartfri', 'smarti', 'smartmonkey', 'smartwat', 'smash', 'smatter', 'smear', 'smeari', 'smeel', 'smel', 'smele', 'smell', 'smelley', 'smelli', 'smellier', 'smelliest', 'smelt', 'smh', 'smidg', 'smidgen', 'smidgeon', 'smile', 'smiley', 'smipl', 'smith', 'smither', 'smithereen', 'smitten', 'sml', 'smoeth', 'smog', 'smok', 'smoke', 'smokehous', 'smokeout', 'smoker', 'smokey', 'smoki', 'smokier', 'smokiest', 'smokifi', 'smokin', 'smoloth', 'smoooooooth', 'smooooth', 'smoooothhh', 'smooosh', 'smoooth', 'smoosh', 'smooshi', 'smoosthest', 'smooth', 'smoothe', 'smoother', 'smoothest', 'smoothi', 'smoothier', 'smooti', 'smore', 'smorgasbord', 'smother', 'smpling', 'smucker', 'smudg', 'smug', 'smuggl', 'smush', 'snack', 'snackabl', 'snacker', 'snacki', 'snackim', 'snackin', 'snackism', 'snackmast', 'snacktim', 'snackwel', 'snackwis', 'snadwich', 'snafu', 'snag', 'snail', 'snak', 'snakc', 'snake', 'snakebit', 'snap', 'snapea', 'snapper', 'snappi', 'snappl', 'snare', 'snarf', 'snatch', 'snausag', 'snax', 'snazzi', 'sncak', 'sneak', 'sneaker', 'sneaki', 'sneakili', 'sneek', 'sneer', 'sneez', 'snicker', 'snickerdoodl', 'snif', 'sniff', 'sniffer', 'sniffl', 'snifter', 'snikiddi', 'snikker', 'snip', 'snitch', 'snive', 'sno', 'snob', 'snobbi', 'snoodl', 'snook', 'snooker', 'snoopi', 'snoot', 'snooti', 'snootsi', 'snooz', 'snope', 'snore', 'snort', 'snorti', 'snortin', 'snot', 'snotti', 'snout', 'snouti', 'snow', 'snowbal', 'snowboard', 'snowcon', 'snowflak', 'snowi', 'snowman', 'snowmen', 'snowstorm', 'snub', 'snuck', 'snuff', 'snug', 'snuggl', 'snyder', 'soak', 'soan', 'soap', 'soapbox', 'soapi', 'soapwort', 'soar', 'sob', 'soba', 'sobe', 'sober', 'sobrieti', 'socal', 'soccer', 'socco', 'sociabl', 'social', 'socialist', 'societi', 'sock', 'socket', 'sockey', 'socorro', 'sod', 'soda', 'sodapop', 'sodden', 'sode', 'sodium', 'sodona', 'soe', 'soeak', 'soem', 'soemth', 'soeth', 'soever', 'sof', 'sofa', 'sofar', 'sofrito', 'soft', 'softbal', 'softdrink', 'soften', 'softer', 'softest', 'softgel', 'softi', 'softsoap', 'softwar', 'sog', 'soggi', 'soggier', 'soho', 'soid', 'soil', 'soire', 'soium', 'sojo', 'sojourn', 'sojournseek', 'soke', 'sol', 'solac', 'solang', 'solar', 'sold', 'soldier', 'sole', 'solea', 'soledad', 'soley', 'soli', 'solicit', 'solid', 'solidifi', 'solitari', 'solium', 'solixir', 'solo', 'solomon', 'solubl', 'solut', 'solv', 'solvent', 'solver', 'somebodi', 'someday', 'somehow', 'somehwat', 'somemor', 'someon', 'someonels', 'someplac', 'somer', 'somerdal', 'somersault', 'somervill', 'somet', 'someth', 'somethim', 'somethin', 'somethng', 'sometim', 'sometin', 'somewaht', 'someway', 'somewer', 'somewhat', 'somewher', 'somma', 'sommeli', 'sommer', 'somon', 'somth', 'somtim', 'son', 'sonc', 'song', 'songbird', 'songcraft', 'sonia', 'sonic', 'soninlaw', 'sonni', 'sonnyboo', 'sonoma', 'sonoran', 'sonstwa', 'sontava', 'soo', 'soojian', 'sool', 'soon', 'sooner', 'sooo', 'sooolit', 'soooo', 'sooooo', 'soooooo', 'sooooooo', 'soooooooo', 'sooooooooo', 'soooooooooo', 'sooooooooooo', 'soooooooooooo', 'sooooooooooooo', 'soooooooooooooo', 'sooooooooooooooooo', 'sooooooooooooooooooo', 'sooooooooooooooooooooo', 'soop', 'sooper', 'soot', 'sooth', 'soother', 'soourc', 'sop', 'sopft', 'sophi', 'sophia', 'sophist', 'sophistoc', 'sophistri', 'sophmor', 'soppi', 'sopressata', 'sorbat', 'sorbet', 'sorbic', 'sorbit', 'sorbitan', 'sorbitol', 'sorc', 'sorcer', 'sore', 'sorghum', 'sorrel', 'sorrentino', 'sorrento', 'sorri', 'sorriest', 'sorrow', 'sort', 'sorta', 'sortof', 'soruc', 'sos', 'sotomayor', 'souc', 'soucera', 'souchang', 'souchong', 'soucr', 'souffl', 'soufl', 'sough', 'sought', 'soul', 'sould', 'soulfood', 'soulmat', 'sound', 'soundingveri', 'soundtrack', 'soup', 'soupbas', 'souper', 'soupi', 'soupçon', 'sour', 'sourbal', 'sourc', 'sourcream', 'sourdough', 'sourish', 'sourkraut', 'sours', 'soursop', 'sous', 'south', 'southeast', 'southeastern', 'souther', 'southeren', 'southern', 'southwest', 'southwestern', 'souveneir', 'souvenir', 'sovereign', 'sown', 'sox', 'soy', 'soya', 'soyabella', 'soyajoy', 'soybean', 'soybutt', 'soylent', 'soymak', 'soymilk', 'soynut', 'soyquick', 'soyrizo', 'spa', 'space', 'spacecraft', 'spacer', 'spacey', 'spacial', 'spackl', 'spade', 'spaetzel', 'spaetzl', 'spag', 'spagett', 'spagetti', 'spagettio', 'spaghetti', 'spaghettio', 'spaghettit', 'spago', 'spain', 'spaish', 'spak', 'spakl', 'spam', 'span', 'spanakopita', 'spangl', 'spaniard', 'spaniel', 'spanish', 'spanki', 'sparc', 'spare', 'sparerib', 'spark', 'sparkel', 'sparki', 'sparkl', 'sparklett', 'sparlki', 'sparrow', 'spars', 'sparta', 'spas', 'spasm', 'spat', 'spate', 'spatini', 'spatula', 'spawn', 'spay', 'spca', 'speacial', 'spead', 'speak', 'speaker', 'spear', 'spearhead', 'spearment', 'spearmint', 'spec', 'specail', 'speci', 'special', 'speciali', 'specialist', 'specialtea', 'specialti', 'specif', 'specifi', 'specimen', 'specious', 'speck', 'speckl', 'spectacl', 'spectacular', 'spectra', 'spectrum', 'specul', 'speculaa', 'speculaasj', 'sped', 'speech', 'speechless', 'speed', 'speede', 'speedi', 'speedier', 'speedili', 'speedstick', 'speedup', 'speghetti', 'spell', 'spelt', 'spencer', 'spend', 'spenda', 'spendi', 'spent', 'sperl', 'sperri', 'spetrum', 'spew', 'spf', 'sphagetti', 'sphaghetti', 'sphere', 'spheric', 'sphynx', 'spi', 'spicata', 'spice', 'spicer', 'spicey', 'spici', 'spicier', 'spiciest', 'spicy', 'spider', 'spiedi', 'spiff', 'spiffi', 'spigot', 'spike', 'spikey', 'spiki', 'spill', 'spillag', 'spilll', 'spillov', 'spilt', 'spin', 'spinach', 'spinachi', 'spinal', 'spind', 'spindl', 'spine', 'spinich', 'spinkl', 'spinnach', 'spinner', 'spinnin', 'spinosi', 'spinter', 'spirach', 'spiral', 'spirit', 'spiritu', 'spirulina', 'spit', 'spite', 'spittin', 'spitz', 'spizzl', 'splash', 'splatter', 'splenda', 'splendid', 'splendor', 'splenter', 'splice', 'splint', 'splinter', 'splinteri', 'split', 'splite', 'splotchi', 'splurg', 'spoil', 'spoilag', 'spoiler', 'spokan', 'spoke', 'spoken', 'spokesman', 'spokesperson', 'spokeswoman', 'sponch', 'spong', 'spongey', 'spongi', 'spongier', 'sponikopita', 'sponsor', 'spontan', 'spoodl', 'spoof', 'spook', 'spooki', 'spookiest', 'spool', 'spoon', 'spoonabl', 'spoonf', 'spoonsful', 'sporad', 'spork', 'sporki', 'sport', 'sportea', 'sporti', 'sportmix', 'sportsbottl', 'sportskid', 'spot', 'spotless', 'spotlight', 'spotti', 'spous', 'spout', 'spouter', 'spra', 'sprain', 'sprang', 'sprat', 'sprawl', 'spray', 'sprayer', 'spre', 'spread', 'spreadabl', 'spreader', 'spreadib', 'sprecher', 'sprectrum', 'spree', 'spri', 'sprig', 'sprightli', 'spring', 'springboard', 'springer', 'springerl', 'springi', 'springtim', 'springwat', 'sprink', 'sprinkelz', 'sprinkl', 'sprinkler', 'sprint', 'sprite', 'spritz', 'spritzer', 'sprout', 'sproutabl', 'sprouter', 'sproutmast', 'spruce', 'sprudel', 'sprue', 'sprung', 'spud', 'spudophil', 'spun', 'spungi', 'spunk', 'spunki', 'spur', 'spurlock', 'spurt', 'spurtl', 'spuyten', 'sqare', 'sqeez', 'squabbl', 'squad', 'squar', 'squarish', 'squash', 'squat', 'squeak', 'squeaker', 'squeaki', 'squeal', 'squealer', 'squeamish', 'squeeez', 'squeek', 'squeeker', 'squeeki', 'squees', 'squeez', 'squeezabl', 'squeezer', 'squeezi', 'squelch', 'squemish', 'squid', 'squidi', 'squiggl', 'squinsh', 'squint', 'squirm', 'squirmi', 'squirr', 'squirrel', 'squirrl', 'squirt', 'squish', 'squishi', 'squisito', 'srb', 'sre', 'srei', 'sri', 'sriarcha', 'srimp', 'sriracha', 'srirachi', 'sryup', 'ssi', 'ssl', 'ssn', 'ssometh', 'ssooooooo', 'ssshh', 'ssssoooo', 'stab', 'stabil', 'stabl', 'stabliz', 'stacey', 'staci', 'stack', 'stackabl', 'stacker', 'stadard', 'stadium', 'stae', 'staek', 'staff', 'stage', 'stagg', 'stagger', 'stagnant', 'stahley', 'staight', 'stail', 'stain', 'stainless', 'stair', 'stake', 'stakich', 'stale', 'stalest', 'stalk', 'stalker', 'stall', 'stalwart', 'stamford', 'stamina', 'stamp', 'stamped', 'stamper', 'stanc', 'stand', 'standabl', 'standalon', 'standard', 'standart', 'standbi', 'standerd', 'standout', 'standpoint', 'staniel', 'stank', 'stanki', 'stanley', 'stanol', 'stantard', 'staock', 'stapel', 'staph', 'stapl', 'stapler', 'stappl', 'star', 'starberri', 'starbrit', 'starbuck', 'starburst', 'starch', 'starchi', 'starchier', 'stardom', 'stare', 'staret', 'starfish', 'starflak', 'starfruit', 'stark', 'starkist', 'starlight', 'starlit', 'starmark', 'starpucki', 'starripoff', 'starship', 'start', 'startbuck', 'startchi', 'starter', 'startl', 'staruat', 'starv', 'starvat', 'stasbil', 'stash', 'stashtea', 'stassen', 'stat', 'state', 'statement', 'staten', 'stater', 'statesid', 'statesman', 'stati', 'statin', 'station', 'stationari', 'statisfi', 'statist', 'statu', 'status', 'statut', 'statutori', 'stauffer', 'staunch', 'staunchest', 'stave', 'stavia', 'staw', 'stawberri', 'stay', 'staybridg', 'stead', 'steadfast', 'steadi', 'steadili', 'steaem', 'steak', 'steakhous', 'steakshous', 'steal', 'stealer', 'steam', 'steamboat', 'steamer', 'steamfresh', 'steami', 'steamrol', 'stear', 'steaz', 'steeeler', 'steel', 'steelcut', 'steeler', 'steen', 'steep', 'steepag', 'steeper', 'steer', 'steevia', 'steffi', 'stegasaurus', 'steggin', 'steinway', 'stekol', 'stella', 'stellar', 'stem', 'stemlet', 'stemmi', 'stench', 'stength', 'stent', 'step', 'stepbroth', 'stepfath', 'stephani', 'stephen', 'stepmom', 'stepson', 'steral', 'stereo', 'stereoisom', 'stereotyp', 'steril', 'sterilis', 'steriod', 'sterl', 'stern', 'sterner', 'steroid', 'sterol', 'stet', 'steve', 'steveia', 'steven', 'stevi', 'stevia', 'steviaclear', 'steviad', 'steviaplus', 'steviocid', 'steviol', 'steviosid', 'stevita', 'stew', 'stewardship', 'stewart', 'sthe', 'stick', 'sticker', 'stickeri', 'stickey', 'sticki', 'stickier', 'stickiest', 'stickin', 'stickler', 'stickss', 'sticky', 'stif', 'stiff', 'stiffer', 'stifn', 'stigma', 'stik', 'stil', 'still', 'stilton', 'stimul', 'stimulus', 'sting', 'stinger', 'stingi', 'stink', 'stinker', 'stinki', 'stinkier', 'stinkiest', 'stinkin', 'stinkofor', 'stint', 'stip', 'stipul', 'stir', 'stire', 'stirfri', 'stirl', 'stirrer', 'stitch', 'stix', 'stock', 'stockhold', 'stockholm', 'stockhous', 'stockpil', 'stockpot', 'stoe', 'stoke', 'stold', 'stole', 'stolen', 'stoli', 'stollen', 'stolzer', 'stomach', 'stomachach', 'stomack', 'stomic', 'stomp', 'stone', 'stonecut', 'stoneground', 'stonehous', 'stonemil', 'stoneridg', 'stonewal', 'stoneyfield', 'stong', 'stonger', 'stoni', 'stood', 'stool', 'stoop', 'stop', 'stopck', 'stopper', 'stor', 'stora', 'storabl', 'storag', 'store', 'storeag', 'storebought', 'storefront', 'storesthey', 'storey', 'stori', 'stork', 'storm', 'stormi', 'storylin', 'stouffer', 'stout', 'stove', 'stover', 'stovetop', 'stovi', 'stow', 'straberri', 'straddl', 'strage', 'straggler', 'stragl', 'straight', 'straighten', 'straightend', 'straightforward', 'straightway', 'strain', 'strainer', 'strair', 'strait', 'stramondo', 'strand', 'strang', 'stranger', 'strangest', 'strap', 'stratch', 'strateg', 'strategi', 'stratospher', 'straub', 'stravecchio', 'straw', 'strawberi', 'strawberlici', 'strawberri', 'strawberryish', 'strawberyy', 'strawcerri', 'stray', 'streach', 'streak', 'stream', 'streamlin', 'streamrol', 'streep', 'street', 'stregth', 'streisand', 'streit', 'strenght', 'strength', 'strengthen', 'strenous', 'strenth', 'strenuous', 'strep', 'streptococcus', 'stress', 'stretch', 'stretcher', 'stretchi', 'streusel', 'strewberri', 'strewn', 'strianes', 'strick', 'stricken', 'strict', 'strictest', 'stride', 'strident', 'strieght', 'strike', 'strikin', 'striliz', 'string', 'stringent', 'stringer', 'stringi', 'stringless', 'strink', 'strip', 'stripe', 'strive', 'strng', 'stroganoff', 'stroke', 'stroll', 'stroller', 'stromboli', 'stroner', 'strong', 'stronganoff', 'stronger', 'strongest', 'stronghold', 'stroopwafel', 'struck', 'structer', 'structur', 'strudel', 'struggel', 'struggl', 'strugl', 'strung', 'strut', 'strutt', 'struvit', 'strwaberri', 'stryofoam', 'stubb', 'stubbi', 'stubborn', 'stubbron', 'stuck', 'stud', 'student', 'studi', 'studio', 'studious', 'stuf', 'stufe', 'stuff', 'stuffer', 'stuffi', 'stuffin', 'stuggl', 'stumbl', 'stummbl', 'stump', 'stumpi', 'stumptown', 'stun', 'stunbl', 'stung', 'stunt', 'stupend', 'stupid', 'stupor', 'stuporstiti', 'sturdi', 'sturdier', 'sturgeon', 'sturgi', 'style', 'stylish', 'stylist', 'styliz', 'stypl', 'styrafoam', 'styren', 'styrian', 'styrofoam', 'styrofoami', 'styx', 'su', 'sua', 'suac', 'suagr', 'suasag', 'suav', 'sub', 'subcrib', 'subcript', 'subcutan', 'subdivis', 'subdu', 'subfamili', 'subject', 'sublim', 'sublingu', 'sublt', 'submarin', 'submerg', 'submers', 'submiss', 'submit', 'subpar', 'subract', 'subscib', 'subscipt', 'subscrb', 'subscrib', 'subscribt', 'subscript', 'subsequ', 'subset', 'subsid', 'subsidi', 'subsidiari', 'subsist', 'subsitut', 'subsrib', 'subsript', 'substan', 'substanc', 'substanci', 'substandard', 'substani', 'substant', 'substantailli', 'substanti', 'substit', 'substitiut', 'substitu', 'substitud', 'substitut', 'substutit', 'subt', 'subtanti', 'subterfug', 'subtil', 'subtili', 'subtitl', 'subtitut', 'subtl', 'subtler', 'subtlest', 'subtleti', 'subtley', 'subtract', 'subtrop', 'suburb', 'suburban', 'suburbanit', 'subway', 'subzero', 'sucanat', 'sucant', 'succanat', 'succeed', 'success', 'succin', 'succinct', 'succses', 'succul', 'succum', 'succumb', 'suce', 'sucepan', 'sucept', 'sucess', 'suchard', 'suchong', 'suck', 'suckarooney', 'sucker', 'sucki', 'suckier', 'suckin', 'sucr', 'sucralos', 'sucret', 'sucros', 'sucsess', 'suction', 'sud', 'sudaf', 'sudan', 'sudburymarket', 'sudden', 'suddent', 'sudorif', 'suds', 'sue', 'suermarket', 'suet', 'suey', 'suf', 'suff', 'suffeci', 'suffer', 'suffic', 'suffici', 'suga', 'sugar', 'sugarbomb', 'sugarbust', 'sugarc', 'sugarcan', 'sugard', 'sugarfre', 'sugarhol', 'sugari', 'sugarless', 'sugartwin', 'sugarwork', 'suger', 'sugest', 'suggest', 'sugggest', 'sugr', 'sugra', 'sugur', 'suicid', 'suirrel', 'suiss', 'suit', 'suitabl', 'suitcas', 'sujata', 'sukiyaki', 'sulfa', 'sulfat', 'sulfit', 'sulfur', 'sulk', 'sulki', 'sulli', 'sulpfur', 'sulpher', 'sulphit', 'sulphur', 'sultan', 'sultana', 'sultri', 'sum', 'sumac', 'sumatra', 'sumatran', 'summa', 'summar', 'summari', 'summaris', 'summer', 'summerglow', 'summeri', 'summertim', 'summit', 'summmer', 'summon', 'sumo', 'sumpkin', 'sumprem', 'sumptious', 'sumptous', 'sumptuous', 'sun', 'sunbath', 'sunbeam', 'sunburn', 'sunbutt', 'sunchang', 'sunda', 'sunday', 'sundesa', 'sundown', 'sundress', 'sundri', 'sunflow', 'sunfood', 'sung', 'sunharvest', 'sunk', 'sunkist', 'sunlight', 'sunmaid', 'sunni', 'sunnyland', 'sunridg', 'sunris', 'sunrit', 'sunscreen', 'sunset', 'sunshin', 'sunspir', 'sunsplash', 'sunsweet', 'suntan', 'suntea', 'suntori', 'sup', 'supberb', 'supe', 'super', 'superauto', 'superautomat', 'superautomatica', 'superb', 'superbal', 'superbl', 'superbowl', 'superced', 'supercent', 'supercharg', 'superconcentr', 'supercrema', 'supereasi', 'superexpens', 'superfast', 'superfici', 'superfin', 'superflu', 'superfood', 'superfoodrx', 'superfruit', 'superio', 'superior', 'superiour', 'superl', 'superlink', 'supermaket', 'superman', 'supermarkdet', 'supermarket', 'supermart', 'supermix', 'supermodel', 'supernasti', 'supernatur', 'supernova', 'superpow', 'superpump', 'superrmarket', 'supers', 'supersav', 'supersed', 'supersensit', 'superstit', 'superstiti', 'superstor', 'superstrong', 'supersweet', 'supertarget', 'supertast', 'supervis', 'supervisor', 'superwalmart', 'suplement', 'suplemento', 'suplier', 'supos', 'supp', 'supper', 'suppermarket', 'suppl', 'supplant', 'supplement', 'supplementari', 'suppli', 'supplier', 'suppliment', 'supplment', 'suppo', 'support', 'suppos', 'suppositori', 'supposs', 'suppost', 'suppres', 'suppress', 'suppris', 'supr', 'suprem', 'suprema', 'supremo', 'suprior', 'supris', 'supurb', 'sur', 'suralos', 'surburban', 'surcalos', 'surcharg', 'sure', 'surefir', 'surefoot', 'surelyha', 'surest', 'surf', 'surfa', 'surfac', 'surfer', 'surg', 'surgar', 'surgari', 'surgeon', 'surgeri', 'surgic', 'surimi', 'surinam', 'surmis', 'surnam', 'surpass', 'surperb', 'surpirs', 'surpis', 'surpiz', 'surplus', 'surpri', 'surpris', 'surprisng', 'surpriz', 'surreal', 'surrend', 'surrepti', 'surreptiti', 'surrog', 'surround', 'surroungd', 'surup', 'surveil', 'survey', 'surviv', 'survivor', 'sus', 'susag', 'susan', 'susanna', 'suscept', 'suscrib', 'susept', 'sushi', 'susi', 'suspect', 'suspend', 'suspens', 'suspici', 'suspicion', 'suspiria', 'sustain', 'susten', 'sustitut', 'sut', 'sutler', 'sutra', 'sutter', 'suttl', 'suyrp', 'suzann', 'suzett', 'suzhou', 'suzi', 'svan', 'svc', 'sveral', 'svg', 'swad', 'swaddl', 'swaet', 'swahili', 'swallabl', 'swallor', 'swallow', 'swamp', 'swampi', 'swan', 'swanki', 'swanson', 'swap', 'swarm', 'swarmi', 'swasde', 'swat', 'swatch', 'swath', 'swatter', 'sway', 'swaziland', 'swear', 'sweat', 'sweaten', 'sweater', 'sweati', 'sweatner', 'sweatshop', 'swede', 'sweden', 'swedish', 'swee', 'sweedifsh', 'sweedish', 'sweeeeeeet', 'sweeet', 'sweeetner', 'sweeney', 'sweenter', 'sweentess', 'sweentner', 'sweep', 'sweeper', 'sweepstak', 'sweet', 'sweetart', 'sweeteen', 'sweeten', 'sweetend', 'sweetener', 'sweeter', 'sweetern', 'sweetest', 'sweetgour', 'sweetgourmet', 'sweeth', 'sweetheart', 'sweeti', 'sweetin', 'sweetish', 'sweetit', 'sweetleaf', 'sweetner', 'sweetnesss', 'sweetnlow', 'sweetooth', 'sweetpotato', 'sweettart', 'sweettre', 'sweetwat', 'swell', 'swellew', 'swelter', 'swenson', 'swept', 'sweten', 'swheat', 'swich', 'swift', 'swifter', 'swifti', 'swig', 'swill', 'swim', 'swimmer', 'swimsuit', 'swindl', 'swindler', 'swine', 'swineappl', 'swing', 'swipe', 'swir', 'swirl', 'swish', 'swiss', 'swissgold', 'switch', 'swithc', 'swither', 'switzer', 'switzerland', 'swizzl', 'swmbo', 'swollen', 'swollow', 'swoon', 'swoop', 'sword', 'swordfish', 'swore', 'sworn', 'swung', 'sxtreme', 'sydney', 'syfi', 'syke', 'syllabl', 'sylvest', 'sylvia', 'symbol', 'symmetr', 'symmetri', 'sympath', 'sympathet', 'sympathi', 'symphoni', 'symposium', 'symption', 'symptom', 'sympton', 'symtom', 'symtomat', 'synagogu', 'sync', 'synchron', 'synchroni', 'syncron', 'synder', 'syndic', 'syndrom', 'synergi', 'synergist', 'synonom', 'synonym', 'synthent', 'synthes', 'synthet', 'synthroid', 'syphon', 'syracus', 'syrah', 'syria', 'syrian', 'syring', 'syrpass', 'syrup', 'syruphoney', 'syrupi', 'syruppi', 'system', 'systemat', 'systol', 'sytem', 'sytup', 'syurp', 'syurpi', 'szechaun', 'szechuan', 'szechwan', 'szege', 'taaaasti', 'taaza', 'tab', 'tabasco', 'tabbi', 'tabbouleh', 'tabl', 'tablecloth', 'tablefood', 'tablesoon', 'tablespoon', 'tablesppon', 'tablesspoon', 'tablet', 'tablspoon', 'taboo', 'taboul', 'tabouli', 'tac', 'taca', 'tack', 'tacki', 'tackier', 'tackl', 'taco', 'tacoma', 'tacrin', 'tact', 'tactic', 'tactil', 'tad', 'tada', 'tadin', 'tadka', 'taffi', 'tag', 'tagalog', 'tagamet', 'tagin', 'tagless', 'taglin', 'tahina', 'tahini', 'tahiti', 'tahitian', 'tahn', 'taho', 'taht', 'tai', 'taibi', 'tail', 'tailgat', 'tailor', 'tailpiec', 'taint', 'tainter', 'taipei', 'taisti', 'taiwan', 'taiwanes', 'taj', 'taka', 'take', 'takeaway', 'taken', 'takeo', 'takeout', 'taker', 'takeru', 'tako', 'takoyaki', 'takuan', 'takumi', 'talapia', 'talay', 'talbi', 'talbott', 'tale', 'talea', 'talent', 'talest', 'talk', 'talkin', 'tall', 'tallboy', 'taller', 'tallest', 'tallgrass', 'talli', 'tallow', 'tam', 'tamal', 'tamanu', 'tamari', 'tamarind', 'tamarindus', 'tamaya', 'tamayokucha', 'tame', 'tamer', 'tamp', 'tampa', 'tamper', 'tampura', 'tan', 'tandoor', 'tandoori', 'tane', 'tang', 'tangaren', 'tangelo', 'tangerin', 'tangi', 'tangibl', 'tangier', 'tangl', 'tango', 'tangy', 'tanic', 'tanin', 'tank', 'tannic', 'tannin', 'tantal', 'tantamount', 'tantrum', 'tanzania', 'tanzanian', 'tao', 'taormina', 'tap', 'tapa', 'tapanad', 'tapatio', 'tape', 'tapenad', 'taper', 'tapestri', 'tapeworm', 'tapicoa', 'tapioca', 'tapizol', 'tapl', 'tapor', 'taproot', 'tapwat', 'tar', 'tara', 'taragui', 'taramosalata', 'tarar', 'target', 'tarharah', 'tarheelst', 'tariff', 'tarmac', 'tarnish', 'taro', 'tarot', 'tarpin', 'tarpon', 'tarragon', 'tarrazu', 'tarrot', 'tart', 'tartar', 'tarter', 'tartest', 'tarti', 'tartiest', 'tartlet', 'tartufi', 'tarun', 'tasat', 'tasbasco', 'tasco', 'tase', 'taset', 'tasi', 'tasier', 'task', 'taskt', 'tasmania', 'tasmanian', 'tass', 'tassel', 'tassimmo', 'tassimo', 'tassio', 'tast', 'tasta', 'tastabl', 'tastbud', 'tastebud', 'tasteless', 'tastepadthai', 'taster', 'tastest', 'tastet', 'tastewis', 'tastey', 'tasti', 'tastier', 'tastiest', 'tastin', 'tastless', 'tasts', 'tastybabi', 'tastybit', 'tastyeat', 'tastyfor', 'tastykak', 'tasy', 'tat', 'tate', 'tater', 'taterz', 'tather', 'tatiana', 'tation', 'tatoo', 'tats', 'tatst', 'tattoo', 'taught', 'taunt', 'taurin', 'taut', 'tava', 'tavern', 'tavsiy', 'tawari', 'tawni', 'tax', 'taxi', 'taxidermist', 'taylor', 'tayor', 'taz', 'taza', 'tazaa', 'tazmo', 'tazo', 'tazz', 'tazzaru', 'tazzina', 'tban', 'tbe', 'tben', 'tbl', 'tbls', 'tblsp', 'tblspn', 'tblspns', 'tbs', 'tbsp', 'tbsps', 'tcha', 'tchaikovski', 'tchibo', 'tchoup', 'tdf', 'tdi', 'tdisc', 'tds', 'tea', 'teabag', 'teabal', 'teabox', 'teacak', 'teacakecoffe', 'teach', 'teacher', 'teachous', 'teacup', 'tead', 'teadrop', 'teag', 'teagarden', 'teahous', 'teak', 'teal', 'tealeav', 'tealik', 'team', 'teammat', 'tean', 'teans', 'teaosophi', 'teaposi', 'teapot', 'tear', 'teari', 'tearjerk', 'tearoom', 'teas', 'teasan', 'teaser', 'teashop', 'teasoon', 'teasp', 'teaspon', 'teaspoon', 'teaspooon', 'teaspot', 'teasppon', 'teaspr', 'teast', 'teath', 'teatim', 'teavana', 'teawar', 'teazon', 'tech', 'techi', 'technic', 'technician', 'techniqu', 'techno', 'technolog', 'technom', 'tectur', 'ted', 'teddi', 'tedious', 'tee', 'teeccino', 'teecino', 'teeco', 'teeheehe', 'teeli', 'teem', 'teen', 'teenag', 'teeni', 'teeniest', 'teeninsi', 'teensi', 'teeshirt', 'teeter', 'teeth', 'teether', 'teetotal', 'tef', 'teff', 'teflon', 'tega', 'teh', 'tehrewhen', 'teidious', 'teip', 'teisseir', 'teja', 'tejava', 'tek', 'tekla', 'teleconfer', 'telephon', 'telescop', 'televis', 'tell', 'teller', 'tellicherri', 'telltal', 'telma', 'tem', 'temp', 'tempah', 'tempat', 'tempeh', 'temper', 'tempera', 'temperament', 'temperatur', 'temperment', 'tempest', 'tempet', 'templ', 'templat', 'tempo', 'temporari', 'temporarili', 'tempt', 'temptat', 'tempura', 'ten', 'tenctones', 'tend', 'tendanc', 'tendenc', 'tender', 'tenderloin', 'tendon', 'tenfhtcibdabamobag', 'tenfold', 'tenia', 'tenido', 'tennant', 'tennesse', 'tenni', 'tenochitlan', 'tenren', 'tens', 'tensil', 'tension', 'tent', 'tental', 'tentat', 'tenth', 'tenur', 'tepenad', 'tepid', 'tequila', 'tequilla', 'teralingua', 'terephthal', 'teresa', 'teriaki', 'teriayki', 'teriff', 'teriyaka', 'teriyaki', 'term', 'termin', 'terminolog', 'termperatur', 'terner', 'terra', 'terrabon', 'terracycl', 'terrain', 'terrazu', 'terri', 'terribl', 'terrier', 'terrif', 'terriff', 'terrifi', 'terrin', 'territori', 'terriyaki', 'terro', 'terroir', 'terroist', 'terror', 'terryiaki', 'teryaki', 'tes', 'tesco', 'tess', 'tessan', 'test', 'testament', 'tester', 'testi', 'testifi', 'testimoni', 'testomoni', 'testosteron', 'testur', 'tet', 'tete', 'tetilla', 'tetley', 'teton', 'tetra', 'tetrafin', 'tetrapak', 'tetrazzini', 'tevana', 'tex', 'texa', 'texan', 'texarkana', 'texasalsa', 'texmat', 'texmati', 'text', 'textbook', 'texter', 'textil', 'texttur', 'textur', 'texur', 'texutur', 'tey', 'tfas', 'tfg', 'tgbop', 'tge', 'tgfbop', 'tgfop', 'tha', 'thae', 'thaen', 'thai', 'thailand', 'thaimin', 'thaini', 'thaitini', 'tham', 'thana', 'thani', 'thank', 'thanke', 'thankgiv', 'thanks', 'thanksgiv', 'thankss', 'thankulli', 'thankyou', 'thanth', 'thanx', 'thar', 'thast', 'that', 'thatn', 'thatr', 'thaught', 'thaw', 'thay', 'thck', 'theand', 'theanin', 'theas', 'theater', 'theather', 'theatr', 'theatric', 'thebest', 'thedescript', 'thee', 'thees', 'theft', 'thei', 'theit', 'theiv', 'them', 'theme', 'themeselv', 'themself', 'themslev', 'themto', 'thenc', 'theo', 'theobromin', 'theophyllin', 'theoret', 'theori', 'theoriz', 'thepowd', 'ther', 'therapeut', 'therapi', 'therapist', 'there', 'thereabout', 'thereaft', 'thereat', 'therebi', 'therefor', 'therefrom', 'therein', 'thereof', 'theri', 'thermal', 'thermo', 'thermogen', 'thermogenesi', 'thermomet', 'thermonuclear', 'thermophilum', 'therr', 'thes', 'thesa', 'thesam', 'these', 'thesi', 'thess', 'thest', 'thet', 'thew', 'they', 'theyll', 'theyr', 'theyv', 'thhey', 'thhis', 'thi', 'thia', 'thiamin', 'thick', 'thicken', 'thicker', 'thickest', 'thickish', 'thickner', 'thie', 'thier', 'thiev', 'thieveri', 'thigh', 'thighmast', 'thik', 'thikn', 'thill', 'thim', 'thimbl', 'thimothi', 'thin', 'thine', 'thing', 'thingamajig', 'thingi', 'think', 'thinker', 'thinkin', 'thinkl', 'thinkof', 'thinkorgan', 'thinkthin', 'thinkthink', 'thinner', 'thinnish', 'third', 'thiri', 'thirst', 'thirsti', 'thirstier', 'thirteen', 'thirti', 'thise', 'thison', 'thistl', 'thisw', 'thius', 'thiy', 'thje', 'thm', 'thme', 'thng', 'tho', 'thoast', 'thoe', 'thoma', 'thomi', 'thompson', 'thoos', 'thoough', 'thor', 'thorn', 'thornton', 'thorough', 'thoroughlli', 'thos', 'thou', 'though', 'thought', 'thoughtful', 'thougnt', 'thougt', 'thougth', 'thourht', 'thourough', 'thousand', 'thow', 'thr', 'thrall', 'thrash', 'thre', 'thread', 'threat', 'threaten', 'threatn', 'three', 'threee', 'threesom', 'thresh', 'threshold', 'threw', 'thri', 'thrice', 'thrid', 'thrift', 'thrifti', 'thrile', 'thrill', 'thriller', 'thrist', 'thrive', 'throad', 'throat', 'throb', 'throne', 'throng', 'throttl', 'throug', 'through', 'throughout', 'throught', 'throuth', 'throw', 'throwaway', 'throwback', 'thrown', 'throwng', 'thru', 'thrugh', 'thruogh', 'thrush', 'thrust', 'thryoid', 'ths', 'thse', 'thsee', 'thses', 'thsi', 'thst', 'tht', 'thta', 'thug', 'thumb', 'thumbnail', 'thumbprint', 'thun', 'thunder', 'thunderstorm', 'thunk', 'thur', 'thursday', 'thus', 'thusfar', 'thusli', 'thw', 'thwart', 'thx', 'thym', 'thyme', 'thyroid', 'tia', 'tibet', 'tibetan', 'tibetian', 'tic', 'tick', 'ticker', 'ticket', 'tickl', 'tico', 'tictac', 'tidal', 'tidbit', 'tide', 'tidi', 'tie', 'tiempo', 'tienda', 'tier', 'tierd', 'tierra', 'tiger', 'tigh', 'tigher', 'tight', 'tighten', 'tighter', 'tighti', 'tightrop', 'tightwad', 'tijuana', 'tika', 'tike', 'tiki', 'tikka', 'tikyada', 'til', 'tilapia', 'tilda', 'tile', 'tilia', 'till', 'tillamook', 'tillman', 'tilt', 'tilth', 'tim', 'timberwolf', 'time', 'timefram', 'timeless', 'timeli', 'timem', 'timer', 'timesav', 'timet', 'timid', 'timley', 'timonthi', 'timothi', 'timoti', 'timtam', 'tin', 'tincan', 'tinch', 'tinctur', 'tine', 'tinfoil', 'ting', 'tingl', 'tini', 'tinier', 'tiniest', 'tink', 'tinker', 'tinkerbel', 'tinkiyada', 'tinkl', 'tinkyada', 'tinni', 'tinsel', 'tinsi', 'tint', 'tinyada', 'tinyaka', 'tio', 'tip', 'tiparo', 'tipe', 'tippi', 'tipsi', 'tiptre', 'tiramisu', 'tiramisus', 'tircon', 'tire', 'tired', 'tiresom', 'tirmisu', 'tiropita', 'tis', 'tisan', 'tishomingo', 'tisk', 'tissan', 'tissot', 'tissu', 'tit', 'titan', 'titanium', 'titch', 'titl', 'titrat', 'tittl', 'titular', 'titusvill', 'tiu', 'tjmax', 'tjmaxx', 'tjs', 'tks', 'tlbs', 'tlc', 'tlcs', 'tlhan', 'tlingit', 'tmhey', 'tmi', 'tmj', 'tne', 'tnereaft', 'tnis', 'tnr', 'to', 'toast', 'toastbread', 'toaster', 'toasti', 'toastier', 'tobacco', 'tobacman', 'tobago', 'tobasco', 'tobaso', 'tobegin', 'tobi', 'tobiko', 'tobleron', 'tock', 'tocopheroi', 'tocopherol', 'today', 'todd', 'toddi', 'toddler', 'todo', 'toe', 'toenail', 'toerat', 'toesi', 'toffe', 'toffifay', 'tofo', 'tofu', 'tofuki', 'tofurkey', 'tofurki', 'tofus', 'tofutti', 'tog', 'togarashi', 'togarishi', 'togeath', 'togeht', 'togeth', 'togethb', 'toggl', 'toghter', 'toh', 'tohav', 'toil', 'toilet', 'toilett', 'tointroduc', 'token', 'tokyo', 'toland', 'tolberon', 'told', 'tole', 'toledo', 'tolenc', 'toler', 'tolerablel', 'toll', 'toller', 'tollhous', 'tom', 'tomaoto', 'tomar', 'tomat', 'tomatillo', 'tomato', 'tomatoey', 'tomb', 'tomcat', 'tome', 'tommi', 'tommorow', 'tomoato', 'tomol', 'tomorrow', 'tomyum', 'ton', 'tone', 'tong', 'tongkat', 'tongol', 'tongu', 'toni', 'tonic', 'tonight', 'toniq', 'tonit', 'tonkatsu', 'tonn', 'tonnag', 'tonnino', 'tonno', 'tonsil', 'tonsilectomi', 'tonypacko', 'tooberri', 'took', 'tool', 'toon', 'toonc', 'tooni', 'tooo', 'toooo', 'tooooo', 'tooooooooo', 'toooooooooooooooo', 'toor', 'toorder', 'toot', 'tooter', 'tooth', 'toothach', 'toothbrush', 'toothi', 'toothless', 'toothpast', 'toothpasti', 'toothpic', 'toothpick', 'toothsom', 'tooti', 'tootin', 'tootpick', 'tootsi', 'top', 'topanga', 'tope', 'topic', 'topnot', 'topnotch', 'topo', 'topp', 'topper', 'toppng', 'topsi', 'topsid', 'tor', 'torani', 'torch', 'torchon', 'tore', 'toriani', 'torilla', 'torines', 'torino', 'torment', 'tormentor', 'torn', 'tornado', 'toro', 'toronto', 'torr', 'torrincini', 'torron', 'torso', 'tort', 'torta', 'tortellini', 'tortilla', 'tortillaland', 'tortoga', 'tortois', 'tortoiseshel', 'tortuga', 'tortur', 'torula', 'torward', 'toscana', 'toss', 'tossd', 'tost', 'tostada', 'toster', 'tostito', 'tot', 'total', 'totali', 'tote', 'totebag', 'toth', 'toto', 'totoal', 'totsi', 'totw', 'tou', 'toubro', 'touch', 'touchi', 'tough', 'toughen', 'tougher', 'toughest', 'tought', 'toulous', 'toung', 'toungu', 'tour', 'tourangell', 'tourist', 'tournament', 'tournment', 'tout', 'tov', 'tova', 'tovolo', 'toward', 'towel', 'tower', 'towl', 'town', 'towner', 'townhous', 'townsfolk', 'toxic', 'toxiclenz', 'toxicolog', 'toxin', 'toy', 'toyko', 'toyota', 'toysrus', 'tplo', 'tpp', 'trace', 'traceabl', 'tracer', 'trachea', 'track', 'tracker', 'tract', 'tractic', 'traction', 'tractor', 'trade', 'tradeabl', 'trademark', 'tradeoff', 'trader', 'tradeshow', 'tradicion', 'tradit', 'traditionalist', 'traditon', 'tradizional', 'tradtion', 'traffic', 'traffick', 'tragedi', 'tragic', 'traid', 'trail', 'trailer', 'trailhead', 'trailmix', 'train', 'trainer', 'trait', 'trajectori', 'trake', 'tramma', 'tramp', 'trampl', 'trampolin', 'tran', 'tranc', 'tranfer', 'tranquil', 'transact', 'transactt', 'transcend', 'transcriptionist', 'transer', 'transfat', 'transfer', 'transform', 'transgress', 'transient', 'transit', 'translat', 'transliter', 'transluc', 'transmit', 'transmitt', 'transpar', 'transpir', 'transplant', 'transport', 'transvaal', 'trap', 'trapani', 'trapez', 'trapper', 'trappist', 'trash', 'trashcan', 'trashi', 'trate', 'trattoria', 'trauma', 'traumat', 'traunfeld', 'travel', 'travers', 'travesti', 'travi', 'tray', 'trea', 'treacheri', 'treacl', 'tread', 'treader', 'treadmil', 'treasur', 'treat', 'treatabl', 'treatd', 'treater', 'treati', 'treatment', 'treatsin', 'treatt', 'treck', 'tred', 'tree', 'treebark', 'treenut', 'treet', 'treetop', 'trek', 'treke', 'treki', 'trekker', 'trelli', 'trembl', 'tremend', 'trend', 'trendi', 'trendier', 'trenton', 'trepid', 'trepidati', 'tres', 'tresor', 'trhwo', 'tri', 'triad', 'trial', 'triangl', 'triangular', 'triathalon', 'triathlet', 'triathlon', 'tribal', 'tribe', 'triberri', 'tribesman', 'tribul', 'tribun', 'tribut', 'tricalcium', 'trichoderma', 'trick', 'trickeri', 'tricki', 'trickier', 'trickl', 'trickortreat', 'trickster', 'triclopyr', 'tricolor', 'tricycl', 'trident', 'tridnet', 'triest', 'trifecta', 'triffl', 'trifl', 'trigger', 'triglcerid', 'triglycerid', 'trigylcerid', 'trillionair', 'trilog', 'trim', 'trimest', 'trimmer', 'tring', 'trini', 'trinidad', 'trinitario', 'triniti', 'trink', 'trinket', 'trio', 'trioka', 'trip', 'tripe', 'triphala', 'tripl', 'triplet', 'tripolyphosph', 'tripper', 'trippl', 'triscuit', 'tristat', 'tritical', 'triumph', 'triumvir', 'trivet', 'trivia', 'trivial', 'trix', 'trixi', 'trobul', 'trocomar', 'troi', 'trojan', 'troll', 'trolley', 'trolli', 'trombon', 'tromp', 'troop', 'trooper', 'trop', 'trophi', 'tropic', 'tropica', 'tropicana', 'trot', 'trott', 'trotter', 'troubl', 'troublemak', 'troublesom', 'trouffl', 'trough', 'trout', 'trow', 'trowel', 'troy', 'trree', 'trsut', 'tru', 'truama', 'trubl', 'trucchi', 'truck', 'truckload', 'trudeau', 'trudg', 'true', 'truefulli', 'truelemon', 'trueli', 'truelli', 'truer', 'truest', 'truff', 'truffel', 'truffett', 'truffier', 'truffl', 'truley', 'truli', 'trulli', 'truman', 'trump', 'trumpet', 'trumpetlik', 'trun', 'truncat', 'trung', 'trunk', 'trunkful', 'truson', 'trust', 'trusti', 'trustworthi', 'truth', 'truvia', 'tryin', 'tryptophan', 'trys', 'tsa', 'tsang', 'tseucher', 'tsi', 'tso', 'tsp', 'tspn', 'tspns', 'tsps', 'tsu', 'tsuji', 'tsuyu', 'ttis', 'ttttea', 'tub', 'tubb', 'tube', 'tuber', 'tubi', 'tubular', 'tuck', 'tuckload', 'tucson', 'tue', 'tuermer', 'tuesday', 'tuff', 'tuffest', 'tuffi', 'tuft', 'tufu', 'tug', 'tuhi', 'tukey', 'tulear', 'tulepo', 'tulip', 'tull', 'tulli', 'tullip', 'tulsa', 'tulsi', 'tum', 'tumbl', 'tumbler', 'tumer', 'tummi', 'tummyach', 'tumor', 'tuna', 'tunafish', 'tundra', 'tune', 'tunea', 'tung', 'tunisia', 'tunisian', 'tunnel', 'tuno', 'tuo', 'tupelo', 'tupperwar', 'turbin', 'turbinado', 'turbon', 'turd', 'turducken', 'tureen', 'turf', 'turk', 'turket', 'turkey', 'turki', 'turkish', 'turkisk', 'turmer', 'turmoil', 'turn', 'turnabout', 'turnaround', 'turner', 'turnip', 'turnov', 'turnpik', 'turntabl', 'turpentin', 'turtl', 'turvi', 'tuscan', 'tuscani', 'tusk', 'tussl', 'tut', 'tutori', 'tutti', 'tutu', 'tutus', 'tux', 'tuxedo', 'tvp', 'tvs', 'twain', 'twang', 'tweak', 'tweaker', 'twee', 'tweek', 'tween', 'tweeti', 'twelv', 'twenti', 'twice', 'twig', 'twiggi', 'twiggl', 'twiglet', 'twigletz', 'twilight', 'twin', 'twine', 'twing', 'twingl', 'twinki', 'twinkl', 'twinlab', 'twirl', 'twise', 'twisler', 'twist', 'twister', 'twisti', 'twit', 'twitch', 'twitchi', 'twitter', 'twix', 'twizz', 'twizzler', 'two', 'twofer', 'twos', 'twosom', 'tylenol', 'tyler', 'tyme', 'tyner', 'tyotal', 'typcial', 'type', 'typecast', 'typeo', 'typhoo', 'typhoon', 'typic', 'typicali', 'typo', 'typograph', 'typooh', 'tyramin', 'tyre', 'tyron', 'tyrosol', 'tyson', 'tzaneen', 'tzao', 'tzatziki', 'tzu', 'tzus', 'uber', 'ubet', 'ubiquit', 'uci', 'ucki', 'ucla', 'ud', 'udang', 'uder', 'udi', 'udner', 'udo', 'udon', 'ugggh', 'ugh', 'ughh', 'ughhhh', 'ugli', 'uhm', 'uhmmmmm', 'uht', 'uiniform', 'uisgu', 'ukra', 'ukrain', 'ulcer', 'ulgh', 'ulgi', 'ulik', 'ulinov', 'ulitm', 'ulta', 'ultiim', 'ultim', 'ultra', 'ultrafin', 'ultramix', 'ultrasound', 'ultraviolet', 'umami', 'umber', 'ume', 'umeboshi', 'umf', 'umm', 'ummm', 'ummmm', 'ummmmm', 'ummmmmmmmmmm', 'umpf', 'umph', 'una', 'unabel', 'unabl', 'unaccept', 'unaccompani', 'unaccustom', 'unadopt', 'unadorn', 'unadultar', 'unadulter', 'unadventur', 'unadvertis', 'unaffect', 'unafford', 'unagi', 'unalt', 'unanim', 'unannounc', 'unansw', 'unanticip', 'unapoliget', 'unapologet', 'unapp', 'unappeal', 'unappet', 'unassail', 'unassum', 'unattach', 'unattend', 'unattract', 'unauthor', 'unavail', 'unavailbl', 'unavoid', 'unawar', 'unbak', 'unbalanc', 'unbear', 'unbeat', 'unbeknownst', 'unbeleiv', 'unbeliev', 'unbeliv', 'unbias', 'unbl', 'unblanch', 'unbleach', 'unblemish', 'unblend', 'unbought', 'unbox', 'unbrand', 'unbreath', 'unbridl', 'unbroken', 'unbrom', 'unburn', 'unburnt', 'uncaffein', 'uncal', 'uncanni', 'uncap', 'uncar', 'unceremoni', 'uncertain', 'unchang', 'uncharacterist', 'unchart', 'uncheck', 'unchees', 'unchew', 'uncl', 'unclean', 'unclear', 'uncomfort', 'uncommon', 'uncompar', 'uncompl', 'uncompromis', 'unconcern', 'unconcsiouli', 'uncondit', 'unconnect', 'unconsci', 'uncontamin', 'uncontest', 'uncontrol', 'unconvent', 'uncook', 'uncool', 'uncoop', 'uncoordin', 'uncount', 'uncouth', 'uncov', 'uncrat', 'unctuous', 'uncultiv', 'uncurl', 'uncut', 'und', 'undamag', 'undamg', 'undebat', 'undecid', 'undefin', 'undemand', 'undeni', 'undent', 'under', 'underachiev', 'underact', 'underappreci', 'underarm', 'underbelli', 'underbrew', 'undercarbon', 'undercoat', 'undercook', 'undercurr', 'underdog', 'underdon', 'underdos', 'undereduc', 'underestim', 'underflavour', 'underfoot', 'undergo', 'undergon', 'undergradu', 'underground', 'underhand', 'underlay', 'underlin', 'undermin', 'underneath', 'undernurish', 'underorgan', 'underpaid', 'underpar', 'underperform', 'underpin', 'underpr', 'underprocess', 'underr', 'underrip', 'unders', 'underscor', 'underseason', 'undersid', 'underst', 'understand', 'understandng', 'understat', 'understood', 'undertak', 'undertast', 'underton', 'undervalu', 'underw', 'underwat', 'underway', 'underwear', 'underweight', 'underwhelm', 'underworld', 'undescrib', 'undeserv', 'undesir', 'undestruct', 'undetect', 'undevelop', 'undifferenti', 'undigest', 'undilut', 'undiminish', 'undiscern', 'undiscrimin', 'undisput', 'undissolv', 'undistinguish', 'undistribut', 'undisturb', 'undivid', 'undo', 'undon', 'undoubt', 'undrain', 'undrank', 'undrink', 'undrunk', 'undul', 'unearth', 'uneas', 'uneasi', 'uneat', 'uneaten', 'uneatten', 'unecessari', 'uned', 'uneduc', 'unemploy', 'unencumb', 'unenerget', 'unenjoy', 'unenrich', 'unenthus', 'unenthusiast', 'unequ', 'unequivoc', 'unerv', 'unesco', 'uneth', 'unev', 'uneven', 'unexcel', 'unexcept', 'unexcit', 'unexpand', 'unexpect', 'unexplain', 'unfair', 'unfamiliar', 'unfanc', 'unfavor', 'unfeas', 'unfer', 'unfett', 'unfil', 'unfilt', 'unfind', 'unfinish', 'unfit', 'unfix', 'unflak', 'unflavor', 'unflavour', 'unfold', 'unforget', 'unforgett', 'unforgiv', 'unform', 'unfortan', 'unfortn', 'unfortu', 'unfortuant', 'unfortun', 'unfortunat', 'unfortunatley', 'unfortunet', 'unforunt', 'unfound', 'unfourtunat', 'unfreiwillig', 'unfri', 'unfriend', 'unfroast', 'unfrost', 'unfrozen', 'unfrtun', 'unfruitcak', 'unfurl', 'unfussi', 'ungener', 'unglu', 'ungod', 'ungraini', 'ungrat', 'unground', 'unguard', 'unhamp', 'unhappi', 'unhappili', 'unharm', 'unhealth', 'unhealthi', 'unhealthiest', 'unheard', 'unheat', 'unheath', 'unhelp', 'unhind', 'unholi', 'unhul', 'unhydrogen', 'unhygen', 'unicinatum', 'unicorn', 'unidentifi', 'unifi', 'uniform', 'unilater', 'unilev', 'unimagin', 'unimpos', 'unimpress', 'unimprov', 'uninform', 'uniniti', 'uninspir', 'unintend', 'unintent', 'uninterest', 'uninterrupt', 'uninvit', 'union', 'uniq', 'uniqu', 'uniqui', 'unisex', 'unit', 'unitl', 'univer', 'univers', 'unjunkfoodlik', 'unjust', 'unjustifi', 'unknow', 'unknown', 'unlabel', 'unlead', 'unleash', 'unless', 'unlid', 'unlight', 'unlik', 'unlimit', 'unlist', 'unload', 'unlock', 'unlon', 'unlov', 'unlucki', 'unman', 'unmanag', 'unmark', 'unmatch', 'unmelt', 'unmil', 'unmistak', 'unmitig', 'unmix', 'unmold', 'unmotiv', 'unnaccept', 'unnam', 'unnatur', 'unneccessari', 'unneccessarili', 'unnecessari', 'unnecessarili', 'unneed', 'unnerv', 'unnessari', 'unnessecari', 'unnot', 'unnotic', 'uno', 'unobstruct', 'unobtain', 'unobtrus', 'unoccupi', 'unopen', 'unopend', 'unorthodox', 'unpack', 'unpaid', 'unpalat', 'unparal', 'unparallel', 'unpasteur', 'unpastur', 'unperish', 'unpleas', 'unpleasa', 'unpleasantri', 'unplug', 'unpop', 'unpopular', 'unpredicat', 'unpredict', 'unprepar', 'unpretenti', 'unprocess', 'unprofesion', 'unprofession', 'unpronouc', 'unpronounc', 'unprotect', 'unpset', 'unqu', 'unqualifi', 'unquest', 'unquestion', 'unrat', 'unravel', 'unread', 'unreadi', 'unreal', 'unrealist', 'unreason', 'unreasonbl', 'unrecogniz', 'unrecommend', 'unrefin', 'unrefresh', 'unrefridger', 'unrefriger', 'unrefund', 'unregul', 'unrel', 'unreli', 'unremark', 'unrend', 'unrepent', 'unreserv', 'unrespons', 'unrest', 'unrestrict', 'unrins', 'unrip', 'unriv', 'unrival', 'unroast', 'unrol', 'unsaf', 'unsalt', 'unsalvag', 'unsanitari', 'unsat', 'unsatisfactori', 'unsatisfi', 'unsatur', 'unsavori', 'unscath', 'unscent', 'unscientif', 'unscrew', 'unscrupul', 'unseal', 'unseason', 'unseat', 'unseen', 'unsepar', 'unsettl', 'unsheath', 'unshel', 'unsight', 'unsign', 'unsisifi', 'unsmok', 'unsnapp', 'unsoak', 'unsolv', 'unsophist', 'unsound', 'unspeak', 'unspecifi', 'unspectacular', 'unspoil', 'unspread', 'unstabil', 'unstabl', 'unsteam', 'unstick', 'unstopp', 'unsu', 'unsual', 'unsubscrib', 'unsucces', 'unsuccess', 'unsuit', 'unsulfur', 'unsulph', 'unsulphur', 'unsult', 'unsung', 'unsupervis', 'unsur', 'unsurpass', 'unsurpris', 'unsuspect', 'unsustain', 'unsweet', 'unsweeten', 'untaint', 'untamp', 'untast', 'untasti', 'untax', 'unten', 'untest', 'unthaw', 'unthink', 'until', 'untim', 'untitl', 'unto', 'untoast', 'untold', 'untouch', 'untoward', 'untradit', 'untrain', 'untreat', 'untri', 'untru', 'untrustworthi', 'untruth', 'untwist', 'unum', 'unus', 'unusu', 'unveil', 'unverifi', 'unwant', 'unwari', 'unwarr', 'unwash', 'unwelcom', 'unwieldi', 'unwil', 'unwind', 'unwit', 'unworthi', 'unwound', 'unwrap', 'unzip', 'up', 'upbeat', 'upbox', 'upc', 'upchuck', 'upcom', 'updat', 'upfront', 'upgrad', 'uphappi', 'upheav', 'uphold', 'upholsteri', 'upkeep', 'uplift', 'upload', 'upon', 'upper', 'upperclass', 'uppiti', 'upright', 'uproar', 'upscal', 'upset', 'upshaw', 'upshot', 'upsid', 'upsidedown', 'upsiz', 'upstair', 'upstart', 'upstat', 'upsw', 'uptak', 'uptick', 'upto', 'uptod', 'upton', 'uptown', 'upturn', 'upun', 'upward', 'urad', 'uralt', 'uranium', 'urban', 'urband', 'urbani', 'urchin', 'urea', 'uret', 'urethr', 'urethra', 'urg', 'urgent', 'uric', 'urin', 'urinari', 'uriney', 'url', 'urmil', 'urn', 'urolog', 'urologist', 'ursi', 'ursula', 'urtica', 'uruguay', 'usa', 'usabl', 'usachocol', 'usado', 'usaf', 'usag', 'usair', 'usal', 'usb', 'usc', 'usd', 'usda', 'use', 'useabl', 'useag', 'useful', 'useless', 'user', 'usher', 'usin', 'usmc', 'usn', 'usng', 'uso', 'usofa', 'usp', 'usrda', 'uss', 'ustad', 'usu', 'usuabl', 'usual', 'usuali', 'usuauli', 'usulli', 'usus', 'ususlli', 'usvi', 'utah', 'utensil', 'uter', 'uterin', 'uterus', 'uti', 'util', 'utilis', 'utilit', 'utmost', 'utopian', 'utter', 'utz', 'uuggg', 'uuummm', 'uva', 'uw', 'uwajimaya', 'uwe', 'vac', 'vacat', 'vacation', 'vaccin', 'vaccum', 'vaccuum', 'vach', 'vacu', 'vacum', 'vacumn', 'vacuum', 'vacuvin', 'vagan', 'vagin', 'vagu', 'vail', 'vain', 'val', 'valarian', 'valdez', 'valdosta', 'valencia', 'valentin', 'valentino', 'valerian', 'valeriana', 'valhrona', 'valid', 'valium', 'vall', 'valley', 'valli', 'valor', 'valpolicella', 'valrhona', 'valu', 'valuabl', 'valubl', 'valv', 'vampir', 'van', 'vanalla', 'vancouv', 'vandervort', 'vaniila', 'vanil', 'vanila', 'vanilla', 'vanillay', 'vanilleri', 'vanillia', 'vanillin', 'vanish', 'vaniti', 'vannila', 'vannilla', 'vanquish', 'vapor', 'vaporub', 'var', 'varaiti', 'vareti', 'vari', 'variabl', 'varianc', 'variant', 'variat', 'variati', 'varicos', 'varieiti', 'variet', 'varieti', 'variey', 'various', 'variti', 'varment', 'varmint', 'varner', 'varnish', 'varnishk', 'varous', 'vase', 'vaselin', 'vasquez', 'vast', 'vat', 'vatican', 'vault', 'vay', 'vazgeçilmezidir', 'vbe', 'vbg', 'vco', 'vcr', 'veal', 'vecchia', 'vecon', 'veda', 'veeri', 'veever', 'veg', 'vega', 'vegabl', 'vegamit', 'vegan', 'vegancompass', 'vegannais', 'veganomicon', 'vegat', 'vege', 'vegeabl', 'vegeat', 'vegeburg', 'vegecat', 'vegei', 'vegelink', 'vegemit', 'vegenomicon', 'veget', 'vegeta', 'vegetaria', 'vegetarian', 'vegetartian', 'vegeterian', 'vegfamili', 'vegget', 'veggi', 'veggiepro', 'vegi', 'vegicap', 'vegimit', 'vegit', 'vegitarian', 'vegtabl', 'vegtiabl', 'vehement', 'vehicl', 'veil', 'vein', 'veja', 'velcro', 'velero', 'velevt', 'velma', 'velva', 'velveeta', 'velvet', 'velveta', 'velveteen', 'velveti', 'vend', 'vender', 'vendor', 'vendstar', 'veneer', 'vener', 'venetian', 'venezienn', 'venezuela', 'venezuelan', 'veng', 'venganc', 'vengeanc', 'venison', 'venom', 'vent', 'ventair', 'venti', 'ventil', 'ventresca', 'ventur', 'venturi', 'venu', 'venus', 'ver', 'vera', 'verac', 'verb', 'verbag', 'verbal', 'verbatim', 'verbena', 'verd', 'verdad', 'verdant', 'verdict', 'verdoppelt', 'vereda', 'verey', 'verg', 'vergin', 'verieti', 'verif', 'verifi', 'verit', 'veriti', 'vermicelli', 'vermicompost', 'vermin', 'vermint', 'vermonst', 'vermont', 'vermouth', 'vernon', 'vernor', 'verona', 'verri', 'verrri', 'verrrri', 'vers', 'versa', 'versabl', 'versaill', 'versat', 'versatil', 'versatyl', 'versibl', 'versin', 'version', 'versit', 'versitil', 'versitl', 'verson', 'versus', 'vertebra', 'vertic', 'veryasia', 'veryyyyyyi', 'vesatil', 'vespina', 'vessel', 'vest', 'vestal', 'vestig', 'vesus', 'vesuvio', 'vesuvius', 'vet', 'vetchi', 'vetenarian', 'veteran', 'veterinari', 'veterinarian', 'veternarian', 'veternerian', 'veti', 'veto', 'vetsuppli', 'vex', 'vey', 'veya', 'vez', 'vhs', 'vhtf', 'via', 'viabl', 'vial', 'vialon', 'viatmin', 'vibe', 'vibranc', 'vibrant', 'vibrat', 'vic', 'vicar', 'vicari', 'vice', 'vichysois', 'vichyssoi', 'vicin', 'vicious', 'vick', 'vicki', 'victim', 'victor', 'victori', 'victoria', 'victorian', 'vid', 'vida', 'vidalia', 'vide', 'video', 'videodrom', 'vido', 'vie', 'vienn', 'vienna', 'viennes', 'vietnam', 'vietnames', 'view', 'viewer', 'viewpoint', 'viger', 'vigil', 'vigo', 'vigor', 'viii', 'viit', 'vike', 'viki', 'vile', 'vilest', 'vilifi', 'vill', 'villa', 'villag', 'villawar', 'vim', 'vimto', 'vin', 'vinacaf', 'vinagarett', 'vinagerett', 'vinagrett', 'vinagri', 'vinaigr', 'vinaigrett', 'vincent', 'vinci', 'vindaloo', 'vindic', 'vine', 'vineagar', 'vineg', 'vinegar', 'vinegarett', 'vinegari', 'vinegrett', 'vineyard', 'vingeri', 'vinigar', 'vinigarett', 'vinni', 'vinnila', 'vino', 'vinta', 'vintag', 'vinter', 'vinturi', 'vinum', 'vinyard', 'vinyl', 'viola', 'violat', 'violenc', 'violent', 'violet', 'violett', 'violin', 'violist', 'vip', 'viral', 'virbac', 'virgil', 'virgin', 'virginia', 'viril', 'virtu', 'virtual', 'virtuoso', 'virtuous', 'virus', 'visa', 'visabl', 'visag', 'viscoc', 'viscos', 'viscous', 'visibl', 'visino', 'vision', 'visist', 'visit', 'visitng', 'visitor', 'vist', 'vista', 'visual', 'vit', 'vita', 'vitacoco', 'vitacost', 'vitacraft', 'vitakraft', 'vital', 'vitalici', 'vitalyt', 'vitam', 'vitamin', 'vitaminenergi', 'vitaminer', 'vitamini', 'vitaminscet', 'vitaminshopp', 'vitamix', 'vitamuffin', 'vitaspectrum', 'vitaspelt', 'vitatop', 'viti', 'vitiamin', 'vitimin', 'vito', 'vitro', 'vittadini', 'vittl', 'viva', 'vivac', 'vivaci', 'vivani', 'vivarin', 'vive', 'vivid', 'vivifi', 'viz', 'vizla', 'vizsla', 'vladimir', 'vlasic', 'vldl', 'vocab', 'vocal', 'vodka', 'vogel', 'voglio', 'vogt', 'vohc', 'voic', 'voicemail', 'voiceov', 'void', 'voila', 'vol', 'volatil', 'volcan', 'volcano', 'vole', 'volia', 'volit', 'volleybal', 'vollkornbrot', 'vollrath', 'voltag', 'voltair', 'volum', 'volumetr', 'volumi', 'volunt', 'voluntarili', 'voluptu', 'volvi', 'volvic', 'vomit', 'vommit', 'von', 'voodoo', 'voraci', 'vosg', 'voss', 'vote', 'vouch', 'vous', 'vow', 'vox', 'vps', 'vraie', 'vranberri', 'vrey', 'vruit', 'vsop', 'vuelvo', 'vulcan', 'vulgar', 'vulgari', 'vulner', 'vultur', 'vunderbar', 'waa', 'waaa', 'waaaaa', 'waaaaaaaay', 'waaaaaaay', 'waaaaaay', 'waaaaay', 'waaaaayyyi', 'waaaay', 'waaaayyy', 'waaaayyyi', 'waaaayyyyyyy', 'waaay', 'waait', 'wabash', 'wabbit', 'wach', 'wacki', 'waco', 'wacth', 'wad', 'wade', 'wadi', 'wafer', 'waferi', 'waffel', 'waffer', 'waffi', 'waffl', 'wafflemak', 'waffler', 'waft', 'wag', 'wagatha', 'wage', 'wager', 'waggl', 'wagner', 'wagon', 'wagyu', 'wah', 'wahin', 'wahini', 'wahoo', 'waht', 'waikato', 'waikiki', 'wain', 'waist', 'waistelin', 'waistlin', 'wait', 'waiter', 'waitress', 'waiv', 'waiver', 'wakam', 'wakarenai', 'wake', 'waken', 'wakeup', 'wal', 'walbert', 'wald', 'walden', 'waldorf', 'wale', 'walgreen', 'walk', 'walker', 'walkerswod', 'walkerswood', 'walkerwood', 'walki', 'walkman', 'wall', 'walla', 'wallah', 'wallenford', 'wallet', 'wallgreen', 'walli', 'wallmart', 'wallop', 'wallow', 'wallpap', 'wallymart', 'wallyworld', 'walmart', 'walnetto', 'walnut', 'walsh', 'walt', 'walter', 'walton', 'waltz', 'wamr', 'wan', 'wanamingo', 'wand', 'wanda', 'wander', 'wane', 'wang', 'wangi', 'wanker', 'wanna', 'wannab', 'wannabe', 'want', 'wantn', 'wanton', 'waowi', 'war', 'warcraft', 'warcrim', 'ward', 'wardrob', 'ware', 'warehous', 'warfar', 'warfarin', 'warfight', 'wargam', 'warhamm', 'warhead', 'warhol', 'wari', 'warin', 'wark', 'warlord', 'warm', 'warmer', 'warmish', 'warmth', 'warn', 'warner', 'warp', 'warrant', 'warrante', 'warranti', 'warren', 'warrenti', 'warri', 'warrior', 'warsaw', 'wart', 'wartim', 'wasa', 'wasab', 'wasabi', 'wasaibi', 'wasbi', 'wash', 'washabl', 'washcloth', 'washer', 'washi', 'washington', 'washingtonian', 'waskal', 'wasnt', 'wasp', 'wass', 'wast', 'wastag', 'wastebasket', 'wasteland', 'wasten', 'wasveri', 'wat', 'wataer', 'watashiwa', 'watch', 'watchdog', 'watcher', 'watchign', 'watchin', 'wate', 'water', 'waterbelt', 'waterbowl', 'watercolor', 'watercress', 'waterey', 'waterford', 'waterfront', 'waterg', 'wateri', 'waterlog', 'watermark', 'watermeion', 'watermellon', 'watermelon', 'watermeloni', 'waterproof', 'waterwheel', 'watev', 'wath', 'wathcer', 'wathey', 'watkin', 'watson', 'watt', 'wattag', 'waukesha', 'wave', 'wavelength', 'waver', 'wavi', 'wawa', 'wax', 'waxi', 'waxier', 'way', 'wayn', 'waysid', 'wayward', 'wayyy', 'wayyyi', 'wayyyyy', 'wayyyyyi', 'wazoo', 'wazu', 'wbcl', 'weak', 'weaken', 'weaker', 'weakest', 'wealth', 'wealthi', 'wean', 'weapon', 'wear', 'wearch', 'wearer', 'wearhous', 'weari', 'wearin', 'weasel', 'weather', 'weav', 'weaver', 'weavil', 'web', 'webb', 'webber', 'webcam', 'weber', 'webmd', 'webpag', 'websearch', 'webshop', 'websid', 'websight', 'websit', 'websitr', 'webster', 'webvitamin', 'webvitmin', 'wed', 'wedderspoon', 'wedg', 'wedgewood', 'wednesday', 'wee', 'weebe', 'weed', 'weederspoon', 'weedi', 'weeee', 'weeeeeeeeeeeeeeeeeeeeeeeee', 'week', 'weekday', 'weekend', 'weeknight', 'ween', 'weeni', 'weep', 'weer', 'weetabix', 'weevil', 'weezer', 'wega', 'wegman', 'wehani', 'wehn', 'wehr', 'wei', 'weigh', 'weight', 'weighti', 'weightless', 'weightlift', 'weightloss', 'weightproblem', 'weightwatch', 'weigth', 'weil', 'weim', 'weimaran', 'weimeran', 'weinbrand', 'weiner', 'weinhard', 'weir', 'weird', 'weirdest', 'weirdo', 'weiser', 'weiss', 'weissbrot', 'weissenbach', 'weisswurst', 'wel', 'welch', 'welcom', 'weld', 'welfar', 'well', 'wellb', 'wellbar', 'wellbit', 'wellbuilt', 'welless', 'wellington', 'welll', 'welllll', 'welln', 'wellnesss', 'wellpack', 'wellvill', 'welp', 'welsh', 'wen', 'wendi', 'wenig', 'went', 'weork', 'werd', 'werent', 'werid', 'wern', 'werner', 'wernt', 'werther', 'weruva', 'werw', 'wes', 'wesit', 'wesselmann', 'wessex', 'west', 'westbra', 'westchest', 'western', 'westi', 'westminst', 'weston', 'westpot', 'westsoy', 'westward', 'wet', 'wetfac', 'wetfood', 'wether', 'wetland', 'wetter', 'weve', 'wfbj', 'wfgf', 'wfm', 'wha', 'whaaaaat', 'whack', 'whacki', 'whacko', 'whad', 'whaddaya', 'whai', 'whalaa', 'whalah', 'whale', 'whallop', 'wham', 'whammi', 'whan', 'whang', 'wharehous', 'wharf', 'what', 'whatamelon', 'whatcha', 'whatchamacallit', 'whatev', 'whatnot', 'whatsit', 'whatsoev', 'whatta', 'whattya', 'whatziata', 'whay', 'whazzupwidat', 'whcih', 'whe', 'wheat', 'wheateana', 'wheaten', 'wheatena', 'wheatey', 'wheatfre', 'wheatgrass', 'wheati', 'wheatina', 'wheatless', 'wheatmeal', 'wheaton', 'wheedl', 'wheel', 'wheelbarrow', 'wheelchair', 'wheeler', 'wheez', 'wheezer', 'whell', 'whelm', 'whelp', 'whem', 'whenev', 'whent', 'wher', 'whera', 'wherea', 'whereev', 'wherefor', 'wherehous', 'wherein', 'whereon', 'whereupon', 'wherev', 'whernev', 'whet', 'whether', 'whew', 'whey', 'whfood', 'whhich', 'whichev', 'whichi', 'whidbey', 'whie', 'whif', 'whiff', 'whiffl', 'whili', 'whilst', 'whilt', 'whim', 'whimp', 'whimper', 'whimsey', 'whimsi', 'whimsic', 'whine', 'whiner', 'whini', 'whip', 'whipcream', 'whipit', 'whippersnapp', 'whippet', 'whir', 'whirey', 'whirl', 'whirley', 'whirleypop', 'whirlypop', 'whirr', 'whish', 'whisk', 'whiska', 'whisker', 'whiskey', 'whiski', 'whisp', 'whisper', 'whistl', 'white', 'whiteboard', 'whitebread', 'whitefish', 'whitefli', 'whitehal', 'whitehead', 'whitehous', 'whiten', 'whiter', 'whitewash', 'whitewav', 'whith', 'whither', 'whitish', 'whitman', 'whitney', 'whitten', 'whittl', 'whiz', 'whizz', 'whle', 'whlich', 'whoa', 'whoah', 'whodunnit', 'whoever', 'whohoo', 'whola', 'whole', 'wholefood', 'wholegrain', 'wholeheart', 'wholeheartd', 'wholelattelov', 'wholem', 'wholesal', 'wholesom', 'wholewheat', 'wholist', 'wholli', 'whollop', 'whomev', 'whomp', 'whoo', 'whooool', 'whooope', 'whoop', 'whoopi', 'whoopiti', 'whoosh', 'whop', 'whopper', 'whore', 'whos', 'whose', 'whow', 'whrite', 'whyyyy', 'wic', 'wich', 'wichita', 'wick', 'wicker', 'wide', 'widen', 'wider', 'widescreen', 'widespread', 'widow', 'width', 'wieght', 'wield', 'wiener', 'wienerschnitzel', 'wierd', 'wiesbaden', 'wieser', 'wife', 'wifey', 'wifr', 'wig', 'wigg', 'wiggl', 'wih', 'wihout', 'wiht', 'wii', 'wiil', 'wiithin', 'wiithout', 'wikipedia', 'wil', 'wilbur', 'wild', 'wildberri', 'wilder', 'wildfir', 'wildflow', 'wildlif', 'wildric', 'wile', 'wilford', 'wiliam', 'wilkin', 'will', 'willamett', 'willard', 'willett', 'willi', 'william', 'williamsburg', 'williamson', 'williamsurg', 'willl', 'willow', 'willpow', 'wilsh', 'wilson', 'wilt', 'wilton', 'wimbledon', 'wimp', 'wimper', 'wimpi', 'wimpish', 'win', 'winc', 'winco', 'wind', 'windchil', 'windi', 'windmil', 'window', 'windowpan', 'windowsil', 'windpip', 'windshield', 'windsor', 'wine', 'winegum', 'winemak', 'wineri', 'winey', 'winfrey', 'wing', 'wingal', 'wini', 'wink', 'winn', 'winner', 'winni', 'winnona', 'winnow', 'wino', 'winona', 'winonna', 'winsconsinmad', 'winston', 'winter', 'winterblu', 'winterfresh', 'winterfrost', 'wintergreeen', 'wintergreen', 'winteri', 'wintermint', 'wintertim', 'winthrop', 'winto', 'wipe', 'wir', 'wire', 'wiredweird', 'wirehair', 'wireless', 'wirhout', 'wis', 'wisconsin', 'wisconsinmad', 'wisconson', 'wisdom', 'wise', 'wisecrack', 'wiser', 'wisgold', 'wish', 'wishbon', 'wishi', 'wishlist', 'wishniak', 'wisk', 'wissotzki', 'wist', 'wit', 'witch', 'witchcraft', 'witchhazel', 'with', 'witha', 'withdraw', 'withdrawl', 'withdrew', 'wither', 'withheld', 'withhold', 'withhout', 'within', 'withn', 'withou', 'withouit', 'withour', 'without', 'withstand', 'withstood', 'withsugar', 'witht', 'withth', 'withthi', 'witjh', 'witmer', 'witohut', 'witti', 'wityh', 'wive', 'wizard', 'wizzler', 'wjrf', 'wks', 'wld', 'wlll', 'wlmart', 'wls', 'wnat', 'wnen', 'wnho', 'wnough', 'woah', 'wobbler', 'woder', 'wodner', 'woe', 'woeber', 'woefulli', 'woek', 'wofferman', 'wohn', 'wohop', 'wok', 'woke', 'woken', 'wokeup', 'wol', 'wolf', 'wolfberri', 'wolfen', 'wolff', 'wolfgang', 'wolfi', 'wolfk', 'wolv', 'woma', 'woman', 'womder', 'womem', 'women', 'wond', 'wonder', 'wonderbread', 'wonderd', 'wonderdrug', 'wonderfl', 'wonderfui', 'wonderful', 'wonderfulgreat', 'wonderfuli', 'wonderm', 'wondferul', 'wondrous', 'wonka', 'wonki', 'wont', 'wonton', 'woo', 'wood', 'woodchuck', 'woodear', 'wooden', 'woodgrain', 'woodi', 'woodpeck', 'woodshop', 'woodsi', 'woodstock', 'woodstream', 'woof', 'woofer', 'woohhhooo', 'woohoo', 'woohooo', 'wook', 'wool', 'woolen', 'woooooooo', 'woop', 'woopi', 'woopidi', 'woosh', 'woot', 'woould', 'woozi', 'worcest', 'worcestershir', 'worchest', 'worchestershir', 'word', 'wordi', 'wore', 'worht', 'wori', 'work', 'workabl', 'workaround', 'workday', 'worker', 'workhors', 'workin', 'workload', 'workman', 'workout', 'workplac', 'workroom', 'workshop', 'workspac', 'workstyl', 'world', 'worldfin', 'worldview', 'worldwid', 'worm', 'worn', 'worri', 'worrisom', 'worrth', 'wors', 'worsen', 'worship', 'worst', 'worsterchir', 'wort', 'worth', 'worthi', 'worthington', 'worthless', 'worthth', 'worthwhil', 'worthwil', 'wost', 'woth', 'woud', 'woudld', 'wought', 'woukd', 'woul', 'would', 'woulda', 'wouldint', 'wouldnt', 'wouldst', 'wouldv', 'wouln', 'woulso', 'wound', 'wounder', 'wouod', 'wouold', 'woven', 'wow', 'wowowowoow', 'wpc', 'wrack', 'wrangl', 'wrap', 'wrape', 'wrapper', 'wraptur', 'wrass', 'wrath', 'wre', 'wreak', 'wreck', 'wrestl', 'wrestler', 'wretch', 'wriggler', 'wright', 'wrigley', 'wring', 'wringer', 'wrink', 'wrinkl', 'wrist', 'writ', 'write', 'writen', 'writer', 'writh', 'written', 'wrong', 'wrongo', 'wrote', 'wrth', 'wrung', 'wsj', 'wtf', 'wth', 'wtih', 'wtihout', 'wuch', 'wudgi', 'wuff', 'wulong', 'wunderbar', 'wur', 'wurst', 'wuss', 'wussi', 'wuyi', 'wuyishan', 'wuz', 'wvu', 'wwii', 'wwiii', 'wwooohhooo', 'www', 'wyld', 'wyler', 'wyman', 'wynona', 'wyom', 'wyona', 'wysong', 'xagav', 'xanathum', 'xanax', 'xantham', 'xanthan', 'xanthem', 'xanthin', 'xanthum', 'xbold', 'xbox', 'xcellent', 'xdate', 'xena', 'xenoestrogen', 'xenophob', 'xiamen', 'xiii', 'ximenez', 'xiv', 'xlear', 'xlge', 'xlichew', 'xlitol', 'xlr', 'xlure', 'xlylitol', 'xmas', 'xocolatl', 'xpen', 'xplode', 'xplosion', 'xray', 'xtra', 'xvi', 'xxx', 'xxxbuck', 'xxxtra', 'xxxxtra', 'xylan', 'xylichew', 'xylitol', 'xylo', 'xylosweet', 'xylotol', 'xyltol', 'yaa', 'yaaaaay', 'yaawwwwnn', 'yaay', 'yacht', 'yacon', 'yada', 'yadayadayada', 'yadda', 'yah', 'yahoo', 'yahooooo', 'yak', 'yakimando', 'yakisoba', 'yakitori', 'yakk', 'yam', 'yama', 'yamama', 'yamamotoyama', 'yamat', 'yame', 'yammi', 'yan', 'yang', 'yangts', 'yank', 'yanke', 'yanki', 'yap', 'yar', 'yard', 'yardbird', 'yarn', 'yarrow', 'yassou', 'yawn', 'yay', 'yaya', 'ybrki', 'ycca', 'yea', 'yeaaaaah', 'yeah', 'yeap', 'year', 'yearn', 'yearout', 'yeasr', 'yeast', 'yeasti', 'yeat', 'yeay', 'yech', 'yeech', 'yeee', 'yeh', 'yehuda', 'yeild', 'yell', 'yellow', 'yellowfin', 'yellowish', 'yellowjacket', 'yellowtail', 'yemini', 'yen', 'yeni', 'yep', 'yer', 'yerba', 'yes', 'yess', 'yessire', 'yest', 'yesterday', 'yesterdi', 'yesteryear', 'yet', 'yeterday', 'yhis', 'yicki', 'yield', 'yike', 'yin', 'ying', 'yip', 'yippe', 'yipper', 'yippi', 'yix', 'ymca', 'ymmm', 'ymmv', 'ymmw', 'yngwie', 'yobabi', 'yochees', 'yoda', 'yodel', 'yoga', 'yogart', 'yogert', 'yoghourt', 'yoghurt', 'yogi', 'yogic', 'yogitea', 'yogourmet', 'yogoutmet', 'yogur', 'yogurett', 'yogurt', 'yohimbin', 'yokan', 'yoke', 'yoki', 'yokohama', 'yokshir', 'yolk', 'yolkless', 'yoo', 'yoohoo', 'yoong', 'yoplait', 'yopur', 'yor', 'yore', 'york', 'yorker', 'yorki', 'yorkiechon', 'yorkiepoo', 'yorkipoo', 'yorkshi', 'yorkshir', 'yorshir', 'yosemit', 'yoshida', 'yoshinoya', 'youdobetterthan', 'yougurt', 'youki', 'youll', 'young', 'younger', 'youngest', 'youngin', 'youngman', 'youngster', 'your', 'yous', 'youself', 'youth', 'youtub', 'youtubegarden', 'youv', 'yowl', 'yoy', 'ypsilanti', 'yrs', 'yuban', 'yucatan', 'yucateco', 'yucca', 'yucchhh', 'yuch', 'yuck', 'yucki', 'yucko', 'yuexi', 'yugoslavia', 'yuh', 'yuk', 'yukki', 'yukon', 'yulong', 'yum', 'yuma', 'yumalici', 'yumi', 'yumm', 'yumma', 'yummer', 'yummi', 'yummier', 'yummiest', 'yummili', 'yummish', 'yummm', 'yummmi', 'yummmm', 'yummmmi', 'yummmmm', 'yummmmmi', 'yummmmmm', 'yummmmmmi', 'yummmmmmm', 'yummmmmmmi', 'yummmmmmmm', 'yummmmmmmmm', 'yummmmmmmmmmmmi', 'yummmmmmmmmmmmmmmmmmmmmmmmm', 'yummmmyyi', 'yummo', 'yummy', 'yummyearth', 'yumnut', 'yumsi', 'yunah', 'yunga', 'yunnan', 'yunni', 'yup', 'yuppi', 'yur', 'yuricka', 'yuuuum', 'yuuuuummi', 'yuuuuummyyyy', 'yuuuuuuuuuum', 'yuzu', 'yves', 'yyou', 'yyyuuummm', 'zaar', 'zaba', 'zabuca', 'zach', 'zact', 'zafrani', 'zagnut', 'zaloga', 'zambezi', 'zamouri', 'zang', 'zango', 'zant', 'zantac', 'zap', 'zapp', 'zapper', 'zappo', 'zarafina', 'zaraphina', 'zareba', 'zatairain', 'zatarain', 'zataran', 'zatarin', 'zaxbi', 'zaz', 'zazz', 'zbar', 'zeal', 'zealand', 'zebra', 'zede', 'zehn', 'zehr', 'zeisner', 'zelben', 'zen', 'zensoy', 'zeolit', 'zeppelin', 'zergut', 'zero', 'zest', 'zesti', 'zevia', 'zhean', 'zhejiang', 'zhen', 'zhena', 'zhu', 'zicam', 'zico', 'zigelhof', 'ziggi', 'zigzag', 'zilch', 'zillion', 'zimbabw', 'zinc', 'zinfandel', 'zing', 'zinger', 'zingerman', 'zingi', 'zingib', 'zingier', 'ziol', 'zip', 'zipfizz', 'ziploc', 'ziplock', 'zipp', 'zipper', 'zippi', 'zippo', 'zit', 'ziti', 'zito', 'ziwi', 'ziwipeak', 'ziyad', 'zoe', 'zoey', 'zoji', 'zojirushi', 'zojishuri', 'zola', 'zoloft', 'zombi', 'zomg', 'zon', 'zone', 'zoo', 'zookeep', 'zoom', 'zoomi', 'zot', 'zotz', 'zour', 'zout', 'zreport', 'zsweet', 'zucchini', 'zuccini', 'zuchinni', 'zuke', 'zuma', 'zuppa', 'zwar', 'zwieback', 'zwiebeck', 'zydeco', 'zyrtec', 'zzzzzzz', 'zzzzzzzzzz', 'çay']\n"
          ],
          "name": "stdout"
        },
        {
          "output_type": "execute_result",
          "data": {
            "text/plain": [
              "[((-16.79910946908463, 'abhorr'), (-4.432701025354602, 'like')),\n",
              " ((-16.79910946908463, 'abosolut'), (-4.480016221414484, 'tast')),\n",
              " ((-16.79910946908463, 'abrevi'), (-4.606775772165058, 'good')),\n",
              " ((-16.79910946908463, 'accepet'), (-4.63385360975494, 'flavor')),\n",
              " ((-16.79910946908463, 'accor'), (-4.656930219496708, 'great')),\n",
              " ((-16.79910946908463, 'accordng'), (-4.659812511952273, 'tea')),\n",
              " ((-16.79910946908463, 'accourd'), (-4.691857658503583, 'love')),\n",
              " ((-16.79910946908463, 'accpet'), (-4.714408164484647, 'use')),\n",
              " ((-16.79910946908463, 'acesuflamek'), (-4.732925523963074, 'product')),\n",
              " ((-16.79910946908463, 'acknowled'), (-4.785220855061041, 'one')),\n",
              " ((-16.79910946908463, 'acronym'), (-4.89285220782951, 'tri')),\n",
              " ((-16.79910946908463, 'actal'), (-4.975315330587295, 'make')),\n",
              " ((-16.79910946908463, 'activateand'), (-5.107109379571092, 'get')),\n",
              " ((-16.79910946908463, 'activist'), (-5.182085284186089, 'coffe')),\n",
              " ((-16.79910946908463, 'actulli'), (-5.252352788245558, 'amazon')),\n",
              " ((-16.79910946908463, 'acumen'), (-5.350072070177083, 'time')),\n",
              " ((-16.79910946908463, 'acuraci'), (-5.356595738854775, 'best')),\n",
              " ((-16.79910946908463, 'adav'), (-5.360250438669283, 'food')),\n",
              " ((-16.79910946908463, 'addag'), (-5.371077625133029, 'eat')),\n",
              " ((-16.79910946908463, 'adel'), (-5.389091974166822, 'buy'))]"
            ]
          },
          "metadata": {
            "tags": []
          },
          "execution_count": 42
        }
      ]
    },
    {
      "cell_type": "markdown",
      "metadata": {
        "id": "QPl8ObaBD8ka",
        "colab_type": "text"
      },
      "source": [
        "#### Find ROC AUC Score"
      ]
    },
    {
      "cell_type": "code",
      "metadata": {
        "id": "iLJCACyLxsfD",
        "colab_type": "code",
        "outputId": "22400185-d2bd-4994-d68c-766905bf82b9",
        "colab": {
          "base_uri": "https://localhost:8080/",
          "height": 35
        }
      },
      "source": [
        "from sklearn.metrics import roc_auc_score\n",
        "\n",
        "roc_auc_score(Y_Test,y_test_predicted_prob)"
      ],
      "execution_count": 43,
      "outputs": [
        {
          "output_type": "execute_result",
          "data": {
            "text/plain": [
              "0.8972014598190281"
            ]
          },
          "metadata": {
            "tags": []
          },
          "execution_count": 43
        }
      ]
    },
    {
      "cell_type": "markdown",
      "metadata": {
        "id": "BQwTKMidEZol",
        "colab_type": "text"
      },
      "source": [
        "#### Calculate Precision , Recall , F1-Score and Conufusion Matrix"
      ]
    },
    {
      "cell_type": "code",
      "metadata": {
        "id": "9gf3AJQH_3ka",
        "colab_type": "code",
        "outputId": "c7470135-b67a-4c99-9f62-9f25ad1539d0",
        "colab": {
          "base_uri": "https://localhost:8080/",
          "height": 212
        }
      },
      "source": [
        "from sklearn.metrics import classification_report,confusion_matrix\n",
        "\n",
        "print(classification_report(Y_Test,pred_test_data))\n",
        "print(confusion_matrix(Y_Test,pred_test_data))"
      ],
      "execution_count": 44,
      "outputs": [
        {
          "output_type": "stream",
          "text": [
            "              precision    recall  f1-score   support\n",
            "\n",
            "    negative       0.50      0.77      0.61      2457\n",
            "    positive       0.97      0.89      0.93     17543\n",
            "\n",
            "    accuracy                           0.88     20000\n",
            "   macro avg       0.73      0.83      0.77     20000\n",
            "weighted avg       0.91      0.88      0.89     20000\n",
            "\n",
            "[[ 1897   560]\n",
            " [ 1869 15674]]\n"
          ],
          "name": "stdout"
        }
      ]
    },
    {
      "cell_type": "markdown",
      "metadata": {
        "id": "cfPda7rJFAFV",
        "colab_type": "text"
      },
      "source": [
        "By Looking at the Confusion Matrix , it looks like there is an increase True Positive(TP) and True Negative(TN) values. We should be good here"
      ]
    },
    {
      "cell_type": "markdown",
      "metadata": {
        "id": "IEVSWEK2FVJf",
        "colab_type": "text"
      },
      "source": [
        "## Tf-IDF Vectorization Technique on Naive Bayes Algorithm"
      ]
    },
    {
      "cell_type": "code",
      "metadata": {
        "id": "BuzfsocHB5qe",
        "colab_type": "code",
        "outputId": "432eebfe-89a1-469e-fad9-633a6f5bc74d",
        "colab": {
          "base_uri": "https://localhost:8080/",
          "height": 177
        }
      },
      "source": [
        "from sklearn.feature_extraction.text import TfidfVectorizer\n",
        "\n",
        "print(X_Train.shape, Y_Train.shape)\n",
        "print(X_CV.shape, Y_CV.shape)\n",
        "print(X_Test.shape, Y_Test.shape)\n",
        "\n",
        "print(\"=\"*100)\n",
        "\n",
        "\n",
        "tfidf_vector=TfidfVectorizer(min_df=10)\n",
        "X_Train_data_tfidf=(tfidf_vector.fit_transform(X_Train['Cleaned_text'].values))\n",
        "X_Test_data_tfidf=(tfidf_vector.transform(X_Test['Cleaned_text'].values))\n",
        "X_CV_data_tfidf=(tfidf_vector.transform(X_CV['Cleaned_text'].values))\n",
        "\n",
        "print(\"After vectorizations\")\n",
        "print(X_Train_data_tfidf.shape, Y_Train.shape)\n",
        "print(X_CV_data_tfidf.shape, Y_CV.shape)\n",
        "print(X_Test_data_tfidf.shape, Y_Test.shape)\n",
        "print(\"=\"*100)"
      ],
      "execution_count": 45,
      "outputs": [
        {
          "output_type": "stream",
          "text": [
            "(64000, 12) (64000,)\n",
            "(16000, 12) (16000,)\n",
            "(20000, 12) (20000,)\n",
            "====================================================================================================\n",
            "After vectorizations\n",
            "(64000, 6773) (64000,)\n",
            "(16000, 6773) (16000,)\n",
            "(20000, 6773) (20000,)\n",
            "====================================================================================================\n"
          ],
          "name": "stdout"
        }
      ]
    },
    {
      "cell_type": "markdown",
      "metadata": {
        "id": "mtdliPQ8FpbN",
        "colab_type": "text"
      },
      "source": [
        "#### Use Multinomial Naive Bayes and GridSearchCV using 10 Fold Cross Validation to find Best Alpha"
      ]
    },
    {
      "cell_type": "code",
      "metadata": {
        "id": "l0Z387vnGe8t",
        "colab_type": "code",
        "outputId": "187065a6-a43c-42da-b44e-ed621b8b69bd",
        "colab": {
          "base_uri": "https://localhost:8080/",
          "height": 612
        }
      },
      "source": [
        "results,best_Alpha,nb_MultiNomial =NaiveBayes_Optimal_Alpha(X_Train_data_tfidf,Y_Train)\n",
        "results.head()"
      ],
      "execution_count": 46,
      "outputs": [
        {
          "output_type": "stream",
          "text": [
            "0.9161005045766709\n",
            "{'alpha': 0.1}\n"
          ],
          "name": "stdout"
        },
        {
          "output_type": "display_data",
          "data": {
            "image/png": "[encoded data removed]",
            "text/plain": [
              "<Figure size 432x288 with 1 Axes>"
            ]
          },
          "metadata": {
            "tags": []
          }
        },
        {
          "output_type": "execute_result",
          "data": {
            "text/html": [
              "<div>\n",
              "<style scoped>\n",
              "    .dataframe tbody tr th:only-of-type {\n",
              "        vertical-align: middle;\n",
              "    }\n",
              "\n",
              "    .dataframe tbody tr th {\n",
              "        vertical-align: top;\n",
              "    }\n",
              "\n",
              "    .dataframe thead th {\n",
              "        text-align: right;\n",
              "    }\n",
              "</style>\n",
              "<table border=\"1\" class=\"dataframe\">\n",
              "  <thead>\n",
              "    <tr style=\"text-align: right;\">\n",
              "      <th></th>\n",
              "      <th>mean_fit_time</th>\n",
              "      <th>std_fit_time</th>\n",
              "      <th>mean_score_time</th>\n",
              "      <th>std_score_time</th>\n",
              "      <th>param_alpha</th>\n",
              "      <th>params</th>\n",
              "      <th>split0_test_score</th>\n",
              "      <th>split1_test_score</th>\n",
              "      <th>split2_test_score</th>\n",
              "      <th>split3_test_score</th>\n",
              "      <th>split4_test_score</th>\n",
              "      <th>split5_test_score</th>\n",
              "      <th>split6_test_score</th>\n",
              "      <th>split7_test_score</th>\n",
              "      <th>split8_test_score</th>\n",
              "      <th>split9_test_score</th>\n",
              "      <th>mean_test_score</th>\n",
              "      <th>std_test_score</th>\n",
              "      <th>rank_test_score</th>\n",
              "      <th>split0_train_score</th>\n",
              "      <th>split1_train_score</th>\n",
              "      <th>split2_train_score</th>\n",
              "      <th>split3_train_score</th>\n",
              "      <th>split4_train_score</th>\n",
              "      <th>split5_train_score</th>\n",
              "      <th>split6_train_score</th>\n",
              "      <th>split7_train_score</th>\n",
              "      <th>split8_train_score</th>\n",
              "      <th>split9_train_score</th>\n",
              "      <th>mean_train_score</th>\n",
              "      <th>std_train_score</th>\n",
              "    </tr>\n",
              "  </thead>\n",
              "  <tbody>\n",
              "    <tr>\n",
              "      <th>0</th>\n",
              "      <td>0.198574</td>\n",
              "      <td>0.001745</td>\n",
              "      <td>0.017434</td>\n",
              "      <td>0.000329</td>\n",
              "      <td>1e-05</td>\n",
              "      <td>{'alpha': 1e-05}</td>\n",
              "      <td>0.877475</td>\n",
              "      <td>0.881453</td>\n",
              "      <td>0.878077</td>\n",
              "      <td>0.871077</td>\n",
              "      <td>0.881012</td>\n",
              "      <td>0.868775</td>\n",
              "      <td>0.870986</td>\n",
              "      <td>0.869336</td>\n",
              "      <td>0.883743</td>\n",
              "      <td>0.873500</td>\n",
              "      <td>0.875543</td>\n",
              "      <td>0.005210</td>\n",
              "      <td>6</td>\n",
              "      <td>0.951738</td>\n",
              "      <td>0.951338</td>\n",
              "      <td>0.951628</td>\n",
              "      <td>0.952519</td>\n",
              "      <td>0.951173</td>\n",
              "      <td>0.951458</td>\n",
              "      <td>0.951534</td>\n",
              "      <td>0.952049</td>\n",
              "      <td>0.951694</td>\n",
              "      <td>0.951338</td>\n",
              "      <td>0.951647</td>\n",
              "      <td>0.000374</td>\n",
              "    </tr>\n",
              "    <tr>\n",
              "      <th>1</th>\n",
              "      <td>0.198097</td>\n",
              "      <td>0.001037</td>\n",
              "      <td>0.017978</td>\n",
              "      <td>0.002481</td>\n",
              "      <td>0.0001</td>\n",
              "      <td>{'alpha': 0.0001}</td>\n",
              "      <td>0.884965</td>\n",
              "      <td>0.889221</td>\n",
              "      <td>0.885457</td>\n",
              "      <td>0.881091</td>\n",
              "      <td>0.886632</td>\n",
              "      <td>0.877158</td>\n",
              "      <td>0.878290</td>\n",
              "      <td>0.877469</td>\n",
              "      <td>0.890028</td>\n",
              "      <td>0.881725</td>\n",
              "      <td>0.883204</td>\n",
              "      <td>0.004505</td>\n",
              "      <td>5</td>\n",
              "      <td>0.951506</td>\n",
              "      <td>0.951111</td>\n",
              "      <td>0.951382</td>\n",
              "      <td>0.952278</td>\n",
              "      <td>0.950910</td>\n",
              "      <td>0.951198</td>\n",
              "      <td>0.951292</td>\n",
              "      <td>0.951792</td>\n",
              "      <td>0.951444</td>\n",
              "      <td>0.951095</td>\n",
              "      <td>0.951401</td>\n",
              "      <td>0.000375</td>\n",
              "    </tr>\n",
              "    <tr>\n",
              "      <th>2</th>\n",
              "      <td>0.195315</td>\n",
              "      <td>0.003145</td>\n",
              "      <td>0.016920</td>\n",
              "      <td>0.000346</td>\n",
              "      <td>0.001</td>\n",
              "      <td>{'alpha': 0.001}</td>\n",
              "      <td>0.894675</td>\n",
              "      <td>0.899117</td>\n",
              "      <td>0.895094</td>\n",
              "      <td>0.892651</td>\n",
              "      <td>0.893411</td>\n",
              "      <td>0.888607</td>\n",
              "      <td>0.887918</td>\n",
              "      <td>0.888000</td>\n",
              "      <td>0.898075</td>\n",
              "      <td>0.892024</td>\n",
              "      <td>0.892957</td>\n",
              "      <td>0.003765</td>\n",
              "      <td>4</td>\n",
              "      <td>0.951075</td>\n",
              "      <td>0.950682</td>\n",
              "      <td>0.950926</td>\n",
              "      <td>0.951844</td>\n",
              "      <td>0.950432</td>\n",
              "      <td>0.950725</td>\n",
              "      <td>0.950850</td>\n",
              "      <td>0.951331</td>\n",
              "      <td>0.950988</td>\n",
              "      <td>0.950642</td>\n",
              "      <td>0.950949</td>\n",
              "      <td>0.000382</td>\n",
              "    </tr>\n",
              "    <tr>\n",
              "      <th>3</th>\n",
              "      <td>0.198044</td>\n",
              "      <td>0.002141</td>\n",
              "      <td>0.017351</td>\n",
              "      <td>0.000324</td>\n",
              "      <td>0.01</td>\n",
              "      <td>{'alpha': 0.01}</td>\n",
              "      <td>0.906410</td>\n",
              "      <td>0.910232</td>\n",
              "      <td>0.906178</td>\n",
              "      <td>0.903898</td>\n",
              "      <td>0.903245</td>\n",
              "      <td>0.901344</td>\n",
              "      <td>0.899754</td>\n",
              "      <td>0.901012</td>\n",
              "      <td>0.907617</td>\n",
              "      <td>0.905315</td>\n",
              "      <td>0.904500</td>\n",
              "      <td>0.003103</td>\n",
              "      <td>3</td>\n",
              "      <td>0.950154</td>\n",
              "      <td>0.949759</td>\n",
              "      <td>0.949953</td>\n",
              "      <td>0.950923</td>\n",
              "      <td>0.949440</td>\n",
              "      <td>0.949746</td>\n",
              "      <td>0.949919</td>\n",
              "      <td>0.950360</td>\n",
              "      <td>0.950029</td>\n",
              "      <td>0.949679</td>\n",
              "      <td>0.949996</td>\n",
              "      <td>0.000394</td>\n",
              "    </tr>\n",
              "    <tr>\n",
              "      <th>4</th>\n",
              "      <td>0.197279</td>\n",
              "      <td>0.003055</td>\n",
              "      <td>0.017182</td>\n",
              "      <td>0.000410</td>\n",
              "      <td>0.1</td>\n",
              "      <td>{'alpha': 0.1}</td>\n",
              "      <td>0.916494</td>\n",
              "      <td>0.921193</td>\n",
              "      <td>0.916906</td>\n",
              "      <td>0.914911</td>\n",
              "      <td>0.915194</td>\n",
              "      <td>0.911861</td>\n",
              "      <td>0.913360</td>\n",
              "      <td>0.914512</td>\n",
              "      <td>0.917449</td>\n",
              "      <td>0.919126</td>\n",
              "      <td>0.916101</td>\n",
              "      <td>0.002607</td>\n",
              "      <td>1</td>\n",
              "      <td>0.947345</td>\n",
              "      <td>0.946889</td>\n",
              "      <td>0.947037</td>\n",
              "      <td>0.948034</td>\n",
              "      <td>0.946534</td>\n",
              "      <td>0.946854</td>\n",
              "      <td>0.947044</td>\n",
              "      <td>0.947392</td>\n",
              "      <td>0.947162</td>\n",
              "      <td>0.946805</td>\n",
              "      <td>0.947109</td>\n",
              "      <td>0.000392</td>\n",
              "    </tr>\n",
              "  </tbody>\n",
              "</table>\n",
              "</div>"
            ],
            "text/plain": [
              "   mean_fit_time  std_fit_time  ...  mean_train_score  std_train_score\n",
              "0       0.198574      0.001745  ...          0.951647         0.000374\n",
              "1       0.198097      0.001037  ...          0.951401         0.000375\n",
              "2       0.195315      0.003145  ...          0.950949         0.000382\n",
              "3       0.198044      0.002141  ...          0.949996         0.000394\n",
              "4       0.197279      0.003055  ...          0.947109         0.000392\n",
              "\n",
              "[5 rows x 31 columns]"
            ]
          },
          "metadata": {
            "tags": []
          },
          "execution_count": 46
        }
      ]
    },
    {
      "cell_type": "markdown",
      "metadata": {
        "id": "Jyv9lIXdF6TB",
        "colab_type": "text"
      },
      "source": [
        "#### BEST ALPHA = 0.1 FOR TF-ID FEATURIZATION TECHNIQUE & BEST SCORE IS 0.91..."
      ]
    },
    {
      "cell_type": "code",
      "metadata": {
        "id": "LjyGRnonifTr",
        "colab_type": "code",
        "outputId": "826a53b4-2b61-4ca5-8f3a-063ac46559e9",
        "colab": {
          "base_uri": "https://localhost:8080/",
          "height": 35
        }
      },
      "source": [
        "best_alpha = best_Alpha.best_params_\n",
        "best_alpha=best_alpha.get(\"alpha\")\n",
        "print(best_alpha)"
      ],
      "execution_count": 47,
      "outputs": [
        {
          "output_type": "stream",
          "text": [
            "0.1\n"
          ],
          "name": "stdout"
        }
      ]
    },
    {
      "cell_type": "markdown",
      "metadata": {
        "id": "SEQXZ4xPGOxH",
        "colab_type": "text"
      },
      "source": [
        "#### PLOT THE TRAIN AUC AND TEST AUC FOR BEST ALPHA"
      ]
    },
    {
      "cell_type": "code",
      "metadata": {
        "id": "7VWkcsIpIF_j",
        "colab_type": "code",
        "outputId": "5ef0852f-e369-4d16-e4f0-40ad38ca8704",
        "colab": {
          "base_uri": "https://localhost:8080/",
          "height": 295
        }
      },
      "source": [
        "naive_bayes = MultinomialNB(alpha=best_alpha,fit_prior=True,class_prior=[0.5,0.5])\n",
        "naive_bayes.fit(X_Train_data_tfidf,Y_Train)\n",
        "pred_test_data=naive_bayes.predict(X_Test_data_tfidf)\n",
        "y_train_predicted_prob = naive_bayes.predict_proba(X_Train_data_tfidf)[:,1]\n",
        "y_test_predicted_prob=naive_bayes.predict_proba(X_Test_data_tfidf)[:,1]\n",
        "train_fpr, train_tpr, train_thresholds=roc_curve(Y_Train,y_train_predicted_prob,pos_label='positive')\n",
        "test_fpr, test_tpr, test_thresholds = roc_curve(Y_Test, y_test_predicted_prob,pos_label='positive')\n",
        "\n",
        "plt.plot(train_fpr, train_tpr, label=\"train AUC =\"+str(auc(train_fpr, train_tpr)))\n",
        "plt.plot(test_fpr, test_tpr, label=\"test AUC =\"+str(auc(test_fpr, test_tpr)))\n",
        "plt.legend()\n",
        "plt.xlabel(\"Alpha: hyperparameter\")\n",
        "plt.ylabel(\"AUC\")\n",
        "plt.title(\"ERROR PLOTS\")\n",
        "plt.grid()\n",
        "plt.show()"
      ],
      "execution_count": 48,
      "outputs": [
        {
          "output_type": "display_data",
          "data": {
            "image/png": "[encoded data removed]",
            "text/plain": [
              "<Figure size 432x288 with 1 Axes>"
            ]
          },
          "metadata": {
            "tags": []
          }
        }
      ]
    },
    {
      "cell_type": "markdown",
      "metadata": {
        "id": "moCGuHWcGZgB",
        "colab_type": "text"
      },
      "source": [
        "#### Find the Top 20 Posiive and Negative Features for BoW algorithm"
      ]
    },
    {
      "cell_type": "code",
      "metadata": {
        "id": "Iv8Ejfjc9zJC",
        "colab_type": "code",
        "outputId": "a52ccb10-21b3-4ac7-f664-7eab577bd513",
        "colab": {
          "base_uri": "https://localhost:8080/",
          "height": 88
        }
      },
      "source": [
        "imp_neg_features ,imp_pos_features = findMax_features(naive_bayes)\n",
        "print(\"---------------------------------------------------------\")\n",
        "print(imp_pos_features) \n",
        "print(\"---------------------------------------------------------\")\n",
        "print(imp_neg_features)"
      ],
      "execution_count": 49,
      "outputs": [
        {
          "output_type": "stream",
          "text": [
            "---------------------------------------------------------\n",
            "[2637 5946 3512 2578 5931 3433 2277 4628 6367 1178]\n",
            "---------------------------------------------------------\n",
            "[5931 4628 3433 6680 2277 4123 6190  810 4150 1178]\n"
          ],
          "name": "stdout"
        }
      ]
    },
    {
      "cell_type": "code",
      "metadata": {
        "id": "_chLARUZl9Kr",
        "colab_type": "code",
        "outputId": "6ba83f1a-6f11-433c-c884-b2f9016cacaf",
        "colab": {
          "base_uri": "https://localhost:8080/",
          "height": 410
        }
      },
      "source": [
        "feature_names = tfidf_vector.get_feature_names()\n",
        "print(feature_names)\n",
        "coefs_with_fns = sorted(zip(naive_bayes.coef_[0], feature_names))\n",
        "top_features = zip(coefs_with_fns[:20], coefs_with_fns[:-(20 + 1):-1])\n",
        "list(top_features)"
      ],
      "execution_count": 50,
      "outputs": [
        {
          "output_type": "stream",
          "text": [
            "['abandon', 'abc', 'abdomin', 'abil', 'abl', 'abroad', 'absenc', 'absent', 'absolut', 'absorb', 'absorpt', 'absurd', 'abund', 'abus', 'acacia', 'academi', 'acai', 'accent', 'accept', 'access', 'accessori', 'accid', 'accident', 'accommod', 'accompani', 'accomplish', 'accord', 'account', 'accumul', 'accur', 'accus', 'accustom', 'acerola', 'ach', 'achiev', 'acid', 'acknowledg', 'acn', 'acquaint', 'acquir', 'acr', 'acrid', 'across', 'act', 'action', 'activ', 'actor', 'actual', 'ad', 'adagio', 'adam', 'adapt', 'add', 'addict', 'addit', 'address', 'adequ', 'adhd', 'adher', 'adhes', 'adjust', 'administ', 'administr', 'admir', 'admit', 'adobo', 'adopt', 'ador', 'adult', 'adulter', 'advanc', 'advantag', 'adventur', 'advers', 'advert', 'advertis', 'advic', 'advis', 'advoc', 'aerat', 'aero', 'aerogarden', 'aerogrow', 'aesthet', 'affair', 'affect', 'affili', 'afford', 'afghanistan', 'aficionado', 'aforement', 'afraid', 'africa', 'african', 'afteral', 'afterlif', 'afternoon', 'aftertast', 'afterward', 'agav', 'age', 'agenc', 'agent', 'aggrav', 'aggress', 'agil', 'ago', 'agre', 'agreeabl', 'agricultur', 'ahead', 'ahhh', 'ahmad', 'ahoy', 'aid', 'ailment', 'aim', 'air', 'airi', 'airlin', 'airplan', 'airport', 'airtight', 'aisl', 'aka', 'akin', 'akita', 'ala', 'alabama', 'alarm', 'alaska', 'alaskan', 'albacor', 'albeit', 'albertson', 'alcohol', 'ale', 'alec', 'alert', 'alessi', 'alfalfa', 'alfredo', 'alga', 'alien', 'alik', 'alittl', 'aliv', 'alkali', 'alkalin', 'alleg', 'allerg', 'allergen', 'allergi', 'allevi', 'alley', 'allot', 'allow', 'allspic', 'allur', 'almond', 'almost', 'alo', 'aloha', 'alon', 'along', 'alongsid', 'alot', 'alreadi', 'alright', 'also', 'alter', 'altern', 'altho', 'although', 'altitud', 'altogeth', 'altoid', 'alton', 'altura', 'aluminum', 'alway', 'alzheim', 'amaranth', 'amaretto', 'amateur', 'amaz', 'amazon', 'amber', 'ambrosia', 'amd', 'america', 'american', 'americano', 'ami', 'amino', 'amish', 'among', 'amongst', 'amount', 'amp', 'ampl', 'amus', 'analog', 'analysi', 'anchor', 'anchovi', 'ancient', 'andes', 'angel', 'angelina', 'angl', 'angostura', 'angri', 'anim', 'anis', 'ann', 'anna', 'anni', 'anniversari', 'announc', 'annoy', 'annual', 'anoth', 'answer', 'ant', 'antibiot', 'anticip', 'antioxid', 'antonio', 'anxieti', 'anxious', 'anybodi', 'anyhow', 'anymor', 'anyon', 'anyth', 'anytim', 'anyway', 'anywher', 'apart', 'apiec', 'apolog', 'appal', 'appar', 'appeal', 'appear', 'appet', 'appetit', 'appl', 'applaud', 'applesauc', 'appli', 'applianc', 'applic', 'appreci', 'apprehens', 'approach', 'appropri', 'approv', 'approx', 'approxim', 'apricot', 'april', 'apso', 'apt', 'aquir', 'ara', 'arab', 'arabica', 'arctic', 'area', 'arent', 'argentina', 'argu', 'aris', 'arizona', 'arm', 'armi', 'aroma', 'aromat', 'around', 'arrang', 'array', 'arriba', 'arriv', 'arrowhead', 'arrowroot', 'arsenal', 'art', 'arteri', 'arthriti', 'arthur', 'artichok', 'articl', 'artif', 'artifici', 'artisan', 'artist', 'arugula', 'asap', 'ascorb', 'asept', 'ash', 'asham', 'asia', 'asian', 'asid', 'ask', 'asleep', 'asparagus', 'aspartam', 'aspect', 'aspen', 'ass', 'assam', 'assault', 'assembl', 'assert', 'assess', 'assist', 'associ', 'assort', 'assum', 'assumpt', 'assur', 'asthma', 'astonish', 'astound', 'astring', 'ate', 'athlet', 'atkin', 'atlant', 'atlanta', 'atleast', 'atom', 'atop', 'attach', 'attack', 'attempt', 'attend', 'attent', 'attest', 'attitud', 'attract', 'attribut', 'audienc', 'augment', 'august', 'aunt', 'aussi', 'austin', 'australia', 'australian', 'authent', 'author', 'autism', 'autist', 'auto', 'automat', 'autoship', 'autumn', 'avail', 'avenu', 'averag', 'avers', 'avid', 'avocado', 'avoid', 'aw', 'await', 'awak', 'awaken', 'awar', 'award', 'away', 'awe', 'awesom', 'awhil', 'awkward', 'awsom', 'axe', 'babi', 'back', 'background', 'backord', 'backpack', 'backup', 'backyard', 'bacon', 'baconnais', 'bacteria', 'bad', 'bag', 'bagel', 'baggi', 'baguett', 'bahama', 'bahlsen', 'bailey', 'bait', 'baja', 'bake', 'baker', 'bakeri', 'baklava', 'balanc', 'baldwin', 'ball', 'balm', 'balsam', 'bam', 'bamboo', 'ban', 'banana', 'band', 'bang', 'bank', 'bar', 'barbara', 'barbecu', 'barbequ', 'bare', 'barefoot', 'bargain', 'bargin', 'barista', 'bark', 'barley', 'barn', 'barney', 'barrel', 'barri', 'base', 'basebal', 'baselin', 'basement', 'bash', 'basi', 'basic', 'basil', 'basket', 'basmati', 'bast', 'bat', 'batch', 'bath', 'bathroom', 'batman', 'batter', 'batteri', 'battl', 'bay', 'bbq', 'beach', 'bead', 'beagl', 'beam', 'bean', 'beani', 'bear', 'bearabl', 'beast', 'beat', 'beaten', 'beauti', 'beaver', 'becam', 'becasu', 'becom', 'becuas', 'bed', 'bedroom', 'bedtim', 'bee', 'beef', 'beefi', 'beer', 'beet', 'beetlejuic', 'beforehand', 'beg', 'began', 'beggin', 'begin', 'beginn', 'begun', 'behav', 'behavior', 'behind', 'behold', 'beignet', 'beleiv', 'belgian', 'belgium', 'belief', 'believ', 'beliv', 'bell', 'bella', 'belli', 'belong', 'belov', 'belt', 'ben', 'bend', 'bene', 'beneath', 'benecol', 'benefici', 'benefit', 'bengal', 'benifit', 'bent', 'bentley', 'benzoat', 'bergamont', 'bergamot', 'bergin', 'berkeley', 'bernard', 'berri', 'besid', 'best', 'bet', 'better', 'betti', 'beverag', 'bewar', 'beyond', 'bht', 'bialetti', 'bias', 'bichon', 'big', 'bigelow', 'bigger', 'biggest', 'biggi', 'bike', 'bill', 'billion', 'bin', 'bind', 'binder', 'bing', 'bingo', 'biodegrad', 'bionatura', 'biotin', 'birch', 'bird', 'birth', 'birthday', 'biscotti', 'biscuit', 'bisphenol', 'bisqu', 'bisquick', 'bisquit', 'bistro', 'bit', 'bite', 'biter', 'bitter', 'bittersweet', 'bitti', 'bizarr', 'black', 'blackberri', 'blackcurr', 'blacken', 'bladder', 'blade', 'blah', 'blame', 'bland', 'blander', 'blank', 'blanket', 'blast', 'blatant', 'bleach', 'blech', 'bleed', 'blemish', 'blend', 'blender', 'bless', 'bleu', 'blew', 'blind', 'blink', 'bliss', 'blister', 'bloat', 'blob', 'block', 'blockag', 'blog', 'blood', 'bloodi', 'bloom', 'blossom', 'blow', 'blown', 'blt', 'blue', 'blueberri', 'board', 'boast', 'boat', 'bob', 'boba', 'bodi', 'bodum', 'boil', 'bold', 'bolder', 'bolivia', 'bomb', 'bombay', 'bon', 'bond', 'bone', 'boneless', 'bonito', 'bonker', 'bonn', 'bonsai', 'bonus', 'boo', 'book', 'booklet', 'boon', 'boost', 'booster', 'boot', 'booti', 'border', 'borderlin', 'bore', 'born', 'boss', 'boston', 'bother', 'bottl', 'bottom', 'bought', 'bouillon', 'boulder', 'boullion', 'bounc', 'bounci', 'bound', 'bounti', 'bouquet', 'bourbon', 'bout', 'boutiqu', 'bow', 'bowel', 'bowl', 'box', 'boxer', 'boy', 'boyarde', 'boycot', 'boyfriend', 'boylan', 'boysenberri', 'bpa', 'brace', 'brag', 'bragg', 'braid', 'brain', 'brainer', 'bran', 'branch', 'brand', 'brandi', 'brat', 'bratwurst', 'brave', 'bravo', 'brazil', 'brazilian', 'bread', 'breadcrumb', 'breadmak', 'breadstick', 'break', 'breakag', 'breakdown', 'breaker', 'breakfast', 'breast', 'breastf', 'breastfe', 'breastfeed', 'breastmilk', 'breath', 'breed', 'breeder', 'breez', 'brew', 'brewer', 'brian', 'brick', 'bridal', 'bridg', 'brie', 'brief', 'briefcas', 'briefli', 'bright', 'brighten', 'brighter', 'brilliant', 'brim', 'brine', 'bring', 'brisk', 'brisl', 'bristl', 'brit', 'britain', 'british', 'britt', 'brittl', 'broccoli', 'broil', 'broke', 'broken', 'brook', 'brooklyn', 'bros', 'broth', 'brother', 'brought', 'brown', 'browni', 'brownish', 'brows', 'bruce', 'brule', 'brunch', 'bruschetta', 'brush', 'brussel', 'btw', 'bubbl', 'bubblegum', 'buck', 'bucket', 'buckwheat', 'bud', 'buddi', 'budget', 'buffalo', 'buffet', 'bug', 'bugger', 'build', 'buildup', 'built', 'bulb', 'bulk', 'bulki', 'bull', 'bulldog', 'bullet', 'bulli', 'bullion', 'bum', 'bummer', 'bump', 'bun', 'bunch', 'bundl', 'bundt', 'bunn', 'bunni', 'burger', 'buri', 'burn', 'burner', 'burnt', 'burp', 'burr', 'burrito', 'burst', 'burton', 'bus', 'bush', 'busi', 'bust', 'bustelo', 'buster', 'butcher', 'butt', 'butter', 'buttercream', 'butterfing', 'butteri', 'buttermilk', 'butternut', 'butterscotch', 'button', 'buy', 'buyer', 'buzz', 'bye', 'bypass', 'byproduct', 'cabbag', 'cabin', 'cabinet', 'cacao', 'cactus', 'cadburi', 'cadet', 'caesar', 'cafe', 'cafeteria', 'caff', 'caffein', 'caffien', 'caffin', 'cafix', 'cajun', 'cake', 'cal', 'calcium', 'calcul', 'calib', 'california', 'call', 'calm', 'calor', 'calori', 'camano', 'came', 'camel', 'camomil', 'camp', 'campaign', 'campbel', 'camper', 'campfir', 'can', 'canada', 'canadian', 'cancel', 'cancer', 'candi', 'candida', 'candl', 'cane', 'canida', 'canin', 'canist', 'canning', 'cannist', 'cannot', 'canola', 'cant', 'cap', 'capabl', 'capac', 'cape', 'caper', 'capit', 'cappuccino', 'cappucino', 'capresso', 'capsul', 'captain', 'captiv', 'captur', 'capuccino', 'car', 'caraf', 'caramel', 'caraway', 'carb', 'carbohydr', 'carbon', 'carcass', 'carcinogen', 'card', 'cardamom', 'cardamon', 'cardboard', 'cardiovascular', 'care', 'careless', 'caribbean', 'caribou', 'carmel', 'carnat', 'carniv', 'carnivor', 'carob', 'carolina', 'carpet', 'carr', 'carri', 'carrier', 'carrot', 'cart', 'carton', 'cartoon', 'carv', 'cascadian', 'case', 'casein', 'cash', 'cashew', 'casserol', 'cast', 'castor', 'casual', 'cat', 'catalina', 'catalog', 'catch', 'catechin', 'categori', 'cater', 'catfood', 'catherin', 'catnip', 'catsup', 'cattl', 'caught', 'cauliflow', 'caus', 'caution', 'cautious', 'cavali', 'cave', 'caveat', 'cavend', 'caviar', 'caviti', 'cayenn', 'cayman', 'ceas', 'ceil', 'celebr', 'celeri', 'celesti', 'celiac', 'cell', 'cellophan', 'celsius', 'celtic', 'cent', 'center', 'central', 'centuri', 'ceral', 'ceram', 'cereal', 'ceremoni', 'certain', 'certif', 'certifi', 'cesar', 'cet', 'ceylon', 'cha', 'chai', 'chain', 'chair', 'chalk', 'chalki', 'challeng', 'chamber', 'chamomil', 'champagn', 'champion', 'chana', 'chanc', 'chang', 'channel', 'char', 'charact', 'characterist', 'charcoal', 'charg', 'charit', 'chariti', 'charl', 'charm', 'chart', 'chase', 'cheap', 'cheaper', 'cheapest', 'cheapli', 'cheapo', 'cheat', 'chebe', 'check', 'checkout', 'cheddar', 'chedder', 'cheek', 'cheer', 'cheerio', 'chees', 'cheesecak', 'cheesi', 'cheeto', 'cheez', 'chef', 'chemic', 'chemistri', 'chemo', 'cheri', 'cherri', 'cherrybrook', 'chest', 'chestnut', 'chew', 'chewabl', 'chewer', 'chewey', 'chewi', 'chewier', 'chex', 'chi', 'chia', 'chicago', 'chick', 'chicken', 'chickpea', 'chicori', 'chief', 'chihuahua', 'child', 'childhood', 'children', 'chile', 'chili', 'chill', 'chilli', 'china', 'chinatown', 'chines', 'chip', 'chipotl', 'chive', 'chlorid', 'chlorin', 'choc', 'chocal', 'chock', 'choclat', 'choco', 'chocohol', 'chocol', 'chocolatey', 'chocolati', 'choic', 'choke', 'cholesterol', 'cholin', 'chomp', 'chondroitin', 'choos', 'chop', 'chore', 'chorizo', 'chose', 'chosen', 'chow', 'chowder', 'choy', 'christma', 'chronic', 'chuck', 'chug', 'chummi', 'chun', 'chunk', 'chunki', 'church', 'chutney', 'cider', 'cigar', 'cigarett', 'cilantro', 'cincinnati', 'cinnamon', 'cinnamoni', 'circl', 'circul', 'circular', 'cite', 'citi', 'citizen', 'citric', 'citrus', 'citrusi', 'civil', 'claim', 'clam', 'clarifi', 'clariti', 'class', 'classi', 'classic', 'classico', 'classifi', 'classroom', 'claw', 'clay', 'clean', 'cleaner', 'cleans', 'cleanser', 'cleanup', 'clear', 'clearanc', 'clementin', 'clerk', 'clever', 'click', 'client', 'clif', 'cliff', 'climat', 'climb', 'cling', 'clinic', 'clint', 'clip', 'clock', 'clog', 'close', 'closer', 'closest', 'closet', 'closur', 'cloth', 'cloud', 'cloudi', 'clove', 'clover', 'cloy', 'club', 'clue', 'clump', 'clumpi', 'cluster', 'coars', 'coast', 'coat', 'coax', 'cob', 'cobbler', 'coca', 'cocain', 'cocina', 'cocker', 'cocktail', 'coco', 'cocoa', 'coconut', 'coconutti', 'cod', 'code', 'cofe', 'coff', 'coffe', 'coffeehous', 'coffeemak', 'coin', 'coincid', 'coke', 'cola', 'colada', 'coland', 'cold', 'colder', 'colic', 'collaps', 'collard', 'colleagu', 'collect', 'collector', 'colleg', 'colli', 'colombia', 'colombian', 'colon', 'coloni', 'color', 'colorado', 'colour', 'columbia', 'columbian', 'com', 'combat', 'combin', 'combo', 'come', 'comedi', 'comfort', 'command', 'commend', 'comment', 'commentari', 'commer', 'commerci', 'commissari', 'commit', 'common', 'communic', 'communiti', 'commut', 'compact', 'compani', 'companion', 'compar', 'comparison', 'compart', 'compat', 'compel', 'compens', 'compet', 'competit', 'competitor', 'complain', 'complaint', 'complement', 'complementari', 'complet', 'complex', 'complic', 'compliment', 'complimentari', 'compon', 'compos', 'composit', 'compost', 'compound', 'compress', 'compris', 'compromis', 'comput', 'con', 'conagra', 'conceiv', 'concentr', 'concept', 'concern', 'conclud', 'conclus', 'concoct', 'concord', 'concur', 'condens', 'condiment', 'condit', 'condition', 'conduct', 'cone', 'confect', 'confection', 'confess', 'confid', 'confin', 'confirm', 'confus', 'congest', 'congratul', 'conjunct', 'connect', 'connoisseur', 'conscienc', 'conscious', 'consensus', 'consequ', 'conserv', 'consid', 'consider', 'consist', 'constant', 'constip', 'constitut', 'construct', 'consult', 'consum', 'consumpt', 'contact', 'contain', 'contamin', 'contempl', 'contend', 'content', 'contest', 'context', 'contin', 'continent', 'continu', 'contrari', 'contrast', 'contribut', 'control', 'controversi', 'conveni', 'convent', 'convers', 'convert', 'convien', 'convieni', 'convinc', 'cook', 'cookbook', 'cooker', 'cooki', 'cool', 'cooler', 'coolest', 'coomb', 'coon', 'coop', 'cooper', 'copi', 'copious', 'copper', 'cord', 'cordial', 'core', 'corgi', 'coriand', 'cork', 'corn', 'cornbread', 'corner', 'cornflak', 'corni', 'cornmeal', 'cornstarch', 'corpor', 'correct', 'correspond', 'cosmet', 'cost', 'costa', 'costco', 'cottag', 'cotton', 'cottonse', 'couch', 'cough', 'could', 'couldnt', 'count', 'counter', 'counteract', 'counterpart', 'countertop', 'counti', 'countless', 'countri', 'coupl', 'coupon', 'cours', 'court', 'courteous', 'cous', 'couscous', 'cousin', 'cover', 'cow', 'cowboy', 'cowork', 'cozi', 'crab', 'crack', 'cracker', 'crackl', 'craft', 'craisin', 'cram', 'cramp', 'cranberri', 'crank', 'crap', 'crappi', 'crash', 'crate', 'crave', 'crawl', 'craze', 'crazi', 'cream', 'creamer', 'creami', 'creamier', 'creamiest', 'creat', 'creation', 'creativ', 'creatur', 'credit', 'creek', 'creep', 'creepi', 'crema', 'creme', 'creol', 'crepe', 'crew', 'cri', 'crimin', 'cring', 'crinkl', 'crisp', 'crispbread', 'crisper', 'crispi', 'crispier', 'criteria', 'critic', 'critter', 'crock', 'crocker', 'crockpot', 'crohn', 'croissant', 'crop', 'cross', 'crouton', 'crowd', 'crown', 'crucial', 'crude', 'cruis', 'crumb', 'crumbl', 'crumpl', 'crunch', 'crunchi', 'crunchier', 'crush', 'crust', 'crusti', 'crystal', 'cuban', 'cube', 'cucumb', 'cuisin', 'cuisinart', 'culinari', 'culprit', 'cultiv', 'cultur', 'cumbersom', 'cumin', 'cup', 'cupboard', 'cupcak', 'cuppa', 'cur', 'curb', 'curd', 'cure', 'curios', 'curious', 'curl', 'currant', 'current', 'curri', 'cushion', 'custard', 'custom', 'cut', 'cute', 'cutlet', 'cutter', 'cuz', 'cvs', 'cycl', 'cylind', 'cytomax', 'dab', 'dachshund', 'dad', 'daddi', 'dagoba', 'daili', 'dairi', 'daisi', 'dal', 'dalfour', 'dalla', 'damag', 'damn', 'damp', 'dan', 'danc', 'dandelion', 'dandi', 'dandruff', 'dane', 'dang', 'danger', 'daniel', 'danish', 'dare', 'darjeel', 'dark', 'darker', 'darkest', 'darn', 'dash', 'dashi', 'data', 'date', 'daughter', 'daunt', 'dave', 'davi', 'david', 'davidson', 'davinci', 'dawn', 'day', 'daycar', 'dead', 'deal', 'dealer', 'dealt', 'dean', 'dear', 'death', 'debat', 'debbi', 'debri', 'dec', 'decad', 'decaf', 'decaff', 'decaffein', 'decaffin', 'decay', 'deceas', 'deceiv', 'decemb', 'decent', 'decept', 'decid', 'decis', 'deck', 'declar', 'declin', 'decor', 'decreas', 'dedic', 'deduct', 'deem', 'deep', 'deeper', 'deepli', 'deer', 'def', 'default', 'defeat', 'defect', 'defens', 'defici', 'defin', 'definat', 'definet', 'definit', 'definitley', 'defint', 'defrost', 'degrad', 'degre', 'dehydr', 'del', 'delay', 'delect', 'delet', 'deli', 'delic', 'delicaci', 'delici', 'delight', 'delish', 'deliv', 'deliveri', 'delta', 'delux', 'demand', 'demonstr', 'deni', 'dens', 'denser', 'densiti', 'dent', 'dental', 'dentist', 'dentur', 'denver', 'deodor', 'depart', 'depend', 'depict', 'deplet', 'deploy', 'deposit', 'depot', 'depress', 'depriv', 'dept', 'depth', 'deriv', 'descent', 'describ', 'descript', 'desert', 'deserv', 'design', 'desir', 'desk', 'desper', 'despis', 'despit', 'dessert', 'destin', 'destroy', 'destruct', 'detail', 'detect', 'deter', 'deterior', 'determin', 'detox', 'detoxifi', 'detract', 'detriment', 'devast', 'develop', 'devic', 'devil', 'devoid', 'devot', 'devour', 'dew', 'dextros', 'dha', 'diabet', 'diagnos', 'diagnosi', 'diamet', 'diamond', 'diaper', 'diari', 'diarrhea', 'dice', 'dick', 'didnt', 'die', 'diedrich', 'diego', 'diet', 'dietari', 'dieter', 'dietitian', 'differ', 'differenti', 'differnt', 'difficult', 'difficulti', 'dig', 'digest', 'digit', 'digress', 'dijon', 'dilig', 'dill', 'dilmah', 'dilut', 'dim', 'dime', 'dimens', 'diminish', 'dine', 'diner', 'ding', 'dingo', 'dinner', 'dinosaur', 'dioxid', 'dip', 'direct', 'director', 'dirt', 'dirti', 'disabl', 'disadvantag', 'disagre', 'disapoint', 'disappear', 'disappoint', 'disast', 'disc', 'discard', 'discern', 'disciplin', 'disclaim', 'disclos', 'discolor', 'discomfort', 'discontinu', 'discount', 'discourag', 'discov', 'discoveri', 'discrimin', 'discuss', 'diseas', 'disguis', 'disgust', 'dish', 'dishwash', 'dishwat', 'disintegr', 'disk', 'dislik', 'dismay', 'disney', 'disolv', 'disord', 'dispens', 'display', 'dispos', 'disregard', 'disrupt', 'dissapoint', 'dissappoint', 'dissatisfi', 'dissip', 'dissolv', 'distanc', 'distant', 'distast', 'distil', 'distinct', 'distinguish', 'distract', 'distress', 'distribut', 'distributor', 'district', 'disturb', 'ditch', 'diuret', 'dive', 'divers', 'divid', 'divin', 'divis', 'dixi', 'dizzi', 'doc', 'doctor', 'doesnt', 'dog', 'doggi', 'dogswel', 'dolc', 'dole', 'dollar', 'dollop', 'domest', 'domin', 'donat', 'done', 'dont', 'donut', 'doo', 'doodl', 'door', 'doorstep', 'dorito', 'dorm', 'dosag', 'dose', 'dot', 'doubl', 'doubli', 'doubt', 'dough', 'doughi', 'doughnut', 'dous', 'douw', 'dove', 'down', 'downfal', 'downright', 'downsid', 'doxi', 'dozen', 'drag', 'dragon', 'drain', 'drainag', 'dramat', 'drank', 'drastic', 'draw', 'drawback', 'drawer', 'drawn', 'dread', 'dream', 'dreamfield', 'dreami', 'dredg', 'dress', 'drew', 'dri', 'drier', 'drift', 'drink', 'drinkabl', 'drinker', 'drip', 'drive', 'driver', 'drizzl', 'drool', 'drop', 'drost', 'drove', 'drown', 'drowsi', 'drug', 'drugstor', 'drunk', 'dryer', 'dryness', 'dubious', 'duck', 'dud', 'dude', 'due', 'dug', 'duh', 'dulc', 'dull', 'dumb', 'dump', 'dumpl', 'duncan', 'dunk', 'dunkin', 'dunno', 'dupe', 'duplic', 'durabl', 'durum', 'dust', 'dusti', 'dutch', 'duti', 'dvd', 'dwindl', 'dy', 'dye', 'dynam', 'dynasti', 'eager', 'eagl', 'ear', 'earl', 'earli', 'earlier', 'earn', 'earth', 'earthi', 'eas', 'easi', 'easier', 'easiest', 'easili', 'east', 'easter', 'eastern', 'eat', 'eaten', 'eater', 'eateri', 'eatin', 'ebay', 'echinacea', 'echo', 'eclips', 'eco', 'ecolog', 'econom', 'economi', 'ecstat', 'ect', 'eczema', 'edamam', 'eden', 'edg', 'edibl', 'edit', 'educ', 'edward', 'effect', 'effici', 'effort', 'effortless', 'egbert', 'egg', 'eggnog', 'eggplant', 'egyptian', 'eight', 'either', 'elabor', 'elat', 'elbow', 'elder', 'electr', 'electrolyt', 'electron', 'eleg', 'element', 'elementari', 'elev', 'eleven', 'elig', 'elimin', 'elixir', 'els', 'elsewher', 'elus', 'email', 'embarrass', 'embed', 'embodi', 'embrac', 'emerald', 'emerg', 'emeril', 'emot', 'emphas', 'employ', 'employe', 'empti', 'emulsifi', 'enabl', 'encas', 'enchilada', 'enclos', 'encount', 'encourag', 'end', 'endang', 'endeavor', 'endless', 'endocrin', 'endors', 'endur', 'enemi', 'energ', 'energet', 'energi', 'enfamil', 'engag', 'engin', 'england', 'english', 'enhanc', 'enjoy', 'enlighten', 'enorm', 'enough', 'enought', 'enrich', 'ensur', 'enter', 'entertain', 'enthusiasm', 'enthusiast', 'entic', 'entir', 'entre', 'entri', 'envelop', 'envirokidz', 'environ', 'environment', 'enzym', 'episod', 'equal', 'equat', 'equip', 'equival', 'era', 'erewhon', 'erin', 'errand', 'error', 'erythritol', 'escap', 'escargot', 'ese', 'esp', 'especi', 'espression', 'espresso', 'esq', 'essenc', 'essenti', 'est', 'establish', 'estat', 'estim', 'estrogen', 'etc', 'ethic', 'ethiopian', 'ethnic', 'eukanuba', 'eureka', 'euro', 'europ', 'european', 'evalu', 'evapor', 'eve', 'even', 'event', 'eventhough', 'eventu', 'ever', 'everi', 'everlast', 'everybodi', 'everyday', 'everyon', 'everyth', 'everytim', 'everywher', 'evid', 'evidenc', 'evil', 'evo', 'evok', 'evolut', 'evolv', 'evoo', 'exact', 'exagger', 'exam', 'examin', 'exampl', 'exceed', 'excel', 'except', 'excercis', 'excess', 'exchang', 'excit', 'exclus', 'excus', 'execut', 'exercis', 'exfoli', 'exhaust', 'exhibit', 'exist', 'exit', 'exorbit', 'exot', 'expand', 'expect', 'expedit', 'expel', 'expens', 'experi', 'experienc', 'experiment', 'expert', 'expir', 'expiri', 'explain', 'explan', 'explod', 'explor', 'explos', 'export', 'expos', 'exposur', 'express', 'expresso', 'exquisit', 'extend', 'extens', 'extent', 'exterior', 'extern', 'extra', 'extract', 'extraordinari', 'extraordinarili', 'extrem', 'eye', 'ezekiel', 'fab', 'fabric', 'fabul', 'face', 'facebook', 'facial', 'facil', 'fact', 'factor', 'factori', 'fade', 'fail', 'failur', 'faint', 'fair', 'faith', 'fajita', 'fake', 'falafel', 'falcon', 'fall', 'fallen', 'fals', 'fame', 'famili', 'familia', 'familiar', 'famous', 'fan', 'fanat', 'fanci', 'fancier', 'fantast', 'faq', 'far', 'fare', 'farm', 'farmer', 'fart', 'farther', 'fascin', 'fashion', 'fast', 'faster', 'fastest', 'fat', 'fatal', 'father', 'fatigu', 'fatten', 'fatti', 'fault', 'faulti', 'faux', 'fav', 'fava', 'fave', 'favor', 'favorit', 'favourit', 'fda', 'fear', 'feast', 'feat', 'feather', 'featur', 'feb', 'februari', 'fed', 'fedex', 'fee', 'feed', 'feedback', 'feeder', 'feel', 'feet', 'felin', 'fell', 'fellow', 'felt', 'femal', 'fenc', 'fennel', 'fenugreek', 'feral', 'ferment', 'ferrero', 'fertil', 'festiv', 'feta', 'fetch', 'fettuccin', 'fever', 'fewer', 'fianc', 'fiber', 'field', 'fiend', 'fieri', 'fiesta', 'fifteen', 'fifth', 'fifti', 'fig', 'fight', 'figur', 'filbert', 'file', 'filet', 'fill', 'filler', 'fillet', 'film', 'filter', 'final', 'financi', 'find', 'fine', 'finer', 'finest', 'finger', 'fingernail', 'fingertip', 'finicki', 'finish', 'finland', 'fire', 'firm', 'firmer', 'first', 'fish', 'fishi', 'fist', 'fit', 'five', 'fix', 'fixtur', 'fizz', 'fizzi', 'flag', 'flake', 'flakey', 'flaki', 'flame', 'flan', 'flare', 'flash', 'flat', 'flatbread', 'flatten', 'flatul', 'flavonoid', 'flavor', 'flavorful', 'flavorless', 'flavour', 'flaw', 'flawless', 'flax', 'flaxse', 'flea', 'flesh', 'fleur', 'flew', 'flexibl', 'fli', 'flight', 'flimsi', 'flip', 'float', 'flood', 'floor', 'flop', 'floral', 'florida', 'floss', 'flossi', 'flour', 'flow', 'flower', 'floweri', 'flu', 'fluctuat', 'fluff', 'fluffi', 'fluffier', 'fluid', 'fluke', 'fluorid', 'flush', 'foam', 'foami', 'focus', 'fog', 'fogbust', 'foil', 'fold', 'folger', 'folic', 'folk', 'follow', 'fond', 'fondant', 'fondu', 'fong', 'food', 'foodi', 'foodstuff', 'fool', 'foolish', 'foolproof', 'foot', 'footbal', 'footprint', 'forc', 'foreign', 'foremost', 'forest', 'forev', 'forewarn', 'forget', 'forgiv', 'forgot', 'forgotten', 'fork', 'form', 'formal', 'format', 'former', 'formul', 'formula', 'forth', 'forti', 'fortifi', 'fortun', 'forum', 'forward', 'foster', 'fought', 'foul', 'found', 'foundat', 'founder', 'fountain', 'four', 'fourth', 'fowl', 'fox', 'fraction', 'fragil', 'fragment', 'fragranc', 'fragrant', 'frame', 'franc', 'franci', 'francisco', 'frank', 'frapp', 'freak', 'fred', 'free', 'freeli', 'freez', 'freezer', 'freight', 'french', 'frequenc', 'frequent', 'fresca', 'fresh', 'freshen', 'fresher', 'freshest', 'fri', 'friday', 'fridg', 'friend', 'frig', 'frighten', 'friski', 'frito', 'frog', 'front', 'frontier', 'frost', 'froth', 'frother', 'frothi', 'froze', 'frozen', 'fructos', 'frugal', 'fruit', 'fruitcak', 'fruiti', 'fruition', 'frustrat', 'fudg', 'fudgi', 'fuel', 'fuji', 'fulfil', 'full', 'fuller', 'fullest', 'fulli', 'fun', 'function', 'fund', 'fundrais', 'fungus', 'funki', 'funni', 'fur', 'furnitur', 'furri', 'furthermor', 'fusion', 'fuss', 'fussi', 'futur', 'fuzzi', 'fyi', 'gadget', 'gag', 'gaggia', 'gail', 'gain', 'gal', 'gallo', 'gallon', 'gambl', 'game', 'ganach', 'gap', 'garag', 'garbag', 'garbanzo', 'garden', 'gardenia', 'garlic', 'garlicki', 'garnish', 'garvey', 'gas', 'gassi', 'gastric', 'gastrointestin', 'gate', 'gather', 'gatorad', 'gaug', 'gave', 'gear', 'geena', 'gel', 'gelatin', 'gem', 'gene', 'general', 'generat', 'generic', 'generous', 'genet', 'genisoy', 'genius', 'genmai', 'genr', 'gentl', 'gentler', 'genuin', 'georg', 'georgia', 'gerber', 'germ', 'german', 'germani', 'germin', 'gestur', 'get', 'gevalia', 'gfcf', 'ghee', 'ghiradelli', 'ghirardelli', 'ghost', 'giant', 'gift', 'gigant', 'giggl', 'gimmick', 'gin', 'ginger', 'gingerbread', 'gingeri', 'ginseng', 'girl', 'girlfriend', 'give', 'given', 'glace', 'glad', 'glanc', 'glass', 'glaze', 'glen', 'glenni', 'glob', 'global', 'gloppi', 'glori', 'gloria', 'glorifi', 'glorious', 'glossari', 'glossi', 'glove', 'glow', 'glu', 'glucos', 'glucosamin', 'glue', 'gluey', 'glutam', 'gluten', 'glutenfreeda', 'glutino', 'glycem', 'glycerin', 'glycol', 'gmo', 'gnaw', 'gnawhid', 'gnocchi', 'go', 'goal', 'goat', 'gobbl', 'god', 'goddess', 'godiva', 'godsend', 'goe', 'goji', 'gold', 'golden', 'goldfish', 'golean', 'golf', 'gone', 'gonna', 'goo', 'good', 'goodi', 'gooey', 'googl', 'gooseberri', 'gopher', 'gorg', 'gorgeous', 'gorilla', 'gormet', 'gosh', 'got', 'gotta', 'gotten', 'goug', 'gourmand', 'gourmet', 'govern', 'goya', 'grab', 'grace', 'gracious', 'grade', 'gradual', 'graduat', 'graham', 'grain', 'graini', 'gram', 'gran', 'grand', 'grandaught', 'grandchildren', 'granddaught', 'grandfath', 'grandkid', 'grandma', 'grandmoth', 'grandpa', 'grandpar', 'grandson', 'granni', 'granola', 'grant', 'granul', 'granular', 'grape', 'grapefruit', 'grapese', 'graphic', 'grass', 'grassi', 'grate', 'grater', 'gravi', 'gray', 'graze', 'greas', 'greasi', 'great', 'greater', 'greatest', 'greec', 'greedi', 'greek', 'green', 'greener', 'greeni', 'greenish', 'greet', 'grew', 'grey', 'greyhound', 'grill', 'grind', 'grinder', 'grip', 'gripe', 'gristed', 'gristl', 'grit', 'gritti', 'groat', 'grocer', 'groceri', 'groom', 'gross', 'grossli', 'ground', 'group', 'grove', 'grow', 'grower', 'growl', 'grown', 'growth', 'guacamol', 'guar', 'guarana', 'guarante', 'guard', 'guava', 'guess', 'guest', 'guid', 'guidelin', 'guilt', 'guilti', 'guiltless', 'gulp', 'gum', 'gumbal', 'gumbo', 'gummi', 'gun', 'gunk', 'gunpowd', 'gusto', 'gut', 'guy', 'guzzl', 'gym', 'gypsi', 'habanero', 'habit', 'hagen', 'haggi', 'haha', 'hail', 'hain', 'hair', 'hairbal', 'half', 'halfway', 'hall', 'halloween', 'halo', 'halv', 'halvah', 'ham', 'hamburg', 'hammer', 'hand', 'handful', 'handi', 'handl', 'handsom', 'hang', 'hangov', 'hansen', 'happen', 'happi', 'happier', 'happili', 'hara', 'harbor', 'hard', 'harden', 'harder', 'hardest', 'hardi', 'hardwar', 'haribo', 'harm', 'harmless', 'harmoni', 'harney', 'harri', 'harrog', 'harsh', 'hartz', 'harvest', 'hash', 'hassl', 'hat', 'hatch', 'hate', 'haul', 'haunt', 'havent', 'havoc', 'hawaii', 'hawaiian', 'hawthorn', 'hay', 'hazard', 'hazelnut', 'hazlenut', 'hcg', 'hdl', 'head', 'headach', 'headi', 'heal', 'health', 'healthfood', 'healthi', 'healthier', 'healthiest', 'healthili', 'healti', 'heap', 'hear', 'heard', 'heart', 'heartburn', 'hearti', 'heartier', 'heartili', 'heat', 'heaven', 'heavi', 'heavier', 'heavili', 'heb', 'heck', 'hectic', 'heed', 'heel', 'hefti', 'height', 'heinz', 'held', 'hell', 'hello', 'help', 'helper', 'hemp', 'hempse', 'henc', 'henri', 'herb', 'herbal', 'heritag', 'hero', 'herring', 'hershey', 'hesit', 'hextra', 'hey', 'hfcs', 'hibiscus', 'hickori', 'hid', 'hidden', 'hide', 'high', 'higher', 'highest', 'highland', 'highlight', 'highway', 'hike', 'hilari', 'hill', 'himalayan', 'hine', 'hing', 'hint', 'hip', 'hippi', 'hire', 'hispan', 'histor', 'histori', 'hit', 'hive', 'hmm', 'hmmm', 'hoard', 'hockey', 'hodgson', 'hog', 'hold', 'holder', 'hole', 'holi', 'holiday', 'holist', 'holland', 'holli', 'hollow', 'hollywood', 'home', 'homegrown', 'homemad', 'homestyl', 'hometown', 'homework', 'honest', 'honesti', 'honey', 'honeybush', 'honeycomb', 'honeymoon', 'honeyvill', 'honor', 'hook', 'hooray', 'hoov', 'hop', 'hope', 'hopeless', 'hor', 'horizon', 'hormel', 'hormon', 'horrend', 'horribl', 'horrid', 'horrif', 'horrifi', 'horror', 'hors', 'horseradish', 'hospit', 'host', 'hostess', 'hot', 'hotdog', 'hotel', 'hotter', 'hottest', 'hound', 'hour', 'hous', 'household', 'houston', 'houtt', 'howard', 'howev', 'hrs', 'hubbi', 'huckleberri', 'hue', 'hug', 'huge', 'hugger', 'huh', 'hull', 'human', 'humbl', 'humid', 'hummus', 'humor', 'hundr', 'hung', 'hungarian', 'hunger', 'hungri', 'hunk', 'hunt', 'hunter', 'hurray', 'hurri', 'hurrican', 'hurt', 'husband', 'husk', 'huski', 'huy', 'hybrid', 'hydrat', 'hydrochlorid', 'hydrogen', 'hydrolyz', 'hydropon', 'hygien', 'hype', 'hyper', 'hyperact', 'hypertens', 'hypoglycem', 'iam', 'ib', 'ice', 'icecream', 'ici', 'ick', 'icki', 'idaho', 'idea', 'ideal', 'ident', 'identifi', 'idiot', 'ignor', 'igourmet', 'ill', 'illeg', 'illi', 'illinoi', 'illustr', 'imag', 'imagin', 'imbib', 'imho', 'imit', 'immedi', 'immens', 'immers', 'immun', 'imo', 'impact', 'impart', 'impati', 'impli', 'import', 'imposs', 'impress', 'imprint', 'improp', 'improv', 'impuls', 'inadvert', 'inc', 'inca', 'incent', 'inch', 'incid', 'incident', 'inclin', 'includ', 'inclus', 'incom', 'incompar', 'inconsist', 'inconveni', 'incorpor', 'incorrect', 'increas', 'incred', 'inde', 'indefinit', 'indent', 'independ', 'indestruct', 'index', 'india', 'indian', 'indiana', 'indic', 'indiffer', 'indigest', 'indispens', 'indistinguish', 'individu', 'indonesia', 'indoor', 'induc', 'indulg', 'industri', 'ined', 'ineffect', 'inevit', 'inexpens', 'infact', 'infant', 'infect', 'inferior', 'infest', 'infinit', 'inflamm', 'inflat', 'influenc', 'info', 'inform', 'infus', 'ingeni', 'ingest', 'ingredi', 'inhal', 'inher', 'inhibit', 'initi', 'inject', 'injuri', 'ink', 'inn', 'inner', 'innoc', 'innov', 'innova', 'input', 'inquir', 'inquiri', 'insan', 'insect', 'insert', 'insid', 'insight', 'insipid', 'insist', 'insomnia', 'inspect', 'inspir', 'instal', 'instanc', 'instant', 'instead', 'instinct', 'institut', 'instruct', 'insuffici', 'insul', 'insulin', 'insult', 'insur', 'intact', 'intak', 'integr', 'intellig', 'intend', 'intens', 'intensifi', 'intent', 'interact', 'interchang', 'interest', 'interfer', 'interior', 'intern', 'internet', 'interrupt', 'interv', 'intestin', 'intoler', 'intox', 'intrigu', 'introduc', 'introduct', 'inulin', 'invad', 'invari', 'invas', 'invent', 'inventori', 'invert', 'invest', 'investig', 'invigor', 'invis', 'invit', 'involv', 'iodiz', 'iraq', 'ireland', 'irish', 'iron', 'irregular', 'irresist', 'irrit', 'isl', 'island', 'isnt', 'isol', 'isra', 'issu', 'itali', 'italian', 'itch', 'itchi', 'item', 'ito', 'ive', 'izz', 'jack', 'jacket', 'jackson', 'jacob', 'jade', 'jalapeno', 'jalepeno', 'jam', 'jamaica', 'jamaican', 'jambalaya', 'jame', 'jan', 'jane', 'januari', 'japan', 'japanes', 'jar', 'jasmin', 'java', 'jaw', 'jazz', 'jealous', 'jean', 'jeffrey', 'jelli', 'jello', 'jemima', 'jeremiah', 'jerk', 'jerkey', 'jerki', 'jerri', 'jersey', 'jet', 'jewel', 'jewish', 'jif', 'jiffi', 'jim', 'jitter', 'jitteri', 'job', 'joe', 'john', 'johnni', 'johnson', 'join', 'joint', 'joke', 'jolli', 'jolt', 'jone', 'joseph', 'journal', 'journey', 'joy', 'juan', 'judg', 'jug', 'juic', 'juici', 'juli', 'jumbo', 'jump', 'june', 'junip', 'junk', 'junki', 'justic', 'justifi', 'justin', 'jyoti', 'kahlua', 'kalamata', 'kamut', 'kansa', 'kasha', 'kashi', 'kasugai', 'kava', 'kaviar', 'kay', 'kcal', 'kcup', 'keaton', 'keebler', 'keemun', 'keen', 'keep', 'keeper', 'kefir', 'kellog', 'kellogg', 'kelp', 'kennel', 'kenya', 'kenyan', 'kept', 'kernal', 'kernel', 'ketchup', 'kettl', 'keurig', 'key', 'kibbl', 'kick', 'kicker', 'kid', 'kiddi', 'kiddo', 'kidney', 'kikkoman', 'kill', 'killer', 'kilo', 'kimbo', 'kimchi', 'kind', 'kinda', 'kinder', 'kindergarten', 'kindl', 'king', 'kingdom', 'kipper', 'kirkland', 'kiss', 'kit', 'kitchen', 'kitchenaid', 'kitten', 'kitti', 'kiwi', 'knead', 'knee', 'knew', 'knife', 'knock', 'knorr', 'knot', 'know', 'knowledg', 'known', 'koi', 'kombucha', 'kona', 'kong', 'kookaburra', 'kool', 'koolaid', 'korea', 'korean', 'korma', 'kosher', 'kraft', 'krinkl', 'krispi', 'kroger', 'krup', 'krusteaz', 'kudo', 'kuerig', 'lab', 'label', 'labl', 'labor', 'laboratori', 'labrador', 'lace', 'lack', 'lactaid', 'lactos', 'laden', 'ladi', 'laffi', 'laid', 'lake', 'lakewood', 'lamb', 'lame', 'land', 'landfil', 'lane', 'languag', 'lanka', 'lap', 'lapsang', 'lara', 'larabar', 'lard', 'larg', 'larger', 'largest', 'larri', 'las', 'lasagn', 'lasagna', 'last', 'late', 'later', 'latest', 'lather', 'latin', 'latt', 'latter', 'laugh', 'launch', 'laundri', 'lava', 'lavazza', 'lavend', 'law', 'lawn', 'lawri', 'laxat', 'lay', 'layer', 'lazi', 'lbs', 'ldl', 'lea', 'leach', 'lead', 'leader', 'leaf', 'leafi', 'leagu', 'leak', 'leakag', 'lean', 'leap', 'leari', 'learn', 'leash', 'least', 'leather', 'leatheri', 'leav', 'leaven', 'lech', 'lecithin', 'led', 'lee', 'leeper', 'leeri', 'left', 'leftov', 'leg', 'legal', 'legend', 'lemon', 'lemonad', 'lemongrass', 'lemoni', 'lend', 'length', 'lentil', 'leonida', 'less', 'lessen', 'lesser', 'lesson', 'lest', 'let', 'letharg', 'letter', 'lettuc', 'level', 'lhasa', 'libbi', 'liber', 'librari', 'lick', 'licoric', 'lid', 'lie', 'lieu', 'life', 'lifelong', 'lifesav', 'lifestyl', 'lifetim', 'lift', 'light', 'lighten', 'lighter', 'lightn', 'lightweight', 'like', 'liken', 'likewis', 'lil', 'lili', 'lime', 'limit', 'limp', 'linda', 'lindor', 'lindt', 'line', 'liner', 'linger', 'linguin', 'link', 'lion', 'lip', 'lipil', 'lipton', 'liqueur', 'liquid', 'liquidi', 'liquor', 'liquoric', 'list', 'listen', 'listmania', 'lit', 'lite', 'liter', 'literatur', 'litter', 'litterbox', 'littl', 'live', 'liven', 'liver', 'lizano', 'load', 'loaf', 'loav', 'lobster', 'local', 'locat', 'lock', 'lodg', 'log', 'logic', 'logo', 'lol', 'lolli', 'lollipop', 'loma', 'london', 'lone', 'long', 'longer', 'longest', 'longev', 'look', 'lookout', 'loooov', 'loop', 'loos', 'loosen', 'lord', 'los', 'lose', 'loss', 'lost', 'lot', 'lotion', 'lotus', 'lou', 'loud', 'loui', 'louisiana', 'lousi', 'love', 'lover', 'lovin', 'low', 'lower', 'lowest', 'lowfat', 'loyal', 'luci', 'luck', 'lucki', 'luckili', 'lug', 'luggag', 'lump', 'lumpi', 'luna', 'lunch', 'lunchbox', 'lunchtim', 'lundberg', 'lung', 'lure', 'luscious', 'lush', 'luv', 'luxuri', 'luziann', 'lyche', 'lydia', 'mac', 'maca', 'macadamia', 'macaroni', 'macaroon', 'macchiato', 'machin', 'macrobiot', 'mad', 'madagascar', 'made', 'madhava', 'madra', 'mae', 'magazin', 'maggi', 'magic', 'magnesium', 'magnet', 'magnific', 'magnolia', 'mai', 'maid', 'mail', 'mailbox', 'main', 'mainland', 'mainstay', 'mainstream', 'maintain', 'mainten', 'major', 'make', 'maker', 'makeup', 'male', 'malitol', 'mall', 'mallomar', 'malt', 'maltes', 'malti', 'maltitol', 'maltodextrin', 'mama', 'maman', 'man', 'manag', 'mandarin', 'manganes', 'mango', 'manhattan', 'mani', 'manipul', 'manner', 'manual', 'manufactur', 'manuka', 'mapl', 'mar', 'marathon', 'marbl', 'march', 'margarin', 'margarita', 'margin', 'mari', 'marin', 'marinad', 'marinara', 'marjoram', 'mark', 'market', 'marketplac', 'marketspic', 'markup', 'marmalad', 'marmit', 'marri', 'marriag', 'marshal', 'marshmallow', 'marshmellow', 'mart', 'martini', 'maruchan', 'marvel', 'maryland', 'marzano', 'marzipan', 'masa', 'masala', 'masculin', 'mash', 'mask', 'mason', 'mass', 'massag', 'massiv', 'master', 'masterpiec', 'mastic', 'mastiff', 'mat', 'match', 'matcha', 'mate', 'materi', 'math', 'matter', 'matur', 'matzo', 'maui', 'max', 'maxim', 'maximum', 'maxwel', 'may', 'mayb', 'mayo', 'mayonais', 'mayonnais', 'maypo', 'mccann', 'mccormick', 'mcdonald', 'mcdougal', 'meal', 'meali', 'mealtim', 'mean', 'meant', 'meantim', 'meanwhil', 'measur', 'meat', 'meatbal', 'meati', 'meatless', 'meatloaf', 'mechan', 'med', 'media', 'medic', 'medicin', 'mediocr', 'mediterranean', 'medium', 'medjool', 'medley', 'meet', 'mega', 'meh', 'meijer', 'mein', 'melamin', 'melang', 'meld', 'melitta', 'mellow', 'melon', 'melt', 'melti', 'member', 'membership', 'memor', 'memori', 'men', 'menadion', 'menstrual', 'mental', 'menthol', 'mention', 'menu', 'menus', 'meow', 'merchandis', 'merchant', 'merci', 'mercuri', 'mere', 'meringu', 'merit', 'merrick', 'mesa', 'mesh', 'mesquit', 'mess', 'messag', 'messi', 'met', 'metabol', 'metal', 'method', 'meticul', 'metropolitan', 'mexican', 'mexico', 'meyer', 'miami', 'mice', 'michael', 'michigan', 'micro', 'microwav', 'mid', 'middl', 'midnight', 'midwest', 'might', 'mighti', 'mignon', 'migrain', 'mike', 'mikel', 'mild', 'milder', 'mile', 'mileag', 'militari', 'milk', 'milka', 'milki', 'milkshak', 'mill', 'millet', 'million', 'millston', 'milo', 'min', 'minc', 'mind', 'mindless', 'mine', 'miner', 'minestron', 'mingl', 'mini', 'miniatur', 'minim', 'minimum', 'minnesota', 'minor', 'mint', 'minti', 'minus', 'minut', 'miracl', 'miracul', 'miser', 'mislead', 'misnom', 'miso', 'miss', 'mission', 'mississippi', 'missouri', 'mist', 'mistak', 'mistaken', 'mite', 'mitig', 'mix', 'mixer', 'mixtur', 'mmm', 'mmmm', 'mmmmm', 'mmmmmm', 'mmmmmmm', 'mobil', 'mocha', 'mock', 'mode', 'model', 'moder', 'modern', 'modest', 'modif', 'modifi', 'moist', 'moisten', 'moister', 'moistur', 'moka', 'molar', 'molass', 'mold', 'moldi', 'mole', 'molecul', 'molli', 'mom', 'moment', 'mommi', 'mon', 'mond', 'monday', 'money', 'monin', 'monitor', 'monkey', 'mononitr', 'monosodium', 'monounsatur', 'monster', 'montana', 'month', 'mood', 'moon', 'moreov', 'morn', 'moroccan', 'morsel', 'mortar', 'morton', 'mos', 'most', 'moth', 'mother', 'motion', 'motiv', 'motor', 'motto', 'mound', 'mount', 'mountain', 'mous', 'mouss', 'mouth', 'mouthfeel', 'move', 'movement', 'movi', 'mozzarella', 'mrs', 'msg', 'much', 'mud', 'muddi', 'muddl', 'mudslid', 'muesli', 'muffin', 'mug', 'muir', 'mull', 'multi', 'multigrain', 'multipl', 'multitud', 'multivitamin', 'mum', 'munch', 'munchi', 'murray', 'muscl', 'muscovado', 'mush', 'mushi', 'mushroom', 'music', 'muss', 'must', 'mustard', 'musti', 'mutt', 'myriad', 'myrtl', 'mysteri', 'naan', 'nabisco', 'nacho', 'nail', 'nake', 'namast', 'name', 'nana', 'nantucket', 'nap', 'napa', 'napkin', 'napl', 'narrow', 'nasal', 'nashvill', 'nasti', 'nation', 'nativ', 'natur', 'nausea', 'nauseat', 'nauseous', 'navi', 'navig', 'navita', 'near', 'nearbi', 'nearest', 'neat', 'necco', 'necess', 'necessari', 'necessarili', 'neck', 'nectar', 'need', 'needl', 'needless', 'negat', 'neglect', 'neglig', 'neighbor', 'neighborhood', 'neither', 'neon', 'nephew', 'nerd', 'nerv', 'nervous', 'nescaf', 'nest', 'nestl', 'net', 'netherland', 'network', 'neutral', 'never', 'nevertheless', 'new', 'newborn', 'newer', 'newest', 'newli', 'newman', 'news', 'newspap', 'newton', 'next', 'niacin', 'nib', 'nibbl', 'nice', 'nicer', 'nicest', 'nich', 'nicknam', 'nido', 'niec', 'night', 'nightmar', 'nighttim', 'nine', 'nip', 'nippl', 'nirvana', 'nitrit', 'nobodi', 'nod', 'nois', 'noisi', 'non', 'none', 'nonetheless', 'nonfat', 'nong', 'nonni', 'nonsens', 'noodl', 'noon', 'nope', 'nori', 'norm', 'normal', 'north', 'northeast', 'northern', 'northwest', 'norway', 'nose', 'nostalg', 'nostalgia', 'notabl', 'notch', 'note', 'noth', 'notic', 'notif', 'notifi', 'notion', 'notori', 'nougat', 'nourish', 'nov', 'novel', 'novelti', 'novemb', 'novic', 'nowaday', 'nowher', 'nuanc', 'nuclear', 'nueva', 'nugget', 'nugo', 'nuke', 'numb', 'number', 'numer', 'numi', 'nurs', 'nurseri', 'nut', 'nutella', 'nutiva', 'nutmeg', 'nutramigen', 'nutrasweet', 'nutric', 'nutrici', 'nutrient', 'nutrit', 'nutriti', 'nutritionist', 'nutro', 'nutti', 'nuttier', 'nyc', 'nylabon', 'nylon', 'oak', 'oat', 'oatmeal', 'obedi', 'oberto', 'obes', 'object', 'objection', 'oblig', 'obscur', 'observ', 'obsess', 'obtain', 'obvious', 'occas', 'occasion', 'occass', 'occassion', 'occupi', 'occur', 'occurr', 'ocean', 'octob', 'octopus', 'odd', 'odor', 'offend', 'offens', 'offer', 'offic', 'offici', 'offset', 'often', 'ohio', 'oil', 'oili', 'okay', 'okra', 'old', 'older', 'oldest', 'ole', 'olio', 'oliv', 'omaha', 'omega', 'omelet', 'omelett', 'omg', 'omit', 'omnivor', 'one', 'ongo', 'onion', 'onlin', 'onto', 'ooh', 'oolong', 'oomph', 'ooz', 'opaqu', 'open', 'oper', 'opinion', 'opportun', 'oppos', 'opposit', 'oprah', 'opt', 'optim', 'optimum', 'option', 'oral', 'orang', 'orangey', 'orangina', 'orbit', 'orchard', 'order', 'orderd', 'ordinari', 'oregano', 'oregon', 'oreo', 'organ', 'organix', 'orgin', 'orgran', 'orient', 'origin', 'orijen', 'orlean', 'oro', 'orvill', 'orzo', 'oscar', 'other', 'otherwis', 'ouch', 'ought', 'ounc', 'out', 'outcom', 'outdat', 'outdoor', 'outer', 'outing', 'outlet', 'output', 'outrag', 'outsid', 'outstand', 'outweigh', 'oval', 'ovaltin', 'oven', 'over', 'overal', 'overbear', 'overboard', 'overcom', 'overcook', 'overdo', 'overdon', 'overdos', 'overeat', 'overfe', 'overflow', 'overindulg', 'overjoy', 'overkil', 'overload', 'overlook', 'overnight', 'overpow', 'overpr', 'oversea', 'overshadow', 'oversteep', 'overton', 'overus', 'overweight', 'overwhelm', 'owe', 'own', 'owner', 'oxid', 'oxygen', 'oyster', 'oz', 'pace', 'pacif', 'pack', 'packag', 'packer', 'packet', 'pad', 'paella', 'page', 'paid', 'pail', 'pain', 'painless', 'paint', 'pair', 'pak', 'pal', 'palat', 'pale', 'palett', 'pallet', 'palm', 'pam', 'pamela', 'pamper', 'pamphlet', 'pan', 'pancak', 'panda', 'paneer', 'panel', 'pang', 'panic', 'panick', 'panko', 'pant', 'pantothen', 'pantri', 'pao', 'papaya', 'paper', 'paperboard', 'papillon', 'paprika', 'par', 'paradis', 'parchment', 'parent', 'parev', 'pari', 'parisian', 'park', 'parmesan', 'parsley', 'part', 'partak', 'parti', 'partial', 'particip', 'particl', 'particular', 'partner', 'pass', 'passabl', 'passion', 'past', 'pasta', 'pasteur', 'pasti', 'pastri', 'pat', 'patak', 'patch', 'pate', 'patent', 'path', 'pathet', 'patienc', 'patient', 'patio', 'patron', 'pattern', 'patti', 'paul', 'paw', 'pawn', 'pay', 'payday', 'pea', 'peac', 'peach', 'peachi', 'peak', 'peanut', 'peanutbutt', 'pear', 'pearl', 'pebbl', 'pecan', 'pectin', 'peculiar', 'pediatr', 'pediatrician', 'pedigre', 'pee', 'peel', 'peet', 'peic', 'peko', 'pellegrino', 'pellet', 'pen', 'pencil', 'penetr', 'penn', 'penni', 'pennsylvania', 'peopl', 'pepper', 'peppercorn', 'pepperi', 'peppermint', 'pepperoni', 'pepsi', 'per', 'perceiv', 'percent', 'percentag', 'percept', 'percol', 'perenni', 'perfect', 'perfer', 'perform', 'perfum', 'perhap', 'period', 'perish', 'perk', 'perman', 'permeat', 'permiss', 'permit', 'pero', 'perpetu', 'perrier', 'perrin', 'persian', 'persist', 'person', 'perspect', 'peru', 'peruvian', 'peski', 'pest', 'pesticid', 'pesto', 'pet', 'petal', 'petco', 'pete', 'peter', 'peterson', 'petit', 'petroleum', 'petsmart', 'pez', 'pharmaci', 'phase', 'phenomen', 'pheromon', 'philadelphia', 'philip', 'philippin', 'philli', 'philosophi', 'pho', 'phoenix', 'phone', 'phosphat', 'phosphor', 'phosphorus', 'photo', 'phrase', 'physic', 'physician', 'pic', 'picant', 'pick', 'picki', 'pickiest', 'pickl', 'pickup', 'picnic', 'pico', 'pictur', 'pie', 'piec', 'pig', 'pike', 'pilaf', 'pile', 'pill', 'pillow', 'pillsburi', 'pilon', 'pin', 'pina', 'pinch', 'pine', 'pineappl', 'pink', 'pint', 'pinto', 'pipe', 'piquant', 'pirat', 'pistachio', 'pit', 'pita', 'pitch', 'pitcher', 'piti', 'pittsburgh', 'pizazz', 'pizza', 'pkg', 'place', 'placebo', 'plagu', 'plain', 'plan', 'plane', 'planet', 'plant', 'plantat', 'planter', 'plaqu', 'plastic', 'plate', 'platinum', 'plato', 'platter', 'play', 'pleas', 'pleasant', 'pleasent', 'pleaser', 'pleasur', 'plenti', 'plethora', 'pliabl', 'ploy', 'pluck', 'plug', 'plum', 'plump', 'plung', 'plunger', 'plus', 'pms', 'poach', 'pocket', 'pocketbook', 'pocki', 'pod', 'point', 'poison', 'poke', 'polar', 'polenta', 'polic', 'polici', 'polish', 'polit', 'pollen', 'pollut', 'pollux', 'polyphenol', 'pom', 'pomegran', 'pomegranit', 'pomeranian', 'pond', 'poo', 'pooch', 'poodl', 'poof', 'pool', 'poop', 'poor', 'pop', 'popchip', 'popcorn', 'popper', 'poppi', 'popul', 'popular', 'porch', 'porcini', 'pore', 'pork', 'porridg', 'port', 'portabl', 'portion', 'portland', 'portug', 'portugues', 'pose', 'posit', 'possess', 'possibl', 'post', 'postag', 'postal', 'poster', 'postum', 'pot', 'potassium', 'potato', 'potenc', 'potent', 'potenti', 'potion', 'potluck', 'potti', 'pouch', 'poultri', 'pounc', 'pound', 'pour', 'powder', 'powderi', 'power', 'powerbar', 'practic', 'prais', 'pralin', 'pray', 'pre', 'precious', 'precis', 'precook', 'predict', 'predomin', 'prefer', 'pregnanc', 'pregnant', 'preheat', 'premad', 'premier', 'premium', 'prep', 'prepackag', 'prepar', 'preschool', 'prescrib', 'prescript', 'presenc', 'present', 'preserv', 'presid', 'press', 'pressur', 'presto', 'presum', 'pretend', 'pretti', 'pretzel', 'preval', 'prevent', 'previous', 'prey', 'pri', 'price', 'pricey', 'prici', 'pricier', 'prick', 'pride', 'primal', 'primari', 'primarili', 'prime', 'princ', 'princess', 'pringl', 'print', 'prior', 'prioriti', 'pristin', 'privat', 'prize', 'pro', 'probabl', 'probar', 'probiot', 'problem', 'problemat', 'procedur', 'proceed', 'process', 'processor', 'proclaim', 'produc', 'product', 'profession', 'profil', 'profit', 'program', 'progress', 'progresso', 'prohibit', 'project', 'prolong', 'promin', 'promis', 'promo', 'promot', 'prompt', 'prone', 'pronounc', 'proof', 'prop', 'proper', 'properti', 'proport', 'proprietari', 'propylen', 'pros', 'protect', 'protein', 'protien', 'proud', 'prove', 'proven', 'provenc', 'provid', 'provinc', 'prune', 'psycholog', 'pub', 'public', 'publish', 'publix', 'puchas', 'puck', 'pucker', 'pud', 'puerh', 'puf', 'puff', 'puffi', 'pug', 'puke', 'pull', 'pulp', 'puls', 'pulver', 'pump', 'pumpernickel', 'pumpkin', 'pun', 'punch', 'punctur', 'pungent', 'punish', 'pup', 'puppi', 'purchas', 'pure', 'purest', 'purifi', 'purina', 'purist', 'puriti', 'purpl', 'purport', 'purpos', 'purr', 'purs', 'purveyor', 'push', 'put', 'puzzl', 'pyramid', 'pyrex', 'pyridoxin', 'quaker', 'qualifi', 'qualiti', 'quaniti', 'quantiti', 'quart', 'quarter', 'queasi', 'queen', 'quench', 'quencher', 'quest', 'question', 'quick', 'quicker', 'quicki', 'quiet', 'quik', 'quinoa', 'quirki', 'quit', 'quot', 'rabbit', 'raccoon', 'race', 'rack', 'radiat', 'radic', 'radish', 'rage', 'raid', 'rain', 'rainbow', 'rainforest', 'raini', 'rais', 'raisen', 'raisin', 'raison', 'ralph', 'ramen', 'ramun', 'ramyun', 'ran', 'ranch', 'rancher', 'rancid', 'random', 'rang', 'rank', 'rant', 'rapid', 'rare', 'rasberri', 'rash', 'raspberri', 'rat', 'rate', 'rather', 'ratio', 'ration', 'rattl', 'rave', 'raven', 'ravioli', 'raw', 'rawhid', 'ray', 'rda', 'reach', 'react', 'reaction', 'read', 'reader', 'readi', 'readili', 'real', 'reali', 'realist', 'realiti', 'realiz', 'realli', 'rear', 'reason', 'reassur', 'rebecca', 'recal', 'reccomend', 'reccommend', 'receip', 'receipt', 'receiv', 'recent', 'recept', 'reciev', 'recip', 'recipi', 'reclos', 'recogn', 'recogniz', 'recom', 'recomend', 'recommend', 'reconsid', 'reconstitut', 'record', 'recov', 'recoveri', 'recreat', 'rectangular', 'rectifi', 'recur', 'recycl', 'red', 'redbul', 'reddish', 'redeem', 'redenbach', 'reduc', 'reduct', 'rees', 'refer', 'refil', 'refin', 'reflect', 'reflux', 'reformul', 'refresh', 'refri', 'refridger', 'refriger', 'refund', 'refus', 'reg', 'regard', 'regardless', 'reggi', 'regimen', 'region', 'regist', 'regret', 'regul', 'regular', 'reheat', 'rehydr', 'reign', 'reimburs', 'reincarn', 'reinforc', 'reject', 'rejoic', 'relat', 'relationship', 'relax', 'releas', 'reli', 'reliabl', 'relief', 'reliev', 'religi', 'relish', 'reloc', 'reluct', 'remain', 'remaind', 'remark', 'remedi', 'rememb', 'remind', 'reminisc', 'remot', 'remov', 'renal', 'renam', 'render', 'renew', 'renown', 'rent', 'reorder', 'rep', 'repackag', 'repair', 'repeat', 'repel', 'replac', 'replenish', 'repli', 'replic', 'report', 'repres', 'reproduc', 'republ', 'repuls', 'repurchas', 'reput', 'request', 'requir', 'rescu', 'reseal', 'research', 'resel', 'resembl', 'reserv', 'reservoir', 'reset', 'resid', 'residu', 'resign', 'resist', 'resolut', 'resolv', 'reson', 'resort', 'resourc', 'respect', 'respiratori', 'respond', 'respons', 'rest', 'restaur', 'restless', 'restock', 'restor', 'restrict', 'restur', 'result', 'retail', 'retain', 'rethink', 'retir', 'retriev', 'retro', 'return', 'reus', 'reusabl', 'reveal', 'revel', 'reveng', 'revers', 'review', 'reviv', 'revolt', 'revolut', 'reward', 'rhubarb', 'rib', 'ribbon', 'riboflavin', 'rica', 'rican', 'rice', 'riceselect', 'rich', 'richard', 'richer', 'richest', 'ricotta', 'rid', 'ride', 'ridg', 'ridicul', 'right', 'rigid', 'rim', 'rind', 'ring', 'rins', 'rio', 'rip', 'ripe', 'ripen', 'ripoff', 'rise', 'risen', 'rishi', 'risk', 'risotto', 'rite', 'ritter', 'ritual', 'ritz', 'rival', 'river', 'road', 'roast', 'roaster', 'rob', 'robert', 'robust', 'robusta', 'roca', 'rock', 'rocket', 'rocki', 'rockstar', 'rod', 'rodent', 'roland', 'role', 'roll', 'romain', 'roman', 'romano', 'romant', 'rome', 'roni', 'roof', 'rooibo', 'room', 'roommat', 'rooster', 'root', 'rope', 'rosa', 'rose', 'rosehip', 'rosemari', 'ross', 'rossa', 'rot', 'rotat', 'rotini', 'rotten', 'rotti', 'rough', 'round', 'rout', 'routin', 'row', 'royal', 'rub', 'rubber', 'rubberi', 'rubi', 'rude', 'rug', 'ruin', 'rule', 'rum', 'run', 'runner', 'runni', 'runnier', 'rural', 'rush', 'rusk', 'russel', 'russian', 'rust', 'ruth', 'ryder', 'rye', 'ryvita', 'saccharin', 'sachet', 'sack', 'saco', 'sacrif', 'sacrific', 'sad', 'sadden', 'saeco', 'safe', 'safer', 'safeti', 'safeway', 'safflow', 'saffron', 'sage', 'sahal', 'said', 'saint', 'sake', 'salad', 'salami', 'sale', 'saliv', 'salmon', 'salsa', 'salt', 'salti', 'saltier', 'saltin', 'salvag', 'sam', 'sambazon', 'sampl', 'sampler', 'san', 'sand', 'sandi', 'sandwich', 'santa', 'sardin', 'sarsaparilla', 'sat', 'satay', 'satiat', 'satifi', 'satisfact', 'satisfactori', 'satisfi', 'satur', 'saturday', 'sauc', 'saucepan', 'sauci', 'saus', 'sausag', 'saut', 'saute', 'save', 'saver', 'savior', 'savor', 'savori', 'saw', 'sawdust', 'say', 'scale', 'scallion', 'scallop', 'scam', 'scandinavian', 'scant', 'scarc', 'scare', 'scarf', 'scari', 'scatter', 'scene', 'scent', 'sceptic', 'schedul', 'schnauzer', 'school', 'scienc', 'scientif', 'scientist', 'scissor', 'scone', 'scoop', 'scooper', 'scorch', 'score', 'scotch', 'scotland', 'scotti', 'scottish', 'scour', 'scout', 'scovill', 'scrambl', 'scrap', 'scrape', 'scratch', 'scream', 'screen', 'screw', 'scrub', 'scrumptious', 'sea', 'seafood', 'seal', 'seam', 'sear', 'search', 'season', 'seat', 'seattl', 'seawe', 'sec', 'second', 'secondari', 'secret', 'section', 'secur', 'sediment', 'seduct', 'see', 'seed', 'seek', 'seem', 'seen', 'seep', 'segment', 'seitan', 'seizur', 'sel', 'seldom', 'select', 'selenit', 'self', 'sell', 'seller', 'seltzer', 'semi', 'semolina', 'sencha', 'send', 'senior', 'sens', 'sensat', 'senseo', 'sensibl', 'sensit', 'sensual', 'sent', 'sentenc', 'sentiment', 'separ', 'seper', 'septemb', 'serendip', 'seri', 'serious', 'serv', 'server', 'servic', 'sesam', 'sesmark', 'session', 'set', 'settl', 'setup', 'seven', 'sever', 'shade', 'shadi', 'shake', 'shaken', 'shaker', 'shall', 'shallot', 'shallow', 'shame', 'shampoo', 'shape', 'shard', 'share', 'sharp', 'shatter', 'shave', 'shed', 'sheen', 'sheep', 'sheer', 'sheet', 'shelf', 'shell', 'shellfish', 'shelter', 'shelti', 'shelv', 'shepard', 'shepherd', 'sherri', 'shi', 'shift', 'shih', 'shim', 'shin', 'shine', 'shini', 'shinier', 'ship', 'shipment', 'shipper', 'shirataki', 'shirt', 'shock', 'shoe', 'shook', 'shoot', 'shop', 'shopp', 'shopper', 'shore', 'short', 'shortag', 'shortbread', 'shorten', 'shorter', 'shot', 'shoulder', 'shove', 'shovel', 'show', 'showcas', 'shower', 'shown', 'shred', 'shrimp', 'shrink', 'shudder', 'shut', 'siames', 'siberian', 'sibl', 'sicili', 'sicilian', 'sick', 'sicken', 'side', 'sift', 'sigh', 'sight', 'sign', 'signal', 'signatur', 'signific', 'silent', 'silicon', 'silk', 'silken', 'silki', 'silli', 'silver', 'similac', 'similar', 'similiar', 'simmer', 'simpl', 'simpler', 'simplest', 'simpli', 'simplic', 'simplifi', 'simul', 'simultan', 'sin', 'sinc', 'sincer', 'sing', 'singer', 'singl', 'sink', 'sinus', 'sip', 'sirloin', 'sister', 'sit', 'site', 'situat', 'six', 'sixth', 'sixti', 'size', 'skeptic', 'skewer', 'ski', 'skill', 'skillet', 'skim', 'skimp', 'skimpi', 'skin', 'skinless', 'skinner', 'skinni', 'skip', 'skippi', 'skittl', 'sky', 'slab', 'slam', 'slap', 'slather', 'slave', 'sleek', 'sleep', 'sleepi', 'sleepytim', 'slept', 'slice', 'slick', 'slide', 'sligh', 'slight', 'slightest', 'slim', 'slimi', 'slip', 'slipperi', 'slit', 'sliver', 'slogan', 'sloppi', 'slot', 'slow', 'slower', 'slowli', 'sludg', 'slurp', 'slushi', 'smack', 'small', 'smaller', 'smallest', 'smallish', 'smart', 'smarter', 'smash', 'smear', 'smell', 'smelli', 'smelt', 'smile', 'smith', 'smoke', 'smokehous', 'smoker', 'smokey', 'smoki', 'smoosh', 'smooth', 'smoother', 'smoothest', 'smoothi', 'smother', 'smucker', 'snack', 'snacker', 'snail', 'snake', 'snap', 'snapea', 'snapper', 'snappi', 'snappl', 'snatch', 'sneak', 'sneaki', 'sneez', 'snicker', 'snickerdoodl', 'snif', 'sniff', 'snob', 'snow', 'snub', 'snyder', 'soak', 'soap', 'soapi', 'soba', 'soccer', 'social', 'societi', 'sock', 'soda', 'sodium', 'soft', 'soften', 'softer', 'softest', 'soggi', 'soil', 'sold', 'soldier', 'sole', 'solid', 'solidifi', 'solo', 'solubl', 'solut', 'solv', 'solvent', 'somebodi', 'someday', 'somehow', 'someon', 'someplac', 'someth', 'sometim', 'somewhat', 'somewher', 'somth', 'son', 'song', 'sonoma', 'soo', 'soon', 'sooner', 'sooo', 'soooo', 'sooooo', 'soooooo', 'sooooooo', 'soooooooo', 'sooth', 'sophist', 'sorbat', 'sorbet', 'sorbitol', 'sore', 'sorghum', 'sorri', 'sort', 'sorta', 'souchong', 'sought', 'soul', 'sound', 'soup', 'soupi', 'sour', 'sourc', 'sourdough', 'south', 'southeast', 'southern', 'southwest', 'southwestern', 'soy', 'soybean', 'soymilk', 'soynut', 'spa', 'space', 'spagetti', 'spaghetti', 'spain', 'spam', 'span', 'spaniel', 'spanish', 'spare', 'spark', 'sparkl', 'spatula', 'speak', 'spearmint', 'spec', 'speci', 'special', 'specialist', 'specialti', 'specif', 'specifi', 'speck', 'spectacular', 'spectrum', 'speed', 'speedi', 'spell', 'spelt', 'spend', 'spendi', 'spent', 'spice', 'spicey', 'spici', 'spicier', 'spicy', 'spike', 'spill', 'spin', 'spinach', 'spiral', 'spirit', 'spirulina', 'spit', 'spite', 'splash', 'splatter', 'splenda', 'splendid', 'splinter', 'split', 'splurg', 'spoil', 'spoilag', 'spoke', 'spong', 'spongi', 'spontan', 'spoon', 'sporad', 'sport', 'spot', 'spous', 'spout', 'spray', 'sprayer', 'spread', 'spreadabl', 'spri', 'spring', 'sprinkl', 'sprite', 'spritz', 'spritzer', 'sprout', 'sprouter', 'sprue', 'squar', 'squash', 'squeak', 'squeez', 'squid', 'squirrel', 'squirt', 'squish', 'squishi', 'sri', 'sriracha', 'stabil', 'stabl', 'staci', 'stack', 'staff', 'stage', 'stain', 'stainless', 'stair', 'stake', 'stale', 'stalk', 'stamina', 'stamp', 'stand', 'standard', 'standbi', 'standpoint', 'stapl', 'star', 'starbuck', 'starburst', 'starch', 'starchi', 'stare', 'start', 'starter', 'startl', 'starv', 'stash', 'stat', 'state', 'statement', 'station', 'status', 'stave', 'stay', 'steadi', 'steak', 'steal', 'steam', 'steamer', 'steami', 'steel', 'steep', 'steer', 'stellar', 'stem', 'step', 'stephen', 'steril', 'steroid', 'stevia', 'stevita', 'stew', 'stewart', 'stick', 'sticker', 'sticki', 'stiff', 'still', 'stimul', 'sting', 'stinger', 'stink', 'stinki', 'stir', 'stix', 'stock', 'stockpil', 'stole', 'stomach', 'stone', 'stonewal', 'stong', 'stood', 'stool', 'stop', 'stopper', 'storag', 'store', 'stori', 'storm', 'stout', 'stove', 'stovetop', 'straight', 'straightforward', 'strain', 'strainer', 'strand', 'strang', 'stranger', 'strategi', 'straw', 'strawberri', 'stray', 'stream', 'street', 'strength', 'strengthen', 'stress', 'stretch', 'strict', 'stride', 'strike', 'string', 'stringi', 'strip', 'stripe', 'stroganoff', 'stroke', 'stroll', 'strong', 'stronger', 'strongest', 'struck', 'structur', 'struggl', 'stubborn', 'stuck', 'student', 'studi', 'studio', 'stuf', 'stuff', 'stuffer', 'stumbl', 'stun', 'stupid', 'sturdi', 'sturdier', 'style', 'stylish', 'styrofoam', 'sub', 'subdu', 'subject', 'sublim', 'submit', 'subscrib', 'subscript', 'subsequ', 'subsid', 'subsitut', 'substanc', 'substanti', 'substitu', 'substitut', 'subt', 'subtl', 'subtleti', 'subtract', 'succeed', 'success', 'succul', 'sucess', 'suck', 'sucker', 'sucralos', 'sucros', 'sudden', 'sue', 'suffer', 'suffic', 'suffici', 'sugar', 'sugarfre', 'sugari', 'sugarless', 'sugarwork', 'suger', 'suggest', 'suit', 'suitabl', 'suitcas', 'sulfat', 'sulfit', 'sulfur', 'sum', 'sumatra', 'sumatran', 'summari', 'summer', 'summertim', 'sun', 'sunbutt', 'sunda', 'sunday', 'sundri', 'sunflow', 'sunkist', 'sunlight', 'sunni', 'sunris', 'sunset', 'sunshin', 'super', 'superb', 'supercent', 'superfood', 'superior', 'supermarket', 'supersav', 'supervis', 'supper', 'suppl', 'supplement', 'suppli', 'supplier', 'suppliment', 'support', 'suppos', 'suppress', 'suprem', 'supris', 'sure', 'surf', 'surfac', 'surgeri', 'surpass', 'surpris', 'surpriz', 'surround', 'surviv', 'sushi', 'suspect', 'suspici', 'suspicion', 'sustain', 'swallow', 'swanson', 'swap', 'swear', 'sweat', 'swedish', 'sweep', 'sweet', 'sweeten', 'sweeter', 'sweetest', 'sweetleaf', 'sweetner', 'swell', 'swheat', 'swift', 'swig', 'swill', 'swim', 'swing', 'swirl', 'swiss', 'switch', 'switzerland', 'swore', 'sylvia', 'symbol', 'symptom', 'syndrom', 'synthet', 'syrup', 'syrupi', 'system', 'tab', 'tabasco', 'tabbi', 'tabl', 'tablespoon', 'tablet', 'taco', 'tact', 'tad', 'taffi', 'tag', 'tahini', 'tai', 'taibi', 'tail', 'taint', 'taiwan', 'take', 'taken', 'tale', 'talent', 'talk', 'tall', 'taller', 'tamal', 'tamari', 'tamarind', 'tame', 'tamp', 'tamper', 'tan', 'tandoori', 'tang', 'tangerin', 'tangi', 'tango', 'tank', 'tannic', 'tannin', 'tantal', 'tap', 'tape', 'tapioca', 'target', 'tart', 'tartar', 'tarter', 'tase', 'task', 'tassimo', 'tast', 'tastebud', 'tasteless', 'taster', 'tastey', 'tasti', 'tastier', 'tastiest', 'taught', 'taurin', 'tax', 'taylor', 'tazo', 'tbs', 'tbsp', 'tea', 'teabag', 'teach', 'teacher', 'teacup', 'team', 'teapot', 'tear', 'teas', 'teasan', 'teaspoon', 'teavana', 'tech', 'technic', 'techniqu', 'technolog', 'teddi', 'tedious', 'teeccino', 'teen', 'teenag', 'teeni', 'teeth', 'teff', 'televis', 'tell', 'temp', 'temper', 'temperatur', 'templ', 'temporari', 'tempt', 'temptat', 'ten', 'tend', 'tendenc', 'tender', 'tenderloin', 'tendon', 'tennesse', 'tenni', 'tension', 'tequila', 'teriyaki', 'term', 'terra', 'terribl', 'terrier', 'terrif', 'terrifi', 'territori', 'test', 'tester', 'tetley', 'tetra', 'texa', 'texmati', 'text', 'textur', 'thai', 'thailand', 'thank', 'thanksgiv', 'that', 'thaw', 'theater', 'theatr', 'theme', 'theori', 'therapi', 'there', 'thereaft', 'therebi', 'therefor', 'thermo', 'thermomet', 'these', 'theyr', 'thiamin', 'thick', 'thicken', 'thicker', 'thier', 'thigh', 'thin', 'thing', 'think', 'thinner', 'third', 'thirst', 'thirsti', 'thirti', 'thistl', 'tho', 'thoma', 'thorough', 'though', 'thought', 'thousand', 'thread', 'threat', 'threaten', 'three', 'threw', 'thrill', 'thrive', 'throat', 'throughout', 'throw', 'thrown', 'thru', 'thumb', 'thunder', 'thursday', 'thus', 'thyme', 'thyroid', 'tick', 'ticket', 'tickl', 'tidbit', 'tide', 'tie', 'tiger', 'tight', 'tikka', 'til', 'till', 'tim', 'time', 'timer', 'timid', 'timothi', 'tin', 'ting', 'tingl', 'tini', 'tiniest', 'tinkyada', 'tinni', 'tint', 'tip', 'tiramisu', 'tire', 'tissu', 'titl', 'tlc', 'toast', 'toaster', 'toasti', 'tobacco', 'tobasco', 'tocopherol', 'today', 'toddler', 'toe', 'toffe', 'tofu', 'togeth', 'toilet', 'told', 'toler', 'toll', 'tom', 'tomato', 'tommi', 'tomorrow', 'ton', 'tone', 'tongu', 'toni', 'tonic', 'tonight', 'took', 'tool', 'tooth', 'toothbrush', 'toothpast', 'toothpick', 'tootsi', 'top', 'topic', 'topper', 'torani', 'tore', 'torn', 'tortellini', 'tortilla', 'tortuga', 'tortur', 'toss', 'tot', 'total', 'tote', 'touch', 'tough', 'tougher', 'tour', 'tourangell', 'tourist', 'tout', 'toward', 'towel', 'tower', 'town', 'toxic', 'toxin', 'toy', 'trace', 'track', 'tract', 'trade', 'trademark', 'trader', 'tradit', 'traffic', 'trail', 'trailer', 'train', 'trainer', 'tran', 'transact', 'transfat', 'transfer', 'transform', 'transit', 'translat', 'transpar', 'transplant', 'transport', 'trap', 'trash', 'travel', 'travers', 'tray', 'treacl', 'treasur', 'treat', 'treatment', 'tree', 'trek', 'tremend', 'trend', 'trendi', 'tri', 'trial', 'triangl', 'trick', 'tricki', 'trident', 'trigger', 'triglycerid', 'trim', 'trio', 'trip', 'tripl', 'triscuit', 'troop', 'tropic', 'troubl', 'truck', 'true', 'trueli', 'truffl', 'truli', 'trunk', 'trust', 'truth', 'truvia', 'tsp', 'tub', 'tube', 'tuck', 'tucson', 'tuesday', 'tug', 'tulli', 'tulsi', 'tumer', 'tummi', 'tuna', 'tune', 'tunnel', 'tupperwar', 'turbinado', 'turkey', 'turkish', 'turmer', 'turn', 'turtl', 'tuscan', 'tuscani', 'twang', 'tweak', 'twelv', 'twenti', 'twice', 'twig', 'twin', 'twine', 'twist', 'twizzler', 'two', 'type', 'typic', 'typo', 'tzu', 'ubiquit', 'udon', 'ugh', 'ugli', 'ulcer', 'ultim', 'ultra', 'ummm', 'unabl', 'unaccept', 'unadulter', 'unapp', 'unappet', 'unavail', 'unawar', 'unbear', 'unbeat', 'unbeliev', 'unbleach', 'unbroken', 'uncertain', 'uncl', 'unclear', 'uncomfort', 'uncommon', 'uncook', 'uncov', 'undamag', 'under', 'undercook', 'underneath', 'underst', 'understand', 'understat', 'understood', 'underton', 'underwhelm', 'undesir', 'undoubt', 'undrink', 'uneven', 'unexpect', 'unfair', 'unfamiliar', 'unfilt', 'unflavor', 'unfold', 'unfortun', 'unfortunat', 'unfrost', 'unfurl', 'unhappi', 'unhealthi', 'uniform', 'unimpress', 'uniniti', 'union', 'uniqu', 'unit', 'univers', 'unknown', 'unless', 'unlik', 'unmatch', 'unmistak', 'unnatur', 'unnecessari', 'unopen', 'unpalat', 'unpleas', 'unpop', 'unprocess', 'unpronounc', 'unreason', 'unrefin', 'unsaf', 'unsalt', 'unsatisfi', 'unscrew', 'unseal', 'unsuccess', 'unsur', 'unsurpass', 'unsuspect', 'unsweet', 'unsweeten', 'until', 'unus', 'unusu', 'unwant', 'unwind', 'unwrap', 'up', 'upcom', 'updat', 'upgrad', 'uplift', 'upload', 'upon', 'upper', 'upright', 'upscal', 'upset', 'upsid', 'upstat', 'upward', 'urban', 'urg', 'urin', 'urinari', 'usa', 'usabl', 'usag', 'usda', 'use', 'useless', 'user', 'usp', 'usual', 'utah', 'utensil', 'uti', 'util', 'utter', 'vacat', 'vacuum', 'vagu', 'vain', 'valentin', 'valerian', 'valid', 'valley', 'valrhona', 'valu', 'valuabl', 'van', 'vanilla', 'vanillin', 'vanish', 'vari', 'variabl', 'varianc', 'variant', 'variat', 'variet', 'varieti', 'various', 'variti', 'vase', 'vast', 'veal', 'veg', 'vega', 'vegan', 'vegancompass', 'vege', 'vegemit', 'veget', 'vegetarian', 'veggi', 'vegi', 'vehicl', 'velveeta', 'velvet', 'velveti', 'vend', 'vender', 'vendor', 'venison', 'ventur', 'verbena', 'verdict', 'verifi', 'vermont', 'verona', 'vers', 'versatil', 'version', 'versitil', 'versus', 'vertic', 'vessel', 'vet', 'veterinari', 'veterinarian', 'via', 'viabl', 'vibrant', 'vice', 'victor', 'victoria', 'video', 'vienna', 'vietnames', 'view', 'vigo', 'vigor', 'vile', 'villag', 'vinaigrett', 'vine', 'vinegar', 'vinegari', 'vintag', 'viola', 'violent', 'violet', 'virgin', 'virginia', 'virtual', 'virus', 'viscos', 'visibl', 'vision', 'visit', 'visitor', 'visual', 'vit', 'vita', 'vitacoco', 'vital', 'vitamin', 'vivid', 'vodka', 'voic', 'void', 'voila', 'volcan', 'volum', 'volunt', 'vomit', 'von', 'vote', 'vouch', 'waaaay', 'wabash', 'wafer', 'waffl', 'waft', 'wag', 'wage', 'wagon', 'waist', 'waistlin', 'wait', 'wake', 'wal', 'walden', 'wale', 'walgreen', 'walk', 'walker', 'wall', 'wallet', 'walmart', 'walnut', 'wander', 'wanna', 'want', 'war', 'ward', 'ware', 'warehous', 'warhead', 'wari', 'warm', 'warmer', 'warmth', 'warn', 'warrant', 'wasa', 'wasabi', 'wash', 'washington', 'wasnt', 'wast', 'watch', 'watcher', 'water', 'wateri', 'watermelon', 'watt', 'wave', 'wax', 'waxi', 'way', 'weak', 'weaken', 'weaker', 'wean', 'weapon', 'wear', 'weari', 'weather', 'web', 'websit', 'wed', 'wedg', 'wednesday', 'wee', 'weed', 'week', 'weekday', 'weekend', 'wegman', 'weigh', 'weight', 'weird', 'welch', 'welcom', 'well', 'welsh', 'went', 'werther', 'weruva', 'west', 'western', 'westi', 'wet', 'whack', 'what', 'whatev', 'whatsoev', 'wheat', 'wheatena', 'wheel', 'whenev', 'wherea', 'wherev', 'whether', 'whew', 'whey', 'whichev', 'whiff', 'whilst', 'whim', 'whine', 'whip', 'whirl', 'whirley', 'whisk', 'whiska', 'whisker', 'whiskey', 'whisper', 'white', 'whitefish', 'whiter', 'whoa', 'whoever', 'whole', 'wholefood', 'wholeheart', 'wholesal', 'wholesom', 'whop', 'whose', 'wick', 'wide', 'wider', 'wierd', 'wife', 'wikipedia', 'wild', 'wilder', 'will', 'willi', 'william', 'wilt', 'wilton', 'wimp', 'wimpi', 'win', 'wind', 'window', 'wine', 'wineri', 'wing', 'winner', 'winona', 'winter', 'wintergreen', 'wipe', 'wire', 'wisconsin', 'wisdom', 'wise', 'wish', 'wisk', 'wit', 'withdraw', 'wither', 'within', 'without', 'withstand', 'woke', 'wolf', 'wolfgang', 'woman', 'women', 'wonder', 'wonderful', 'wonka', 'wont', 'wood', 'wooden', 'woodi', 'woodsi', 'worcestershir', 'word', 'wore', 'work', 'workday', 'worker', 'workout', 'world', 'worldwid', 'worm', 'worn', 'worri', 'wors', 'worst', 'worth', 'worthi', 'worthington', 'worthless', 'worthwhil', 'would', 'wouldnt', 'wound', 'wow', 'wrap', 'wrapper', 'wrestl', 'wretch', 'wrigley', 'write', 'writer', 'written', 'wrong', 'wrote', 'wuyi', 'www', 'wysong', 'xanthan', 'xmas', 'xylitol', 'yahoo', 'yam', 'yamamotoyama', 'yard', 'yay', 'yea', 'yeah', 'year', 'yearn', 'yeast', 'yell', 'yellow', 'yellowfin', 'yellowish', 'yep', 'yerba', 'yes', 'yesterday', 'yet', 'yield', 'yike', 'yoga', 'yoghurt', 'yogi', 'yogurt', 'yolk', 'york', 'yorki', 'yorkshir', 'young', 'younger', 'youngest', 'youngster', 'youth', 'youtub', 'yrs', 'yuban', 'yucateco', 'yuck', 'yucki', 'yuk', 'yum', 'yumm', 'yummi', 'yummier', 'yummiest', 'yummm', 'yummyearth', 'yunnan', 'yup', 'zap', 'zatarain', 'zealand', 'zen', 'zero', 'zest', 'zesti', 'zevia', 'zhena', 'zico', 'zinc', 'zing', 'zinger', 'zip', 'ziploc', 'ziplock', 'zipper', 'ziti', 'zoe', 'zojirushi', 'zone', 'zucchini', 'zuke']\n"
          ],
          "name": "stdout"
        },
        {
          "output_type": "execute_result",
          "data": {
            "text/plain": [
              "[((-13.371141609478268, 'worthless'), (-4.97208572293706, 'great')),\n",
              " ((-13.319947357716995, 'insuffici'), (-4.994069271981616, 'tea')),\n",
              " ((-13.077229244518215, 'disclos'), (-5.023510661083602, 'love')),\n",
              " ((-13.072272467472127, 'unpalat'), (-5.05176923791341, 'good')),\n",
              " ((-13.070146590509903, 'administr'), (-5.062031051988383, 'tast')),\n",
              " ((-13.039911759582079, 'pawn'), (-5.084365243798258, 'like')),\n",
              " ((-12.976498594133405, 'fragment'), (-5.15570896123825, 'flavor')),\n",
              " ((-12.808912194408723, 'selenit'), (-5.174808612687513, 'product')),\n",
              " ((-12.808842002701113, 'endocrin'), (-5.260361778321145, 'use')),\n",
              " ((-12.79385781478159, 'hydropon'), (-5.315994275297357, 'coffe')),\n",
              " ((-12.792752956372002, 'brownish'), (-5.352429029615312, 'one')),\n",
              " ((-12.732115795508921, 'glossari'), (-5.404556640617229, 'tri')),\n",
              " ((-12.728875251701597, 'perpetu'), (-5.459142741354804, 'make')),\n",
              " ((-12.68657635128489, 'baselin'), (-5.507247847724007, 'best')),\n",
              " ((-12.611976832407393, 'blech'), (-5.558753946456716, 'get')),\n",
              " ((-12.596352205606804, 'pantothen'), (-5.577643114095542, 'amazon')),\n",
              " ((-12.555681934026035, 'mononitr'), (-5.625478958755448, 'buy')),\n",
              " ((-12.536793854112451, 'ripoff'), (-5.628230744280493, 'find')),\n",
              " ((-12.525393148802262, 'cite'), (-5.634696003917165, 'price')),\n",
              " ((-12.519865641405165, 'alien'), (-5.678226296923497, 'eat'))]"
            ]
          },
          "metadata": {
            "tags": []
          },
          "execution_count": 50
        }
      ]
    },
    {
      "cell_type": "markdown",
      "metadata": {
        "id": "Ishx-4i9GkUX",
        "colab_type": "text"
      },
      "source": [
        "#### Find ROC AUC SCORE"
      ]
    },
    {
      "cell_type": "code",
      "metadata": {
        "id": "TKZWnR-HmMwt",
        "colab_type": "code",
        "outputId": "62614748-d984-468f-d534-17ce7e93c73a",
        "colab": {
          "base_uri": "https://localhost:8080/",
          "height": 35
        }
      },
      "source": [
        "from sklearn.metrics import roc_auc_score\n",
        "\n",
        "roc_auc_score(Y_Test,y_test_predicted_prob)"
      ],
      "execution_count": 51,
      "outputs": [
        {
          "output_type": "execute_result",
          "data": {
            "text/plain": [
              "0.9171159435652396"
            ]
          },
          "metadata": {
            "tags": []
          },
          "execution_count": 51
        }
      ]
    },
    {
      "cell_type": "markdown",
      "metadata": {
        "id": "oeAbA10jGosp",
        "colab_type": "text"
      },
      "source": [
        "#### Calculate Precision , Recall , F1 Score and Confusion Matrix"
      ]
    },
    {
      "cell_type": "code",
      "metadata": {
        "id": "W_SpDHAKK2Wt",
        "colab_type": "code",
        "outputId": "1583aa0a-fb7b-4b5e-985b-26a78c8b4531",
        "colab": {
          "base_uri": "https://localhost:8080/",
          "height": 212
        }
      },
      "source": [
        "print(classification_report(Y_Test,pred_test_data))\n",
        "print(confusion_matrix(Y_Test,pred_test_data))"
      ],
      "execution_count": 52,
      "outputs": [
        {
          "output_type": "stream",
          "text": [
            "              precision    recall  f1-score   support\n",
            "\n",
            "    negative       0.46      0.81      0.59      2457\n",
            "    positive       0.97      0.87      0.92     17543\n",
            "\n",
            "    accuracy                           0.86     20000\n",
            "   macro avg       0.72      0.84      0.75     20000\n",
            "weighted avg       0.91      0.86      0.88     20000\n",
            "\n",
            "[[ 1993   464]\n",
            " [ 2305 15238]]\n"
          ],
          "name": "stdout"
        }
      ]
    },
    {
      "cell_type": "markdown",
      "metadata": {
        "id": "OSddVESFGy4V",
        "colab_type": "text"
      },
      "source": [
        "By looking at the Confusion Matrix , looks like there is an increase in False Negative(FN) value which is not good. There is an increase in True Positive(TP)"
      ]
    },
    {
      "cell_type": "markdown",
      "metadata": {
        "id": "lfL47Cr4S74-",
        "colab_type": "text"
      },
      "source": [
        "##  Bag Of Words Vectorization Technique on Naive Bayes Algorithm \n",
        "### Added New Column in the data set called \"TotalWords\". This will find the total words available in the Words."
      ]
    },
    {
      "cell_type": "code",
      "metadata": {
        "id": "AvJiFalQVUmM",
        "colab_type": "code",
        "colab": {}
      },
      "source": [
        "from sklearn.model_selection import train_test_split\n",
        "from sklearn.neighbors import KNeighborsClassifier\n",
        "from sklearn.metrics import accuracy_score\n",
        "from sklearn.model_selection import cross_val_score\n",
        "from collections import Counter\n",
        "from sklearn.metrics import confusion_matrix\n",
        "from sklearn.metrics import classification_report\n",
        "\n",
        "X_1,X_Test,Y_1,Y_Test = train_test_split(final_data_100K,amazon_polarity_labels,test_size=0.2,random_state=0)\n",
        "X_Train,X_CV,Y_Train,Y_CV = train_test_split(X_1,Y_1,test_size=0.2)"
      ],
      "execution_count": 0,
      "outputs": []
    },
    {
      "cell_type": "markdown",
      "metadata": {
        "id": "pO5DM-LbHUM8",
        "colab_type": "text"
      },
      "source": [
        "#### Encode the Numerical Feature"
      ]
    },
    {
      "cell_type": "code",
      "metadata": {
        "id": "ovY1U3EATYOr",
        "colab_type": "code",
        "outputId": "cd1227e2-86eb-4f36-9788-1e80ad577e6d",
        "colab": {
          "base_uri": "https://localhost:8080/",
          "height": 177
        }
      },
      "source": [
        "from sklearn.preprocessing import Normalizer\n",
        "\n",
        "print(X_Train.shape, Y_Train.shape)\n",
        "print(X_CV.shape, Y_CV.shape)\n",
        "print(X_Test.shape, Y_Test.shape)\n",
        "\n",
        "print(\"=\"*100)\n",
        "\n",
        "normalizer=Normalizer()\n",
        "X_Train_totalwords=normalizer.fit_transform(X_Train['total_words'].values.reshape(1,-1))\n",
        "\n",
        "X_Test_totalwords=normalizer.transform(X_Test['total_words'].values.reshape(1,-1))\n",
        "X_CV_totalwords=normalizer.transform(X_CV['total_words'].values.reshape(1,-1))\n",
        "\n",
        "print(\"After vectorizations\")\n",
        "print(X_Train_totalwords.shape, Y_Train.shape)\n",
        "print(X_CV_totalwords.shape, Y_CV.shape)\n",
        "print(X_Test_totalwords.shape, Y_Test.shape)\n",
        "print(\"=\"*100)"
      ],
      "execution_count": 54,
      "outputs": [
        {
          "output_type": "stream",
          "text": [
            "(64000, 12) (64000,)\n",
            "(16000, 12) (16000,)\n",
            "(20000, 12) (20000,)\n",
            "====================================================================================================\n",
            "After vectorizations\n",
            "(1, 64000) (64000,)\n",
            "(1, 16000) (16000,)\n",
            "(1, 20000) (20000,)\n",
            "====================================================================================================\n"
          ],
          "name": "stdout"
        }
      ]
    },
    {
      "cell_type": "code",
      "metadata": {
        "id": "FUX88OjCYenD",
        "colab_type": "code",
        "outputId": "3ae22a19-011b-4ba7-d3b8-0f5386210120",
        "colab": {
          "base_uri": "https://localhost:8080/",
          "height": 177
        }
      },
      "source": [
        "print(X_Train.shape, Y_Train.shape)\n",
        "print(X_CV.shape, Y_CV.shape)\n",
        "print(X_Test.shape, Y_Test.shape)\n",
        "\n",
        "print(\"=\"*100)\n",
        "\n",
        "\n",
        "count_vector=CountVectorizer(min_df=1)\n",
        "X_Train_data_bow=(count_vector.fit_transform(X_Train['Cleaned_text'].values))\n",
        "X_Test_data_bow=(count_vector.transform(X_Test['Cleaned_text'].values))\n",
        "X_CV_data_bow=(count_vector.transform(X_CV['Cleaned_text'].values))\n",
        "\n",
        "print(\"After vectorizations\")\n",
        "print(X_Train_data_bow.shape, Y_Train.shape)\n",
        "print(X_CV_data_bow.shape, Y_CV.shape)\n",
        "print(X_Test_data_bow.shape, Y_Test.shape)\n",
        "print(\"=\"*100)"
      ],
      "execution_count": 55,
      "outputs": [
        {
          "output_type": "stream",
          "text": [
            "(64000, 12) (64000,)\n",
            "(16000, 12) (16000,)\n",
            "(20000, 12) (20000,)\n",
            "====================================================================================================\n",
            "After vectorizations\n",
            "(64000, 29389) (64000,)\n",
            "(16000, 29389) (16000,)\n",
            "(20000, 29389) (20000,)\n",
            "====================================================================================================\n"
          ],
          "name": "stdout"
        }
      ]
    },
    {
      "cell_type": "markdown",
      "metadata": {
        "id": "T8i4AZqEH3U0",
        "colab_type": "text"
      },
      "source": [
        "#### Merge the Sparse matrix. I have transponse the Train , TEST and CV matrix for Total Words"
      ]
    },
    {
      "cell_type": "code",
      "metadata": {
        "id": "FQ_DeJZaYXpw",
        "colab_type": "code",
        "outputId": "3de3a202-f57b-4161-d4f5-8f745e1c28d1",
        "colab": {
          "base_uri": "https://localhost:8080/",
          "height": 106
        }
      },
      "source": [
        "from scipy.sparse import hstack\n",
        "X_train_final = hstack((X_Train_data_bow,X_Train_totalwords.T)).tocsr()\n",
        "X_test_final = hstack((X_Test_data_bow,X_Test_totalwords.T)).tocsr()\n",
        "X_cv_final = hstack((X_CV_data_bow,X_CV_totalwords.T)).tocsr()\n",
        "\n",
        "print(\"Final Data matrix\")\n",
        "print(X_train_final.shape, Y_Train.shape)\n",
        "print(X_test_final.shape, Y_Test.shape)\n",
        "print(X_cv_final.shape, Y_CV.shape)\n",
        "print(\"=\"*100)"
      ],
      "execution_count": 56,
      "outputs": [
        {
          "output_type": "stream",
          "text": [
            "Final Data matrix\n",
            "(64000, 29390) (64000,)\n",
            "(20000, 29390) (20000,)\n",
            "(16000, 29390) (16000,)\n",
            "====================================================================================================\n"
          ],
          "name": "stdout"
        }
      ]
    },
    {
      "cell_type": "markdown",
      "metadata": {
        "id": "O51Wj2IDIFsH",
        "colab_type": "text"
      },
      "source": [
        "#### Use Multinomial Naive Bayes and GridSearchCV using 10 Fold Cross Validation to find the best Alpha"
      ]
    },
    {
      "cell_type": "code",
      "metadata": {
        "id": "324M7OmEzNvq",
        "colab_type": "code",
        "outputId": "5c2eca11-0a72-487f-bc8d-c502990bac2f",
        "colab": {
          "base_uri": "https://localhost:8080/",
          "height": 612
        }
      },
      "source": [
        "results,best_Alpha,nb_MultiNomial =NaiveBayes_Optimal_Alpha(X_train_final,Y_Train)\n",
        "results.head()"
      ],
      "execution_count": 57,
      "outputs": [
        {
          "output_type": "stream",
          "text": [
            "0.8953798678293321\n",
            "{'alpha': 0.1}\n"
          ],
          "name": "stdout"
        },
        {
          "output_type": "display_data",
          "data": {
            "image/png": "[encoded data removed]",
            "text/plain": [
              "<Figure size 432x288 with 1 Axes>"
            ]
          },
          "metadata": {
            "tags": []
          }
        },
        {
          "output_type": "execute_result",
          "data": {
            "text/html": [
              "<div>\n",
              "<style scoped>\n",
              "    .dataframe tbody tr th:only-of-type {\n",
              "        vertical-align: middle;\n",
              "    }\n",
              "\n",
              "    .dataframe tbody tr th {\n",
              "        vertical-align: top;\n",
              "    }\n",
              "\n",
              "    .dataframe thead th {\n",
              "        text-align: right;\n",
              "    }\n",
              "</style>\n",
              "<table border=\"1\" class=\"dataframe\">\n",
              "  <thead>\n",
              "    <tr style=\"text-align: right;\">\n",
              "      <th></th>\n",
              "      <th>mean_fit_time</th>\n",
              "      <th>std_fit_time</th>\n",
              "      <th>mean_score_time</th>\n",
              "      <th>std_score_time</th>\n",
              "      <th>param_alpha</th>\n",
              "      <th>params</th>\n",
              "      <th>split0_test_score</th>\n",
              "      <th>split1_test_score</th>\n",
              "      <th>split2_test_score</th>\n",
              "      <th>split3_test_score</th>\n",
              "      <th>split4_test_score</th>\n",
              "      <th>split5_test_score</th>\n",
              "      <th>split6_test_score</th>\n",
              "      <th>split7_test_score</th>\n",
              "      <th>split8_test_score</th>\n",
              "      <th>split9_test_score</th>\n",
              "      <th>mean_test_score</th>\n",
              "      <th>std_test_score</th>\n",
              "      <th>rank_test_score</th>\n",
              "      <th>split0_train_score</th>\n",
              "      <th>split1_train_score</th>\n",
              "      <th>split2_train_score</th>\n",
              "      <th>split3_train_score</th>\n",
              "      <th>split4_train_score</th>\n",
              "      <th>split5_train_score</th>\n",
              "      <th>split6_train_score</th>\n",
              "      <th>split7_train_score</th>\n",
              "      <th>split8_train_score</th>\n",
              "      <th>split9_train_score</th>\n",
              "      <th>mean_train_score</th>\n",
              "      <th>std_train_score</th>\n",
              "    </tr>\n",
              "  </thead>\n",
              "  <tbody>\n",
              "    <tr>\n",
              "      <th>0</th>\n",
              "      <td>0.191642</td>\n",
              "      <td>0.004905</td>\n",
              "      <td>0.017511</td>\n",
              "      <td>0.000355</td>\n",
              "      <td>1e-05</td>\n",
              "      <td>{'alpha': 1e-05}</td>\n",
              "      <td>0.795168</td>\n",
              "      <td>0.817841</td>\n",
              "      <td>0.819915</td>\n",
              "      <td>0.824053</td>\n",
              "      <td>0.816785</td>\n",
              "      <td>0.810356</td>\n",
              "      <td>0.806645</td>\n",
              "      <td>0.824225</td>\n",
              "      <td>0.806156</td>\n",
              "      <td>0.800529</td>\n",
              "      <td>0.812167</td>\n",
              "      <td>0.009458</td>\n",
              "      <td>6</td>\n",
              "      <td>0.967599</td>\n",
              "      <td>0.968191</td>\n",
              "      <td>0.967931</td>\n",
              "      <td>0.968494</td>\n",
              "      <td>0.967848</td>\n",
              "      <td>0.968171</td>\n",
              "      <td>0.968258</td>\n",
              "      <td>0.967387</td>\n",
              "      <td>0.968337</td>\n",
              "      <td>0.968052</td>\n",
              "      <td>0.968027</td>\n",
              "      <td>0.000324</td>\n",
              "    </tr>\n",
              "    <tr>\n",
              "      <th>1</th>\n",
              "      <td>0.186945</td>\n",
              "      <td>0.001645</td>\n",
              "      <td>0.017218</td>\n",
              "      <td>0.000310</td>\n",
              "      <td>0.0001</td>\n",
              "      <td>{'alpha': 0.0001}</td>\n",
              "      <td>0.813370</td>\n",
              "      <td>0.837415</td>\n",
              "      <td>0.841563</td>\n",
              "      <td>0.842225</td>\n",
              "      <td>0.833818</td>\n",
              "      <td>0.828699</td>\n",
              "      <td>0.825203</td>\n",
              "      <td>0.839995</td>\n",
              "      <td>0.825535</td>\n",
              "      <td>0.821942</td>\n",
              "      <td>0.830977</td>\n",
              "      <td>0.009106</td>\n",
              "      <td>5</td>\n",
              "      <td>0.966873</td>\n",
              "      <td>0.967429</td>\n",
              "      <td>0.967264</td>\n",
              "      <td>0.967746</td>\n",
              "      <td>0.967092</td>\n",
              "      <td>0.967458</td>\n",
              "      <td>0.967541</td>\n",
              "      <td>0.966621</td>\n",
              "      <td>0.967626</td>\n",
              "      <td>0.967292</td>\n",
              "      <td>0.967294</td>\n",
              "      <td>0.000331</td>\n",
              "    </tr>\n",
              "    <tr>\n",
              "      <th>2</th>\n",
              "      <td>0.189703</td>\n",
              "      <td>0.004430</td>\n",
              "      <td>0.017284</td>\n",
              "      <td>0.000388</td>\n",
              "      <td>0.001</td>\n",
              "      <td>{'alpha': 0.001}</td>\n",
              "      <td>0.835645</td>\n",
              "      <td>0.858644</td>\n",
              "      <td>0.864110</td>\n",
              "      <td>0.863004</td>\n",
              "      <td>0.853832</td>\n",
              "      <td>0.848526</td>\n",
              "      <td>0.847938</td>\n",
              "      <td>0.858638</td>\n",
              "      <td>0.848257</td>\n",
              "      <td>0.847596</td>\n",
              "      <td>0.852619</td>\n",
              "      <td>0.008276</td>\n",
              "      <td>4</td>\n",
              "      <td>0.965410</td>\n",
              "      <td>0.965942</td>\n",
              "      <td>0.965870</td>\n",
              "      <td>0.966296</td>\n",
              "      <td>0.965583</td>\n",
              "      <td>0.966015</td>\n",
              "      <td>0.966114</td>\n",
              "      <td>0.965140</td>\n",
              "      <td>0.966252</td>\n",
              "      <td>0.965807</td>\n",
              "      <td>0.965843</td>\n",
              "      <td>0.000352</td>\n",
              "    </tr>\n",
              "    <tr>\n",
              "      <th>3</th>\n",
              "      <td>0.190337</td>\n",
              "      <td>0.001723</td>\n",
              "      <td>0.017864</td>\n",
              "      <td>0.000465</td>\n",
              "      <td>0.01</td>\n",
              "      <td>{'alpha': 0.01}</td>\n",
              "      <td>0.861559</td>\n",
              "      <td>0.880565</td>\n",
              "      <td>0.887366</td>\n",
              "      <td>0.885156</td>\n",
              "      <td>0.879280</td>\n",
              "      <td>0.870925</td>\n",
              "      <td>0.871676</td>\n",
              "      <td>0.878583</td>\n",
              "      <td>0.871083</td>\n",
              "      <td>0.875144</td>\n",
              "      <td>0.876134</td>\n",
              "      <td>0.007273</td>\n",
              "      <td>3</td>\n",
              "      <td>0.962252</td>\n",
              "      <td>0.962817</td>\n",
              "      <td>0.962718</td>\n",
              "      <td>0.963164</td>\n",
              "      <td>0.962330</td>\n",
              "      <td>0.962846</td>\n",
              "      <td>0.962987</td>\n",
              "      <td>0.961951</td>\n",
              "      <td>0.963135</td>\n",
              "      <td>0.962632</td>\n",
              "      <td>0.962683</td>\n",
              "      <td>0.000377</td>\n",
              "    </tr>\n",
              "    <tr>\n",
              "      <th>4</th>\n",
              "      <td>0.188594</td>\n",
              "      <td>0.001909</td>\n",
              "      <td>0.017638</td>\n",
              "      <td>0.000517</td>\n",
              "      <td>0.1</td>\n",
              "      <td>{'alpha': 0.1}</td>\n",
              "      <td>0.887746</td>\n",
              "      <td>0.899178</td>\n",
              "      <td>0.904018</td>\n",
              "      <td>0.898849</td>\n",
              "      <td>0.898939</td>\n",
              "      <td>0.890225</td>\n",
              "      <td>0.888600</td>\n",
              "      <td>0.896315</td>\n",
              "      <td>0.893835</td>\n",
              "      <td>0.896093</td>\n",
              "      <td>0.895380</td>\n",
              "      <td>0.004983</td>\n",
              "      <td>1</td>\n",
              "      <td>0.954503</td>\n",
              "      <td>0.955267</td>\n",
              "      <td>0.955017</td>\n",
              "      <td>0.955557</td>\n",
              "      <td>0.954435</td>\n",
              "      <td>0.955220</td>\n",
              "      <td>0.955381</td>\n",
              "      <td>0.954281</td>\n",
              "      <td>0.955522</td>\n",
              "      <td>0.954898</td>\n",
              "      <td>0.955008</td>\n",
              "      <td>0.000440</td>\n",
              "    </tr>\n",
              "  </tbody>\n",
              "</table>\n",
              "</div>"
            ],
            "text/plain": [
              "   mean_fit_time  std_fit_time  ...  mean_train_score  std_train_score\n",
              "0       0.191642      0.004905  ...          0.968027         0.000324\n",
              "1       0.186945      0.001645  ...          0.967294         0.000331\n",
              "2       0.189703      0.004430  ...          0.965843         0.000352\n",
              "3       0.190337      0.001723  ...          0.962683         0.000377\n",
              "4       0.188594      0.001909  ...          0.955008         0.000440\n",
              "\n",
              "[5 rows x 31 columns]"
            ]
          },
          "metadata": {
            "tags": []
          },
          "execution_count": 57
        }
      ]
    },
    {
      "cell_type": "markdown",
      "metadata": {
        "id": "T_BtUyqGISSQ",
        "colab_type": "text"
      },
      "source": [
        "BEST ALPHA = 0.1 FOR BOW FEATURIZATION TECHNIQUE & BEST SCORE IS 0.8956..."
      ]
    },
    {
      "cell_type": "code",
      "metadata": {
        "id": "5ofzun3R0m3g",
        "colab_type": "code",
        "outputId": "f8b49713-e3de-4c7e-eb50-777c147ceb5d",
        "colab": {
          "base_uri": "https://localhost:8080/",
          "height": 35
        }
      },
      "source": [
        "best_alpha = best_Alpha.best_params_\n",
        "best_alpha=best_alpha.get(\"alpha\")\n",
        "print(best_alpha)"
      ],
      "execution_count": 58,
      "outputs": [
        {
          "output_type": "stream",
          "text": [
            "0.1\n"
          ],
          "name": "stdout"
        }
      ]
    },
    {
      "cell_type": "markdown",
      "metadata": {
        "id": "uPbyrnGwIgY5",
        "colab_type": "text"
      },
      "source": [
        "#### PLOT THE TRAIN AUC AND TEST AUC FOR BEST ALPHA"
      ]
    },
    {
      "cell_type": "code",
      "metadata": {
        "id": "B-gMFUah0swy",
        "colab_type": "code",
        "outputId": "3de984e7-fc0a-48a5-da6d-86335131055c",
        "colab": {
          "base_uri": "https://localhost:8080/",
          "height": 295
        }
      },
      "source": [
        "from sklearn.metrics import roc_curve, auc\n",
        "naive_bayes = MultinomialNB(alpha=best_alpha,fit_prior=True,class_prior=[0.5,0.5])\n",
        "naive_bayes.fit(X_train_final,Y_Train)\n",
        "pred_test_data=naive_bayes.predict(X_test_final)\n",
        "y_train_predicted_prob = naive_bayes.predict_proba(X_train_final)[:,1]\n",
        "y_test_predicted_prob=naive_bayes.predict_proba(X_test_final)[:,1]\n",
        "train_fpr, train_tpr, train_thresholds=roc_curve(Y_Train,y_train_predicted_prob,pos_label='positive')\n",
        "test_fpr, test_tpr, test_thresholds = roc_curve(Y_Test, y_test_predicted_prob,pos_label='positive')\n",
        "\n",
        "plt.plot(train_fpr, train_tpr, label=\"train AUC =\"+str(auc(train_fpr, train_tpr)))\n",
        "plt.plot(test_fpr, test_tpr, label=\"test AUC =\"+str(auc(test_fpr, test_tpr)))\n",
        "plt.legend()\n",
        "plt.xlabel(\"Alpha: hyperparameter\")\n",
        "plt.ylabel(\"AUC\")\n",
        "plt.title(\"PLOTS\")\n",
        "plt.grid()\n",
        "plt.show()"
      ],
      "execution_count": 59,
      "outputs": [
        {
          "output_type": "display_data",
          "data": {
            "image/png": "[encoded data removed]",
            "text/plain": [
              "<Figure size 432x288 with 1 Axes>"
            ]
          },
          "metadata": {
            "tags": []
          }
        }
      ]
    },
    {
      "cell_type": "markdown",
      "metadata": {
        "id": "AZZvbuP_ImvS",
        "colab_type": "text"
      },
      "source": [
        "#### Find the Top 20 Positive and Negative Features for BOW Algorithm"
      ]
    },
    {
      "cell_type": "code",
      "metadata": {
        "id": "UyVRQ7ySCkLB",
        "colab_type": "code",
        "outputId": "f75de1a8-c84d-4a2d-d125-96ced42ea3ac",
        "colab": {
          "base_uri": "https://localhost:8080/",
          "height": 88
        }
      },
      "source": [
        "imp_neg_features ,imp_pos_features = findMax_features(naive_bayes)\n",
        "print(\"---------------------------------------------------------\")\n",
        "print(imp_pos_features) \n",
        "print(\"---------------------------------------------------------\")\n",
        "print(imp_neg_features)"
      ],
      "execution_count": 60,
      "outputs": [
        {
          "output_type": "stream",
          "text": [
            "---------------------------------------------------------\n",
            "[14726 25499 10819  9453 25575 11079 15060 27520 20221 17984]\n",
            "---------------------------------------------------------\n",
            "[25499 14726 20221 17984  9453 26537 28911 10819 27520 25575]\n"
          ],
          "name": "stdout"
        }
      ]
    },
    {
      "cell_type": "code",
      "metadata": {
        "id": "rKYewhOO194Z",
        "colab_type": "code",
        "outputId": "a0b81267-06b7-48d0-85d9-21b4b77c73c1",
        "colab": {
          "base_uri": "https://localhost:8080/",
          "height": 372
        }
      },
      "source": [
        "feature_names = count_vector.get_feature_names()\n",
        "coefs_with_fns = sorted(zip(naive_bayes.coef_[0], feature_names))\n",
        "top_features = zip(coefs_with_fns[:20], coefs_with_fns[:-(20 + 1):-1])\n",
        "list(top_features)"
      ],
      "execution_count": 61,
      "outputs": [
        {
          "output_type": "execute_result",
          "data": {
            "text/plain": [
              "[((-16.79770005183023, 'aachen'), (-4.430057176675728, 'like')),\n",
              " ((-16.79770005183023, 'abhorr'), (-4.478517494922324, 'tast')),\n",
              " ((-16.79770005183023, 'ablaz'), (-4.611518937548073, 'good')),\n",
              " ((-16.79770005183023, 'abosolut'), (-4.627663994165005, 'flavor')),\n",
              " ((-16.79770005183023, 'abrevi'), (-4.638608956997299, 'tea')),\n",
              " ((-16.79770005183023, 'abvious'), (-4.656160594118514, 'great')),\n",
              " ((-16.79770005183023, 'accepet'), (-4.688298011062921, 'love')),\n",
              " ((-16.79770005183023, 'acceptalbl'), (-4.716674889276268, 'use')),\n",
              " ((-16.79770005183023, 'accor'), (-4.739831634699799, 'product')),\n",
              " ((-16.79770005183023, 'accordng'), (-4.787028123633787, 'one')),\n",
              " ((-16.79770005183023, 'accourd'), (-4.8900267035930405, 'tri')),\n",
              " ((-16.79770005183023, 'accpet'), (-4.980154279687969, 'make')),\n",
              " ((-16.79770005183023, 'acesufam'), (-5.109721044880834, 'get')),\n",
              " ((-16.79770005183023, 'ack'), (-5.148924634174383, 'coffe')),\n",
              " ((-16.79770005183023, 'acknowled'), (-5.252394525397085, 'amazon')),\n",
              " ((-16.79770005183023, 'acknowleg'), (-5.351438030714254, 'time')),\n",
              " ((-16.79770005183023, 'acronym'), (-5.3522935450909515, 'best')),\n",
              " ((-16.79770005183023, 'actal'), (-5.358948715048138, 'food')),\n",
              " ((-16.79770005183023, 'activist'), (-5.363806971748193, 'eat')),\n",
              " ((-16.79770005183023, 'acumen'), (-5.3859107045313905, 'buy'))]"
            ]
          },
          "metadata": {
            "tags": []
          },
          "execution_count": 61
        }
      ]
    },
    {
      "cell_type": "markdown",
      "metadata": {
        "id": "YgLuRlMaJDBH",
        "colab_type": "text"
      },
      "source": [
        "#### Find ROC AUC Score"
      ]
    },
    {
      "cell_type": "code",
      "metadata": {
        "id": "xpiIXaTv2KMT",
        "colab_type": "code",
        "outputId": "4fa40b12-0c1f-4c5d-b34d-f93193b38601",
        "colab": {
          "base_uri": "https://localhost:8080/",
          "height": 35
        }
      },
      "source": [
        "from sklearn.metrics import roc_auc_score\n",
        "\n",
        "roc_auc_score(Y_Test,y_test_predicted_prob)"
      ],
      "execution_count": 62,
      "outputs": [
        {
          "output_type": "execute_result",
          "data": {
            "text/plain": [
              "0.8955164089975696"
            ]
          },
          "metadata": {
            "tags": []
          },
          "execution_count": 62
        }
      ]
    },
    {
      "cell_type": "markdown",
      "metadata": {
        "id": "i2JIeQrzJIKE",
        "colab_type": "text"
      },
      "source": [
        "Calculate Precision , Recall , F1 Score and Confusion Matrix"
      ]
    },
    {
      "cell_type": "code",
      "metadata": {
        "id": "zaLw0_Lv3UcQ",
        "colab_type": "code",
        "outputId": "7175c1d6-e825-4612-e446-fc799579d18e",
        "colab": {
          "base_uri": "https://localhost:8080/",
          "height": 212
        }
      },
      "source": [
        "from sklearn.metrics import classification_report,confusion_matrix\n",
        "\n",
        "print(classification_report(Y_Test,pred_test_data))\n",
        "print(confusion_matrix(Y_Test,pred_test_data))"
      ],
      "execution_count": 63,
      "outputs": [
        {
          "output_type": "stream",
          "text": [
            "              precision    recall  f1-score   support\n",
            "\n",
            "    negative       0.49      0.77      0.60      2457\n",
            "    positive       0.96      0.89      0.93     17543\n",
            "\n",
            "    accuracy                           0.88     20000\n",
            "   macro avg       0.73      0.83      0.76     20000\n",
            "weighted avg       0.91      0.88      0.89     20000\n",
            "\n",
            "[[ 1887   570]\n",
            " [ 1929 15614]]\n"
          ],
          "name": "stdout"
        }
      ]
    },
    {
      "cell_type": "markdown",
      "metadata": {
        "id": "WpFSWkfZ4uQa",
        "colab_type": "text"
      },
      "source": [
        "## Tf-Idf Vectorization Technique for Naive Bayes Algorithm"
      ]
    },
    {
      "cell_type": "code",
      "metadata": {
        "id": "pW1V0w6m41QK",
        "colab_type": "code",
        "outputId": "5505068d-ae03-43e3-d61b-dc6e4ef859c9",
        "colab": {
          "base_uri": "https://localhost:8080/",
          "height": 177
        }
      },
      "source": [
        "from sklearn.feature_extraction.text import TfidfVectorizer\n",
        "\n",
        "print(X_Train.shape, Y_Train.shape)\n",
        "print(X_CV.shape, Y_CV.shape)\n",
        "print(X_Test.shape, Y_Test.shape)\n",
        "\n",
        "print(\"=\"*100)\n",
        "\n",
        "\n",
        "tfidf_vector=TfidfVectorizer(min_df=10)\n",
        "X_Train_data_tfidf_final=(tfidf_vector.fit_transform(X_Train['Cleaned_text'].values))\n",
        "X_Test_data_tfidf_final=(tfidf_vector.transform(X_Test['Cleaned_text'].values))\n",
        "X_CV_data_tfidf_final=(tfidf_vector.transform(X_CV['Cleaned_text'].values))\n",
        "\n",
        "print(\"After vectorizations\")\n",
        "print(X_Train_data_tfidf_final.shape, Y_Train.shape)\n",
        "print(X_CV_data_tfidf_final.shape, Y_CV.shape)\n",
        "print(X_Test_data_tfidf_final.shape, Y_Test.shape)\n",
        "print(\"=\"*100)"
      ],
      "execution_count": 64,
      "outputs": [
        {
          "output_type": "stream",
          "text": [
            "(64000, 12) (64000,)\n",
            "(16000, 12) (16000,)\n",
            "(20000, 12) (20000,)\n",
            "====================================================================================================\n",
            "After vectorizations\n",
            "(64000, 6753) (64000,)\n",
            "(16000, 6753) (16000,)\n",
            "(20000, 6753) (20000,)\n",
            "====================================================================================================\n"
          ],
          "name": "stdout"
        }
      ]
    },
    {
      "cell_type": "code",
      "metadata": {
        "id": "F7dtQH0q5OLh",
        "colab_type": "code",
        "outputId": "23735ba8-1ef3-46f5-99a2-5ec38038786e",
        "colab": {
          "base_uri": "https://localhost:8080/",
          "height": 106
        }
      },
      "source": [
        "X_train_final_tfidf = hstack((X_Train_data_tfidf_final,X_Train_totalwords.T)).tocsr()\n",
        "X_test_final_tfidf = hstack((X_Test_data_tfidf_final,X_Test_totalwords.T)).tocsr()\n",
        "X_cv_final_tfidf = hstack((X_CV_data_tfidf_final,X_CV_totalwords.T)).tocsr()\n",
        "\n",
        "print(\"Final Data matrix\")\n",
        "print(X_train_final_tfidf.shape, Y_Train.shape)\n",
        "print(X_test_final_tfidf.shape, Y_Test.shape)\n",
        "print(X_cv_final_tfidf.shape, Y_CV.shape)\n",
        "print(\"=\"*100)"
      ],
      "execution_count": 65,
      "outputs": [
        {
          "output_type": "stream",
          "text": [
            "Final Data matrix\n",
            "(64000, 6754) (64000,)\n",
            "(20000, 6754) (20000,)\n",
            "(16000, 6754) (16000,)\n",
            "====================================================================================================\n"
          ],
          "name": "stdout"
        }
      ]
    },
    {
      "cell_type": "code",
      "metadata": {
        "id": "u7vVNakV5pRf",
        "colab_type": "code",
        "outputId": "eef0ce76-cbf3-4098-d4b6-d1d82d8962e5",
        "colab": {
          "base_uri": "https://localhost:8080/",
          "height": 612
        }
      },
      "source": [
        "results,best_Alpha,nb_MultiNomial =NaiveBayes_Optimal_Alpha(X_train_final_tfidf,Y_Train)\n",
        "results.head()"
      ],
      "execution_count": 66,
      "outputs": [
        {
          "output_type": "stream",
          "text": [
            "0.914937867102587\n",
            "{'alpha': 0.1}\n"
          ],
          "name": "stdout"
        },
        {
          "output_type": "display_data",
          "data": {
            "image/png": "[encoded data removed]",
            "text/plain": [
              "<Figure size 432x288 with 1 Axes>"
            ]
          },
          "metadata": {
            "tags": []
          }
        },
        {
          "output_type": "execute_result",
          "data": {
            "text/html": [
              "<div>\n",
              "<style scoped>\n",
              "    .dataframe tbody tr th:only-of-type {\n",
              "        vertical-align: middle;\n",
              "    }\n",
              "\n",
              "    .dataframe tbody tr th {\n",
              "        vertical-align: top;\n",
              "    }\n",
              "\n",
              "    .dataframe thead th {\n",
              "        text-align: right;\n",
              "    }\n",
              "</style>\n",
              "<table border=\"1\" class=\"dataframe\">\n",
              "  <thead>\n",
              "    <tr style=\"text-align: right;\">\n",
              "      <th></th>\n",
              "      <th>mean_fit_time</th>\n",
              "      <th>std_fit_time</th>\n",
              "      <th>mean_score_time</th>\n",
              "      <th>std_score_time</th>\n",
              "      <th>param_alpha</th>\n",
              "      <th>params</th>\n",
              "      <th>split0_test_score</th>\n",
              "      <th>split1_test_score</th>\n",
              "      <th>split2_test_score</th>\n",
              "      <th>split3_test_score</th>\n",
              "      <th>split4_test_score</th>\n",
              "      <th>split5_test_score</th>\n",
              "      <th>split6_test_score</th>\n",
              "      <th>split7_test_score</th>\n",
              "      <th>split8_test_score</th>\n",
              "      <th>split9_test_score</th>\n",
              "      <th>mean_test_score</th>\n",
              "      <th>std_test_score</th>\n",
              "      <th>rank_test_score</th>\n",
              "      <th>split0_train_score</th>\n",
              "      <th>split1_train_score</th>\n",
              "      <th>split2_train_score</th>\n",
              "      <th>split3_train_score</th>\n",
              "      <th>split4_train_score</th>\n",
              "      <th>split5_train_score</th>\n",
              "      <th>split6_train_score</th>\n",
              "      <th>split7_train_score</th>\n",
              "      <th>split8_train_score</th>\n",
              "      <th>split9_train_score</th>\n",
              "      <th>mean_train_score</th>\n",
              "      <th>std_train_score</th>\n",
              "    </tr>\n",
              "  </thead>\n",
              "  <tbody>\n",
              "    <tr>\n",
              "      <th>0</th>\n",
              "      <td>0.204991</td>\n",
              "      <td>0.021245</td>\n",
              "      <td>0.018405</td>\n",
              "      <td>0.001431</td>\n",
              "      <td>1e-05</td>\n",
              "      <td>{'alpha': 1e-05}</td>\n",
              "      <td>0.860449</td>\n",
              "      <td>0.877482</td>\n",
              "      <td>0.885906</td>\n",
              "      <td>0.884512</td>\n",
              "      <td>0.876912</td>\n",
              "      <td>0.866752</td>\n",
              "      <td>0.868917</td>\n",
              "      <td>0.883419</td>\n",
              "      <td>0.858760</td>\n",
              "      <td>0.867180</td>\n",
              "      <td>0.873029</td>\n",
              "      <td>0.009449</td>\n",
              "      <td>6</td>\n",
              "      <td>0.950903</td>\n",
              "      <td>0.950452</td>\n",
              "      <td>0.950266</td>\n",
              "      <td>0.950621</td>\n",
              "      <td>0.950736</td>\n",
              "      <td>0.950717</td>\n",
              "      <td>0.951010</td>\n",
              "      <td>0.950055</td>\n",
              "      <td>0.951284</td>\n",
              "      <td>0.950124</td>\n",
              "      <td>0.950617</td>\n",
              "      <td>0.000376</td>\n",
              "    </tr>\n",
              "    <tr>\n",
              "      <th>1</th>\n",
              "      <td>0.188596</td>\n",
              "      <td>0.003640</td>\n",
              "      <td>0.017166</td>\n",
              "      <td>0.000243</td>\n",
              "      <td>0.0001</td>\n",
              "      <td>{'alpha': 0.0001}</td>\n",
              "      <td>0.868050</td>\n",
              "      <td>0.883800</td>\n",
              "      <td>0.893638</td>\n",
              "      <td>0.892333</td>\n",
              "      <td>0.884428</td>\n",
              "      <td>0.875719</td>\n",
              "      <td>0.877451</td>\n",
              "      <td>0.888621</td>\n",
              "      <td>0.868127</td>\n",
              "      <td>0.876805</td>\n",
              "      <td>0.880897</td>\n",
              "      <td>0.008702</td>\n",
              "      <td>5</td>\n",
              "      <td>0.950683</td>\n",
              "      <td>0.950234</td>\n",
              "      <td>0.950046</td>\n",
              "      <td>0.950402</td>\n",
              "      <td>0.950502</td>\n",
              "      <td>0.950487</td>\n",
              "      <td>0.950798</td>\n",
              "      <td>0.949830</td>\n",
              "      <td>0.951057</td>\n",
              "      <td>0.949910</td>\n",
              "      <td>0.950395</td>\n",
              "      <td>0.000375</td>\n",
              "    </tr>\n",
              "    <tr>\n",
              "      <th>2</th>\n",
              "      <td>0.186831</td>\n",
              "      <td>0.002355</td>\n",
              "      <td>0.017191</td>\n",
              "      <td>0.000340</td>\n",
              "      <td>0.001</td>\n",
              "      <td>{'alpha': 0.001}</td>\n",
              "      <td>0.880305</td>\n",
              "      <td>0.892078</td>\n",
              "      <td>0.901475</td>\n",
              "      <td>0.901553</td>\n",
              "      <td>0.893992</td>\n",
              "      <td>0.886854</td>\n",
              "      <td>0.888147</td>\n",
              "      <td>0.895932</td>\n",
              "      <td>0.880718</td>\n",
              "      <td>0.889092</td>\n",
              "      <td>0.891015</td>\n",
              "      <td>0.007104</td>\n",
              "      <td>4</td>\n",
              "      <td>0.950253</td>\n",
              "      <td>0.949826</td>\n",
              "      <td>0.949629</td>\n",
              "      <td>0.949986</td>\n",
              "      <td>0.950058</td>\n",
              "      <td>0.950042</td>\n",
              "      <td>0.950389</td>\n",
              "      <td>0.949404</td>\n",
              "      <td>0.950622</td>\n",
              "      <td>0.949496</td>\n",
              "      <td>0.949971</td>\n",
              "      <td>0.000371</td>\n",
              "    </tr>\n",
              "    <tr>\n",
              "      <th>3</th>\n",
              "      <td>0.187914</td>\n",
              "      <td>0.002778</td>\n",
              "      <td>0.017278</td>\n",
              "      <td>0.000318</td>\n",
              "      <td>0.01</td>\n",
              "      <td>{'alpha': 0.01}</td>\n",
              "      <td>0.895722</td>\n",
              "      <td>0.902940</td>\n",
              "      <td>0.910807</td>\n",
              "      <td>0.911693</td>\n",
              "      <td>0.905068</td>\n",
              "      <td>0.899294</td>\n",
              "      <td>0.900400</td>\n",
              "      <td>0.905864</td>\n",
              "      <td>0.895805</td>\n",
              "      <td>0.903103</td>\n",
              "      <td>0.903070</td>\n",
              "      <td>0.005236</td>\n",
              "      <td>3</td>\n",
              "      <td>0.949321</td>\n",
              "      <td>0.948937</td>\n",
              "      <td>0.948717</td>\n",
              "      <td>0.949086</td>\n",
              "      <td>0.949107</td>\n",
              "      <td>0.949078</td>\n",
              "      <td>0.949479</td>\n",
              "      <td>0.948486</td>\n",
              "      <td>0.949675</td>\n",
              "      <td>0.948586</td>\n",
              "      <td>0.949047</td>\n",
              "      <td>0.000362</td>\n",
              "    </tr>\n",
              "    <tr>\n",
              "      <th>4</th>\n",
              "      <td>0.187980</td>\n",
              "      <td>0.004782</td>\n",
              "      <td>0.018044</td>\n",
              "      <td>0.003183</td>\n",
              "      <td>0.1</td>\n",
              "      <td>{'alpha': 0.1}</td>\n",
              "      <td>0.907942</td>\n",
              "      <td>0.915426</td>\n",
              "      <td>0.921018</td>\n",
              "      <td>0.921298</td>\n",
              "      <td>0.916052</td>\n",
              "      <td>0.912141</td>\n",
              "      <td>0.911638</td>\n",
              "      <td>0.916060</td>\n",
              "      <td>0.911734</td>\n",
              "      <td>0.916068</td>\n",
              "      <td>0.914938</td>\n",
              "      <td>0.003992</td>\n",
              "      <td>1</td>\n",
              "      <td>0.946534</td>\n",
              "      <td>0.946182</td>\n",
              "      <td>0.945898</td>\n",
              "      <td>0.946318</td>\n",
              "      <td>0.946203</td>\n",
              "      <td>0.946180</td>\n",
              "      <td>0.946686</td>\n",
              "      <td>0.945687</td>\n",
              "      <td>0.946786</td>\n",
              "      <td>0.945748</td>\n",
              "      <td>0.946222</td>\n",
              "      <td>0.000355</td>\n",
              "    </tr>\n",
              "  </tbody>\n",
              "</table>\n",
              "</div>"
            ],
            "text/plain": [
              "   mean_fit_time  std_fit_time  ...  mean_train_score  std_train_score\n",
              "0       0.204991      0.021245  ...          0.950617         0.000376\n",
              "1       0.188596      0.003640  ...          0.950395         0.000375\n",
              "2       0.186831      0.002355  ...          0.949971         0.000371\n",
              "3       0.187914      0.002778  ...          0.949047         0.000362\n",
              "4       0.187980      0.004782  ...          0.946222         0.000355\n",
              "\n",
              "[5 rows x 31 columns]"
            ]
          },
          "metadata": {
            "tags": []
          },
          "execution_count": 66
        }
      ]
    },
    {
      "cell_type": "code",
      "metadata": {
        "id": "y3LUJWVy6Knc",
        "colab_type": "code",
        "outputId": "6f0029e2-177a-44fd-fb57-2d481af4d02b",
        "colab": {
          "base_uri": "https://localhost:8080/",
          "height": 35
        }
      },
      "source": [
        "best_alpha = best_Alpha.best_params_\n",
        "best_alpha=best_alpha.get(\"alpha\")\n",
        "print(best_alpha)"
      ],
      "execution_count": 67,
      "outputs": [
        {
          "output_type": "stream",
          "text": [
            "0.1\n"
          ],
          "name": "stdout"
        }
      ]
    },
    {
      "cell_type": "code",
      "metadata": {
        "id": "kuNVE5206QkC",
        "colab_type": "code",
        "outputId": "dfba3998-cbe1-4601-d4bb-5669bf368f14",
        "colab": {
          "base_uri": "https://localhost:8080/",
          "height": 295
        }
      },
      "source": [
        "naive_bayes = MultinomialNB(alpha=best_alpha,fit_prior=True,class_prior=[0.5,0.5])\n",
        "naive_bayes.fit(X_train_final_tfidf,Y_Train)\n",
        "pred_test_data=naive_bayes.predict(X_test_final_tfidf)\n",
        "y_train_predicted_prob = naive_bayes.predict_proba(X_train_final_tfidf)[:,1]\n",
        "y_test_predicted_prob=naive_bayes.predict_proba(X_test_final_tfidf)[:,1]\n",
        "train_fpr, train_tpr, train_thresholds=roc_curve(Y_Train,y_train_predicted_prob,pos_label='positive')\n",
        "test_fpr, test_tpr, test_thresholds = roc_curve(Y_Test, y_test_predicted_prob,pos_label='positive')\n",
        "\n",
        "plt.plot(train_fpr, train_tpr, label=\"train AUC =\"+str(auc(train_fpr, train_tpr)))\n",
        "plt.plot(test_fpr, test_tpr, label=\"test AUC =\"+str(auc(test_fpr, test_tpr)))\n",
        "plt.legend()\n",
        "plt.xlabel(\"Alpha: hyperparameter\")\n",
        "plt.ylabel(\"AUC\")\n",
        "plt.title(\"PLOTS\")\n",
        "plt.grid()\n",
        "plt.show()"
      ],
      "execution_count": 68,
      "outputs": [
        {
          "output_type": "display_data",
          "data": {
            "image/png": "[encoded data removed]",
            "text/plain": [
              "<Figure size 432x288 with 1 Axes>"
            ]
          },
          "metadata": {
            "tags": []
          }
        }
      ]
    },
    {
      "cell_type": "code",
      "metadata": {
        "id": "o-b5EaXvDAzZ",
        "colab_type": "code",
        "outputId": "ae6546c9-f085-4870-cb14-d4ccefd1dded",
        "colab": {
          "base_uri": "https://localhost:8080/",
          "height": 88
        }
      },
      "source": [
        "imp_neg_features ,imp_pos_features = findMax_features(naive_bayes)\n",
        "print(\"---------------------------------------------------------\")\n",
        "print(imp_pos_features) \n",
        "print(\"---------------------------------------------------------\")\n",
        "print(imp_neg_features)"
      ],
      "execution_count": 69,
      "outputs": [
        {
          "output_type": "stream",
          "text": [
            "---------------------------------------------------------\n",
            "[2633 5928 3505 2571 5913 3422 2274 4610 6346 1175]\n",
            "---------------------------------------------------------\n",
            "[5913 4610 3422 6660 2274 4112  802 6167 4136 5928]\n"
          ],
          "name": "stdout"
        }
      ]
    },
    {
      "cell_type": "code",
      "metadata": {
        "id": "paVPHXTK73H-",
        "colab_type": "code",
        "outputId": "ac218524-e04a-4b02-d1ee-a73a175be76f",
        "colab": {
          "base_uri": "https://localhost:8080/",
          "height": 372
        }
      },
      "source": [
        "feature_names = count_vector.get_feature_names()\n",
        "coefs_with_fns = sorted(zip(naive_bayes.coef_[0], feature_names))\n",
        "top_features = zip(coefs_with_fns[:20], coefs_with_fns[:-(20 + 1):-1])\n",
        "list(top_features)"
      ],
      "execution_count": 70,
      "outputs": [
        {
          "output_type": "execute_result",
          "data": {
            "text/plain": [
              "[((-13.448949204147413, 'championship'), (-4.9709825424369125, 'bleed')),\n",
              " ((-13.105332116649201, 'baba'), (-4.9792352003325115, 'cranappl')),\n",
              " ((-13.0702201859657, 'cliam'), (-5.020497277991727, 'butterscotchey')),\n",
              " ((-13.04744161530687, 'agon'), (-5.052276168645954, 'biz')),\n",
              " ((-12.960547516854746, 'breakdown'), (-5.060839014022004, 'crafti')),\n",
              " ((-12.949944935541746, 'dehidr'), (-5.078882900703493, 'bup')),\n",
              " ((-12.839725793241614, 'bartlet'), (-5.153263587474656, 'benifitt')),\n",
              " ((-12.726170451865762, 'charit'), (-5.18308658111584, 'chiriqui')),\n",
              " ((-12.70497584356906, 'alexia'), (-5.26415183735628, 'daintili')),\n",
              " ((-12.650991017140644, 'chazuk'), (-5.295478509528785, 'applestrawberri')),\n",
              " ((-12.633726875429488, 'bettter'), (-5.355898714523881, 'cayenn')),\n",
              " ((-12.626425541147698, 'anfair'), (-5.399879919662171, 'cuaght')),\n",
              " ((-12.615713546229573, 'bred'), (-5.461795791946679, 'cachou')),\n",
              " ((-12.5810022201916, 'campagin'), (-5.5061653301724, 'alabama')),\n",
              " ((-12.571953005290663, 'afficionada'), (-5.560429546867262, 'biologist')),\n",
              " ((-12.562006160239829, 'cyle'), (-5.579661949530499, 'acknowleg')),\n",
              " ((-12.55779511742, 'cinnnamon'), (-5.624578601137603, 'ambrosia')),\n",
              " ((-12.549702924222247, 'anadama'), (-5.624692855146056, 'bellyrub')),\n",
              " ((-12.543652478581686, 'capac'), (-5.635267541320072, 'chin')),\n",
              " ((-12.530563930537978, 'capuccino'), (-5.679079138560395, 'bankrupt'))]"
            ]
          },
          "metadata": {
            "tags": []
          },
          "execution_count": 70
        }
      ]
    },
    {
      "cell_type": "code",
      "metadata": {
        "id": "oCSws7Gp7_-o",
        "colab_type": "code",
        "outputId": "69247a74-dffe-428f-b624-dc6ecf61d22a",
        "colab": {
          "base_uri": "https://localhost:8080/",
          "height": 212
        }
      },
      "source": [
        "roc_auc_score(Y_Test,y_test_predicted_prob)\n",
        "print(classification_report(Y_Test,pred_test_data))\n",
        "print(confusion_matrix(Y_Test,pred_test_data))"
      ],
      "execution_count": 71,
      "outputs": [
        {
          "output_type": "stream",
          "text": [
            "              precision    recall  f1-score   support\n",
            "\n",
            "    negative       0.47      0.81      0.59      2457\n",
            "    positive       0.97      0.87      0.92     17543\n",
            "\n",
            "    accuracy                           0.86     20000\n",
            "   macro avg       0.72      0.84      0.75     20000\n",
            "weighted avg       0.91      0.86      0.88     20000\n",
            "\n",
            "[[ 1994   463]\n",
            " [ 2290 15253]]\n"
          ],
          "name": "stdout"
        }
      ]
    },
    {
      "cell_type": "code",
      "metadata": {
        "id": "afUo25Na8Fjk",
        "colab_type": "code",
        "outputId": "f25fd068-2fea-4bdf-eb53-df64975672d7",
        "colab": {
          "base_uri": "https://localhost:8080/",
          "height": 177
        }
      },
      "source": [
        "pip install -U PTable"
      ],
      "execution_count": 72,
      "outputs": [
        {
          "output_type": "stream",
          "text": [
            "Collecting PTable\n",
            "  Downloading https://files.pythonhosted.org/packages/ab/b3/b54301811173ca94119eb474634f120a49cd370f257d1aae5a4abaf12729/PTable-0.9.2.tar.gz\n",
            "Building wheels for collected packages: PTable\n",
            "  Building wheel for PTable (setup.py) ... \u001b[?25l\u001b[?25hdone\n",
            "  Created wheel for PTable: filename=PTable-0.9.2-cp36-none-any.whl size=22908 sha256=656dec94e22e803669d9d533ad8022af6e62a478bf4a7561a07fdfc3138f55cc\n",
            "  Stored in directory: /root/.cache/pip/wheels/22/cc/2e/55980bfe86393df3e9896146a01f6802978d09d7ebcba5ea56\n",
            "Successfully built PTable\n",
            "Installing collected packages: PTable\n",
            "Successfully installed PTable-0.9.2\n"
          ],
          "name": "stdout"
        }
      ]
    },
    {
      "cell_type": "code",
      "metadata": {
        "id": "ReQ-Kkmi8ovJ",
        "colab_type": "code",
        "outputId": "1cf70194-ca50-4d70-b180-a69529551666",
        "colab": {
          "base_uri": "https://localhost:8080/",
          "height": 159
        }
      },
      "source": [
        "from prettytable import PrettyTable\n",
        "\n",
        "x= PrettyTable()\n",
        "\n",
        "x.field_names = [\"Vectorizer\" , \"Hyperparameter\", \"AUC\"]\n",
        "x.add_row([\"Bag Of Words\",0.1,0.8961787662046203])\n",
        "x.add_row([\"Tf-Idf\",0.1,0.916085528070379])\n",
        "x.add_row([\"Bag Of Words with Feature Engineering \",0.1,0.8952631325046989])\n",
        "x.add_row([\"Tf-Idf with Feature Engineering\",0.1,0.9154229153286575])\n",
        "print(x)"
      ],
      "execution_count": 73,
      "outputs": [
        {
          "output_type": "stream",
          "text": [
            "+----------------------------------------+----------------+--------------------+\n",
            "|               Vectorizer               | Hyperparameter |        AUC         |\n",
            "+----------------------------------------+----------------+--------------------+\n",
            "|              Bag Of Words              |      0.1       | 0.8961787662046203 |\n",
            "|                 Tf-Idf                 |      0.1       | 0.916085528070379  |\n",
            "| Bag Of Words with Feature Engineering  |      0.1       | 0.8952631325046989 |\n",
            "|    Tf-Idf with Feature Engineering     |      0.1       | 0.9154229153286575 |\n",
            "+----------------------------------------+----------------+--------------------+\n"
          ],
          "name": "stdout"
        }
      ]
    },
    {
      "cell_type": "markdown",
      "metadata": {
        "id": "1y3WER8oJZ-S",
        "colab_type": "text"
      },
      "source": [
        "#CONCLUSION : EVEN AFTER DOING FEATURIZATION TECHNIQUE BY ADDING NEW COLUMN CALLED TOTAL_WORDS , there is no increase in Accuracy Score.\n",
        "\n",
        "# BEST ALPHA = 0.1 AND BEST AUC = 0.9160 USING TF-IDF FEATURIZATION TECHNIQUE"
      ]
    }
  ]
}